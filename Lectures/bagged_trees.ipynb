{
 "cells": [
  {
   "cell_type": "code",
   "execution_count": null,
   "id": "259fc3ee-03e6-4d2a-9a16-ab47c9f2affd",
   "metadata": {},
   "outputs": [],
   "source": [
    "# use for 2023"
   ]
  },
  {
   "cell_type": "markdown",
   "id": "dc81cfde-8609-4622-a094-255ac0e9b226",
   "metadata": {
    "tags": []
   },
   "source": [
    "# Bagged trees"
   ]
  },
  {
   "cell_type": "markdown",
   "id": "807465f0-3879-46fa-a275-f5a99650b547",
   "metadata": {},
   "source": [
    "Each machine learning algorithm has strengths and weaknesses. A weakness of decision trees is that they are prone to overfitting on the training set. A way to mitigate this problem is to constrain how large a tree can grow. Bagged trees try to overcome this weakness by using bootstrapped data to grow multiple deep decision trees. The idea is that many trees protect each other from individual weaknesses.\n",
    "\n",
    "![images](../images/baggedTrees.png)\n",
    "\n",
    "We will now go ahead and look into how we can build a bagged tree model for regression."
   ]
  },
  {
   "cell_type": "markdown",
   "id": "d5beacb0-ce4b-4026-b75e-08cdbd4651f3",
   "metadata": {},
   "source": [
    "## Import Libraries"
   ]
  },
  {
   "cell_type": "code",
   "execution_count": null,
   "id": "c73a4e9b-ee08-470a-89ac-77bafcb2bc7a",
   "metadata": {},
   "outputs": [],
   "source": [
    "%matplotlib inline\n",
    "\n",
    "import matplotlib.pyplot as plt\n",
    "import pandas as pd\n",
    "import numpy as np\n",
    "\n",
    "from sklearn.model_selection import train_test_split\n",
    "\n",
    "# Bagged Trees Regressor\n",
    "from sklearn.ensemble import BaggingRegressor"
   ]
  },
  {
   "cell_type": "markdown",
   "id": "18ba1294-04ab-420a-977a-d3493b2f45f5",
   "metadata": {},
   "source": [
    "## Load the Dataset\n",
    "This dataset contains house sale prices for King County, which includes Seattle. It includes homes sold between May 2014 and May 2015. The code below loads the dataset. The goal of this dataset is to predict price based on features like number of bedrooms and bathrooms"
   ]
  },
  {
   "cell_type": "code",
   "execution_count": null,
   "id": "8394c26f-201b-4f4c-a147-5c693b200cfa",
   "metadata": {},
   "outputs": [],
   "source": [
    "df_house = pd.read_csv('../datasets/kc_house_data.csv')\n",
    "\n",
    "df_house.head()"
   ]
  },
  {
   "cell_type": "code",
   "execution_count": null,
   "id": "67634192-7a48-4e13-a99c-af9817123a9e",
   "metadata": {},
   "outputs": [],
   "source": [
    "# This notebook only selects a couple of features for simplicity\n",
    "# However, I encourage you to play with adding and substracting more features\n",
    "features = ['bedrooms','bathrooms','sqft_living','sqft_lot','floors', 'sqft_above', 'sqft_basement']\n",
    "\n",
    "#also trying including categorical variables. How?\n",
    "\n",
    "X = df_house.loc[:, features]\n",
    "\n",
    "y = df_house.loc[:, 'price'].values # we are trying to predict the price of the house by looking at a few features"
   ]
  },
  {
   "cell_type": "markdown",
   "id": "7e711c03-4020-4169-8e3a-816f588c6b21",
   "metadata": {},
   "source": [
    "## Splitting Data into Training and Test Sets"
   ]
  },
  {
   "cell_type": "code",
   "execution_count": null,
   "id": "61b07f39-cfc6-493a-a763-773d213f3c50",
   "metadata": {},
   "outputs": [],
   "source": [
    "X_train, X_test, y_train, y_test = train_test_split(X, y, random_state=0)"
   ]
  },
  {
   "cell_type": "markdown",
   "id": "18684921-c1b2-4e46-b223-7465ef880f41",
   "metadata": {},
   "source": [
    "Note, another benefit of bagged trees like decision trees is that you don’t have to standardize your features unlike other algorithms like logistic regression and K-Nearest Neighbors. "
   ]
  },
  {
   "cell_type": "markdown",
   "id": "7c0e93de-cd4a-439c-8221-b6a7d816bca2",
   "metadata": {},
   "source": [
    "## Bagged Trees\n",
    "\n",
    "<b>Step 1:</b> Import the model you want to use\n",
    "\n",
    "In sklearn, all machine learning models are implemented as Python classes"
   ]
  },
  {
   "cell_type": "code",
   "execution_count": null,
   "id": "85b4487e-143b-46e7-a240-46da55f193bd",
   "metadata": {},
   "outputs": [],
   "source": [
    "# This was already imported earlier in the notebook so commenting out\n",
    "#from sklearn.ensemble import BaggingRegressor"
   ]
  },
  {
   "cell_type": "markdown",
   "id": "3bed24f4-fb0e-4a50-b011-ec91ef2d5bd4",
   "metadata": {},
   "source": [
    "<b>Step 2:</b> Make an instance of the Model\n",
    "\n",
    "This is a place where we can tune the hyperparameters of a model. "
   ]
  },
  {
   "cell_type": "code",
   "execution_count": null,
   "id": "723a1a09-4cea-4047-9bf9-cf4cc79f8fc0",
   "metadata": {},
   "outputs": [],
   "source": [
    "reg = BaggingRegressor(n_estimators=100, \n",
    "                       random_state = 0)"
   ]
  },
  {
   "cell_type": "markdown",
   "id": "c22895ba-9461-468c-bf2f-c16b1b77fdf6",
   "metadata": {},
   "source": [
    "<b>Step 3:</b> Training the model on the data, storing the information learned from the data"
   ]
  },
  {
   "cell_type": "markdown",
   "id": "69e5d5d5-3f30-4860-8672-a86a0c2cd451",
   "metadata": {},
   "source": [
    "Model is learning the relationship between X (features like number of bedrooms) and y (price)"
   ]
  },
  {
   "cell_type": "code",
   "execution_count": null,
   "id": "e73ffeea-e46d-482c-83c3-34b550cc5d8b",
   "metadata": {},
   "outputs": [],
   "source": [
    "reg.fit(X_train, y_train)"
   ]
  },
  {
   "cell_type": "markdown",
   "id": "4d83556a-e954-41b6-aef3-0b706131ef79",
   "metadata": {},
   "source": [
    "<b>Step 4:</b> Make Predictions\n",
    "\n",
    "Uses the information the model learned during the model training process"
   ]
  },
  {
   "cell_type": "code",
   "execution_count": null,
   "id": "c0795b5d-3967-4f64-b120-be488be48031",
   "metadata": {},
   "outputs": [],
   "source": [
    "# Returns a NumPy Array\n",
    "# Predict for One Observation\n",
    "reg.predict(X_test.iloc[0].values.reshape(1, -1))"
   ]
  },
  {
   "cell_type": "markdown",
   "id": "a24e171a-a045-4902-a991-71bfae89cd3f",
   "metadata": {},
   "source": [
    "Predict for Multiple Observations at Once"
   ]
  },
  {
   "cell_type": "code",
   "execution_count": null,
   "id": "d34bb7f4-cd01-4831-b37d-960c08caae3a",
   "metadata": {},
   "outputs": [],
   "source": [
    "reg.predict(X_test[0:10])"
   ]
  },
  {
   "cell_type": "markdown",
   "id": "d0cdcab6-e4ef-41d3-b66b-09b310cc49ab",
   "metadata": {},
   "source": [
    "## Measuring Model Performance"
   ]
  },
  {
   "cell_type": "markdown",
   "id": "d1c8fdc1-aaad-4afd-b6ce-a489eeb8c8b5",
   "metadata": {},
   "source": [
    "Unlike classification models where a common metric is accuracy, regression models use other metrics like R^2, the coefficient of determination to quantify your model's performance. The best possible score is 1.0. A constant model that always predicts the expected value of y, disregarding the input features, would get a R^2 score of 0.0."
   ]
  },
  {
   "cell_type": "code",
   "execution_count": null,
   "id": "552988be-97c0-443a-95ab-5ec65b9c4d48",
   "metadata": {},
   "outputs": [],
   "source": [
    "score = reg.score(X_test, y_test)\n",
    "print(score) #pretty bad score, let's see how we can improve it?"
   ]
  },
  {
   "cell_type": "markdown",
   "id": "b0763591-050c-45e5-8424-11262f7936f2",
   "metadata": {},
   "source": [
    "## Tuning n_estimators (Number of Decision Trees)\n",
    "\n",
    "A tuning parameter for bagged trees is **n_estimators**, which represents the number of trees that should be grown. "
   ]
  },
  {
   "cell_type": "code",
   "execution_count": null,
   "id": "9670fa7e-4e20-4cfb-940c-78b5f560caac",
   "metadata": {},
   "outputs": [],
   "source": [
    "# List of values to try for n_estimators:\n",
    "estimator_range = [1] + list(range(10, 150, 20))\n",
    "\n",
    "#initialize our list of scores\n",
    "scores = []\n",
    "\n",
    "for estimator in estimator_range:\n",
    "    reg = BaggingRegressor(n_estimators=estimator, random_state=0)\n",
    "    reg.fit(X_train, y_train)\n",
    "    scores.append(reg.score(X_test, y_test))"
   ]
  },
  {
   "cell_type": "code",
   "execution_count": null,
   "id": "484fbfdd-6254-4027-bfd6-60da231b5980",
   "metadata": {},
   "outputs": [],
   "source": [
    "plt.figure(figsize = (10,7))\n",
    "plt.plot(estimator_range, scores);\n",
    "\n",
    "plt.xlabel('n_estimators', fontsize =20);\n",
    "plt.ylabel('Score', fontsize = 20);\n",
    "plt.tick_params(labelsize = 18)\n",
    "plt.grid()\n",
    "\n",
    "# it might take some time to run"
   ]
  },
  {
   "cell_type": "markdown",
   "id": "85265c8d-30f3-4fcd-8269-c545833694d0",
   "metadata": {},
   "source": [
    "Notice that the score stops improving after a certain number of estimators (decision trees). One way to get a better score would be to include more features in the features matrix. Maybe for this dataset, the features were not sufficient for building a more accurate bagged tree model. Go ahead and try building a bagged tree model with the choice of your own dataset.  "
   ]
  },
  {
   "cell_type": "code",
   "execution_count": null,
   "id": "f36abe0b-01d8-40f2-8d40-477cb1b15b8e",
   "metadata": {},
   "outputs": [],
   "source": []
  }
 ],
 "metadata": {
  "kernelspec": {
   "display_name": "Python 3",
   "language": "python",
   "name": "python3"
  },
  "language_info": {
   "codemirror_mode": {
    "name": "ipython",
    "version": 3
   },
   "file_extension": ".py",
   "mimetype": "text/x-python",
   "name": "python",
   "nbconvert_exporter": "python",
   "pygments_lexer": "ipython3",
   "version": "3.6.8"
  }
 },
 "nbformat": 4,
 "nbformat_minor": 5
}
