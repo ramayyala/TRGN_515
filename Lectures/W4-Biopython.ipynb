{
 "cells": [
  {
   "cell_type": "markdown",
   "id": "b26282e3-1809-42e6-9a08-b10609cfa7f0",
   "metadata": {},
   "source": [
    "## Examples for bioinformatics studies\n",
    "\n",
    "* Formatting data from genome projects\n",
    "* Underlying gene discovery for various diseases, chacterizing their frequency in the population\n",
    "* Studying the genetic underlying factors for diseases\n",
    "* Matching DNA sequences with organisms/species\n",
    "* Matching protein sequences with genes/organisms/species \n",
    "* Large scale gene expression analyses\n",
    "* 3D structure estimates from protein sequences\n",
    "* Drug interaction studies\n",
    "* New drug discovery (Computational/in silico drug design)\n",
    "* Comparative genomix/proteomix \n",
    "* Molecular evolution/molecular phylogenetics\n",
    "* Protein characterization usinng mass spectrometer\n",
    "* Biological characterization: Annotation and pathway analyses\n",
    "* Modelling metastatic cancer cells \n",
    "* Modelling distribution of organisms (ecological modeling)\n",
    "* Meta-analyses\n",
    "* Next generation sequencing data analysis\n",
    "* Microsatellite analysis"
   ]
  },
  {
   "cell_type": "markdown",
   "id": "7117e3aa-d99b-4e2d-841f-68625af417de",
   "metadata": {},
   "source": [
    "[Biopython website](http://www.biopython.org) provides Python-based bioinformatics modules and code. It has multiple integrates classes, can handle various data types (BLAST, Clustalw, FASTA, Genbank,..), and provides various online resources. Documentation is pretty good, check out the link for more information."
   ]
  },
  {
   "cell_type": "code",
   "execution_count": null,
   "id": "8eeb195a-04b3-4f8f-a218-da638f4e7237",
   "metadata": {},
   "outputs": [],
   "source": [
    "#Let's install biopython in command line\n",
    "!pip install biopython"
   ]
  },
  {
   "cell_type": "markdown",
   "id": "477cb677-4cf4-4cf8-a4e1-ccdeea5fe5c9",
   "metadata": {},
   "source": [
    "The prefixed ! tells IPython that this is a shell command instead of a Python command. However, IPython can also process some frequently used shell commands like ls, pwd, rm, mkdir, rmdir even without a prefixed !."
   ]
  },
  {
   "cell_type": "code",
   "execution_count": null,
   "id": "4eb3a66e-ca75-4852-b3d7-46afbf5fe77a",
   "metadata": {
    "tags": []
   },
   "outputs": [],
   "source": [
    "#We will use an example dataset from Biopython library (DNA sequences of an orchid plant)\n",
    "# Let's download the file\n",
    "from Bio import SeqIO\n",
    "import requests\n",
    "\n",
    "def get_file(url, filename): \n",
    "    \"\"\"\"provides the file with a given url and filename\"\"\"\n",
    "    res = requests.get(url)\n",
    "    if res.status_code != 200:\n",
    "        raise Exception(\"Could not get file\")\n",
    "    \n",
    "    #Opening the file to write into it\n",
    "    with open(filename, 'w') as fh:\n",
    "        fh.write(res.text)\n",
    "\n",
    "\n",
    "def process_file(filename, file_type):\n",
    "    \"\"\"processes the file, reports the information in it\"\"\"\n",
    "    for seq_record in SeqIO.parse(filename, file_type):\n",
    "        print(seq_record.id)\n",
    "        print(repr(seq_record.seq))\n",
    "        print(len(seq_record))\n",
    "\n",
    "\n",
    "fasta_url = 'https://raw.githubusercontent.com/biopython/biopython/master/Doc/examples/ls_orchid.fasta'\n",
    "filename = \"ls_orchid.fasta\"\n",
    "file_type = \"fasta\"\n",
    "get_file(fasta_url, filename)\n",
    "process_file(filename, file_type)\n"
   ]
  },
  {
   "cell_type": "code",
   "execution_count": null,
   "id": "cd6e5fce-5c70-48b9-94a2-84c443067764",
   "metadata": {
    "tags": []
   },
   "outputs": [],
   "source": [
    "genbank_url = \"https://raw.githubusercontent.com/biopython/biopython/master/Doc/examples/ls_orchid.gbk\"\n",
    "filename = \"ls_orchid.gbk\"\n",
    "file_type = \"genbank\"\n",
    "get_file(genbank_url, filename)\n",
    "process_file(filename, file_type)"
   ]
  },
  {
   "cell_type": "code",
   "execution_count": null,
   "id": "0e744baf-b988-40aa-a69b-32dc90f04187",
   "metadata": {},
   "outputs": [],
   "source": [
    "# let's keep our directory organized\n",
    "!mv ls_orchid.gbk ls_orchid.fasta ../datasets\n",
    "!ls ../datasets"
   ]
  },
  {
   "cell_type": "code",
   "execution_count": null,
   "id": "b3bd8807-6841-4182-a6b1-29e4f587f3f8",
   "metadata": {
    "tags": []
   },
   "outputs": [],
   "source": [
    "from Bio import SeqIO\n",
    "for seq_record in list(SeqIO.parse(\"../datasets/ls_orchid.fasta\", \"fasta\"))[:5]: # provide the path to the file\n",
    "    print(\"ID %s\" % seq_record.id)\n",
    "    print(\"Sequence length %i\" % len(seq_record))\n",
    "    print(repr(seq_record.seq))"
   ]
  },
  {
   "cell_type": "code",
   "execution_count": null,
   "id": "87cb6383-3d4a-43d2-b90d-8e7bd7b4e15f",
   "metadata": {
    "tags": []
   },
   "outputs": [],
   "source": [
    "help(SeqIO.parse)"
   ]
  },
  {
   "cell_type": "code",
   "execution_count": null,
   "id": "f4a1266b-3a88-4447-b0ff-9effc5b96a31",
   "metadata": {
    "tags": []
   },
   "outputs": [],
   "source": [
    "from Bio import SeqIO\n",
    "for seq_record in list(SeqIO.parse(\"../datasets/ls_orchid.gbk\", \"genbank\"))[:5]:\n",
    "    print(\"ID %s\" % seq_record.id)\n",
    "    print(repr(seq_record.seq))\n",
    "    print(\"Sequence length %i\" % len(seq_record))"
   ]
  },
  {
   "cell_type": "code",
   "execution_count": null,
   "id": "9bc5f6f3-38a1-4130-bd02-ab4c56c35b22",
   "metadata": {},
   "outputs": [],
   "source": [
    "# DNA or RNA sequences are the central objects in bioinformatics. We will be using the Seq object of Biopython quite a lot. \n",
    "from Bio.Seq import Seq #Seq is an object that belongs to one of the classes in Biopython library\n",
    "my_seq = Seq(\"GAGGTGGCTCGTGCGAAGTCGTCG\")\n",
    "for index, letter in enumerate(my_seq): # remember enumerate function?\n",
    "    print(\"%i %s\" % (index, letter))\n",
    "print('my sequence length is:', len(my_seq))"
   ]
  },
  {
   "cell_type": "code",
   "execution_count": null,
   "id": "2a8bde2b-3466-478d-ad42-1be06cd598b3",
   "metadata": {},
   "outputs": [],
   "source": [
    "#we can't give a random string and run the following \n",
    "my_seq = Seq(\"GAGGTGGCTCGTGCGAAGTCGTCG\")\n",
    "my_seq.complement()"
   ]
  },
  {
   "cell_type": "code",
   "execution_count": null,
   "id": "c1588776-c0d8-4999-ba21-243f8d3d9e2c",
   "metadata": {},
   "outputs": [],
   "source": [
    "my_string = str('ATGCTGTGCTGAGGGTGCTA')"
   ]
  },
  {
   "cell_type": "code",
   "execution_count": null,
   "id": "c77d27c9-20e0-44a2-b057-8fd02d15f9a4",
   "metadata": {},
   "outputs": [],
   "source": [
    "my_string.complement()"
   ]
  },
  {
   "cell_type": "code",
   "execution_count": null,
   "id": "6cb08ef9-d246-42b3-9f80-4cd3375431fe",
   "metadata": {},
   "outputs": [],
   "source": [
    "my_seq.reverse_complement()"
   ]
  },
  {
   "cell_type": "code",
   "execution_count": null,
   "id": "8a7b7e7c-98a3-4b56-9373-0e9f6733a437",
   "metadata": {},
   "outputs": [],
   "source": [
    "#we can do slicing in Seq object, just like in strings\n",
    "print(my_seq[0]) #first letter\n",
    "print(my_seq[4]) #fifth letter\n",
    "print(my_seq[-1]) #last letter"
   ]
  },
  {
   "cell_type": "code",
   "execution_count": null,
   "id": "8b9ee4cf-bda7-42e6-9ebc-e8958079525f",
   "metadata": {},
   "outputs": [],
   "source": [
    "#Seq object also has .count() method, just like in string data type\n",
    "\n",
    "print(\"AAAA\".count(\"AA\"))\n",
    "print(Seq(\"AAAA\").count(\"AA\"))"
   ]
  },
  {
   "cell_type": "code",
   "execution_count": null,
   "id": "ac9a755e-145e-44f5-951c-38268bee4aee",
   "metadata": {},
   "outputs": [],
   "source": [
    "DNA_seq1 = Seq('GATCGACtgatgctCAAGCTGCCTATATAGGATCGAAAATCGC')\n",
    "print(len(DNA_seq1)) \n",
    "DNA_seq1 = DNA_seq1.lower()\n",
    "#print(DNA_seq1.count(\"G\"))\n",
    "#print(100 * float(DNA_seq1.count(\"G\") + DNA_seq1.count(\"C\")) / len(DNA_seq1)) #calculating GC %\n",
    "print(100 * float(DNA_seq1.count(\"g\") + DNA_seq1.count(\"c\")) / len(DNA_seq1)) #calculating GC %"
   ]
  },
  {
   "cell_type": "markdown",
   "id": "334b941e-255d-4fc9-ad68-074baf28fb82",
   "metadata": {},
   "source": [
    "## Let's calculate GC %\n",
    " \n",
    "* G-C base pairs have 3 hydrogen bonds, while A-T base pairs have two. Therefore, double-stranded DNA with a higher number of G-C base pairs will be more strongly bonded together, more stable, and will have a higher melting temperature. That's also why, we take into account the GC content when we design primers."
   ]
  },
  {
   "cell_type": "code",
   "execution_count": null,
   "id": "e42fdf41-3879-472c-be5c-a3bb38b5002b",
   "metadata": {},
   "outputs": [],
   "source": [
    "# We can use the GC method in Biopython\n",
    "# One thing we need to pay attention when coding something, to standardize data before analysis\n",
    "# For instance, in the above example, it is better to use .lower() method and then calculate GC %\n",
    "\n",
    "from Bio.SeqUtils import GC\n",
    "my_seq = Seq('GATCGACtgatgctCAAGCTGCCTATATAGGATCGAAAATCGC')\n",
    "GC(my_seq)\n",
    "\n",
    "# Bio.SeqUtils.GC() function takes into account the degenerate bases (example: S = G or C)."
   ]
  },
  {
   "cell_type": "code",
   "execution_count": null,
   "id": "7e0025fa-14ac-4113-a33a-fc63e224523c",
   "metadata": {
    "tags": []
   },
   "outputs": [],
   "source": [
    "help(GC)"
   ]
  },
  {
   "cell_type": "code",
   "execution_count": null,
   "id": "997e02a7-4827-4a08-94a0-b61f2b5bc7df",
   "metadata": {},
   "outputs": [],
   "source": [
    "#let's slice the sequence\n",
    "my_seq = Seq(\"GATCGATGGGCCTATATAGGATCGAAAATCGC\")\n",
    "my_seq[4:12]"
   ]
  },
  {
   "cell_type": "code",
   "execution_count": null,
   "id": "70700f0e-0652-4a29-a189-2bb1bffc2676",
   "metadata": {},
   "outputs": [],
   "source": [
    "my_seq = Seq(\"CCGATCG\")\n",
    "\n",
    "print(my_seq[0::3]) #remember steps\n",
    "print(my_seq[1::3])\n",
    "print(my_seq[2::3])"
   ]
  },
  {
   "cell_type": "code",
   "execution_count": null,
   "id": "aeec9cd6-3962-4bad-a41c-aa1da8079b84",
   "metadata": {},
   "outputs": [],
   "source": [
    "#let's reverse the sequence\n",
    "my_seq[::-1]"
   ]
  },
  {
   "cell_type": "code",
   "execution_count": null,
   "id": "142fd7e4-9e3c-413a-a782-4d08b0ee42a8",
   "metadata": {},
   "outputs": [],
   "source": [
    "#let's convert the sequence to a string\n",
    "str(my_seq)"
   ]
  },
  {
   "cell_type": "code",
   "execution_count": null,
   "id": "d5217d19-3cbd-4976-86d0-2028b11baf90",
   "metadata": {},
   "outputs": [],
   "source": [
    "#let's convert the sequence to fasta format\n",
    "fasta_format_string = \">Name\\n%s\\n\" % my_seq\n",
    "print(fasta_format_string)"
   ]
  },
  {
   "cell_type": "code",
   "execution_count": null,
   "id": "c3e2d98b-8444-4255-afcf-802bc38b597c",
   "metadata": {},
   "outputs": [],
   "source": [
    "#How about concatenating sequences?\n",
    "#Option 1: Use Biopython to an extent\n",
    "from Bio.Seq import Seq\n",
    "list_of_seqs = [Seq(\"ACGT\"), Seq(\"AACC\"), Seq(\"GGTT\")]\n",
    "concatenated = Seq(\"\")\n",
    "for s in list_of_seqs:\n",
    "    concatenated += s\n",
    "concatenated"
   ]
  },
  {
   "cell_type": "code",
   "execution_count": null,
   "id": "e163166c-6d88-400a-b6b2-85b52b33bc18",
   "metadata": {},
   "outputs": [],
   "source": [
    "#How about concatenating sequences?\n",
    "#Option 2: Use Biopython\n",
    "from Bio.Seq import Seq\n",
    "contigs = [Seq(\"ATG\"), Seq(\"ATCCCAGATGATG\"), Seq(\"TTGCA\")]\n",
    "spacer = Seq(\"N\"*5)\n",
    "spacer.join(contigs)"
   ]
  },
  {
   "cell_type": "code",
   "execution_count": null,
   "id": "cc14a63f-b1b9-4003-8be4-ef8307abd62e",
   "metadata": {},
   "outputs": [],
   "source": [
    "from Bio.Seq import Seq\n",
    "contigs = [Seq(\"ATG\"), Seq(\"ATCCCAGATGATG\"), Seq(\"TTGCA\")]\n",
    "spacer = Seq(\"\")\n",
    "spacer.join(contigs)"
   ]
  },
  {
   "cell_type": "code",
   "execution_count": null,
   "id": "0e442cf4-cfcd-4f20-9072-1582f4d072b7",
   "metadata": {
    "tags": []
   },
   "outputs": [],
   "source": [
    "help(Seq)"
   ]
  },
  {
   "cell_type": "code",
   "execution_count": null,
   "id": "dd9f4ded-0dea-4518-89ab-224c1e877842",
   "metadata": {},
   "outputs": [],
   "source": [
    "#We can use built in methods in Biopython and obtain complement or reverse complements of the given sequence\n",
    "from Bio.Seq import Seq\n",
    "my_seq = Seq(\"GATCGATGGGCCTATATAGGATCGAAAATCGC\")\n",
    "print('my original sequence: ', my_seq)\n",
    "print('my sequence complement: ', my_seq.complement())\n",
    "print('reverse complement of my sequence: ', my_seq.reverse_complement())"
   ]
  },
  {
   "cell_type": "code",
   "execution_count": null,
   "id": "7d651151-5afa-4333-bdb1-f0bbb75f8d99",
   "metadata": {},
   "outputs": [],
   "source": [
    "my_seq2 = Seq('TTCTAGGGGTTACATGTAGAGCGGGTTAACTCCAATGATAGCC')\n",
    "print('reverse complement of my sequence: ', my_seq2.reverse_complement())"
   ]
  },
  {
   "cell_type": "code",
   "execution_count": null,
   "id": "69245dde-379c-4629-80c6-d31fc9f2ca2e",
   "metadata": {},
   "outputs": [],
   "source": [
    "# we can simply get the reverse sequence with the following: \n",
    "my_seq[::-1]"
   ]
  },
  {
   "cell_type": "code",
   "execution_count": null,
   "id": "17e023b0-ca3a-4c1c-b9b5-33b3c945622e",
   "metadata": {},
   "outputs": [],
   "source": [
    "#What if we write our own function and not use the built-in functions?\n",
    "\n",
    "#reverse complement problem\n",
    "\n",
    "def rev_complement(sequence):\n",
    "    '''takes a DNA sequence and produces its reverse complement'''\n",
    "    compl = ''\n",
    "    sequence = sequence.lower() #attention!\n",
    "    for letter in sequence:\n",
    "        if letter == 'a':\n",
    "            compl += 't'\n",
    "        elif letter == 'c':\n",
    "            compl += 'g'\n",
    "        elif letter == 't':\n",
    "            compl += 'a'\n",
    "        else:\n",
    "            compl += 'c'\n",
    "    return compl[::-1].upper()\n",
    "\n",
    "sequence = 'TTCTAGGGGTTACATGTAGAGCGGGTTAACTCCAATGATAGCC'\n",
    "print(rev_complement(sequence))      \n",
    "\n",
    "#This is a rather simple function, not taking into account the degenerate bases"
   ]
  },
  {
   "cell_type": "code",
   "execution_count": null,
   "id": "tested-failure",
   "metadata": {},
   "outputs": [],
   "source": [
    "from Bio import SeqIO\n",
    "for seq_record in list(SeqIO.parse(\"../datasets/ls_orchid.gbk\", \"genbank\"))[:5]:\n",
    "    print(seq_record.id)\n",
    "    print(repr(seq_record.seq))\n",
    "    print(len(seq_record))"
   ]
  },
  {
   "cell_type": "markdown",
   "id": "quiet-roman",
   "metadata": {},
   "source": [
    "gbk is a genbank formatted data type. Here we see a shorter string than the fasta format when asked for **seq_record.id**"
   ]
  },
  {
   "cell_type": "markdown",
   "id": "particular-vehicle",
   "metadata": {},
   "source": [
    "#### Another class in Biopython library is SeqRecord or Sequence Record. This class stores a DNA/RNA sequence, as well as its identifiers, name and other relevant details. Biopython library's Bio.SeqIO module works harmoniusly with the SeqRecord objects, can read different sequence inputs and produces outputs."
   ]
  },
  {
   "cell_type": "raw",
   "id": "mighty-magazine",
   "metadata": {},
   "source": [
    "A big chunk of work we do in bioinformatics is to process various file types that stores biological data, and to standardize/parse them.\n",
    "\n",
    "We will now use Bio.SeqIO module in Biopython library."
   ]
  },
  {
   "cell_type": "code",
   "execution_count": null,
   "id": "republican-ethics",
   "metadata": {},
   "outputs": [],
   "source": [
    "# from Bio import SeqIO\n",
    "# from Bio.Seq import Seq "
   ]
  },
  {
   "cell_type": "code",
   "execution_count": null,
   "id": "informal-ethics",
   "metadata": {},
   "outputs": [],
   "source": [
    "# reverse complement: http://genewarrior.com/docs/exp_revcomp.jsp\n",
    "coding_dna = Seq(\"ATGGCCATTGTAATGGGCCGCTGAAAGGGTGCCCGATAG\")\n",
    "print('coding DNA:', coding_dna)\n",
    "template_dna = coding_dna.reverse_complement()\n",
    "print('reverse complement of the coding DNA:', template_dna)"
   ]
  },
  {
   "cell_type": "code",
   "execution_count": null,
   "id": "2a1c0417-211f-4765-9dbd-861a324e8340",
   "metadata": {
    "tags": []
   },
   "outputs": [],
   "source": [
    "help(Seq.reverse_complement)"
   ]
  },
  {
   "cell_type": "code",
   "execution_count": null,
   "id": "spare-billy",
   "metadata": {},
   "outputs": [],
   "source": [
    "#reverse complement problem\n",
    "\n",
    "coding_dna = Seq(\"ATGGCCATTGTAATGGGCCGCTGAAAGGGTGCCCGATAG\")\n",
    "\n",
    "def rev_complement(sequence):\n",
    "    '''takes a DNA sequence and produces its reverse complement sequence.'''\n",
    "    compl = ''\n",
    "    sequence = sequence.lower() #attention!\n",
    "    for letter in sequence:\n",
    "        if letter == 'a':\n",
    "            compl += 't'\n",
    "        elif letter == 'c':\n",
    "            compl += 'g'\n",
    "        elif letter == 't':\n",
    "            compl += 'a'\n",
    "        else:\n",
    "            compl += 'c'\n",
    "    return compl[::-1].upper()\n",
    "\n",
    "print(rev_complement(coding_dna))"
   ]
  },
  {
   "cell_type": "code",
   "execution_count": null,
   "id": "returning-orange",
   "metadata": {},
   "outputs": [],
   "source": [
    "#You will see what I mean better with this example\n",
    "messenger_rna = coding_dna.transcribe()\n",
    "messenger_rna"
   ]
  },
  {
   "cell_type": "code",
   "execution_count": null,
   "id": "worth-marketing",
   "metadata": {},
   "outputs": [],
   "source": [
    "#If you want, you can convert back the mRNA sequence to to its original DNA sequence\n",
    "messenger_rna.back_transcribe()"
   ]
  },
  {
   "cell_type": "code",
   "execution_count": null,
   "id": "hourly-teaching",
   "metadata": {},
   "outputs": [],
   "source": [
    "## Translation\n",
    "#So how do we go from mRNA to protein?\n",
    "messenger_rna.translate()"
   ]
  },
  {
   "cell_type": "markdown",
   "id": "shaped-leave",
   "metadata": {},
   "source": [
    "*stop character\n",
    "\n",
    "But here, we also have this character in the sequence. This may be a problem.\n",
    "\n",
    "In order to do translation correctly, we need to know what [genetic code table]((https://en.wikipedia.org/wiki/Genetic_code) to use\n",
    "\n",
    "The example above is a mtDNA, so a suitable genetic code frame would be vertebrate mitochondrial code.\n",
    "\n",
    "[For more detailed look into the DNA ve RNA codon tables](https://en.wikipedia.org/wiki/DNA_and_RNA_codon_tables)\n"
   ]
  },
  {
   "cell_type": "code",
   "execution_count": null,
   "id": "negative-depth",
   "metadata": {},
   "outputs": [],
   "source": [
    "coding_dna.translate(table=\"Vertebrate Mitochondrial\") #ok, this works"
   ]
  },
  {
   "cell_type": "code",
   "execution_count": null,
   "id": "controversial-rebel",
   "metadata": {},
   "outputs": [],
   "source": [
    "#you are looking at a bacterial DNA sequence. This is a coding sequence. \n",
    "#It can be fully translated to aminoacid sequence \n",
    "\n",
    "gene = Seq(\"GTGAAAAAGATGCAATCTATCGTACTCGCACTTTCCCTGGTTCTGGTCGCTCCCATGGCA\" \n",
    "           \"GCACAGGCTGCGGAAATTACGTTAGTCCCGTCAGTAAAATTACAGATAGGCGATCGTGAT\"  \n",
    "           \"AATCGTGGCTATTACTGGGATGGAGGTCACTGGCGCGACCACGGCTGGTGGAAACAACAT\"  \n",
    "           \"TATGAATGGCGAGGCAATCGCTGGCACCTACACGGACCGCCGCCACCGCCGCGCCACCAT\"  \n",
    "           \"AAGAAAGCTCCTCATGATCATCACGGCGGTCATGGTCCAGGCAAACATCACCGCTAA\")\n",
    "gene.translate(table=\"Bacterial\")\n"
   ]
  },
  {
   "cell_type": "code",
   "execution_count": null,
   "id": "legitimate-crack",
   "metadata": {},
   "outputs": [],
   "source": [
    "gene.translate(table=\"Bacterial\", to_stop=True) #we can silence the stop codon if we like"
   ]
  },
  {
   "cell_type": "code",
   "execution_count": null,
   "id": "convinced-sperm",
   "metadata": {},
   "outputs": [],
   "source": [
    "gene.translate(table=\"Bacterial\", cds=True) #so, is it really a cds what we have?"
   ]
  },
  {
   "cell_type": "markdown",
   "id": "annoying-calvin",
   "metadata": {},
   "source": [
    "#### According to the bacterial genetic code, GTG is the start codon and encodes valine aminoacid. But if we specify that the sequence is a coding sequence, then it encodes methionine aminoacid instead of valine.  \n"
   ]
  },
  {
   "cell_type": "code",
   "execution_count": null,
   "id": "immune-reunion",
   "metadata": {},
   "outputs": [],
   "source": [
    "from Bio.Data import CodonTable\n",
    "standard_table = CodonTable.unambiguous_dna_by_name[\"Standard\"]\n",
    "mito_table = CodonTable.unambiguous_dna_by_name[\"Vertebrate Mitochondrial\"]\n",
    "bacterial_table_check = CodonTable.unambiguous_dna_by_name[\"Bacterial\"]"
   ]
  },
  {
   "cell_type": "code",
   "execution_count": null,
   "id": "talented-buddy",
   "metadata": {},
   "outputs": [],
   "source": [
    "print(standard_table)"
   ]
  },
  {
   "cell_type": "code",
   "execution_count": null,
   "id": "appropriate-tackle",
   "metadata": {},
   "outputs": [],
   "source": [
    "print(bacterial_table_check)"
   ]
  },
  {
   "cell_type": "code",
   "execution_count": null,
   "id": "reflected-location",
   "metadata": {},
   "outputs": [],
   "source": [
    "print(mito_table)"
   ]
  },
  {
   "cell_type": "code",
   "execution_count": null,
   "id": "regulated-scroll",
   "metadata": {},
   "outputs": [],
   "source": [
    "# good to know\n",
    "print(mito_table.stop_codons)\n",
    "print(mito_table.start_codons)"
   ]
  },
  {
   "cell_type": "code",
   "execution_count": null,
   "id": "infinite-chapter",
   "metadata": {},
   "outputs": [],
   "source": [
    "# good to know\n",
    "print(bacterial_table_check.stop_codons)\n",
    "print(bacterial_table_check.start_codons)"
   ]
  },
  {
   "cell_type": "code",
   "execution_count": null,
   "id": "australian-orchestra",
   "metadata": {},
   "outputs": [],
   "source": [
    "# good to know\n",
    "print(standard_table.stop_codons)\n",
    "print(standard_table.start_codons)"
   ]
  },
  {
   "cell_type": "code",
   "execution_count": null,
   "id": "macro-corner",
   "metadata": {},
   "outputs": [],
   "source": [
    "# sequence source: https://www.ncbi.nlm.nih.gov/nuccore/HQ440980.1?report=fasta\n",
    "midge_seq = Seq(\"CATATTATTAGACAAGAAAGAGGAAAAAAGGAAACTTTTGGAGCTTTAGGAATAATTTATGCTATACTAG\" +\n",
    "\"CTATTGGATTATTAGGATTTGTTGTATGAGCTCATCATATATTTACTGTAGGTATAAATGTAGATACTCG\" +\n",
    "\"AGCATATTTTACATCTGCTACTATAATTATTGCCGTTCCAACAGGAATTAAAATTTTTAGTTGATTAGCA\" +\n",
    "\"ACACTTCATGGAACTCAACTTTCTTATTCGCCTTCTTTATTATGAGCTTTAGGATTTGTATTTTTATTTA\" +\n",
    "\"CTGTAGGAGGATTAACAGGAGTAGTATTGGCTAATTCTTCTATTGACATTATATTACACGATACTTATTA\" +\n",
    "\"TGTTGTAGCCCATTTTCATTATGTTCTTTCTATAGGAGCTGTATTTGCAATTATAGCAGGATTTGTTCAT\" +\n",
    "\"TGATACCCTCTTTTATCCGGTTTAACTATGAATGAAGAATGATTAAAGGCTCAATTTGTAATTATATTCT\" +\n",
    "\"TAGGAGTAAATTTAACATTTTTTCCTCAACATTTCTTAGGATTAGCTGGAATACCTCGACGATATTCTGA\" +\n",
    "\"TTATCCAGATGCATATACATCTTGAAATATTGTATCTACAGTAGGGTCTACTATTTCTTTATTTGGAATT\" +\n",
    "\"TTATTTTTTTTATTTATTATTTGAGAAAGTAT\")"
   ]
  },
  {
   "cell_type": "code",
   "execution_count": null,
   "id": "thorough-moral",
   "metadata": {},
   "outputs": [],
   "source": [
    "midge_seq.translate(table=\"Bacterial\") #what is the problem here?"
   ]
  },
  {
   "cell_type": "code",
   "execution_count": null,
   "id": "blank-jamaica",
   "metadata": {},
   "outputs": [],
   "source": [
    "midge_seq.translate(table=\"Mitochondrial\") #what is the problem here?"
   ]
  },
  {
   "cell_type": "code",
   "execution_count": null,
   "id": "capable-logic",
   "metadata": {
    "tags": []
   },
   "outputs": [],
   "source": [
    "help(CodonTable)"
   ]
  },
  {
   "cell_type": "code",
   "execution_count": null,
   "id": "responsible-carter",
   "metadata": {},
   "outputs": [],
   "source": [
    "midge_seq.translate(table=\"Invertebrate Mitochondrial\")"
   ]
  },
  {
   "cell_type": "code",
   "execution_count": null,
   "id": "6b1fa8a1-2f0d-4858-988f-0386fa458b8c",
   "metadata": {},
   "outputs": [],
   "source": [
    "midge_seq.translate(table=\"Vertebrate Mitochondrial\") #fails"
   ]
  },
  {
   "cell_type": "code",
   "execution_count": null,
   "id": "alpine-softball",
   "metadata": {},
   "outputs": [],
   "source": [
    "# we can now start comparing genetic sequences \n",
    "from Bio.Seq import Seq\n",
    "seq1 = Seq(\"ACGT\")\n",
    "seq2 = Seq(\"ACGT\")"
   ]
  },
  {
   "cell_type": "code",
   "execution_count": null,
   "id": "governing-fraud",
   "metadata": {},
   "outputs": [],
   "source": [
    "print(seq1 == seq2)\n",
    "print(seq1 == seq1)"
   ]
  },
  {
   "cell_type": "code",
   "execution_count": null,
   "id": "intimate-stomach",
   "metadata": {},
   "outputs": [],
   "source": [
    "my_seq = Seq(\"GCCATTGTAATGGGCCGCTGAAAGGGTGCCCGA\")\n",
    "type(my_seq)"
   ]
  },
  {
   "cell_type": "code",
   "execution_count": null,
   "id": "faced-klein",
   "metadata": {},
   "outputs": [],
   "source": [
    "my_seq2 = \"GCCATTGTAATGGGCCGCTGAAAGGGTGCCCGA\"\n",
    "type(my_seq2)"
   ]
  },
  {
   "cell_type": "code",
   "execution_count": null,
   "id": "negative-consequence",
   "metadata": {},
   "outputs": [],
   "source": [
    "print(type(my_seq) == type(my_seq2))"
   ]
  },
  {
   "cell_type": "code",
   "execution_count": null,
   "id": "graduate-proof",
   "metadata": {},
   "outputs": [],
   "source": [
    "my_seq[5] = 'G'\n",
    "# it is a good thing that we can not modify the sequence\n",
    "# it is not a good idea to modify data uncontrollably while analyzing the data "
   ]
  },
  {
   "cell_type": "code",
   "execution_count": null,
   "id": "crazy-exercise",
   "metadata": {},
   "outputs": [],
   "source": [
    "my_seq2[5] = \"G\""
   ]
  },
  {
   "cell_type": "code",
   "execution_count": null,
   "id": "affected-powder",
   "metadata": {},
   "outputs": [],
   "source": [
    "#if we need to modify the sequence, we can use tomutable() method. \n",
    "mutable_seq = my_seq.tomutable()\n",
    "mutable_seq\n",
    "print(\"type of my_seq is: \", type(my_seq))\n",
    "print(\"type of mutable_seq is: \", type(mutable_seq))"
   ]
  },
  {
   "cell_type": "code",
   "execution_count": null,
   "id": "toxic-ranking",
   "metadata": {},
   "outputs": [],
   "source": [
    "mutable_seq[0] = \"A\"\n",
    "print('mutable_seq: ', mutable_seq)\n",
    "print('my_seq: ', my_seq)"
   ]
  },
  {
   "cell_type": "code",
   "execution_count": null,
   "id": "standing-lyric",
   "metadata": {},
   "outputs": [],
   "source": [
    "# alternatively, we can use methods in Bio.Seq on the string to get lots of biological insights from the data\n",
    "from Bio.Seq import reverse_complement, transcribe, back_transcribe, translate\n",
    "my_string = \"GCTGTTATGGGTCGTTGGAAGGGTGGTCGTGCTGCTGGTTAG\"\n",
    "print('reverse complement of the sequence: ', reverse_complement(my_string))\n",
    "print('transcribed sequence: ', transcribe(my_string))\n",
    "print('back transcribed sequence: ', back_transcribe(my_string))\n",
    "print('translated sequence :', translate(my_string))"
   ]
  },
  {
   "cell_type": "code",
   "execution_count": null,
   "id": "offensive-dublin",
   "metadata": {},
   "outputs": [],
   "source": [
    "# Sequence annotation\n",
    "from Bio.SeqRecord import SeqRecord"
   ]
  },
  {
   "cell_type": "code",
   "execution_count": null,
   "id": "current-architecture",
   "metadata": {
    "tags": []
   },
   "outputs": [],
   "source": [
    "help(SeqRecord)"
   ]
  },
  {
   "cell_type": "code",
   "execution_count": null,
   "id": "sticky-atmosphere",
   "metadata": {},
   "outputs": [],
   "source": [
    "SeqRecord(Seq(\"CATATTATTAGACAAGAAAGAGGAAAAAAGGAAACTTTTGGAGCTTTAGGAATAATTTATGCTATACTAG\" +\n",
    "\"CTATTGGATTATTAGGATTTGTTGTATGAGCTCATCATATATTTACTGTAGGTATAAATGTAGATACTCG\" +\n",
    "\"AGCATATTTTACATCTGCTACTATAATTATTGCCGTTCCAACAGGAATTAAAATTTTTAGTTGATTAGCA\" +\n",
    "\"ACACTTCATGGAACTCAACTTTCTTATTCGCCTTCTTTATTATGAGCTTTAGGATTTGTATTTTTATTTA\" +\n",
    "\"CTGTAGGAGGATTAACAGGAGTAGTATTGGCTAATTCTTCTATTGACATTATATTACACGATACTTATTA\" +\n",
    "\"TGTTGTAGCCCATTTTCATTATGTTCTTTCTATAGGAGCTGTATTTGCAATTATAGCAGGATTTGTTCAT\" +\n",
    "\"TGATACCCTCTTTTATCCGGTTTAACTATGAATGAAGAATGATTAAAGGCTCAATTTGTAATTATATTCT\" +\n",
    "\"TAGGAGTAAATTTAACATTTTTTCCTCAACATTTCTTAGGATTAGCTGGAATACCTCGACGATATTCTGA\" +\n",
    "\"TTATCCAGATGCATATACATCTTGAAATATTGTATCTACAGTAGGGTCTACTATTTCTTTATTTGGAATT\" +\n",
    "\"TTATTTTTTTTATTTATTATTTGAGAAAGTAT\"), id='HQ440980.1')"
   ]
  },
  {
   "cell_type": "code",
   "execution_count": null,
   "id": "arabic-annual",
   "metadata": {},
   "outputs": [],
   "source": [
    "midge_seq = Seq(\"CATATTATTAGACAAGAAAGAGGAAAAAAGGAAACTTTTGGAGCTTTAGGAATAATTTATGCTATACTAG\" +\n",
    "\"CTATTGGATTATTAGGATTTGTTGTATGAGCTCATCATATATTTACTGTAGGTATAAATGTAGATACTCG\" +\n",
    "\"AGCATATTTTACATCTGCTACTATAATTATTGCCGTTCCAACAGGAATTAAAATTTTTAGTTGATTAGCA\" +\n",
    "\"ACACTTCATGGAACTCAACTTTCTTATTCGCCTTCTTTATTATGAGCTTTAGGATTTGTATTTTTATTTA\" +\n",
    "\"CTGTAGGAGGATTAACAGGAGTAGTATTGGCTAATTCTTCTATTGACATTATATTACACGATACTTATTA\" +\n",
    "\"TGTTGTAGCCCATTTTCATTATGTTCTTTCTATAGGAGCTGTATTTGCAATTATAGCAGGATTTGTTCAT\" +\n",
    "\"TGATACCCTCTTTTATCCGGTTTAACTATGAATGAAGAATGATTAAAGGCTCAATTTGTAATTATATTCT\" +\n",
    "\"TAGGAGTAAATTTAACATTTTTTCCTCAACATTTCTTAGGATTAGCTGGAATACCTCGACGATATTCTGA\" +\n",
    "\"TTATCCAGATGCATATACATCTTGAAATATTGTATCTACAGTAGGGTCTACTATTTCTTTATTTGGAATT\" +\n",
    "\"TTATTTTTTTTATTTATTATTTGAGAAAGTAT\")\n",
    "midge_seq.id = \"HQ440980.1\"\n",
    "midge_seq.description = \"Chironomidae gen. nr. Brundiniella sp. 1 SRM-2010 voucher AFTP1 cytochrome oxidase subunit I (COI) gene\"\n",
    "print(midge_seq.description)\n"
   ]
  },
  {
   "cell_type": "code",
   "execution_count": null,
   "id": "9cfa052a-c182-47a0-a234-d9fd359e6fb7",
   "metadata": {},
   "outputs": [],
   "source": [
    "SeqRecord(Seq(\"CATATTATTAGACAAGAAAGAGGAAAAAAGGAAACTTTTGGAGCTTTAGGAATAATTTATGCTATACTAG\" +\n",
    "\"CTATTGGATTATTAGGATTTGTTGTATGAGCTCATCATATATTTACTGTAGGTATAAATGTAGATACTCG\" +\n",
    "\"AGCATATTTTACATCTGCTACTATAATTATTGCCGTTCCAACAGGAATTAAAATTTTTAGTTGATTAGCA\" +\n",
    "\"ACACTTCATGGAACTCAACTTTCTTATTCGCCTTCTTTATTATGAGCTTTAGGATTTGTATTTTTATTTA\" +\n",
    "\"CTGTAGGAGGATTAACAGGAGTAGTATTGGCTAATTCTTCTATTGACATTATATTACACGATACTTATTA\" +\n",
    "\"TGTTGTAGCCCATTTTCATTATGTTCTTTCTATAGGAGCTGTATTTGCAATTATAGCAGGATTTGTTCAT\" +\n",
    "\"TGATACCCTCTTTTATCCGGTTTAACTATGAATGAAGAATGATTAAAGGCTCAATTTGTAATTATATTCT\" +\n",
    "\"TAGGAGTAAATTTAACATTTTTTCCTCAACATTTCTTAGGATTAGCTGGAATACCTCGACGATATTCTGA\" +\n",
    "\"TTATCCAGATGCATATACATCTTGAAATATTGTATCTACAGTAGGGTCTACTATTTCTTTATTTGGAATT\" +\n",
    "\"TTATTTTTTTTATTTATTATTTGAGAAAGTAT\"), id = \"HQ440980.1\", name = 'midge fly', description = \"Chironomidae gen. nr. Brundiniella sp. 1 SRM-2010 voucher AFTP1 cytochrome oxidase subunit I (COI) gene\")"
   ]
  },
  {
   "cell_type": "code",
   "execution_count": null,
   "id": "double-exploration",
   "metadata": {},
   "outputs": [],
   "source": [
    "record = SeqIO.read(\"../datasets/ls_orchid.gbk\", \"genbank\")\n",
    "record"
   ]
  },
  {
   "cell_type": "code",
   "execution_count": null,
   "id": "clear-mississippi",
   "metadata": {
    "tags": []
   },
   "outputs": [],
   "source": [
    "#let's use parse method\n",
    "for element in list(SeqIO.parse(\"../datasets/ls_orchid.gbk\", \"genbank\")):\n",
    "    print(element)"
   ]
  },
  {
   "cell_type": "code",
   "execution_count": null,
   "id": "pediatric-basketball",
   "metadata": {
    "tags": []
   },
   "outputs": [],
   "source": [
    "element"
   ]
  },
  {
   "cell_type": "code",
   "execution_count": null,
   "id": "comfortable-static",
   "metadata": {},
   "outputs": [],
   "source": [
    "element.id"
   ]
  },
  {
   "cell_type": "code",
   "execution_count": null,
   "id": "narrow-jacksonville",
   "metadata": {},
   "outputs": [],
   "source": [
    "element.description"
   ]
  },
  {
   "cell_type": "code",
   "execution_count": null,
   "id": "unlike-press",
   "metadata": {},
   "outputs": [],
   "source": [
    "len(element.annotations)"
   ]
  },
  {
   "cell_type": "code",
   "execution_count": null,
   "id": "inside-hindu",
   "metadata": {},
   "outputs": [],
   "source": [
    "print(seq_record.format(\"fasta\"))"
   ]
  },
  {
   "cell_type": "code",
   "execution_count": null,
   "id": "third-position",
   "metadata": {},
   "outputs": [],
   "source": [
    "#let's read the sequence file\n",
    "from Bio import SeqIO\n",
    "\n",
    "#let's load the first 5 sequences \n",
    "for i, seq_record in enumerate(SeqIO.parse(\"../datasets/ls_orchid.fasta\", \"fasta\")):\n",
    "    print(seq_record.id)\n",
    "    print(repr(seq_record.seq))\n",
    "    print(len(seq_record))\n",
    "    if i == 4:\n",
    "        break"
   ]
  },
  {
   "cell_type": "code",
   "execution_count": null,
   "id": "willing-mediterranean",
   "metadata": {
    "tags": []
   },
   "outputs": [],
   "source": [
    "#the above example was for fasta file, how about the genbank file?\n",
    "\n",
    "from Bio import SeqIO\n",
    "\n",
    "for i, seq_record in enumerate(SeqIO.parse(\"../datasets/ls_orchid.gbk\", \"genbank\")):\n",
    "    print(seq_record.id)\n",
    "    print(seq_record.seq)\n",
    "    print(len(seq_record))\n",
    "    if i == 4:\n",
    "        break"
   ]
  },
  {
   "cell_type": "code",
   "execution_count": null,
   "id": "geological-detector",
   "metadata": {
    "tags": []
   },
   "outputs": [],
   "source": [
    "# What are the files we can get using SeqIO in other formats?\n",
    "help(SeqIO)"
   ]
  },
  {
   "cell_type": "code",
   "execution_count": null,
   "id": "protective-baking",
   "metadata": {
    "tags": []
   },
   "outputs": [],
   "source": [
    "from Bio import SeqIO \n",
    "\n",
    "#we can use list comprehension to get some information\n",
    "identifiers=[seq_record.annotations for seq_record in SeqIO.parse(\"../datasets/ls_orchid.gbk\", \"genbank\")][:5]  # ilk bes tanimlayici\n",
    "identifiers"
   ]
  },
  {
   "cell_type": "code",
   "execution_count": null,
   "id": "imposed-norway",
   "metadata": {},
   "outputs": [],
   "source": [
    "#Let's get all the records in the gbk file \n",
    "\n",
    "from Bio import SeqIO\n",
    "\n",
    "records = list(SeqIO.parse(\"../datasets/ls_orchid.gbk\", \"genbank\"))\n",
    "\n",
    "print(\"Found %i records\" % (len(records)))\n",
    "\n",
    "print(\"The last record\")\n",
    "last_record = records[-1] #who remembers this?\n",
    "print(last_record.id)\n",
    "print(repr(last_record.seq))\n",
    "print(len(last_record))\n",
    "\n",
    "print(\"The first record\")\n",
    "first_record = records[0] #Counting in Python starts from 0  \n",
    "print(first_record.id)\n",
    "print(repr(first_record.seq))\n",
    "print(len(first_record))"
   ]
  },
  {
   "cell_type": "markdown",
   "id": "96317b43-b734-405c-b93b-c1251d712635",
   "metadata": {},
   "source": [
    "## BLAST with Biopython"
   ]
  },
  {
   "cell_type": "markdown",
   "id": "4151141e-444b-4c9f-9b39-adb1177337c0",
   "metadata": {},
   "source": [
    "BLAST is a tool to compare sequences against each other and against databases.\n",
    "\n",
    "Dealing with BLAST can be split up into two steps, both of which can be done from within Biopython. Firstly, running BLAST for your query sequence(s), and getting some output. Secondly, parsing the BLAST output in Python for further analysis."
   ]
  },
  {
   "cell_type": "code",
   "execution_count": 1,
   "id": "82a6ee9f-ab36-46ec-87a7-e19f7153ffb2",
   "metadata": {
    "collapsed": true,
    "jupyter": {
     "outputs_hidden": true
    },
    "tags": []
   },
   "outputs": [
    {
     "name": "stdout",
     "output_type": "stream",
     "text": [
      "Help on function qblast in module Bio.Blast.NCBIWWW:\n",
      "\n",
      "qblast(program, database, sequence, url_base='https://blast.ncbi.nlm.nih.gov/Blast.cgi', auto_format=None, composition_based_statistics=None, db_genetic_code=None, endpoints=None, entrez_query='(none)', expect=10.0, filter=None, gapcosts=None, genetic_code=None, hitlist_size=50, i_thresh=None, layout=None, lcase_mask=None, matrix_name=None, nucl_penalty=None, nucl_reward=None, other_advanced=None, perc_ident=None, phi_pattern=None, query_file=None, query_believe_defline=None, query_from=None, query_to=None, searchsp_eff=None, service=None, threshold=None, ungapped_alignment=None, word_size=None, short_query=None, alignments=500, alignment_view=None, descriptions=500, entrez_links_new_window=None, expect_low=None, expect_high=None, format_entrez_query=None, format_object=None, format_type='XML', ncbi_gi=None, results_file=None, show_overview=None, megablast=None, template_type=None, template_length=None)\n",
      "    BLAST search using NCBI's QBLAST server or a cloud service provider.\n",
      "    \n",
      "    Supports all parameters of the old qblast API for Put and Get.\n",
      "    \n",
      "    Please note that NCBI uses the new Common URL API for BLAST searches\n",
      "    on the internet (http://ncbi.github.io/blast-cloud/dev/api.html). Thus,\n",
      "    some of the parameters used by this function are not (or are no longer)\n",
      "    officially supported by NCBI. Although they are still functioning, this\n",
      "    may change in the future.\n",
      "    \n",
      "    The Common URL API (http://ncbi.github.io/blast-cloud/dev/api.html) allows\n",
      "    doing BLAST searches on cloud servers. To use this feature, please set\n",
      "    ``url_base='http://host.my.cloud.service.provider.com/cgi-bin/blast.cgi'``\n",
      "    and ``format_object='Alignment'``. For more details, please see\n",
      "    https://blast.ncbi.nlm.nih.gov/Blast.cgi?PAGE_TYPE=BlastDocs&DOC_TYPE=CloudBlast\n",
      "    \n",
      "    Some useful parameters:\n",
      "    \n",
      "     - program        blastn, blastp, blastx, tblastn, or tblastx (lower case)\n",
      "     - database       Which database to search against (e.g. \"nr\").\n",
      "     - sequence       The sequence to search.\n",
      "     - ncbi_gi        TRUE/FALSE whether to give 'gi' identifier.\n",
      "     - descriptions   Number of descriptions to show.  Def 500.\n",
      "     - alignments     Number of alignments to show.  Def 500.\n",
      "     - expect         An expect value cutoff.  Def 10.0.\n",
      "     - matrix_name    Specify an alt. matrix (PAM30, PAM70, BLOSUM80, BLOSUM45).\n",
      "     - filter         \"none\" turns off filtering.  Default no filtering\n",
      "     - format_type    \"HTML\", \"Text\", \"ASN.1\", or \"XML\".  Def. \"XML\".\n",
      "     - entrez_query   Entrez query to limit Blast search\n",
      "     - hitlist_size   Number of hits to return. Default 50\n",
      "     - megablast      TRUE/FALSE whether to use MEga BLAST algorithm (blastn only)\n",
      "     - short_query    TRUE/FALSE whether to adjust the search parameters for a\n",
      "                      short query sequence. Note that this will override\n",
      "                      manually set parameters like word size and e value. Turns\n",
      "                      off when sequence length is > 30 residues. Default: None.\n",
      "     - service        plain, psi, phi, rpsblast, megablast (lower case)\n",
      "    \n",
      "    This function does no checking of the validity of the parameters\n",
      "    and passes the values to the server as is.  More help is available at:\n",
      "    https://ncbi.github.io/blast-cloud/dev/api.html\n",
      "\n"
     ]
    }
   ],
   "source": [
    "# We will use the function qblast() in the Bio.Blast.NCBIWWW module to call the online version of BLAST. \n",
    "# This has three non-optional arguments, call the help function to find out what those are\n",
    "from Bio.Blast import NCBIWWW\n",
    "help(NCBIWWW.qblast)"
   ]
  },
  {
   "cell_type": "code",
   "execution_count": 14,
   "id": "01de042c-98b6-4db9-a0bc-b034d196164b",
   "metadata": {},
   "outputs": [
    {
     "ename": "KeyboardInterrupt",
     "evalue": "",
     "output_type": "error",
     "traceback": [
      "\u001b[0;31m---------------------------------------------------------------------------\u001b[0m",
      "\u001b[0;31mKeyboardInterrupt\u001b[0m                         Traceback (most recent call last)",
      "\u001b[0;32m<ipython-input-14-9cb218340b57>\u001b[0m in \u001b[0;36m<module>\u001b[0;34m\u001b[0m\n\u001b[1;32m      1\u001b[0m \u001b[0;32mfrom\u001b[0m \u001b[0mBio\u001b[0m\u001b[0;34m.\u001b[0m\u001b[0mBlast\u001b[0m \u001b[0;32mimport\u001b[0m \u001b[0mNCBIWWW\u001b[0m\u001b[0;34m\u001b[0m\u001b[0;34m\u001b[0m\u001b[0m\n\u001b[1;32m      2\u001b[0m \u001b[0;34m\u001b[0m\u001b[0m\n\u001b[0;32m----> 3\u001b[0;31m \u001b[0mresult_handle\u001b[0m \u001b[0;34m=\u001b[0m \u001b[0mNCBIWWW\u001b[0m\u001b[0;34m.\u001b[0m\u001b[0mqblast\u001b[0m\u001b[0;34m(\u001b[0m\u001b[0;34m\"blastn\"\u001b[0m\u001b[0;34m,\u001b[0m \u001b[0;34m\"nt\"\u001b[0m\u001b[0;34m,\u001b[0m \u001b[0;34m\"8332116\"\u001b[0m\u001b[0;34m)\u001b[0m\u001b[0;34m\u001b[0m\u001b[0;34m\u001b[0m\u001b[0m\n\u001b[0m\u001b[1;32m      4\u001b[0m \u001b[0mresult_handle\u001b[0m \u001b[0;31m#only returns the data type and the reference point. Why?\u001b[0m\u001b[0;34m\u001b[0m\u001b[0;34m\u001b[0m\u001b[0m\n\u001b[1;32m      5\u001b[0m \u001b[0;31m#type(result_handle)\u001b[0m\u001b[0;34m\u001b[0m\u001b[0;34m\u001b[0m\u001b[0;34m\u001b[0m\u001b[0m\n",
      "\u001b[0;32m~/.local/lib/python3.6/site-packages/Bio/Blast/NCBIWWW.py\u001b[0m in \u001b[0;36mqblast\u001b[0;34m(program, database, sequence, url_base, auto_format, composition_based_statistics, db_genetic_code, endpoints, entrez_query, expect, filter, gapcosts, genetic_code, hitlist_size, i_thresh, layout, lcase_mask, matrix_name, nucl_penalty, nucl_reward, other_advanced, perc_ident, phi_pattern, query_file, query_believe_defline, query_from, query_to, searchsp_eff, service, threshold, ungapped_alignment, word_size, short_query, alignments, alignment_view, descriptions, entrez_links_new_window, expect_low, expect_high, format_entrez_query, format_object, format_type, ncbi_gi, results_file, show_overview, megablast, template_type, template_length)\u001b[0m\n\u001b[1;32m    244\u001b[0m         \u001b[0mwait\u001b[0m \u001b[0;34m=\u001b[0m \u001b[0mqblast\u001b[0m\u001b[0;34m.\u001b[0m\u001b[0m_previous\u001b[0m \u001b[0;34m+\u001b[0m \u001b[0mdelay\u001b[0m \u001b[0;34m-\u001b[0m \u001b[0mcurrent\u001b[0m\u001b[0;34m\u001b[0m\u001b[0;34m\u001b[0m\u001b[0m\n\u001b[1;32m    245\u001b[0m         \u001b[0;32mif\u001b[0m \u001b[0mwait\u001b[0m \u001b[0;34m>\u001b[0m \u001b[0;36m0\u001b[0m\u001b[0;34m:\u001b[0m\u001b[0;34m\u001b[0m\u001b[0;34m\u001b[0m\u001b[0m\n\u001b[0;32m--> 246\u001b[0;31m             \u001b[0mtime\u001b[0m\u001b[0;34m.\u001b[0m\u001b[0msleep\u001b[0m\u001b[0;34m(\u001b[0m\u001b[0mwait\u001b[0m\u001b[0;34m)\u001b[0m\u001b[0;34m\u001b[0m\u001b[0;34m\u001b[0m\u001b[0m\n\u001b[0m\u001b[1;32m    247\u001b[0m             \u001b[0mqblast\u001b[0m\u001b[0;34m.\u001b[0m\u001b[0m_previous\u001b[0m \u001b[0;34m=\u001b[0m \u001b[0mcurrent\u001b[0m \u001b[0;34m+\u001b[0m \u001b[0mwait\u001b[0m\u001b[0;34m\u001b[0m\u001b[0;34m\u001b[0m\u001b[0m\n\u001b[1;32m    248\u001b[0m         \u001b[0;32melse\u001b[0m\u001b[0;34m:\u001b[0m\u001b[0;34m\u001b[0m\u001b[0;34m\u001b[0m\u001b[0m\n",
      "\u001b[0;31mKeyboardInterrupt\u001b[0m: "
     ]
    }
   ],
   "source": [
    "from Bio.Blast import NCBIWWW\n",
    "\n",
    "result_handle = NCBIWWW.qblast(\"blastn\", \"nt\", \"8332116\")\n",
    "result_handle #only returns the data type and the reference point. Why?\n",
    "#type(result_handle)"
   ]
  },
  {
   "cell_type": "code",
   "execution_count": null,
   "id": "497a04eb-d8eb-4aa7-8622-574794ab13b8",
   "metadata": {},
   "outputs": [],
   "source": [
    "help(NCBIWWW.qblast)"
   ]
  },
  {
   "cell_type": "code",
   "execution_count": 19,
   "id": "2047161e-2281-4d74-88c3-dde140e04fb7",
   "metadata": {},
   "outputs": [
    {
     "name": "stdout",
     "output_type": "stream",
     "text": [
      ">gi|2765656|emb|Z78531.1|CFZ78531\n",
      "CGTAACAAGGTTTCCGTAGGTGAACCTGCGGAAGGATCATTGTTGAGACAGCAGAACATACGATCGAGTGAATCCGGAGGACCCGTGGTTACACGGCTCACCGTGGCTTTGCTCTCGTGGTGAACCCGGTTTGCGACCGGGCCGCCTCGGGAACTTTCATGGCGGGTTTGAACGTCTAGCGCGGCGCAGTTTGCGCCAAGTCATATGGAGCGTCACCGATGGATGGCATTTTTGTCAAGAAAAACTCGGAGGGGCGGCGTCTGTTGCGCGTGCCAATGAATTTATGACGACTCTCGGCAACGGGATATCTGGCTCTTGCATCGATGAAGAACGCAGCGAAATGCGATAAGTGGTGTGAATTGCAGAATCCCGCGAACCATCGAGTCTTTGAACGCAAGTTGCGCCCGAGGCCATCAGGCTAAGGGCACGCCTGCCTGGGCGTCGTGTGCTGCGTCTCTCCTGATAATGCTTGATTGGCATGCGGCTAGTCTGTCATTGTGAGGACGTGAAAGATTGGCCCCTTGCGCCTAGGTGCGGCGGGTCTAAGCATCGGTGTTCTGATGGCCCGGAACTTGGCAGTAGGTGGAGGATGCTGGCAGCCGCAAGGCTGCCGTTCGAATCCCCCGTGTTGTCGTACTCGTCAGGCCTACAGAAGAACCTGTTTGAACCCCCAGTGGACGCAAAACCGCCCTCGGGCGGTGATTTCCATTCAGATGCGACCCCAGTCAGGCGGGCCACCCGTGAGTAA\n",
      ">gi|2765604|emb|Z78479.1|PPZ78479\n",
      "CGTAACAAGGTTTCCGTAGGTGAACCTGCGGAAGGATCATTGTTGAGATCACATAATAATTGATCGAGTTAATCAGGAGGATCAGGTTACTTTGGTCACCCATGGGCATTTGCTGTTTCAGTGACCTAGATTTGCCATCGAGCCGAACTAAACCCTTGCCCGGCGCAGATTTGCGCCAATTTATATGAGACATTACTGGAAGGGGAGGGATGCTGCCTTGCCTTGCCCCCCAAATTATTTTTTAACAACTCTCAGCAACGGATATCTCGCCTCTTGCATCGATGAAGAACGCAGCGAAATGCGATAAATGGTGTGAATACAGAGATCCCGTGAACCATCGAGTCTTGAACGCAAGTTGCGCCCGAGGCCATCAGGCCAAGGGCACGCCTGCCTGGGCATTGCGAGACATATCTCTCCCTTAATGAGGCTGTCGTTCAGCCGGTGCGGATGTGAGTTTGGCCCCTTGTTCTTTGGTACGGGGGGTCTAAGAGCTGCATGGGCTTTTGATGGTCCTAAATACGGCAAGAGGTGGACGAACTATGCGACAACAGAACTGTTGTGCGAATGCCCCGGGTTGTCGTATTAGATGGGCCAGCATAATCTAAAGACCCTTTTGAACCCCATTGGAGGCCCATCAACCCAAGATCAGTTGACGGCCATTTGGATGCGACCCCAGGTCAGGTGAGGCAACCCTCTGAGT\n",
      ">gi|2765651|emb|Z78526.1|CGZ78526\n",
      "CGTAACAAGGTTTCCGTAGGTGAACCTGCGGAAGGATCATTGTTGAGACAGTAGAATATATGATCGAGTGAATCTGGAGGACCTGTGGTTACTCGGCTCCCCTGATTTGTTGTTGGGCTTCCTTAGGAGCTTACATGCCGGGTTTGAACCTCTACCACGGTGCAGTTTGCGCCAAGTCATATGAAGCATAACTGAACAATGGCATTATTGTCACCAAAAGTTGGAGTGGCAGTGTGCTATTGCATGCGCTAATGGATTTTTGATGACTCTCGCCAACGGATATCTTGGCTCTTGCATCGATGAAGAACCCAGCGAAATGCGATAAGTGGTGTGAATTGCAGAATCCCGCGAACCATCGAGTCTTTGAACGCAAGTTGCGCCCGAGGCCATCAGGCTAAGGGCACGCCTGCCTGGGCGTCGTGTATCGCATCTCTCTTGCCAATGCTTACCCGGCATACAACTAGGCTGGCATTGTGCGGATGTGAAAGATTGGCCCCTTGTGCCTAGGTGCGGTGGGTCTAAGGATTGATGTTTTGATGGATCGAAACCTGGCAGGAGGTGGAGGATGCTGGAAGCCGCAAGGCTGTCGTTCGAATCCCCCATGTTGTCATATTTGTCGAACCTATAAAAGAACATGCTTGAACCCCAATGGATGTAAAATGACCCTTGGCGGTTGATTTCCATTTAGATGCGACCCCAGGTCAGGCGGGGCCACCCGCTGAGTTTATGT\n",
      ">gi|2765637|emb|Z78512.1|PWZ78512\n",
      "CGTAACAAGGTTTCCGTAGGTGGACCTTCGGGAGGATCATTTTTGAAGCCCCCAAAAAAACGATCGAATTAATCCGGAGGGCCGGTGTAGTTTGGTCTCCCAGGGGCCTTGGCTACTGTGGTGACCGTGAATTTCCGTCGAACCCTCTGGGAGGAATTCTTGATGGCAAATGAAACCCTTGGCCCGGCGCAGTTTCGCCCCAAATCAAATGAGATGGAACCGGCGGAGGGCATCGTCCCCCATGGAACCGGGGAGGGCCGGCGTTCTTCCGTTCCCCCAATGAAATTATTTTTTGACAACTCTCGCAACGGATATCTCGGCTCTTGCATCGATGAAGAACGCAGCGAAATGTGATAAGCTGGTGTGAATTGCAGAATCCCGTGAACCATCGAGTCTTTGAACGCAAGTTGCGCCCGAGGCCATCAGGCTAAGGGCACGCCTGCCTGGGCGTTGCGTGCTGCATCTCTCTCCCATTGCTAAGGCTGAACAGGCATACTGTTCGGCCGGCGCGGATGAGTGTTTGGCCCCTTGTTCTTCGGTGCGATGGGTCCAAGACCTGGGCTTTTGACGGCCGGAAATCCGGCAAGAGGTGGACGGACGGTGGCTGCGACGAAGCTGTCGTGCGAATGCCCTGCGTTGTCGTATTTGATGGGCCGGAATAAATCCCTTTTGAACCCCATTGGAGGCACGTCAACCCGTGGGCGGTCGACGGTCATTTGGATCCAACCCCAGGTCAGGTGAGGCCACCCGCTGAGTTTAAGC\n",
      ">gi|2765636|emb|Z78511.1|PEZ78511\n",
      "CGTAACAAGGTTTCCGTAGGTGAACCTTCGGAAGGATCATTGTTGAGACCCCCAAAAAAACGATCGAGTTAATCCGGAGGACCGGTGTAGTTTGGTCTCCCAGGGGCTTTGGCTACTGTGGTGGCCGTGAATTTCCGTCGAACCTCCTTGGGAGAATTCTTGATGGCAATTGAACCCTTGGCCCGGCGCAGTTTCGCCCCAAGTCAAATGAGATGGAACCGGCGGAGGGCATCGTCCTCCATGGAACCGGGGAGGGCCGGCGTTCTTCCGTTCCCCCCATGAATTTTTTTTTGACAACTCTCGGCAACGGATATCTCGGCTCTTTGCATCCGATGAAAGAACCCAGCGAAATGTGATAAGTGGTGTGAATTGCAGAATCCCGTGAACCATCGAGTCTTTGAACGCAAGTTGCGCCCGAGGCCATCAGGCTAAGGGCACGCCTGCCTGGGCGTTGCGTGCTGCATCTCTCTCCCATTGCTAAGGCTGAACAGGCATACTGTTCGGCCGGCGCGGATGAGTGTTTGGCCCCTTGTTCTTCGGTGCGATGGGTCCAAGACCTGGGCTTTTGACGGCCGGAAATCCGGCAAGAGGTGGACGGACGGTGGCTGCGACGAAGCTGTCGTGCGAATGCCCTACGCTGTCGTATTTGATGGGCCGGAATAAATCCCTTTTGAGCCCCATTGGAGGCACGTCAACCCGTGGGCGGTCGACGGCCATTTGGATGCAACCCCAGGTCAGGTGAGGA\n"
     ]
    }
   ],
   "source": [
    "# let's get some random sequences from our large fasta file and save to a file: using Biopython\n",
    "\n",
    "from Bio import SeqIO\n",
    "from random import sample\n",
    "with open(\"../datasets/ls_orchid.fasta\") as f:\n",
    "    seqs = SeqIO.parse(f, \"fasta\")\n",
    "    samps = ((seq.name, seq.seq) for seq in sample(list(seqs),5))\n",
    "    for samp in samps:\n",
    "        print(\">{}\\n{}\".format(*samp))\n",
    "        with open('rand_orchid.fasta', 'w') as fout:\n",
    "            fout.write(\">{}\\n{}\".format(*samp))\n"
   ]
  },
  {
   "cell_type": "code",
   "execution_count": 20,
   "id": "c72dc3c8-6aa1-41bf-af85-b64c593ec28f",
   "metadata": {},
   "outputs": [],
   "source": [
    "!mv rand_orchid.fasta ../datasets"
   ]
  },
  {
   "cell_type": "code",
   "execution_count": 21,
   "id": "238f9f21-df64-4289-b410-5564536e8057",
   "metadata": {},
   "outputs": [],
   "source": [
    "from Bio.Blast import NCBIWWW\n",
    "fasta_string = open(\"../datasets/rand_orchid.fasta\").read()\n",
    "\n",
    "#result_handle = NCBIWWW.qblast(\"blastn\", \"nt\", fasta_string)"
   ]
  },
  {
   "cell_type": "code",
   "execution_count": 22,
   "id": "d0ea984a-cc56-49ce-b35a-3dc0791434dc",
   "metadata": {},
   "outputs": [],
   "source": [
    "# remember the function we wrote earlier using SeqIO module in Biopython?\n",
    "# let's open the file and read as a string, and use that as the query argument:\n",
    "\n",
    "from Bio.Blast import NCBIWWW\n",
    "from Bio import SeqIO\n",
    "record = SeqIO.read(\"../datasets/rand_orchid.fasta\", format=\"fasta\")\n",
    "result_handle = NCBIWWW.qblast(\"blastn\", \"nt\", record.seq)"
   ]
  },
  {
   "cell_type": "markdown",
   "id": "9122b0ff-a069-4bd4-8186-d8d75044d3a0",
   "metadata": {},
   "source": [
    "OK, by now we should have gotten back our results in a handle object (by default in XML format). \n",
    "\n",
    "The next step would be to parse the XML output into Python objects representing the search results. \n",
    "\n",
    "But let's go ahead and save a local copy of the output file first, as re-running the online search is slow and wastes the NCBI computer time."
   ]
  },
  {
   "cell_type": "markdown",
   "id": "c3887ee0-826a-4084-9327-b75e977fb0a3",
   "metadata": {},
   "source": [
    "### Saving BLAST output"
   ]
  },
  {
   "cell_type": "code",
   "execution_count": null,
   "id": "8b7e5275-9c27-4b65-99e2-c589cc9b6f26",
   "metadata": {},
   "outputs": [],
   "source": [
    "%%timeit"
   ]
  },
  {
   "cell_type": "code",
   "execution_count": 10,
   "id": "052e72cb-444c-45b3-80a9-eb7f85d19234",
   "metadata": {},
   "outputs": [],
   "source": [
    "with open(\"../datasets/my_orchid_blast.xml\", \"w\") as out_handle:\n",
    "    out_handle.write(result_handle.read())\n",
    "    result_handle.close()"
   ]
  },
  {
   "cell_type": "code",
   "execution_count": 11,
   "id": "bf21c011-3604-456b-a413-3c6576b3c31e",
   "metadata": {},
   "outputs": [
    {
     "ename": "ValueError",
     "evalue": "I/O operation on closed file",
     "output_type": "error",
     "traceback": [
      "\u001b[0;31m---------------------------------------------------------------------------\u001b[0m",
      "\u001b[0;31mValueError\u001b[0m                                Traceback (most recent call last)",
      "\u001b[0;32m<ipython-input-11-eb6d7c6257b2>\u001b[0m in \u001b[0;36m<module>\u001b[0;34m\u001b[0m\n\u001b[1;32m      1\u001b[0m \u001b[0;32mfrom\u001b[0m \u001b[0mBio\u001b[0m\u001b[0;34m.\u001b[0m\u001b[0mBlast\u001b[0m \u001b[0;32mimport\u001b[0m \u001b[0mNCBIXML\u001b[0m\u001b[0;34m\u001b[0m\u001b[0;34m\u001b[0m\u001b[0m\n\u001b[1;32m      2\u001b[0m \u001b[0mblast_records\u001b[0m \u001b[0;34m=\u001b[0m \u001b[0mNCBIXML\u001b[0m\u001b[0;34m.\u001b[0m\u001b[0mparse\u001b[0m\u001b[0;34m(\u001b[0m\u001b[0mresult_handle\u001b[0m\u001b[0;34m)\u001b[0m\u001b[0;34m\u001b[0m\u001b[0;34m\u001b[0m\u001b[0m\n\u001b[0;32m----> 3\u001b[0;31m \u001b[0mblast_record\u001b[0m \u001b[0;34m=\u001b[0m \u001b[0mnext\u001b[0m\u001b[0;34m(\u001b[0m\u001b[0mblast_records\u001b[0m\u001b[0;34m)\u001b[0m\u001b[0;34m\u001b[0m\u001b[0;34m\u001b[0m\u001b[0m\n\u001b[0m\u001b[1;32m      4\u001b[0m \u001b[0mprint\u001b[0m\u001b[0;34m(\u001b[0m\u001b[0mblast_record\u001b[0m\u001b[0;34m.\u001b[0m\u001b[0mdatabase_sequences\u001b[0m\u001b[0;34m)\u001b[0m\u001b[0;34m\u001b[0m\u001b[0;34m\u001b[0m\u001b[0m\n\u001b[1;32m      5\u001b[0m \u001b[0;31m# # ... do something with blast_record\u001b[0m\u001b[0;34m\u001b[0m\u001b[0;34m\u001b[0m\u001b[0;34m\u001b[0m\u001b[0m\n",
      "\u001b[0;32m~/.local/lib/python3.6/site-packages/Bio/Blast/NCBIXML.py\u001b[0m in \u001b[0;36mparse\u001b[0;34m(handle, debug)\u001b[0m\n\u001b[1;32m    787\u001b[0m \u001b[0;34m\u001b[0m\u001b[0m\n\u001b[1;32m    788\u001b[0m     \u001b[0mpending\u001b[0m \u001b[0;34m=\u001b[0m \u001b[0;34m\"\"\u001b[0m\u001b[0;34m\u001b[0m\u001b[0;34m\u001b[0m\u001b[0m\n\u001b[0;32m--> 789\u001b[0;31m     \u001b[0mtext\u001b[0m \u001b[0;34m=\u001b[0m \u001b[0mhandle\u001b[0m\u001b[0;34m.\u001b[0m\u001b[0mread\u001b[0m\u001b[0;34m(\u001b[0m\u001b[0mBLOCK\u001b[0m\u001b[0;34m)\u001b[0m\u001b[0;34m\u001b[0m\u001b[0;34m\u001b[0m\u001b[0m\n\u001b[0m\u001b[1;32m    790\u001b[0m     \u001b[0;32mif\u001b[0m \u001b[0misinstance\u001b[0m\u001b[0;34m(\u001b[0m\u001b[0mtext\u001b[0m\u001b[0;34m,\u001b[0m \u001b[0mbytes\u001b[0m\u001b[0;34m)\u001b[0m\u001b[0;34m:\u001b[0m\u001b[0;34m\u001b[0m\u001b[0;34m\u001b[0m\u001b[0m\n\u001b[1;32m    791\u001b[0m         \u001b[0;31m# Not a text handle, raw bytes mode\u001b[0m\u001b[0;34m\u001b[0m\u001b[0;34m\u001b[0m\u001b[0;34m\u001b[0m\u001b[0m\n",
      "\u001b[0;31mValueError\u001b[0m: I/O operation on closed file"
     ]
    }
   ],
   "source": [
    "from Bio.Blast import NCBIXML\n",
    "blast_records = NCBIXML.parse(result_handle)\n",
    "blast_record = next(blast_records)\n",
    "print(blast_record.database_sequences)\n",
    "# # ... do something with blast_record"
   ]
  },
  {
   "cell_type": "code",
   "execution_count": 23,
   "id": "c377d6bb-6767-48af-8429-10dbe67a01dc",
   "metadata": {},
   "outputs": [],
   "source": [
    "# here we have only one sequence\n",
    "result_handle_xml = open(\"../datasets/my_orchid_blast.xml\")\n",
    "\n",
    "from Bio.Blast import NCBIXML\n",
    "blast_record = NCBIXML.read(result_handle_xml)\n"
   ]
  },
  {
   "cell_type": "markdown",
   "id": "0d0f2d83-8d8e-4505-8458-a3e3af952f69",
   "metadata": {},
   "source": [
    "### The BLAST record class\n",
    "\n",
    "A BLAST Record contains everything from the BLAST output. Here we will look at how to get some info out of the BLAST report, if you want more details, check out the record class.\n",
    "\n",
    "Let’s print out some summary info about all hits in our blast report greater than a particular threshold."
   ]
  },
  {
   "cell_type": "code",
   "execution_count": 31,
   "id": "fc97ed8b-9089-4a6c-bf02-91c791f23611",
   "metadata": {
    "collapsed": true,
    "jupyter": {
     "outputs_hidden": true
    },
    "tags": []
   },
   "outputs": [
    {
     "name": "stdout",
     "output_type": "stream",
     "text": [
      "****Alignment****\n",
      "sequence: gi|2765567|emb|Z78442.1| P.bullenianum 5.8S rRNA gene and ITS1 and ITS2 DNA\n",
      "length: 721\n",
      "e value: 0.0\n",
      "GTAGGTGAACCTGCGGAAGGATCATTGTTGAGATCACATAATAATTGATCGAGTTAATCTGGAGGATCTGTTTAC...\n",
      "|||||||||||||||||||||||||||||||||||||||||||||||||||||||||||||||||||||||||||...\n",
      "GTAGGTGAACCTGCGGAAGGATCATTGTTGAGATCACATAATAATTGATCGAGTTAATCTGGAGGATCTGTTTAC...\n",
      "****Alignment****\n",
      "sequence: gi|1152053795|gb|KX931028.1| Paphiopedilum dayanum voucher Szlachetko 28/06/P small subunit ribosomal RNA gene, partial sequence; internal transcribed spacer 1, 5.8S ribosomal RNA gene, and internal transcribed spacer 2, complete sequence; and large subunit ribosomal RNA gene, partial sequence\n",
      "length: 800\n",
      "e value: 0.0\n",
      "GTAGGTGAACCTGCGGAAGGATCATTGTTGAGATCACATAATAATTGATCGAGTTAATCTGGAGGATCTGTTTAC...\n",
      "|||||||||||||||||||||||||||||||||||||||||||||||||||||||||||||||||||||||||||...\n",
      "GTAGGTGAACCTGCGGAAGGATCATTGTTGAGATCACATAATAATTGATCGAGTTAATCTGGAGGATCTGTTTAC...\n",
      "****Alignment****\n",
      "sequence: gi|55274480|gb|AY643462.1| Paphiopedilum schoseri voucher Pp60-1 (USBG) internal transcribed spacer 1, partial sequence; 5.8S ribosomal RNA gene, complete sequence; and internal transcribed spacer 2, partial sequence\n",
      "length: 731\n",
      "e value: 0.0\n",
      "GTAGGTGAACCTGCGGAAGGATCATTGTTGAGATCACATAATAATTGATCGAGTTAATCTGGAGGATCTGTTTAC...\n",
      "|||||||||||||||||||||||||||||||||||||||||||||||||||||||||||||||||||||||||||...\n",
      "GTAGGTGAACCTGCGGAAGGATCATTGTTGAGATCACATAATAATTGATCGAGTTAATCTGGAGGATCTGTTTAC...\n",
      "****Alignment****\n",
      "sequence: gi|55274484|gb|AY643466.1| Paphiopedilum mastersianum voucher Pp18-1 (Shepherd College, Shepherdstown, WV, USA) internal transcribed spacer 1, partial sequence; 5.8S ribosomal RNA gene, complete sequence; and internal transcribed spacer 2, partial sequence\n",
      "length: 739\n",
      "e value: 0.0\n",
      "GTAGGTGAACCTGCGGAAGGATCATTGTTGAGATCACATAATAATTGATCGAGTTAATCTGGAGGATCTGTTTAC...\n",
      "|||||||||||||||||||||||||||||||||||||||||||||||||||||||||||||||||||||||||||...\n",
      "GTAGGTGAACCTGCGGAAGGATCATTGTTGAGATCACATAATAATTGATCGAGTTAATCTGGAGGATCTGTTTAC...\n",
      "****Alignment****\n",
      "sequence: gi|55274479|gb|AY643461.1| Paphiopedilum javanicum voucher Pp14-1 (USBG) internal transcribed spacer 1, partial sequence; 5.8S ribosomal RNA gene, complete sequence; and internal transcribed spacer 2, partial sequence\n",
      "length: 732\n",
      "e value: 0.0\n",
      "GTAGGTGAACCTGCGGAAGGATCATTGTTGAGATCACATAATAATTGATCGAGTTAATCTGGAGGATCTGTTTAC...\n",
      "|||||||||||||||||||||||||||||||||||||||||||||||||||||||||||||||||||||||||||...\n",
      "GTAGGTGAACCTGCGGAAGGATCATTGTTGAGATCACATAATAATTGATCGAGTTAATCTGGAGGATCTGTTTAC...\n",
      "****Alignment****\n",
      "sequence: gi|1897357785|gb|MT940442.1| Paphiopedilum appletonianum isolate Y.W. Pan 4001 small subunit ribosomal RNA gene, partial sequence; internal transcribed spacer 1, 5.8S ribosomal RNA gene, and internal transcribed spacer 2, complete sequence; and large subunit ribosomal RNA gene, partial sequence\n",
      "length: 801\n",
      "e value: 0.0\n",
      "GTAGGTGAACCTGCGGAAGGATCATTGTTGAGATCACATAATAATTGATCGAGTTAATCTGGAGGATCTGTTTAC...\n",
      "|||||||||||||||||||||||||||||||||||||||||||||||||||||||||||||||||||||||||||...\n",
      "GTAGGTGAACCTGCGGAAGGATCATTGTTGAGATCACATAATAATTGATCGAGTTAATCTGGAGGATCTGTTTAC...\n",
      "****Alignment****\n",
      "sequence: gi|1517971818|gb|MG522867.1| Paphiopedilum barbatum voucher UPM-MCR 050 small subunit ribosomal RNA gene, partial sequence; internal transcribed spacer 1, 5.8S ribosomal RNA gene, and internal transcribed spacer 2, complete sequence; and large subunit ribosomal RNA gene, partial sequence\n",
      "length: 759\n",
      "e value: 0.0\n",
      "GTAGGTGAACCTGCGGAAGGATCATTGTTGAGATCACATAATAATTGATCGAGTTAATCTGGAGGATCTGTTTAC...\n",
      "|||||||||||||||||||||||||||||||||||||||||||||||||||||||||||||||||||||||||||...\n",
      "GTAGGTGAACCTGCGGAAGGATCATTGTTGAGATCACATAATAATTGATCGAGTTAATCTGGAGGATCTGTTTAC...\n",
      "****Alignment****\n",
      "sequence: gi|1517971814|gb|MG522863.1| Paphiopedilum barbatum voucher UPM-MCR 016 small subunit ribosomal RNA gene, partial sequence; internal transcribed spacer 1, 5.8S ribosomal RNA gene, and internal transcribed spacer 2, complete sequence; and large subunit ribosomal RNA gene, partial sequence\n",
      "length: 745\n",
      "e value: 0.0\n",
      "GTAGGTGAACCTGCGGAAGGATCATTGTTGAGATCACATAATAATTGATCGAGTTAATCTGGAGGATCTGTTTAC...\n",
      "|||||||||||||||||||||||||||||||||||||||||||||||||||||||||||||||||||||||||||...\n",
      "GTAGGTGAACCTGCGGAAGGATCATTGTTGAGATCACATAATAATTGATCGAGTTAATCTGGAGGATCTGTTTAC...\n",
      "****Alignment****\n",
      "sequence: gi|1152053796|gb|KX931029.1| Paphiopedilum callosum voucher Szlachetko 17/06/P small subunit ribosomal RNA gene, partial sequence; internal transcribed spacer 1, 5.8S ribosomal RNA gene, and internal transcribed spacer 2, complete sequence; and large subunit ribosomal RNA gene, partial sequence\n",
      "length: 802\n",
      "e value: 0.0\n",
      "GTAGGTGAACCTGCGGAAGGATCATTGTTGAGATCACATAATAATTGATCGAGTTAATCTGGAGGATCTGTTTAC...\n",
      "|||||||||||||||||||||||||||||||||||||||||||||||||||||||||||||||||||||||||||...\n",
      "GTAGGTGAACCTGCGGAAGGATCATTGTTGAGATCACATAATAATTGATCGAGTTAATCTGGAGGATCTGTTTAC...\n",
      "****Alignment****\n",
      "sequence: gi|1152053794|gb|KX931027.1| Paphiopedilum javanicum var. virens voucher Szlachetko 121/05 small subunit ribosomal RNA gene, partial sequence; internal transcribed spacer 1, 5.8S ribosomal RNA gene, and internal transcribed spacer 2, complete sequence; and large subunit ribosomal RNA gene, partial sequence\n",
      "length: 774\n",
      "e value: 0.0\n",
      "GTAGGTGAACCTGCGGAAGGATCATTGTTGAGATCACATAATAATTGATCGAGTTAATCTGGAGGATCTGTTTAC...\n",
      "|||||||||||||||||||||||||||||||||||||||||||||||||||||||||||||||||||||||||||...\n",
      "GTAGGTGAACCTGCGGAAGGATCATTGTTGAGATCACATAATAATTGATCGAGTTAATCTGGAGGATCTGTTTAC...\n",
      "****Alignment****\n",
      "sequence: gi|55274482|gb|AY643464.1| Paphiopedilum tonsum var. braemii voucher Pp65-2 (USBG) internal transcribed spacer 1, partial sequence; 5.8S ribosomal RNA gene, complete sequence; and internal transcribed spacer 2, partial sequence\n",
      "length: 734\n",
      "e value: 0.0\n",
      "GTAGGTGAACCTGCGGAAGGATCATTGTTGAGATCACATAATAATTGATCGAGTTAATCTGGAGGATCTGTTTAC...\n",
      "|||||||||||||||||||||||||||||||||||||||||||||||||||||||||||||||||||||||||||...\n",
      "GTAGGTGAACCTGCGGAAGGATCATTGTTGAGATCACATAATAATTGATCGAGTTAATCTGGAGGATCTGTTTAC...\n",
      "****Alignment****\n",
      "sequence: gi|55274481|gb|AY643463.1| Paphiopedilum tonsum var. braemii voucher Pp65-1 (USBG) internal transcribed spacer 1, partial sequence; 5.8S ribosomal RNA gene, complete sequence; and internal transcribed spacer 2, partial sequence\n",
      "length: 732\n",
      "e value: 0.0\n",
      "GTAGGTGAACCTGCGGAAGGATCATTGTTGAGATCACATAATAATTGATCGAGTTAATCTGGAGGATCTGTTTAC...\n",
      "|||||||||||||||||||||||||||||||||||||||||||||||||||||||||||||||||||||||||||...\n",
      "GTAGGTGAACCTGCGGAAGGATCATTGTTGAGATCACATAATAATTGATCGAGTTAATCTGGAGGATCTGTTTAC...\n",
      "****Alignment****\n",
      "sequence: gi|1517971812|gb|MG522861.1| Paphiopedilum barbatum voucher UPM-MCR 019 small subunit ribosomal RNA gene, partial sequence; internal transcribed spacer 1, 5.8S ribosomal RNA gene, and internal transcribed spacer 2, complete sequence; and large subunit ribosomal RNA gene, partial sequence\n",
      "length: 756\n",
      "e value: 0.0\n",
      "GTAGGTGAACCTGCGGAAGGATCATTGTTGAGATCACATAATAATTGATCGAGTTAATCTGGAGGATCTGTTTAC...\n",
      "|||||||||||||||||||||||||||||||||||||||||||||||||||||||||||||||||||||||||||...\n",
      "GTAGGTGAACCTGCGGAAGGATCATTGTTGAGATCACATAATAATTGATCGAGTTAATCTGGAGGATCTGTTTAC...\n",
      "****Alignment****\n",
      "sequence: gi|442591007|gb|JQ929356.1| Paphiopedilum wardii internal transcribed spacer 1, partial sequence; 5.8S ribosomal RNA gene, complete sequence; and internal transcribed spacer 2, partial sequence\n",
      "length: 726\n",
      "e value: 0.0\n",
      "GTAGGTGAACCTGCGGAAGGATCATTGTTGAGATCACATAATAATTGATCGAGTTAATCTGGAGGATCTGTTTAC...\n",
      "|||||||||||||||||||||||||||||||||||||||||||||||||||||||||||||||||||||||||||...\n",
      "GTAGGTGAACCTGCGGAAGGATCATTGTTGAGATCACATAATAATTGATCGAGTTAATCTGGAGGATCTGTTTAC...\n",
      "****Alignment****\n",
      "sequence: gi|1517971817|gb|MG522866.1| Paphiopedilum barbatum voucher UPM-MCR 044 small subunit ribosomal RNA gene, partial sequence; internal transcribed spacer 1, 5.8S ribosomal RNA gene, and internal transcribed spacer 2, complete sequence; and large subunit ribosomal RNA gene, partial sequence\n",
      "length: 775\n",
      "e value: 0.0\n",
      "GTAGGTGAACCTGCGGAAGGATCATTGTTGAGATCACATAATAATTGATCGAGTTAATCTGGAGGATCTGTTTAC...\n",
      "|||||||||||||||||||||||||||||||||||||||||||||||||||||||||||||||||||||||||||...\n",
      "GTAGGTGAACCTGCGGAAGGATCATTGTTGAGATCACATAATAATTGATCGAGTTAATCTGGAGGATCTGTTTAC...\n",
      "****Alignment****\n",
      "sequence: gi|1517971813|gb|MG522862.1| Paphiopedilum barbatum voucher UPM-MCR 018 small subunit ribosomal RNA gene, partial sequence; internal transcribed spacer 1, 5.8S ribosomal RNA gene, and internal transcribed spacer 2, complete sequence; and large subunit ribosomal RNA gene, partial sequence\n",
      "length: 763\n",
      "e value: 0.0\n",
      "GTAGGTGAACCTGCGGAAGGATCATTGTTGAGATCACATAATAATTGATCGAGTTAATCTGGAGGATCTGTTTAC...\n",
      "|||||||||||||||||||||||||||||||||||||||||||||||||||||||||||||||||||||||||||...\n",
      "GTAGGTGAACCTGCGGAAGGATCATTGTTGAGATCACATAATAATTGATCGAGTTAATCTGGAGGATCTGTTTAC...\n",
      "****Alignment****\n",
      "sequence: gi|1517971811|gb|MG522860.1| Paphiopedilum barbatum voucher UPM-MCR 048 small subunit ribosomal RNA gene, partial sequence; internal transcribed spacer 1, 5.8S ribosomal RNA gene, and internal transcribed spacer 2, complete sequence; and large subunit ribosomal RNA gene, partial sequence\n",
      "length: 758\n",
      "e value: 0.0\n",
      "GTAGGTGAACCTGCGGAAGGATCATTGTTGAGATCACATAATAATTGATCGAGTTAATCTGGAGGATCTGTTTAC...\n",
      "|||||||||||||||||||||||||||||||||||||||||||||||||||||||||||||||||||||||||||...\n",
      "GTAGGTGAACCTGCGGAAGGATCATTGTTGAGATCACATAATAATTGATCGAGTTAATCTGGAGGATCTGTTTAC...\n",
      "****Alignment****\n",
      "sequence: gi|1517971810|gb|MG522859.1| Paphiopedilum barbatum voucher UPM-MCR 017 small subunit ribosomal RNA gene, partial sequence; internal transcribed spacer 1, 5.8S ribosomal RNA gene, and internal transcribed spacer 2, complete sequence; and large subunit ribosomal RNA gene, partial sequence\n",
      "length: 763\n",
      "e value: 0.0\n",
      "GTAGGTGAACCTGCGGAAGGATCATTGTTGAGATCACATAATAATTGATCGAGTTAATCTGGAGGATCTGTTTAC...\n",
      "|||||||||||||||||||||||||||||||||||||||||||||||||||||||||||||||||||||||||||...\n",
      "GTAGGTGAACCTGCGGAAGGATCATTGTTGAGATCACATAATAATTGATCGAGTTAATCTGGAGGATCTGTTTAC...\n",
      "****Alignment****\n",
      "sequence: gi|1517971819|gb|MG522868.1| Paphiopedilum callosum var. sublaeve voucher UPM-MCR 009 small subunit ribosomal RNA gene, partial sequence; internal transcribed spacer 1, 5.8S ribosomal RNA gene, and internal transcribed spacer 2, complete sequence; and large subunit ribosomal RNA gene, partial sequence\n",
      "length: 758\n",
      "e value: 0.0\n",
      "GTAGGTGAACCTGCGGAAGGATCATTGTTGAGATCACATAATAATTGATCGAGTTAATCTGGAGGATCTGTTTAC...\n",
      "|||||||||||||||||||||||||||||||||||||||||||||||||||||||||||||||||||||||||||...\n",
      "GTAGGTGAACCTGCGGAAGGATCATTGTTGAGATCACATAATAATTGATCGAGTTAATCTGGAGGATCTGTTTAC...\n",
      "****Alignment****\n",
      "sequence: gi|2765566|emb|Z78441.1| P.superbiens 5.8S rRNA gene and ITS1 and ITS2 DNA\n",
      "length: 703\n",
      "e value: 0.0\n",
      "GGAAGGATCATTGTTGAGATCACATAATAATTGATCGAGTTAATCTGGAGGATCTGTTTACTTTGGTCACCCATG...\n",
      "|||||| ||||||  || ||||||||||||||||||||||||||||||||||||||||||||| |||||||||||...\n",
      "GGAAGG-TCATTGCCGATATCACATAATAATTGATCGAGTTAATCTGGAGGATCTGTTTACTT-GGTCACCCATG...\n",
      "****Alignment****\n",
      "sequence: gi|442591001|gb|JQ929350.1| Paphiopedilum superbiens var. curtisii internal transcribed spacer 1, partial sequence; 5.8S ribosomal RNA gene, complete sequence; and internal transcribed spacer 2, partial sequence\n",
      "length: 726\n",
      "e value: 0.0\n",
      "GTAGGTGAACCTGCGGAAGGATCATTGTTGAGATCACATAATAATTGATCGAGTTAATCTGGAGGATCTGTTTAC...\n",
      "|||||||||||||||||||||||||||||||||||||||||||||||||||||||||||||||||||||||||||...\n",
      "GTAGGTGAACCTGCGGAAGGATCATTGTTGAGATCACATAATAATTGATCGAGTTAATCTGGAGGATCTGTTTAC...\n",
      "****Alignment****\n",
      "sequence: gi|442590958|gb|JQ929307.1| Paphiopedilum barbatum internal transcribed spacer 1, partial sequence; 5.8S ribosomal RNA gene, complete sequence; and internal transcribed spacer 2, partial sequence\n",
      "length: 726\n",
      "e value: 0.0\n",
      "GTAGGTGAACCTGCGGAAGGATCATTGTTGAGATCACATAATAATTGATCGAGTTAATCTGGAGGATCTGTTTAC...\n",
      "|||||||||||||||||||||||||||||||||||||||||||||||||||||||||||||||||||||||||||...\n",
      "GTAGGTGAACCTGCGGAAGGATCATTGTTGAGATCACATAATAATTGATCGAGTTAATCTGGAGGATCTGTTTAC...\n",
      "****Alignment****\n",
      "sequence: gi|47776120|emb|AJ564365.1| Paphiopedilum callosum ITS1, 5.8S rRNA gene and ITS2, clone pPacls12\n",
      "length: 763\n",
      "e value: 0.0\n",
      "GTAGGTGAACCTGCGGAAGGATCATTGTTGAGATCACATAATAATTGATCGAGTTAATCTGGAGGATCTGTTTAC...\n",
      "|||||||||| ||||||||||||||||||||||||||||||||||||||||||||||||||||||||||||||||...\n",
      "GTAGGTGAAC-TGCGGAAGGATCATTGTTGAGATCACATAATAATTGATCGAGTTAATCTGGAGGATCTGTTTAC...\n",
      "****Alignment****\n",
      "sequence: gi|55274485|gb|AY643467.1| Paphiopedilum superbiens voucher Pp82-1 (USBG) internal transcribed spacer 1, partial sequence; 5.8S ribosomal RNA gene, complete sequence; and internal transcribed spacer 2, partial sequence\n",
      "length: 713\n",
      "e value: 0.0\n",
      "GTAGGTGAACCTGCGGAAGGATCATTGTTGAGATCACATAATAATTGATCGAGTTAATCTGGAGGATCTGTTTAC...\n",
      "|||||||||||||||||||||||||||||||||||||||||||||||||||||||||||||||||||||||||||...\n",
      "GTAGGTGAACCTGCGGAAGGATCATTGTTGAGATCACATAATAATTGATCGAGTTAATCTGGAGGATCTGTTTAC...\n",
      "****Alignment****\n",
      "sequence: gi|406869366|gb|JX088546.1| Paphiopedilum wardii internal transcribed spacer 1, partial sequence; 5.8S ribosomal RNA gene, complete sequence; and internal transcribed spacer 2, partial sequence\n",
      "length: 735\n",
      "e value: 0.0\n",
      "GTAGGTGAACCTGCGGAAGGATCATTGTTGAGATCACATAATAATTGATCGAGTTAATCTGGAGGATCTGTTTAC...\n",
      "|||||||||||||||||||||||||||||||||||||||||||||||||||||||||||||||||||||||||||...\n",
      "GTAGGTGAACCTGCGGAAGGATCATTGTTGAGATCACATAATAATTGATCGAGTTAATCTGGAGGATCTGTTTAC...\n",
      "****Alignment****\n",
      "sequence: gi|55274487|gb|AY643469.1| Paphiopedilum wardii voucher Pp31-1 (Shepherd College, Shepherdstown, WV, USA) internal transcribed spacer 1, partial sequence; 5.8S ribosomal RNA gene, complete sequence; and internal transcribed spacer 2, partial sequence\n",
      "length: 714\n",
      "e value: 0.0\n",
      "GTAGGTGAACCTGCGGAAGGATCATTGTTGAGATCACATAATAATTGATCGAGTTAATCTGGAGGATCTGTTTAC...\n",
      "|||||||||||||||||||||||||||||||||||||||||||||||||||||||||||||||||||||||||||...\n",
      "GTAGGTGAACCTGCGGAAGGATCATTGTTGAGATCACATAATAATTGATCGAGTTAATCTGGAGGATCTGTTTAC...\n",
      "****Alignment****\n",
      "sequence: gi|47776118|emb|AJ564363.1| Paphiopedilum argus ITS1, 5.8S rRNA gene and ITS2, clone pPaarg10\n",
      "length: 766\n",
      "e value: 0.0\n",
      "GTAGGTGAACCTGCGGAAGGATCATTGTTGAGATCACATAATAATTGATCGAGTTAATCTGGAGGATCTGTTTAC...\n",
      "|||||||||||||||||||||||||||||||||||||||||||||||||||||||||||||||||||||||||||...\n",
      "GTAGGTGAACCTGCGGAAGGATCATTGTTGAGATCACATAATAATTGATCGAGTTAATCTGGAGGATCTGTTTAC...\n",
      "****Alignment****\n",
      "sequence: gi|442591000|gb|JQ929349.1| Paphiopedilum sukhakulii internal transcribed spacer 1, partial sequence; 5.8S ribosomal RNA gene, complete sequence; and internal transcribed spacer 2, partial sequence\n",
      "length: 726\n",
      "e value: 0.0\n",
      "GTAGGTGAACCTGCGGAAGGATCATTGTTGAGATCACATAATAATTGATCGAGTTAATCTGGAGGATCTGTTTAC...\n",
      "|||||||||||||||||||||||||||||||||||||||||||||||||||||||||||||||||||||||||||...\n",
      "GTAGGTGAACCTGCGGAAGGATCATTGTTGAGATCACATAATAATTGATCGAGTTAATCTGGAGGATCTGTTTAC...\n",
      "****Alignment****\n",
      "sequence: gi|442590988|gb|JQ929337.1| Paphiopedilum mastersianum internal transcribed spacer 1, partial sequence; 5.8S ribosomal RNA gene, complete sequence; and internal transcribed spacer 2, partial sequence\n",
      "length: 726\n",
      "e value: 0.0\n",
      "GTAGGTGAACCTGCGGAAGGATCATTGTTGAGATCACATAATAATTGATCGAGTTAATCTGGAGGATCTGTTTAC...\n",
      "|||||||||||||||||||||||||||||||||||||||||||||||||||||||||||||||||||||||||||...\n",
      "GTAGGTGAACCTGCGGAAGGATCATTGTTGAGATCACATAATAATTGATCGAGTTAATCTGGAGGATCTGTTTAC...\n",
      "****Alignment****\n",
      "sequence: gi|442590962|gb|JQ929311.1| Paphiopedilum ciliolare internal transcribed spacer 1, partial sequence; 5.8S ribosomal RNA gene, complete sequence; and internal transcribed spacer 2, partial sequence\n",
      "length: 726\n",
      "e value: 0.0\n",
      "GTAGGTGAACCTGCGGAAGGATCATTGTTGAGATCACATAATAATTGATCGAGTTAATCTGGAGGATCTGTTTAC...\n",
      "|||||||||||||||||||||||||||||||||||||||||||||||||||||||||||||||||||||||||||...\n",
      "GTAGGTGAACCTGCGGAAGGATCATTGTTGAGATCACATAATAATTGATCGAGTTAATCTGGAGGATCTGTTTAC...\n",
      "****Alignment****\n",
      "sequence: gi|442590960|gb|JQ929309.1| Paphiopedilum callosum var. sublaeve internal transcribed spacer 1, partial sequence; 5.8S ribosomal RNA gene, complete sequence; and internal transcribed spacer 2, partial sequence\n",
      "length: 726\n",
      "e value: 0.0\n",
      "GTAGGTGAACCTGCGGAAGGATCATTGTTGAGATCACATAATAATTGATCGAGTTAATCTGGAGGATCTGTTTAC...\n",
      "|||||||||||||||||||||||||||||||||||||||||||||||||||||||||||||||||||||||||||...\n",
      "GTAGGTGAACCTGCGGAAGGATCATTGTTGAGATCACATAATAATTGATCGAGTTAATCTGGAGGATCTGTTTAC...\n",
      "****Alignment****\n",
      "sequence: gi|442590957|gb|JQ929306.1| Paphiopedilum appletonianum internal transcribed spacer 1, partial sequence; 5.8S ribosomal RNA gene, complete sequence; and internal transcribed spacer 2, partial sequence\n",
      "length: 726\n",
      "e value: 0.0\n",
      "GTAGGTGAACCTGCGGAAGGATCATTGTTGAGATCACATAATAATTGATCGAGTTAATCTGGAGGATCTGTTTAC...\n",
      "|||||||||||||||||||||||||||||||||||||||||||||||||||||||||||||||||||||||||||...\n",
      "GTAGGTGAACCTGCGGAAGGATCATTGTTGAGATCACATAATAATTGATCGAGTTAATCTGGAGGATCTGTTTAC...\n",
      "****Alignment****\n",
      "sequence: gi|1152053797|gb|KX931030.1| Paphiopedilum purpuratum voucher Szlachetko 88/06/P small subunit ribosomal RNA gene, partial sequence; internal transcribed spacer 1, 5.8S ribosomal RNA gene, and internal transcribed spacer 2, complete sequence; and large subunit ribosomal RNA gene, partial sequence\n",
      "length: 802\n",
      "e value: 0.0\n",
      "GTAGGTGAACCTGCGGAAGGATCATTGTTGAGATCACATAATAATTGATCGAGTTAATCTGGAGGATCTGTTTAC...\n",
      "|||||||||||||||||||||||||||||||||||||||||||||||||||||||||||||||||||||||||| ...\n",
      "GTAGGTGAACCTGCGGAAGGATCATTGTTGAGATCACATAATAATTGATCGAGTTAATCTGGAGGATCTGTTTAT...\n",
      "****Alignment****\n",
      "sequence: gi|442590959|gb|JQ929308.1| Paphiopedilum callosum internal transcribed spacer 1, partial sequence; 5.8S ribosomal RNA gene, complete sequence; and internal transcribed spacer 2, partial sequence\n",
      "length: 726\n",
      "e value: 0.0\n",
      "GTAGGTGAACCTGCGGAAGGATCATTGTTGAGATCACATAATAATTGATCGAGTTAATCTGGAGGATCTGTTTAC...\n",
      "|||||||||||||||||||||||||||||||||||||||||||||||||||||||||||||||||||||||||||...\n",
      "GTAGGTGAACCTGCGGAAGGATCATTGTTGAGATCACATAATAATTGATCGAGTTAATCTGGAGGATCTGTTTAC...\n",
      "****Alignment****\n",
      "sequence: gi|55274478|gb|AY643460.1| Paphiopedilum hennisianum voucher Pp71-1 (USBG) internal transcribed spacer 1, partial sequence; 5.8S ribosomal RNA gene, complete sequence; and internal transcribed spacer 2, partial sequence\n",
      "length: 729\n",
      "e value: 0.0\n",
      "GTAGGTGAACCTGCGGAAGGATCATTGTTGAGATCACATAATAATTGATCGAGTTAATCTGGAGGATCTGTTTAC...\n",
      "|||||||||||||||||||||||||||||||||||||||||||||||||||||||||||||||||||||||||||...\n",
      "GTAGGTGAACCTGCGGAAGGATCATTGTTGAGATCACATAATAATTGATCGAGTTAATCTGGAGGATCTGTTTAC...\n",
      "****Alignment****\n",
      "sequence: gi|442590981|gb|JQ929330.1| Paphiopedilum javanicum var. virens internal transcribed spacer 1, partial sequence; 5.8S ribosomal RNA gene, complete sequence; and internal transcribed spacer 2, partial sequence\n",
      "length: 726\n",
      "e value: 0.0\n",
      "GTAGGTGAACCTGCGGAAGGATCATTGTTGAGATCACATAATAATTGATCGAGTTAATCTGGAGGATCTGTTTAC...\n",
      "|||||||||||||||||||||||||||||||||||||||||||||||||||||||||||||||||||||||||||...\n",
      "GTAGGTGAACCTGCGGAAGGATCATTGTTGAGATCACATAATAATTGATCGAGTTAATCTGGAGGATCTGTTTAC...\n",
      "****Alignment****\n",
      "sequence: gi|442590969|gb|JQ929318.1| Paphiopedilum fowliei internal transcribed spacer 1, partial sequence; 5.8S ribosomal RNA gene, complete sequence; and internal transcribed spacer 2, partial sequence\n",
      "length: 726\n",
      "e value: 0.0\n",
      "GTAGGTGAACCTGCGGAAGGATCATTGTTGAGATCACATAATAATTGATCGAGTTAATCTGGAGGATCTGTTTAC...\n",
      "|||||||||||||||||||||||||||||||||||||||||||||||||||||||||||||||||||||||||||...\n",
      "GTAGGTGAACCTGCGGAAGGATCATTGTTGAGATCACATAATAATTGATCGAGTTAATCTGGAGGATCTGTTTAC...\n",
      "****Alignment****\n",
      "sequence: gi|2765584|emb|Z78459.1| P.dayanum 5.8S rRNA gene and ITS1 and ITS2 DNA\n",
      "length: 744\n",
      "e value: 0.0\n",
      "GTAGGTGAACCTGCGGAAGGATCATTGTTGAGATCACATAATAATTGATCGAGTTAATCTGGAGGATCTGTTTAC...\n",
      "|||||||||||||||||||||||||||||||||||||||||||||||||||||||||||||||||||||||||||...\n",
      "GTAGGTGAACCTGCGGAAGGATCATTGTTGAGATCACATAATAATTGATCGAGTTAATCTGGAGGATCTGTTTAC...\n",
      "****Alignment****\n",
      "sequence: gi|442590977|gb|JQ929326.1| Paphiopedilum hennisianum internal transcribed spacer 1, partial sequence; 5.8S ribosomal RNA gene, complete sequence; and internal transcribed spacer 2, partial sequence\n",
      "length: 725\n",
      "e value: 0.0\n",
      "GTAGGTGAACCTGCGGAAGGATCATTGTTGAGATCACATAATAATTGATCGAGTTAATCTGGAGGATCTGTTTAC...\n",
      "|||||||||||||||||||||||||||||||||||||||||||||||||||||||||||||||||||||||||||...\n",
      "GTAGGTGAACCTGCGGAAGGATCATTGTTGAGATCACATAATAATTGATCGAGTTAATCTGGAGGATCTGTTTAC...\n",
      "****Alignment****\n",
      "sequence: gi|55274486|gb|AY643468.1| Paphiopedilum sukhakulii voucher Pp81-1 (USBG) internal transcribed spacer 1, partial sequence; 5.8S ribosomal RNA gene, complete sequence; and internal transcribed spacer 2, partial sequence\n",
      "length: 709\n",
      "e value: 0.0\n",
      "ACCTGCGGAAGGATCATTGTTGAGATCACATAATAATTGATCGAGTTAATCTGGAGGATCTGTTTACTTTGGTCA...\n",
      "|||||||||||||||||||||||||||||||||||||||||||||||||||||||||||||||||||||||||||...\n",
      "ACCTGCGGAAGGATCATTGTTGAGATCACATAATAATTGATCGAGTTAATCTGGAGGATCTGTTTACTTTGGTCA...\n",
      "****Alignment****\n",
      "sequence: gi|160714718|gb|EU232631.1| Paphiopedilum dayanum 17S ribosomal RNA gene, partial sequence; internal transcribed spacer 1, 5.6S ribosomal RNA gene, and internal transcribed spacer 2, complete sequence; and 26S ribosomal RNA gene, partial sequence\n",
      "length: 756\n",
      "e value: 0.0\n",
      "AAGGATCATTGTTGAGATCACATAATAATTGATCGAGTTAATCTGGAGGATCTGTTTACTTTGGTCACCCATGGG...\n",
      "||||||||||||||||||||||||||||||||||||||||||||||||||||||||||||||||||||||||| |...\n",
      "AAGGATCATTGTTGAGATCACATAATAATTGATCGAGTTAATCTGGAGGATCTGTTTACTTTGGTCACCCATGAG...\n",
      "****Alignment****\n",
      "sequence: gi|442591006|gb|JQ929355.1| Paphiopedilum violascens internal transcribed spacer 1, partial sequence; 5.8S ribosomal RNA gene, complete sequence; and internal transcribed spacer 2, partial sequence\n",
      "length: 726\n",
      "e value: 0.0\n",
      "GTAGGTGAACCTGCGGAAGGATCATTGTTGAGATCACATAATAATTGATCGAGTTAATCTGGAGGATCTGTTTAC...\n",
      "|||||||||||||||||||||||||||||||||||||||||||||||||||||||||||||||||||||||||||...\n",
      "GTAGGTGAACCTGCGGAAGGATCATTGTTGAGATCACATAATAATTGATCGAGTTAATCTGGAGGATCTGTTTAC...\n",
      "****Alignment****\n",
      "sequence: gi|442591003|gb|JQ929352.1| Paphiopedilum tonsum internal transcribed spacer 1, partial sequence; 5.8S ribosomal RNA gene, complete sequence; and internal transcribed spacer 2, partial sequence\n",
      "length: 715\n",
      "e value: 0.0\n",
      "GTAGGTGAACCTGCGGAAGGATCATTGTTGAGATCACATAATAATTGATCGAGTTAATCTGGAGGATCTGTTTAC...\n",
      "|||||||||||||||||||||||||||||||||||||||||||||||||||||||||||||||||||||||||||...\n",
      "GTAGGTGAACCTGCGGAAGGATCATTGTTGAGATCACATAATAATTGATCGAGTTAATCTGGAGGATCTGTTTAC...\n",
      "****Alignment****\n",
      "sequence: gi|2765585|emb|Z78460.1| P.ciliolare 5.8S rRNA gene and ITS1 and ITS2 DNA\n",
      "length: 745\n",
      "e value: 0.0\n",
      "GTAGGTGAACCTGCGGAAGGATCATTGTTGAGATCACATAATAATTGATCGAGTTAATCTGGAGGATCTGTTTAC...\n",
      "|||||||||||| ||||||||||||||||||||||||||||||||||||||||||||||||||||||||||||||...\n",
      "GTAGGTGAACCTCCGGAAGGATCATTGTTGAGATCACATAATAATTGATCGAGTTAATCTGGAGGATCTGTTTAC...\n",
      "****Alignment****\n",
      "sequence: gi|2765577|emb|Z78452.1| P.bougainvilleanum 5.8S rRNA gene and ITS1 and ITS2 DNA\n",
      "length: 743\n",
      "e value: 0.0\n",
      "GTAGGTGAACCTGCGGAAGGATCATTGTTGAGATCACATAATAATTGATCGAGTTAATCTGGAGGATCTGTTTAC...\n",
      "||||||||||||||||||||||||||||||||||||||||||||||||||||||||||||||||||||| |||||...\n",
      "GTAGGTGAACCTGCGGAAGGATCATTGTTGAGATCACATAATAATTGATCGAGTTAATCTGGAGGATCTATTTAC...\n",
      "****Alignment****\n",
      "sequence: gi|406869384|gb|JX088564.1| Paphiopedilum purpuratum internal transcribed spacer 1, partial sequence; 5.8S ribosomal RNA gene, complete sequence; and internal transcribed spacer 2, partial sequence\n",
      "length: 717\n",
      "e value: 0.0\n",
      "GTAGGTGAACCTGCGGAAGGATCATTGTTGAGATCACATAATAATTGATCGAGTTAATCTGGAGGATCTGTTTAC...\n",
      "|||||||||||||||||||||||||||||||||||||||||||||||||||||||||||||||||||||||||| ...\n",
      "GTAGGTGAACCTGCGGAAGGATCATTGTTGAGATCACATAATAATTGATCGAGTTAATCTGGAGGATCTGTTTAT...\n",
      "****Alignment****\n",
      "sequence: gi|2765574|emb|Z78449.1| P.mastersianum 5.8S rRNA gene and ITS1 and ITS2 DNA\n",
      "length: 744\n",
      "e value: 0.0\n",
      "GTAGGTGAACCTGCGGAAGGATCATTGTTGAGATCACATAATAATTGATCGAGTTAATCTGGAGGATCTGTTTAC...\n",
      "|||||||||||||||||||||||||||||||||||||||||||||||||||||||||||||||||||||||||||...\n",
      "GTAGGTGAACCTGCGGAAGGATCATTGTTGAGATCACATAATAATTGATCGAGTTAATCTGGAGGATCTGTTTAC...\n",
      "****Alignment****\n",
      "sequence: gi|2765583|emb|Z78458.1| P.hennisianum 5.8S rRNA gene and ITS1 and ITS2 DNA\n",
      "length: 738\n",
      "e value: 0.0\n",
      "GTAGGTGAACCTGCGGAAGGATCATTGTTGAGATCACATAATAATTGATCGAGTTAATCTGGAGGATCTGTTTAC...\n",
      "|||||||||||||||||||||||||||||||||||||||||||||||||||||||||||||||||||||||||||...\n",
      "GTAGGTGAACCTGCGGAAGGATCATTGTTGAGATCACATAATAATTGATCGAGTTAATCTGGAGGATCTGTTTAC...\n",
      "****Alignment****\n",
      "sequence: gi|402502925|gb|JQ660872.1| Paphiopedilum barbatum 18S ribosomal RNA gene, partial sequence; and internal transcribed spacer 1, 5.8S ribosomal RNA gene, and internal transcribed spacer 2, complete sequence\n",
      "length: 703\n",
      "e value: 0.0\n",
      "GTAGGTGAACCTGCGGAAGGATCATTGTTGAGATCACATAATAATTGATCGAGTTAATCTGGAGGATCTGTTTAC...\n",
      "|||||||||||||||||||||||||||||||||||||||||||||||||||||||||||||||||||||||||||...\n",
      "GTAGGTGAACCTGCGGAAGGATCATTGTTGAGATCACATAATAATTGATCGAGTTAATCTGGAGGATCTGTTTAC...\n",
      "****Alignment****\n",
      "sequence: gi|55274483|gb|AY643465.1| Paphiopedilum bullenianum voucher Pp73-1 (USBG) internal transcribed spacer 1, partial sequence; 5.8S ribosomal RNA gene, complete sequence; and internal transcribed spacer 2, partial sequence\n",
      "length: 697\n",
      "e value: 0.0\n",
      "ACCTGCGGAAGGATCATTGTTGAGATCACATAATAATTGATCGAGTTAATCTGGAGGATCTGTTTACTTTGGTCA...\n",
      "|||||||||||||||||||||||||||||||||||||||||||||||||||||||||||||||||||||||||||...\n",
      "ACCTGCGGAAGGATCATTGTTGAGATCACATAATAATTGATCGAGTTAATCTGGAGGATCTGTTTACTTTGGTCA...\n"
     ]
    }
   ],
   "source": [
    "E_VALUE_THRESH = 0.01\n",
    "# What is e-value? https://www.metagenomics.wiki/tools/blast/evalue\n",
    "\n",
    "from Bio.Blast import NCBIXML\n",
    "result_handle_xml = open(\"../datasets/my_orchid_blast.xml\", \"r\")\n",
    "blast_record = NCBIXML.read(result_handle_xml)\n",
    "\n",
    "for alignment in blast_record.alignments:\n",
    "    for hsp in alignment.hsps:\n",
    "        if hsp.expect < E_VALUE_THRESH:\n",
    "            print(\"****Alignment****\")\n",
    "            print(\"sequence:\", alignment.title)\n",
    "            print(\"length:\", alignment.length)\n",
    "            print(\"e value:\", hsp.expect)\n",
    "            print(hsp.query[0:75] + \"...\")\n",
    "            print(hsp.match[0:75] + \"...\")\n",
    "            print(hsp.sbjct[0:75] + \"...\")"
   ]
  },
  {
   "cell_type": "code",
   "execution_count": 32,
   "id": "ef923fa9-9bb0-43f6-b6df-aaec146d194d",
   "metadata": {},
   "outputs": [],
   "source": [
    "# if we have multiple sequences\n",
    "\n",
    "from Bio.Blast import NCBIXML\n",
    "blast_records = NCBIXML.parse(result_handle)\n",
    "\n",
    "#help(NCBIXML.parse)"
   ]
  },
  {
   "cell_type": "markdown",
   "id": "26c03d88-28ce-4f14-82c3-e78eccc76242",
   "metadata": {},
   "source": [
    "![BLAST classes](BlastRecord.png)"
   ]
  },
  {
   "cell_type": "markdown",
   "id": "f2d4740f-d7ca-4bd3-82d8-a8a9ea95e6c5",
   "metadata": {},
   "source": [
    "### [Some terminology on BLAST](https://www.ncbi.nlm.nih.gov/books/NBK62051/)"
   ]
  },
  {
   "cell_type": "markdown",
   "id": "123a8b01-edc8-45e2-ac41-260e23152044",
   "metadata": {},
   "source": [
    "# Let's use Biopython for a mini project"
   ]
  },
  {
   "cell_type": "markdown",
   "id": "6c938b17-9616-4dc7-9416-2d698cedfd71",
   "metadata": {},
   "source": [
    "### Say you have an unknown sequence. Let's use Biopython tools to identify that sequence."
   ]
  },
  {
   "cell_type": "code",
   "execution_count": 37,
   "id": "ebbf7981-0f56-40f4-89e5-fe5234e78b48",
   "metadata": {},
   "outputs": [
    {
     "name": "stdout",
     "output_type": "stream",
     "text": [
      "Python version: sys.version_info(major=3, minor=6, micro=8, releaselevel='final', serial=0)\n",
      "Biopython version: 1.79\n"
     ]
    }
   ],
   "source": [
    "# ideally you want to import every library at once and at start\n",
    "\n",
    "import os\n",
    "import sys\n",
    "\n",
    "from urllib.request import urlretrieve\n",
    "\n",
    "import Bio\n",
    "from Bio import SeqIO, SearchIO, Entrez\n",
    "from Bio.Seq import Seq\n",
    "from Bio.SeqUtils import GC\n",
    "from Bio.Blast import NCBIWWW\n",
    "from Bio.Data import CodonTable\n",
    "\n",
    "print(\"Python version:\", sys.version_info)\n",
    "print(\"Biopython version:\", Bio.__version__)"
   ]
  },
  {
   "cell_type": "code",
   "execution_count": 38,
   "id": "f9bc7c56-afcb-4c0f-bd3e-e1efc83a09c1",
   "metadata": {},
   "outputs": [
    {
     "name": "stdout",
     "output_type": "stream",
     "text": [
      "gi|1798174254|ref|NC_045512.2|\n",
      "ID: gi|1798174254|ref|NC_045512.2|\n",
      "Name: gi|1798174254|ref|NC_045512.2|\n",
      "Description: gi|1798174254|ref|NC_045512.2| Severe acute respiratory syndrome coronavirus 2 isolate Wuhan-Hu-1, complete genome\n",
      "Number of features: 0\n",
      "Seq('ATTAAAGGTTTATACCTTCCCAGGTAACAAACCAACCAACTTTCGATCTCTTGT...AAA')\n",
      "Sequence length (bp) 29903\n",
      "GC content (%) 37.97277865097148\n"
     ]
    }
   ],
   "source": [
    "# let's load our sequence that we obtained from Genbank: https://www.ncbi.nlm.nih.gov/nuccore/NC_045512\n",
    "\n",
    "for record in SeqIO.parse('../datasets/W4_sequence.fasta', 'fasta'):\n",
    "    print(record.id)\n",
    "    print(record)\n",
    "    print(\"Sequence length (bp)\", len(record)) # ~30KB\n",
    "    print(\"GC content (%)\", GC(record.seq))\n",
    "    "
   ]
  },
  {
   "cell_type": "code",
   "execution_count": null,
   "id": "01cabc79-21a0-4ded-9903-60eca3f2730d",
   "metadata": {},
   "outputs": [],
   "source": [
    "# this might take a long time, about a few minutes or more, because we are comparing against a large reference database\n",
    "#%%timeit -n 100\n",
    "result_handle = NCBIWWW.qblast(\"blastn\", \"nt\", record.seq) #the three non-optional arguments"
   ]
  },
  {
   "cell_type": "code",
   "execution_count": 39,
   "id": "7ce82a51-5b1a-4e96-882c-b3ac9e105f65",
   "metadata": {},
   "outputs": [
    {
     "name": "stdout",
     "output_type": "stream",
     "text": [
      "OM488031.1\n",
      "ID: OM488031.1\n",
      "Name: OM488031.1\n",
      "Description: OM488031.1 Severe acute respiratory syndrome coronavirus 2 isolate SARS-CoV-2/human/USA/ORF8_Cs12/2021 ORF7b (ORF7b) gene, partial cds; and ORF8 gene, partial sequence\n",
      "Number of features: 0\n",
      "Seq('TTTAATTATGCTTATTATCTTTTGGTTCTCACTTGAACTGCAAGATCATAATGA...ATC')\n",
      "Sequence length (bp) 439\n",
      "GC content (%) 35.7630979498861\n"
     ]
    }
   ],
   "source": [
    "for record in SeqIO.parse('../datasets/W4_sequence_partial.fasta', 'fasta'):\n",
    "    print(record.id)\n",
    "    print(record)\n",
    "    print(\"Sequence length (bp)\", len(record)) # ~30KB\n",
    "    print(\"GC content (%)\", GC(record.seq))\n",
    "\n",
    "result_handle = NCBIWWW.qblast(\"blastn\", \"nt\", record.seq) #the three non-optional arguments"
   ]
  },
  {
   "cell_type": "code",
   "execution_count": 40,
   "id": "8bce7773-33fe-438e-9094-51e1638a1d7f",
   "metadata": {},
   "outputs": [],
   "source": [
    "# let's parse the xml output \n",
    "\n",
    "blast_qresult_xml = SearchIO.read(result_handle, \"blast-xml\")"
   ]
  },
  {
   "cell_type": "code",
   "execution_count": 41,
   "id": "ad011077-302d-44cd-9faf-cb5ae019c4f3",
   "metadata": {},
   "outputs": [
    {
     "name": "stdout",
     "output_type": "stream",
     "text": [
      "Program: blastn (2.13.0+)\n",
      "  Query: No (439)\n",
      "         definition line\n",
      " Target: nt\n",
      "   Hits: ----  -----  ----------------------------------------------------------\n",
      "            #  # HSP  ID + description\n",
      "         ----  -----  ----------------------------------------------------------\n",
      "            0      1  gi|2055822382|gb|MZ415053.1|  Severe acute respiratory ...\n",
      "            1      1  gi|2055103018|emb|OU196920.1|  Severe acute respiratory...\n",
      "            2      1  gi|2055102732|emb|OU196386.1|  Severe acute respiratory...\n",
      "            3      1  gi|2055102249|emb|OU196747.1|  Severe acute respiratory...\n",
      "            4      1  gi|2055102114|emb|OU196612.1|  Severe acute respiratory...\n",
      "            5      1  gi|2043087781|gb|MZ253146.1|  Severe acute respiratory ...\n",
      "            6      1  gi|2043087766|gb|MZ253145.1|  Severe acute respiratory ...\n",
      "            7      1  gi|2185043166|gb|OM435367.1|  Severe acute respiratory ...\n",
      "            8      1  gi|2185042931|gb|OM435349.1|  Severe acute respiratory ...\n",
      "            9      1  gi|2185042912|gb|OM435348.1|  Severe acute respiratory ...\n",
      "           10      1  gi|2185042613|gb|OM435328.1|  Severe acute respiratory ...\n",
      "           11      1  gi|2185042471|gb|OM435318.1|  Severe acute respiratory ...\n",
      "           12      1  gi|2185042279|gb|OM435304.1|  Severe acute respiratory ...\n",
      "           13      1  gi|2185042267|gb|OM435303.1|  Severe acute respiratory ...\n",
      "           14      1  gi|2185041863|gb|OM435273.1|  Severe acute respiratory ...\n",
      "           15      1  gi|2185041254|gb|OM435227.1|  Severe acute respiratory ...\n",
      "           16      1  gi|2185041240|gb|OM435226.1|  Severe acute respiratory ...\n",
      "           17      1  gi|2185041146|gb|OM435220.1|  Severe acute respiratory ...\n",
      "           18      1  gi|2185041082|gb|OM435216.1|  Severe acute respiratory ...\n",
      "           19      1  gi|2185040833|gb|OM435201.1|  Severe acute respiratory ...\n",
      "           20      1  gi|2185040706|gb|OM435193.1|  Severe acute respiratory ...\n",
      "           21      1  gi|2185040616|gb|OM435187.1|  Severe acute respiratory ...\n",
      "           22      1  gi|2185040592|gb|OM435185.1|  Severe acute respiratory ...\n",
      "           23      1  gi|2185039603|gb|OM435124.1|  Severe acute respiratory ...\n",
      "           24      1  gi|2185039560|gb|OM435121.1|  Severe acute respiratory ...\n",
      "           25      1  gi|2185039050|gb|OM435089.1|  Severe acute respiratory ...\n",
      "           26      1  gi|2185039038|gb|OM435088.1|  Severe acute respiratory ...\n",
      "           27      1  gi|2185038765|gb|OM435071.1|  Severe acute respiratory ...\n",
      "           28      1  gi|2185037829|gb|OM435013.1|  Severe acute respiratory ...\n",
      "           29      1  gi|2185037671|gb|OM435001.1|  Severe acute respiratory ...\n",
      "           ~~~\n",
      "           47      1  gi|2185034833|gb|OM434835.1|  Severe acute respiratory ...\n",
      "           48      1  gi|2185037054|gb|OM434959.1|  Severe acute respiratory ...\n",
      "           49      1  gi|2185040817|gb|OM435200.1|  Severe acute respiratory ...\n"
     ]
    }
   ],
   "source": [
    "print(blast_qresult_xml)"
   ]
  },
  {
   "cell_type": "code",
   "execution_count": 42,
   "id": "c01d7697-4b34-487e-a84c-e0f1a46d5647",
   "metadata": {},
   "outputs": [
    {
     "data": {
      "text/plain": [
       "['Severe acute respiratory syndrome coronavirus 2 isolate SARS-CoV-2/human/USA/OH-GD-SID-21051836579/2021 ORF1ab polyprotein (ORF1ab) gene, partial cds; ORF1a polyprotein (ORF1ab) gene, complete cds; surface glycoprotein (S) gene, partial cds; and ORF3a protein (ORF3a), envelope protein (E), membrane glycoprotein (M), ORF6 protein (ORF6), ORF7a protein (ORF7a), ORF7b (ORF7b), truncated ORF8 protein (ORF8), nucleocapsid phosphoprotein (N), and ORF10 protein (ORF10) genes, complete cds',\n",
       " 'Severe acute respiratory syndrome coronavirus 2 genome assembly, chromosome: 1',\n",
       " 'Severe acute respiratory syndrome coronavirus 2 genome assembly, chromosome: 1',\n",
       " 'Severe acute respiratory syndrome coronavirus 2 genome assembly, chromosome: 1',\n",
       " 'Severe acute respiratory syndrome coronavirus 2 genome assembly, chromosome: 1']"
      ]
     },
     "execution_count": 42,
     "metadata": {},
     "output_type": "execute_result"
    }
   ],
   "source": [
    "# let's look at the first five matches, in more detail\n",
    "\n",
    "[hit.description for hit in blast_qresult_xml[:5]] #remember list comprehensions?"
   ]
  },
  {
   "cell_type": "code",
   "execution_count": 44,
   "id": "9a302829-dc21-4b51-9cd7-791b5fbcb48b",
   "metadata": {},
   "outputs": [
    {
     "data": {
      "text/plain": [
       "Hit(id='gi|2055822382|gb|MZ415053.1|', query_id='No', 1 hsps)"
      ]
     },
     "execution_count": 44,
     "metadata": {},
     "output_type": "execute_result"
    }
   ],
   "source": [
    "first_hit = blast_qresult_xml[0]\n",
    "first_hit"
   ]
  },
  {
   "cell_type": "code",
   "execution_count": 45,
   "id": "87cc462a-87f8-4e40-a03e-4a74d9dc82b7",
   "metadata": {},
   "outputs": [
    {
     "data": {
      "text/plain": [
       "'Severe acute respiratory syndrome coronavirus 2 isolate SARS-CoV-2/human/USA/OH-GD-SID-21051836579/2021 ORF1ab polyprotein (ORF1ab) gene, partial cds; ORF1a polyprotein (ORF1ab) gene, complete cds; surface glycoprotein (S) gene, partial cds; and ORF3a protein (ORF3a), envelope protein (E), membrane glycoprotein (M), ORF6 protein (ORF6), ORF7a protein (ORF7a), ORF7b (ORF7b), truncated ORF8 protein (ORF8), nucleocapsid phosphoprotein (N), and ORF10 protein (ORF10) genes, complete cds'"
      ]
     },
     "execution_count": 45,
     "metadata": {},
     "output_type": "execute_result"
    }
   ],
   "source": [
    "first_hit.description"
   ]
  },
  {
   "cell_type": "code",
   "execution_count": 46,
   "id": "80e18ed9-a8a7-4a68-9237-2721f429df1e",
   "metadata": {},
   "outputs": [
    {
     "name": "stdout",
     "output_type": "stream",
     "text": [
      "0.0 788.457\n"
     ]
    }
   ],
   "source": [
    "first_hit_hsp = first_hit[0]\n",
    "print(first_hit_hsp.evalue, first_hit_hsp.bitscore)"
   ]
  },
  {
   "cell_type": "code",
   "execution_count": 47,
   "id": "2a3d2983-e675-430c-9813-1805ed1f89cb",
   "metadata": {},
   "outputs": [
    {
     "name": "stdout",
     "output_type": "stream",
     "text": [
      "Alignment with 2 rows and 439 columns\n",
      "TTTAATTATGCTTATTATCTTTTGGTTCTCACTTGAACTGCAAG...ATC No\n",
      "TTTAATTATGCTTATTATCTTTTGGTTCTCACTTGAACTGCAAG...ATC gi|2055822382|gb|MZ415053.1|\n"
     ]
    }
   ],
   "source": [
    "print(first_hit_hsp.aln) # how does the alignment look like? Anything out of ordinary?"
   ]
  },
  {
   "cell_type": "code",
   "execution_count": 48,
   "id": "c548c743-0b0b-4c5b-b235-cdd4d3f530e0",
   "metadata": {},
   "outputs": [
    {
     "data": {
      "text/plain": [
       "'MZ415053.1'"
      ]
     },
     "execution_count": 48,
     "metadata": {},
     "output_type": "execute_result"
    }
   ],
   "source": [
    "# Let's extract annotations on the matching genome sequence using NCBI Genbank (or simply the gbk format)\n",
    "\n",
    "NCBI_id = first_hit.id.split('|')[3]\n",
    "NCBI_id\n"
   ]
  },
  {
   "cell_type": "code",
   "execution_count": 49,
   "id": "05caa0e7-1364-4a34-9edf-d262ada7d54a",
   "metadata": {},
   "outputs": [],
   "source": [
    "Entrez.email = \"baloglu@usc.edu\"  # Always tell NCBI who you are"
   ]
  },
  {
   "cell_type": "code",
   "execution_count": 50,
   "id": "66dc9be7-0a8a-4f0b-bae3-01f9a1aa2ff8",
   "metadata": {},
   "outputs": [],
   "source": [
    "handle = Entrez.efetch(db=\"nucleotide\", id= NCBI_id, retmode=\"text\", rettype=\"gb\")"
   ]
  },
  {
   "cell_type": "code",
   "execution_count": 51,
   "id": "cd99ae4b-799f-4ae1-8294-4a95cacce0c9",
   "metadata": {},
   "outputs": [],
   "source": [
    "genbank_record = SeqIO.read(handle, \"genbank\")"
   ]
  },
  {
   "cell_type": "code",
   "execution_count": 52,
   "id": "9a5ff50c-5af5-4151-9995-9e26ce67c47f",
   "metadata": {},
   "outputs": [
    {
     "data": {
      "text/plain": [
       "SeqRecord(seq=Seq('CCAACCAACTTTCGATCTCTTGTAGATCTGTTCTCTAAACGAACTTTAAAATCT...AAG'), id='MZ415053.1', name='MZ415053', description='Severe acute respiratory syndrome coronavirus 2 isolate SARS-CoV-2/human/USA/OH-GD-SID-21051836579/2021 ORF1ab polyprotein (ORF1ab) gene, partial cds; ORF1a polyprotein (ORF1ab) gene, complete cds; surface glycoprotein (S) gene, partial cds; and ORF3a protein (ORF3a), envelope protein (E), membrane glycoprotein (M), ORF6 protein (ORF6), ORF7a protein (ORF7a), ORF7b (ORF7b), truncated ORF8 protein (ORF8), nucleocapsid phosphoprotein (N), and ORF10 protein (ORF10) genes, complete cds', dbxrefs=[])"
      ]
     },
     "execution_count": 52,
     "metadata": {},
     "output_type": "execute_result"
    }
   ],
   "source": [
    "genbank_record"
   ]
  },
  {
   "cell_type": "markdown",
   "id": "50900980-3f4a-4b97-b2c7-94f42b6b17db",
   "metadata": {},
   "source": [
    "### Let's answer some basic biology questions"
   ]
  },
  {
   "cell_type": "code",
   "execution_count": 54,
   "id": "e77eed29-97c0-49cd-82a1-d0b81ea45b91",
   "metadata": {},
   "outputs": [
    {
     "data": {
      "text/plain": [
       "{'molecule_type': 'RNA',\n",
       " 'topology': 'linear',\n",
       " 'data_file_division': 'VRL',\n",
       " 'date': '21-JUN-2021',\n",
       " 'accessions': ['MZ415053'],\n",
       " 'sequence_version': 1,\n",
       " 'keywords': [''],\n",
       " 'source': 'Severe acute respiratory syndrome coronavirus 2',\n",
       " 'organism': 'Severe acute respiratory syndrome coronavirus 2',\n",
       " 'taxonomy': ['Viruses',\n",
       "  'Riboviria',\n",
       "  'Orthornavirae',\n",
       "  'Pisuviricota',\n",
       "  'Pisoniviricetes',\n",
       "  'Nidovirales',\n",
       "  'Cornidovirineae',\n",
       "  'Coronaviridae',\n",
       "  'Orthocoronavirinae',\n",
       "  'Betacoronavirus',\n",
       "  'Sarbecovirus'],\n",
       " 'references': [Reference(title='Direct Submission', ...)],\n",
       " 'structured_comment': OrderedDict([('Assembly-Data',\n",
       "               OrderedDict([('Assembly Method',\n",
       "                             'DRAGEN COVID Lineage v. 3.5.3'),\n",
       "                            ('Sequencing Technology', 'Illumina')]))])}"
      ]
     },
     "execution_count": 54,
     "metadata": {},
     "output_type": "execute_result"
    }
   ],
   "source": [
    "genbank_record.annotations"
   ]
  },
  {
   "cell_type": "code",
   "execution_count": 53,
   "id": "fa2c966b-53a6-497c-8ac3-fe4529dd6263",
   "metadata": {},
   "outputs": [
    {
     "name": "stdout",
     "output_type": "stream",
     "text": [
      "Is it single or double stranded and a DNA or RNA virus?\n",
      " RNA\n"
     ]
    }
   ],
   "source": [
    "print(\"Is it single or double stranded and a DNA or RNA virus?\\n\",\n",
    "      genbank_record.annotations[\"molecule_type\"])"
   ]
  },
  {
   "cell_type": "code",
   "execution_count": 55,
   "id": "3cd4aca6-710f-4991-9b4c-c8333390fbe7",
   "metadata": {},
   "outputs": [
    {
     "name": "stdout",
     "output_type": "stream",
     "text": [
      "What is the full NCBI taxonomy of this virus?\n",
      " ['Viruses', 'Riboviria', 'Orthornavirae', 'Pisuviricota', 'Pisoniviricetes', 'Nidovirales', 'Cornidovirineae', 'Coronaviridae', 'Orthocoronavirinae', 'Betacoronavirus', 'Sarbecovirus']\n"
     ]
    }
   ],
   "source": [
    "print(\"What is the full NCBI taxonomy of this virus?\\n\",\n",
    "      genbank_record.annotations[\"taxonomy\"])"
   ]
  },
  {
   "cell_type": "code",
   "execution_count": 58,
   "id": "412823c0-5f14-4ca2-a5a0-a725f9b21238",
   "metadata": {},
   "outputs": [
    {
     "name": "stdout",
     "output_type": "stream",
     "text": [
      "What is the family-level taxonomy of this virus?\n",
      " Coronaviridae\n"
     ]
    }
   ],
   "source": [
    "print(\"What is the family-level taxonomy of this virus?\\n\",\n",
    "      genbank_record.annotations[\"taxonomy\"][7]) #what is it?"
   ]
  },
  {
   "cell_type": "code",
   "execution_count": 59,
   "id": "517c24b3-bbf5-41da-aca7-ae2ba8fb7fe9",
   "metadata": {},
   "outputs": [
    {
     "name": "stdout",
     "output_type": "stream",
     "text": [
      "What are the relevant references/labs who generated the data?\n",
      "\n",
      "location: [0:29748]\n",
      "authors: Diagnostics,G.\n",
      "title: Direct Submission\n",
      "journal: Submitted (18-JUN-2021) Laboratory, Gravity Diagnostics, LLC, 812 Russell St, Covington, KY 41011, USA\n",
      "medline id: \n",
      "pubmed id: \n",
      "comment: \n",
      "\n"
     ]
    }
   ],
   "source": [
    "print(\"What are the relevant references/labs who generated the data?\\n\")\n",
    "for reference in genbank_record.annotations[\"references\"]:\n",
    "    print(reference)"
   ]
  },
  {
   "cell_type": "markdown",
   "id": "acb930a2-08ae-4a82-9c49-631d7fe5727b",
   "metadata": {},
   "source": [
    "# Let's do some [protein level analysis with BioPython](https://biopython.org/docs/1.75/api/Bio.Seq.html)"
   ]
  },
  {
   "cell_type": "code",
   "execution_count": 60,
   "id": "0c1fa4c0-629a-4475-b8ec-a146cce1a3ca",
   "metadata": {},
   "outputs": [
    {
     "data": {
      "text/plain": [
       "60"
      ]
     },
     "execution_count": 60,
     "metadata": {},
     "output_type": "execute_result"
    }
   ],
   "source": [
    "len(genbank_record.features)"
   ]
  },
  {
   "cell_type": "code",
   "execution_count": 61,
   "id": "601ba5da-4da5-47c9-8932-e8d7c0e6c810",
   "metadata": {},
   "outputs": [
    {
     "data": {
      "text/plain": [
       "{'CDS', 'gap', 'gene', 'mat_peptide', 'source', 'stem_loop'}"
      ]
     },
     "execution_count": 61,
     "metadata": {},
     "output_type": "execute_result"
    }
   ],
   "source": [
    "{feature.type for feature in genbank_record.features}"
   ]
  },
  {
   "cell_type": "code",
   "execution_count": 62,
   "id": "ccab47a9-7c28-4f06-8845-f7ebbf4ebffd",
   "metadata": {},
   "outputs": [
    {
     "data": {
      "text/plain": [
       "12"
      ]
     },
     "execution_count": 62,
     "metadata": {},
     "output_type": "execute_result"
    }
   ],
   "source": [
    "CDSs = [feature for feature in genbank_record.features if feature.type == \"CDS\"]\n",
    "len(CDSs)"
   ]
  },
  {
   "cell_type": "code",
   "execution_count": 63,
   "id": "14947d78-02d6-4a62-9969-480a8b7ce8b1",
   "metadata": {},
   "outputs": [
    {
     "data": {
      "text/plain": [
       "['ORF1ab']"
      ]
     },
     "execution_count": 63,
     "metadata": {},
     "output_type": "execute_result"
    }
   ],
   "source": [
    "# Look at the first protein \n",
    "CDSs[0].qualifiers[\"gene\"]"
   ]
  },
  {
   "cell_type": "code",
   "execution_count": 71,
   "id": "8415b891-aa7b-4363-9c62-c181d203c44a",
   "metadata": {},
   "outputs": [
    {
     "data": {
      "text/plain": [
       "Bio.Seq.Seq"
      ]
     },
     "execution_count": 71,
     "metadata": {},
     "output_type": "execute_result"
    }
   ],
   "source": [
    "protein_seq = Seq(CDSs[0].qualifiers[\"translation\"][0])\n",
    "protein_seq\n",
    "type(protein_seq)"
   ]
  },
  {
   "cell_type": "code",
   "execution_count": 72,
   "id": "1ebd5060-feed-4e49-bf8c-ef23b73f088d",
   "metadata": {},
   "outputs": [
    {
     "name": "stdout",
     "output_type": "stream",
     "text": [
      "Does the sequence begin with a start codon?\n",
      " True\n"
     ]
    }
   ],
   "source": [
    "print(\"Does the sequence begin with a start codon?\\n\",\n",
    "      protein_seq.startswith(\"M\"))"
   ]
  },
  {
   "cell_type": "code",
   "execution_count": null,
   "id": "027f55b1-df33-4e46-9c87-8f47356ecf66",
   "metadata": {},
   "outputs": [],
   "source": [
    "# how to check the codon table for RNA virus?\n",
    "\n",
    "#print(CodonTable.unambiguous_dna_by_id[1])"
   ]
  },
  {
   "cell_type": "code",
   "execution_count": 73,
   "id": "16ea0c76-8404-4d5d-9494-9ecb5d0dfdc5",
   "metadata": {},
   "outputs": [
    {
     "name": "stdout",
     "output_type": "stream",
     "text": [
      "Protein sequence length in amino acids 7057\n"
     ]
    }
   ],
   "source": [
    "print(\"Protein sequence length in amino acids\", len(protein_seq))"
   ]
  },
  {
   "cell_type": "code",
   "execution_count": 77,
   "id": "2c8c79df-882f-441c-a80c-82d0329e9ef0",
   "metadata": {
    "tags": []
   },
   "outputs": [
    {
     "data": {
      "text/plain": [
       "OrderedDict([('gene', ['ORF1ab']),\n",
       "             ('ribosomal_slippage', ['']),\n",
       "             ('codon_start', ['1']),\n",
       "             ('product', ['ORF1ab polyprotein']),\n",
       "             ('protein_id', ['QWU58936.1']),\n",
       "             ('translation',\n",
       "              ['MESLVPGFNEKTHVQLSLPVLQVRDVLVRGFGDSVEEVLSEARQHLKDGTCGLVEVEKGVLPQLEQPYVFIKRSDARTAPHGHVMVELVAELEGIQYGRSGETLGVLVPHVGEIPVAYRKVLLRKNGNKGAGGHSYGADLKSFDLGDELGTDPYEDFQENWNTKHSSGVTRELMRELNGGAYTRYVDNNFCGPDGYPLECIKDLLARAGKASCTLSEQLDFIDTKRGVYCCREHEHEIAWYTERSEKSYELQTPFEIKLAKKFDTFNGECPNFVFPLNSIIKTIQPRVEKKKLDGFMGRIRSVYPVASPNECNQMCLSTLMKCDHCGETSWQTGDFVKATCEFCGTENLTKEGATTCGYLPQNAVVKIYCPACHNSEVGPEHSLAEYHNESGLKTILRKGGRTIAFGGCVFSYVGCHNKCAYWVPRASANIGCNHTGVVGEGSEGLNDNLLEILQKEKVNINIVGDFKLNEEIAIILASFSASTSAFVETVKGLDYKAFKQIVESCGNFKVTKGKAKKGAWNIGEQKSILSPLYAFASEAARVVRSIFSRTLETAQNSVRVLQKAAITILDGISQYSLRLIDAMMFTSDLATNNLVVMAYITGGVVQLTSQWLTNIFGTVYEKLKPVLDWLEEKFKEGVEFLRDGWEIVKFISTCACEIVGGQIVTCAKEIKESVQTFFKLVNKFLALCADSIIIGGAKLKALNLGETFVTHSKGLYRKCVKSREETGLLMPLKAPKEIIFLEGETLPTEVLTEEVVLKTGDLQPLEQPTSEAVEAPLVGTPVCINGLMLLEIKDTEKYCALAPNMMVTNNTFTLKGGAPTKVTFGDDTVIEVQGYKSVNITFELDERIDKVLNEKCSAYTVELGTEVNEFACVVADAVIKTLQPVSELLTPLGIDLDEWSMATYYLFDESGEFKLASHMYCSFYPPDEDEEEGDCEEEEFEPSTQYEYGTEDDYQGKPLEFGATSAALQPEEEQEEDWLDDDSQQTVGQQDGSEDNQTTIIQTIVEVQPQLEMELTPVVQTIEVNSFSGYLKLTDNVYIKNADIVEEAKKVKPTVVVNAANVYLKHGGGVAGALNKATNNAMQVESDDYIATNGPLKVGGSCVLSGHNLAKHCLHVVGPNVNKGEDIQLLKSAYENFNQHEVLLAPLLSAGIFGADPIHSLRVCVDTVRTNVYLAVFDKNLYDKLVSSFLEMKSEKQVEQKIAEIPKEEVKPFITESKPSVEQRKQDDKKIKACVEEVTTTLEETKFLTENLLLYIDINGNLHPDSATLVSDIDITFLKKDAPYIVGDVVQEGVLTAVVIPTKKAGGTTEMLAKALRKVPTDNYITTYPGQGLNGYTVEEAKTVLKKCKSAFYILPSIISNEKQEILGTVSWNLREMLAHAEETRKLMPVCVETKAIVSTIQRKYKGIKIQEGVVDYGARFYFYTSKTTVASLINTLNDLNETLVTMPLGYVTHGLNLEEAARYMRSLKVPATVSVSSPDAVTAYNGYLTSSSKTPEEHFIETISLAGSYKDWSYSGQSTQLGIEFLKRGDKSVYYTSNPTTFHLDGEVITFDNLKTLLSLREVRTIKVFTTVDNINLHTQVVDMSMTYGQQFGPTYLDGADVTKIKPHXXXXXKTFYVXPNDDTLRVEAFEYYHTTDPSFLGRXXXXXXXXXXWKYPQVNGLTSIKWADNNCYLATALLTLQQIELKFNPPALQDAYYRARAGEADNFCALILAYCNKTVGELGDVRETMSYLFQHANLDSCKRVLNVVCKTCGQQQTTLKGVEAVMYMGTLSYEQFKKGVQIPCTCGKQATKYLVQQESPFVMMSAPPAQYELKHGTFTCASEYTGNYQCGHYKHITSKETLYCIDGALLTKSSEYKGPITDVFYKENSYTTTIKPVTYKLDGVVCTEIDPKLDNYYKKDNSYFTEQPIDLVPNQPYPNASFDNFKFVCDNIKFADDLNQLTGYKKPASRELKVTFFPDLNGDVVAIDYKHYTPSFKKGAKLLHKPIVWHVNNATNKATYKPNTWCIRCLWSTKPVETSNSFDVLKSEDAQGMDNLACEDLKPVSEEVVENPTIQKDVLECNVKTTEVVGDIILKPANNSLKITEEVGHTDLMAAYVDNSSLTIKKPNELSRVLGLKTLATHGLAAVNSVPWDTIANYAKPFLNKVVSTTTNIVTRCLNRVCTNYMPYFFTLLLQLCTFTRSTNSRIKASMPTTIAKNTVKSVGKFCLEASFNYLKSPNFSKLINITIWFLLLSVCLGSLIYSTAALGVLMSNLGMPSYCTGYREGYLNSTNVTIATYXXXXXXXXXXXXXXXXXXXXXXXXXXXXXXXXXXXXXXXXXXXXXXXXXXXXXXXXXXXXXXXXXXXXFFSYFAVHFISNSWLMWLIINLVQMAPISAMVRMYIFFASFYYVWKSYVHVVDGCNSSTCMMCYKRNRATRVECTTIVNGVRRSFYVYANGGKGFCKLHNWNCVNCDTFCAGSTFISDEVARDLSLQFKRPINPTDQSSYIVDSVTVKNGSIHLYFDKAGQKTYERHSLSHFVNLDNLRANNTKGSLPINVIVFDGKSKCEESSAKSASVYYSQLMCQPILLLDQALVSDVGDSAEVAVKMFDAYVNTFSSTFNVPMEKLKTLVATAEAELAKNVSLDNVLSTFISAARQGFVDSDVETKDVVECLKLSHQSDIEVTGDSCNNYMLTYNKVENMTPRDLGACIDCSARHINAQVAKSHNIALIWNVKDFMSLSEQLRKQIRSAAKKNNLPFKLTCATTRQVVNVVTTKIALKGGKIVNNWLKQLIKVTLVFLFVAAIFYLITPVHVMSKHTDFSSEIIGYKAIDGGVTRDIASTDTCFANKHADFDTWFSQRGGSYTNDKACPLIAAVITREVGFVVPGLPGTILRTTNGDFLHFLPRVFSAVGNICYTPSKLIEYTDFATSACVLAAECTIFKDASGKPVPYCYDTNVLEGSVAYESLRPDTRYVLMDGSIIQFPNTYLEGSVRVVTTFDSEYCRHGTCERSEAGVCVSTSGRWVLNNDYYRSLPGVFCGVDAVNLLTNMFTPLIQPIGALDISASIVAGGIVAIVVTCLAYYFMRFRRAFGEYSHVVAFNTLLFLMSFTVLCLTPVYSFLPGVYSVIYLYLTFYLTNDVSFLAHIQWMVMFTPLVPFWITIAYIICISTKHFYWFFSNYLKRRVVFNGVSFSTFEEAALCTFLLNKEMYLKLRSDVLLPLTQYNRYLALYNKYKYFSGAMDTTSYREAACCHLAKALNDFSNSGSDVLYQPPQTSITSAVLQSGFRKMAFPSGKVEGCMVQVTCGTTTLNGLWLDDVVYCPRHVICTSEDMLNPNYEDLLIRKSNHNFLVQAGNVQLRVIGHSMQNCVLKLKVDTANPKTPKYKFVRIQPGQTFSVLACYNGSPSGVYQCAMRPNFTIKGSFLNGSCGSVGFNIDYDCVSFCYMHHMELPTGVHAGTDLEGNFYGPFVDRQTAQAAGTDTTITVNVLAWLYAAVINGDRWFLNRFTTTLNDFNLVAMKYNYEPLTQDHVDILGPLSAQTGIAVLDMCASLKELLQNGMNGRTILGSALLEDEFTPFDVVRQCSGVTFQSAVKRTIKGTHHWLLLTILTSLLVLVQSTQWSLFFFLYENAFLPFAMGIIAMSAFAMMFVKHKHAFLCLFLLPSLATVAYFNMVYMPASWVMRIMTWLDMVDTSLKLKDCVMYASAVVLLILMTARTVYDDGARRVWTLMNVLTLVYKVYYGNALDQAISMWALIISVTSNYSGVVTTVMFLARGIVFMCVEYCPIFFITGNTLQCIMLVYCFLGYFCTCYFGLFCLLNRYFRLTLGVYDYLVSTQEFRYMNSQGLLPPKNSIDAFKLNIKLLGVGGKPCIKVATVQSKMSDVKCTSVVLLSVLQQLRVESSSKLWAQCVQLHNDILLAKDTTEAFEKMVSLLSVLLSMQGAVDINKLCEEMLDNRATLQAIASEFSSLPSYAAFATAQEAYEQAVANGDSEVVLKKLKKSLNVAKSEFDRDAAMQRKLEKMADQAMTQMYKQARSEDKRAKVTSAMQTMLFTMLRKLDNDALNNIINNARDGCVPLNIIPLTTAAKLMVVIPDYNTYKNTCDGTTFTYASALWEIQQVVDADSKIVQLSEISMDNSPNLAWPLIVTALRANSAVKLQNNELSPVALRQMSCAAGTTQTACTDDNALAYYNTTKGGRFVLALLSDLQDLKWARFPKSDGTGTIYTELEPPCRFVTDTPKGPKVKYLYFIKGLNNLNRGMVLGSLAATVRLQAGNATEVPANSTVLSFCAFAVDAAKAYKDYLASGGQPITNCVKMLCTHTGTGQAITVTPEANMDQESFGGASCCLYCRCHIDHPNPKGFCDLKGKYVQIPTTCANDPVGFTLKNTVCTVCGMWKGYGCSCDQLREPMLQSADAQSFLNRVCGVSAARLTPCGTGTSTDVVYRAFDIYNDKVAGFAKFLKTNCCRFQEKDEDDNLIDSYFVVKRHTFSNYQHEETIYNLLKDCPAVAKHDFFKFRIDGDMVPHISRQRLTKYTMADLVYALRHFDEGNCDTLKEILVTYNCCDDDYFNKKDWYDFVENPDILRVYANLGERVRQALLKTVQFCDAMRNAGIVGVLTLDNQDLNGNWYDFGDFIQTTPGSGVPVVDSYYSLLMPILTLTRALTAESHVDTDLTKPYIKWDLLKYDFTEERLKLFDRYFKYWDQTYHPNCVNCLDDRCILHCANFNVLFSTVFPLTSFGPLVRKIFVDGVPFVVSTGYHFRELGVVHNQDVNLHSSRLSFKELLVYAADPAMHAASGNLLLDKRTTCFSVAALTNNVAFQTVKPGNFNKDFYDFAVSKGFFKEGSSVELKHFFFAQDGNAAISDYDYYRYNLPTMCDIRQLLFVVEVVDKYFDCYDGGCINANQVIVNNLDKSAGFPFNKWGKARLYYDSMSYEDQDALFAYTKRNVIPTITQMNLKYAISAKNRARTVAGVSICSTMTNRQFHQKLLKSIAATRGATVVIGTSKFYGGWHNMLKTVYSDVENPHLMGWDYPKCDRAMPNMLRIMASLVLARKHTTCCSLSHRFYRLANECAQVLSEMVMCGGSLYVKPGGTSSGDATTAYANSVFNICQAVTANVNALLSTDGNKIADKYVRNLQHRLYECLYRNRDVDTDFVNEFYAYLRKHFSMMILSDDAVVCFNSTYASQGLVASIKNFKSVLYYQNNVFMSEAKCWTETDLTKGPHEFCSQHTMLVKQGDDYVYLPYPDPSRILGAGCFVDDIVKTDGTLMIERFVSLAIDAYPLTKHPNQEYADVFHLYLQYIRKLHDELTGHMLDMYSVMLTNDNTSRYWEPEFYEAMYTPHTVLQAVGACVLCNSQTSLRCGACIRRPFLCCKCCYDHVISTSHKLVLSVNPYVCNAPGCDVTDVTQLYLGGMSYYCKSHKPPISFPLCANGQVFGLYKNTCVGSDNVTDFNAIATCDWTNAGDYILANTCTERLKLFAAETLKATEETFKLSYGIATVREVLSDRELHLSWEVGKPRPPLNRNYVFTGYRVTKNSKVQIGEYTFEKGDYGDAVVYRGTTTYKLNVGDYFVLTSHTVMPLSAPTLVPQEHYVRITGLYPTLNISDEFSSNVANYQKVGMQKYSTLQGPPGTGKSHFAIGLALYYPSARIVYTACSHAAVDALCEKALKYLPIDKCSRIIPARARVECFDKFKVNSTLEQYVFCTVNALPETTADIVVFDEISMATNYDLSVVNARLRAKHYVYIGDPAQLPAPRTLLTKGTLEPEYFNSVCRLMKTIGPDMFLGTCRRCPAEIVDTVSALVYDNKLKAHKDKSAQCFKMFYKGVITHDVSSAINRPQIGVVREFLTRNPAWRKAVFISPYNSQNAVASKILGLPTQTVDSSQGSEYDYVIFTQTTETAHSCNVNRFNVAITRAKVGILCIMSDRDLYDKLQFTSLEIPRRNVATLQAENVTGLFKDCSKVITGLHPTQAPTHLSVDTKFKTEGLCVDIPGIPKDMTYRRLISMMGFKMNYQVNGYPNMFITREEAIRHVRAWIGFDVEGCHATREAVGTNLPLQLGFSTGVNLVAVPTGYVDTPNNTDFSRVSAKPPPGDQFKHLIPLMYKGLPWNVVRIKIVQMLSDTLKNLSDRVVFVLWAHGFELTSMKYFVKIGPERTCCLCDRRATCFSTASDTYACWHHSIGFDYVYNPFMIDVQQWGFTGNLQSNHDLYCQVHGNAHVASCDAIMTRCLAVHECFVKRVDWTIEYPIIGDELKINAACRKVQHMVVKAALLADKFPVLHDIGNPKAIKCVPQADVEWKFYDAQPCSDKAYKIEELFYSYATHSDKFTDGVCLFWNCNVDRYPANSIVCRFDTRVLSNLNLPGCDGGSLYVNKHAFHTPAFDKSAFVNLKQLPFFYYSDSPCESHGKQVVSDIDYVPLKSATCITRCNLGGAVCRHHANEXXLYLDAYNMMISAGFSLWVYKQFDTYNLWNTFTRLQSLENVAFNVVNKGHFDGQQGEVPVSIINNTVYTKVDGVDVELFENKTTLPVNVAFELWAKRNIKPVPEVKILNNLGVDIAANTVIWDYKRDAPAHISTIGVCSMTDIAKKPTETICAPLTVFFDGRVDGQVDLFRNARNGVLITEGSVKGLQPSVGPKQASLNGVTLIGEAVKTQFNYYKKVDGVVQQLPETYFTQSRNLQEFKPRSQMEIDFLEXXXXXXXXXYKLEGYAFEHIVYGDFSHSXLGGLXXXXXXXKRFKESPFELEDFIPMDSTVKNYFITDAQTGSSKCVCSVIDLLLDDFVEIIKSQDLSVVSKVVKVTIDYTEISFMLWCKDGHVETFYPKLQSSQAWQPGVAMPNLYKMQRMLLEKCDLQNYGDSATLPKGIMMNVAKYTQLCQYLNTLTLAVPYNMRVIHFGAGSDKGVAPGTAVLRQWLPTGTLLVDSDLNDFVSDADSTLIVDCATVHTANKWDLIISDMYDPKTKNVTKENDSKEGFFTYICGFIQQKLALGGSVAIKITXXXXXXXXXXXXXXXXXXXAFVTNVNASSSEAFLIGCNYLXXXXXXXXXXXXXXXXXXXXXXNPXXXXXYSLFXXXXXXXXXXXXAVMSL'])])"
      ]
     },
     "execution_count": 77,
     "metadata": {},
     "output_type": "execute_result"
    }
   ],
   "source": [
    "CDSs[0].qualifiers"
   ]
  },
  {
   "cell_type": "code",
   "execution_count": 74,
   "id": "c863eace-bc50-402e-8c58-e26f75c67cec",
   "metadata": {},
   "outputs": [
    {
     "data": {
      "text/plain": [
       "['ORF1ab polyprotein']"
      ]
     },
     "execution_count": 74,
     "metadata": {},
     "output_type": "execute_result"
    }
   ],
   "source": [
    "CDSs[0].qualifiers[\"product\"] #what is it?"
   ]
  },
  {
   "cell_type": "code",
   "execution_count": 78,
   "id": "731f232e-8c23-4eac-8309-b7ab4244511d",
   "metadata": {},
   "outputs": [
    {
     "data": {
      "text/plain": [
       "Seq('CCAACCAACUUUCGAUCUCUUGUAGAUCUGUUCUCUAAACGAACUUUAAAAUCU...AAG')"
      ]
     },
     "execution_count": 78,
     "metadata": {},
     "output_type": "execute_result"
    }
   ],
   "source": [
    "# Transcribe (DNA to mRNA) ## should change Thymine to Uracil\n",
    "ncov_dna = genbank_record.seq\n",
    "ncov_mRNA = ncov_dna.transcribe()\n",
    "ncov_mRNA"
   ]
  },
  {
   "cell_type": "code",
   "execution_count": 79,
   "id": "253a7380-38e5-4ce8-af34-8ccc2b8f0afd",
   "metadata": {},
   "outputs": [
    {
     "data": {
      "text/plain": [
       "Seq('PTNFRSLVDLFSKRTLKSVWLSLGCMLSALTQYN**LITVVDRTRVTRLSSAGC...IWK')"
      ]
     },
     "execution_count": 79,
     "metadata": {},
     "output_type": "execute_result"
    }
   ],
   "source": [
    "# Translate to Protein/Amino Acids (mRNA to AA)\n",
    "ncov_aa = ncov_mRNA.translate()\n",
    "ncov_aa"
   ]
  },
  {
   "cell_type": "code",
   "execution_count": 80,
   "id": "3892cb00-d56d-4c6c-ad85-e819bb18caf7",
   "metadata": {},
   "outputs": [
    {
     "data": {
      "text/plain": [
       "9916.0"
      ]
     },
     "execution_count": 80,
     "metadata": {},
     "output_type": "execute_result"
    }
   ],
   "source": [
    "#  Check if the codon numbers are true by dividing it by 3 for codon\n",
    "len(ncov_mRNA)/3"
   ]
  },
  {
   "cell_type": "code",
   "execution_count": 81,
   "id": "51697a6c-62dc-43af-b570-694b8f94493f",
   "metadata": {
    "tags": []
   },
   "outputs": [
    {
     "data": {
      "text/html": [
       "<div>\n",
       "<style scoped>\n",
       "    .dataframe tbody tr th:only-of-type {\n",
       "        vertical-align: middle;\n",
       "    }\n",
       "\n",
       "    .dataframe tbody tr th {\n",
       "        vertical-align: top;\n",
       "    }\n",
       "\n",
       "    .dataframe thead th {\n",
       "        text-align: right;\n",
       "    }\n",
       "</style>\n",
       "<table border=\"1\" class=\"dataframe\">\n",
       "  <thead>\n",
       "    <tr style=\"text-align: right;\">\n",
       "      <th></th>\n",
       "      <th>Amino Acids</th>\n",
       "      <th>Length</th>\n",
       "    </tr>\n",
       "  </thead>\n",
       "  <tbody>\n",
       "    <tr>\n",
       "      <th>0</th>\n",
       "      <td>PTNFRSLVDLFSKRTLKSVWLSLGCMLSALTQYN</td>\n",
       "      <td>34</td>\n",
       "    </tr>\n",
       "    <tr>\n",
       "      <th>1</th>\n",
       "      <td></td>\n",
       "      <td>0</td>\n",
       "    </tr>\n",
       "    <tr>\n",
       "      <th>2</th>\n",
       "      <td>LITVVDRTRVTRLSSAGCLRFRPCCSRSSAHLGFVRV</td>\n",
       "      <td>37</td>\n",
       "    </tr>\n",
       "    <tr>\n",
       "      <th>3</th>\n",
       "      <td>PKGKMESLVPGFNEKTHVQLSLPVLQVRDVLVRGFGDSVEEVLSEA...</td>\n",
       "      <td>4406</td>\n",
       "    </tr>\n",
       "    <tr>\n",
       "      <th>4</th>\n",
       "      <td>VQPVLHRAAQALVLMSYTGLLTSTMIK</td>\n",
       "      <td>27</td>\n",
       "    </tr>\n",
       "  </tbody>\n",
       "</table>\n",
       "</div>"
      ],
      "text/plain": [
       "                                         Amino Acids  Length\n",
       "0                 PTNFRSLVDLFSKRTLKSVWLSLGCMLSALTQYN      34\n",
       "1                                                          0\n",
       "2              LITVVDRTRVTRLSSAGCLRFRPCCSRSSAHLGFVRV      37\n",
       "3  PKGKMESLVPGFNEKTHVQLSLPVLQVRDVLVRGFGDSVEEVLSEA...    4406\n",
       "4                        VQPVLHRAAQALVLMSYTGLLTSTMIK      27"
      ]
     },
     "execution_count": 81,
     "metadata": {},
     "output_type": "execute_result"
    }
   ],
   "source": [
    "# Find all the amino acids\n",
    "# The stop codons are represented by the asterisk (*). This tells the ribosome to stop the building of that specific protein at that site. \n",
    "# With that knowledge lets split the sequence into its separate proteins and organize it in a data frame:\n",
    "\n",
    "aa = ncov_aa.split(\"*\")\n",
    "\n",
    "#let's convert the aminoacids to string format and store in a list, so we can access them easily next time\n",
    "ncov = [str(i) for i in aa]\n",
    "ncov_len = [len(str(i)) for i in aa] \n",
    "\n",
    "#store the amino acid chains into a df\n",
    "import pandas as pd\n",
    "df = pd.DataFrame({'Amino Acids': ncov, 'Length': ncov_len})\n",
    "df.head()\n"
   ]
  },
  {
   "cell_type": "code",
   "execution_count": 82,
   "id": "d227e807-10a3-45e8-b0ef-98515438e3e5",
   "metadata": {
    "tags": []
   },
   "outputs": [
    {
     "data": {
      "text/html": [
       "<div>\n",
       "<style scoped>\n",
       "    .dataframe tbody tr th:only-of-type {\n",
       "        vertical-align: middle;\n",
       "    }\n",
       "\n",
       "    .dataframe tbody tr th {\n",
       "        vertical-align: top;\n",
       "    }\n",
       "\n",
       "    .dataframe thead th {\n",
       "        text-align: right;\n",
       "    }\n",
       "</style>\n",
       "<table border=\"1\" class=\"dataframe\">\n",
       "  <thead>\n",
       "    <tr style=\"text-align: right;\">\n",
       "      <th></th>\n",
       "      <th>Amino Acids</th>\n",
       "      <th>Length</th>\n",
       "    </tr>\n",
       "  </thead>\n",
       "  <tbody>\n",
       "    <tr>\n",
       "      <th>3</th>\n",
       "      <td>PKGKMESLVPGFNEKTHVQLSLPVLQVRDVLVRGFGDSVEEVLSEA...</td>\n",
       "      <td>4406</td>\n",
       "    </tr>\n",
       "    <tr>\n",
       "      <th>167</th>\n",
       "      <td>XXXXXXXXXXXXXXXXXXXXXXXXXXXXXXXXXXXXXXXXXXXXXX...</td>\n",
       "      <td>1309</td>\n",
       "    </tr>\n",
       "    <tr>\n",
       "      <th>215</th>\n",
       "      <td>KNLALLEHTRAIHHFXXXXXXXXXXXXXXXXXXXXXXXXXXXXXXX...</td>\n",
       "      <td>121</td>\n",
       "    </tr>\n",
       "    <tr>\n",
       "      <th>232</th>\n",
       "      <td>MDPKISEMHPALRLVDPQIQLAVTRMENAVGRDQNNVGPKVYPIIL...</td>\n",
       "      <td>97</td>\n",
       "    </tr>\n",
       "    <tr>\n",
       "      <th>235</th>\n",
       "      <td>IHQKITLAPAILLTMLQSCYNFLKEQHCQKASTQKGAEAAVKPLLV...</td>\n",
       "      <td>87</td>\n",
       "    </tr>\n",
       "    <tr>\n",
       "      <th>47</th>\n",
       "      <td>VKWSCVAVHYMLNQVEPHQEMPQLLMLIVFLTFVKLSRPMLMHFYL...</td>\n",
       "      <td>78</td>\n",
       "    </tr>\n",
       "    <tr>\n",
       "      <th>196</th>\n",
       "      <td>VNFPLAVMASNFSLFCACCCLQNKLDHRWNCYRNGLSCRLDVAQLL...</td>\n",
       "      <td>66</td>\n",
       "    </tr>\n",
       "    <tr>\n",
       "      <th>68</th>\n",
       "      <td>LTPVLKDSSFLQQKRSKLLRRHLNCLMVLLLYVKCCLTENYIFHGK...</td>\n",
       "      <td>64</td>\n",
       "    </tr>\n",
       "    <tr>\n",
       "      <th>120</th>\n",
       "      <td>KNYSILMPHILTNSQMVYAYFGIAMSIDILLIPLFVDLTLECYLTL...</td>\n",
       "      <td>57</td>\n",
       "    </tr>\n",
       "    <tr>\n",
       "      <th>240</th>\n",
       "      <td>ISILTHTKHSHQQSLKRTKRRRLMKLKPYRRDRRNSKLXLFFLLQI...</td>\n",
       "      <td>57</td>\n",
       "    </tr>\n",
       "  </tbody>\n",
       "</table>\n",
       "</div>"
      ],
      "text/plain": [
       "                                           Amino Acids  Length\n",
       "3    PKGKMESLVPGFNEKTHVQLSLPVLQVRDVLVRGFGDSVEEVLSEA...    4406\n",
       "167  XXXXXXXXXXXXXXXXXXXXXXXXXXXXXXXXXXXXXXXXXXXXXX...    1309\n",
       "215  KNLALLEHTRAIHHFXXXXXXXXXXXXXXXXXXXXXXXXXXXXXXX...     121\n",
       "232  MDPKISEMHPALRLVDPQIQLAVTRMENAVGRDQNNVGPKVYPIIL...      97\n",
       "235  IHQKITLAPAILLTMLQSCYNFLKEQHCQKASTQKGAEAAVKPLLV...      87\n",
       "47   VKWSCVAVHYMLNQVEPHQEMPQLLMLIVFLTFVKLSRPMLMHFYL...      78\n",
       "196  VNFPLAVMASNFSLFCACCCLQNKLDHRWNCYRNGLSCRLDVAQLL...      66\n",
       "68   LTPVLKDSSFLQQKRSKLLRRHLNCLMVLLLYVKCCLTENYIFHGK...      64\n",
       "120  KNYSILMPHILTNSQMVYAYFGIAMSIDILLIPLFVDLTLECYLTL...      57\n",
       "240  ISILTHTKHSHQQSLKRTKRRRLMKLKPYRRDRRNSKLXLFFLLQI...      57"
      ]
     },
     "execution_count": 82,
     "metadata": {},
     "output_type": "execute_result"
    }
   ],
   "source": [
    "# Let's find the largest amino acid sequence, displaying top 10 aminoacids\n",
    "\n",
    "df.nlargest(10, \"Length\")\n"
   ]
  },
  {
   "cell_type": "code",
   "execution_count": 83,
   "id": "f85197e4-4948-4f0c-ae95-48770a3c73e2",
   "metadata": {},
   "outputs": [
    {
     "data": {
      "text/html": [
       "<div>\n",
       "<style scoped>\n",
       "    .dataframe tbody tr th:only-of-type {\n",
       "        vertical-align: middle;\n",
       "    }\n",
       "\n",
       "    .dataframe tbody tr th {\n",
       "        vertical-align: top;\n",
       "    }\n",
       "\n",
       "    .dataframe thead th {\n",
       "        text-align: right;\n",
       "    }\n",
       "</style>\n",
       "<table border=\"1\" class=\"dataframe\">\n",
       "  <thead>\n",
       "    <tr style=\"text-align: right;\">\n",
       "      <th></th>\n",
       "      <th>Amino Acids</th>\n",
       "      <th>Length</th>\n",
       "    </tr>\n",
       "  </thead>\n",
       "  <tbody>\n",
       "    <tr>\n",
       "      <th>1</th>\n",
       "      <td></td>\n",
       "      <td>0</td>\n",
       "    </tr>\n",
       "    <tr>\n",
       "      <th>25</th>\n",
       "      <td></td>\n",
       "      <td>0</td>\n",
       "    </tr>\n",
       "    <tr>\n",
       "      <th>42</th>\n",
       "      <td></td>\n",
       "      <td>0</td>\n",
       "    </tr>\n",
       "    <tr>\n",
       "      <th>49</th>\n",
       "      <td></td>\n",
       "      <td>0</td>\n",
       "    </tr>\n",
       "    <tr>\n",
       "      <th>128</th>\n",
       "      <td></td>\n",
       "      <td>0</td>\n",
       "    </tr>\n",
       "    <tr>\n",
       "      <th>147</th>\n",
       "      <td></td>\n",
       "      <td>0</td>\n",
       "    </tr>\n",
       "    <tr>\n",
       "      <th>153</th>\n",
       "      <td></td>\n",
       "      <td>0</td>\n",
       "    </tr>\n",
       "    <tr>\n",
       "      <th>154</th>\n",
       "      <td></td>\n",
       "      <td>0</td>\n",
       "    </tr>\n",
       "    <tr>\n",
       "      <th>178</th>\n",
       "      <td></td>\n",
       "      <td>0</td>\n",
       "    </tr>\n",
       "    <tr>\n",
       "      <th>179</th>\n",
       "      <td></td>\n",
       "      <td>0</td>\n",
       "    </tr>\n",
       "  </tbody>\n",
       "</table>\n",
       "</div>"
      ],
      "text/plain": [
       "    Amino Acids  Length\n",
       "1                     0\n",
       "25                    0\n",
       "42                    0\n",
       "49                    0\n",
       "128                   0\n",
       "147                   0\n",
       "153                   0\n",
       "154                   0\n",
       "178                   0\n",
       "179                   0"
      ]
     },
     "execution_count": 83,
     "metadata": {},
     "output_type": "execute_result"
    }
   ],
   "source": [
    "# Let's find the shortest amino acid sequence, displaying top 10 aminoacids\n",
    "\n",
    "df.nsmallest(10, \"Length\") #why do we even have these?\n"
   ]
  },
  {
   "cell_type": "code",
   "execution_count": 84,
   "id": "a80cdfc0-9d2d-49ed-b52a-e3221c94603a",
   "metadata": {},
   "outputs": [
    {
     "data": {
      "text/plain": [
       "[('L', 1221),\n",
       " ('V', 754),\n",
       " ('T', 680),\n",
       " ('S', 657),\n",
       " ('I', 553),\n",
       " ('K', 534),\n",
       " ('A', 500),\n",
       " ('N', 475),\n",
       " ('F', 429),\n",
       " ('X', 417)]"
      ]
     },
     "execution_count": 84,
     "metadata": {},
     "output_type": "execute_result"
    }
   ],
   "source": [
    "# What is the most frequent amino acid?\n",
    "from collections import Counter\n",
    "Counter(ncov_aa).most_common(10)"
   ]
  },
  {
   "cell_type": "code",
   "execution_count": 89,
   "id": "f10c8d2e-7fa1-410f-a51d-962a4fb645ff",
   "metadata": {},
   "outputs": [
    {
     "name": "stdout",
     "output_type": "stream",
     "text": [
      "Total aminoacids: 249\n"
     ]
    },
    {
     "data": {
      "text/html": [
       "<div>\n",
       "<style scoped>\n",
       "    .dataframe tbody tr th:only-of-type {\n",
       "        vertical-align: middle;\n",
       "    }\n",
       "\n",
       "    .dataframe tbody tr th {\n",
       "        vertical-align: top;\n",
       "    }\n",
       "\n",
       "    .dataframe thead th {\n",
       "        text-align: right;\n",
       "    }\n",
       "</style>\n",
       "<table border=\"1\" class=\"dataframe\">\n",
       "  <thead>\n",
       "    <tr style=\"text-align: right;\">\n",
       "      <th></th>\n",
       "      <th>sequence</th>\n",
       "      <th>sequence_str</th>\n",
       "      <th>length</th>\n",
       "    </tr>\n",
       "  </thead>\n",
       "  <tbody>\n",
       "    <tr>\n",
       "      <th>0</th>\n",
       "      <td>(P, T, N, F, R, S, L, V, D, L, F, S, K, R, T, ...</td>\n",
       "      <td>PTNFRSLVDLFSKRTLKSVWLSLGCMLSALTQYN</td>\n",
       "      <td>34</td>\n",
       "    </tr>\n",
       "    <tr>\n",
       "      <th>1</th>\n",
       "      <td>()</td>\n",
       "      <td></td>\n",
       "      <td>0</td>\n",
       "    </tr>\n",
       "    <tr>\n",
       "      <th>2</th>\n",
       "      <td>(L, I, T, V, V, D, R, T, R, V, T, R, L, S, S, ...</td>\n",
       "      <td>LITVVDRTRVTRLSSAGCLRFRPCCSRSSAHLGFVRV</td>\n",
       "      <td>37</td>\n",
       "    </tr>\n",
       "    <tr>\n",
       "      <th>3</th>\n",
       "      <td>(P, K, G, K, M, E, S, L, V, P, G, F, N, E, K, ...</td>\n",
       "      <td>PKGKMESLVPGFNEKTHVQLSLPVLQVRDVLVRGFGDSVEEVLSEA...</td>\n",
       "      <td>4406</td>\n",
       "    </tr>\n",
       "    <tr>\n",
       "      <th>4</th>\n",
       "      <td>(V, Q, P, V, L, H, R, A, A, Q, A, L, V, L, M, ...</td>\n",
       "      <td>VQPVLHRAAQALVLMSYTGLLTSTMIK</td>\n",
       "      <td>27</td>\n",
       "    </tr>\n",
       "  </tbody>\n",
       "</table>\n",
       "</div>"
      ],
      "text/plain": [
       "                                            sequence  \\\n",
       "0  (P, T, N, F, R, S, L, V, D, L, F, S, K, R, T, ...   \n",
       "1                                                 ()   \n",
       "2  (L, I, T, V, V, D, R, T, R, V, T, R, L, S, S, ...   \n",
       "3  (P, K, G, K, M, E, S, L, V, P, G, F, N, E, K, ...   \n",
       "4  (V, Q, P, V, L, H, R, A, A, Q, A, L, V, L, M, ...   \n",
       "\n",
       "                                        sequence_str  length  \n",
       "0                 PTNFRSLVDLFSKRTLKSVWLSLGCMLSALTQYN      34  \n",
       "1                                                          0  \n",
       "2              LITVVDRTRVTRLSSAGCLRFRPCCSRSSAHLGFVRV      37  \n",
       "3  PKGKMESLVPGFNEKTHVQLSLPVLQVRDVLVRGFGDSVEEVLSEA...    4406  \n",
       "4                        VQPVLHRAAQALVLMSYTGLLTSTMIK      27  "
      ]
     },
     "execution_count": 89,
     "metadata": {},
     "output_type": "execute_result"
    }
   ],
   "source": [
    "#let's put all the code in one place to identify all proteins (chains of amino acids)\n",
    "aa = ncov_aa.split('*') # * is translated stop codon\n",
    "df = pd.DataFrame(aa)\n",
    "df.describe()\n",
    "print('Total aminoacids:', len(df))\n",
    "\n",
    "def conv(item):\n",
    "    return len(item)\n",
    "\n",
    "def to_str(item):\n",
    "    return str(item)\n",
    "\n",
    "df['sequence_str'] = df[0].apply(to_str)\n",
    "\n",
    "df['length'] = df[0].apply(conv)\n",
    "df.rename(columns={0: \"sequence\"}, inplace=True)\n",
    "df.head()\n"
   ]
  },
  {
   "cell_type": "code",
   "execution_count": 90,
   "id": "00231bb1-f5c1-496b-a7a3-e3fb98c5057d",
   "metadata": {},
   "outputs": [
    {
     "name": "stdout",
     "output_type": "stream",
     "text": [
      "Total functional aminoacids: 76\n"
     ]
    },
    {
     "data": {
      "text/html": [
       "<div>\n",
       "<style scoped>\n",
       "    .dataframe tbody tr th:only-of-type {\n",
       "        vertical-align: middle;\n",
       "    }\n",
       "\n",
       "    .dataframe tbody tr th {\n",
       "        vertical-align: top;\n",
       "    }\n",
       "\n",
       "    .dataframe thead th {\n",
       "        text-align: right;\n",
       "    }\n",
       "</style>\n",
       "<table border=\"1\" class=\"dataframe\">\n",
       "  <thead>\n",
       "    <tr style=\"text-align: right;\">\n",
       "      <th></th>\n",
       "      <th>length</th>\n",
       "    </tr>\n",
       "  </thead>\n",
       "  <tbody>\n",
       "    <tr>\n",
       "      <th>count</th>\n",
       "      <td>76.000000</td>\n",
       "    </tr>\n",
       "    <tr>\n",
       "      <th>mean</th>\n",
       "      <td>110.500000</td>\n",
       "    </tr>\n",
       "    <tr>\n",
       "      <th>std</th>\n",
       "      <td>520.524287</td>\n",
       "    </tr>\n",
       "    <tr>\n",
       "      <th>min</th>\n",
       "      <td>20.000000</td>\n",
       "    </tr>\n",
       "    <tr>\n",
       "      <th>25%</th>\n",
       "      <td>24.000000</td>\n",
       "    </tr>\n",
       "    <tr>\n",
       "      <th>50%</th>\n",
       "      <td>29.500000</td>\n",
       "    </tr>\n",
       "    <tr>\n",
       "      <th>75%</th>\n",
       "      <td>42.250000</td>\n",
       "    </tr>\n",
       "    <tr>\n",
       "      <th>max</th>\n",
       "      <td>4406.000000</td>\n",
       "    </tr>\n",
       "  </tbody>\n",
       "</table>\n",
       "</div>"
      ],
      "text/plain": [
       "            length\n",
       "count    76.000000\n",
       "mean    110.500000\n",
       "std     520.524287\n",
       "min      20.000000\n",
       "25%      24.000000\n",
       "50%      29.500000\n",
       "75%      42.250000\n",
       "max    4406.000000"
      ]
     },
     "execution_count": 90,
     "metadata": {},
     "output_type": "execute_result"
    }
   ],
   "source": [
    "# Take only longer than 20\n",
    "functional_aminoacids = df.loc[df['length'] >= 20]\n",
    "print('Total functional aminoacids:', len(functional_aminoacids))\n",
    "functional_aminoacids.describe()"
   ]
  },
  {
   "cell_type": "code",
   "execution_count": 92,
   "id": "3c41819d-41ca-4fc3-9fdb-65dea164b9fc",
   "metadata": {
    "collapsed": true,
    "jupyter": {
     "outputs_hidden": true
    },
    "tags": []
   },
   "outputs": [
    {
     "data": {
      "text/plain": [
       "[Seq('PTNFRSLVDLFSKRTLKSVWLSLGCMLSALTQYN'),\n",
       " Seq(''),\n",
       " Seq('LITVVDRTRVTRLSSAGCLRFRPCCSRSSAHLGFVRV'),\n",
       " Seq('PKGKMESLVPGFNEKTHVQLSLPVLQVRDVLVRGFGDSVEEVLSEARQHLKDGT...FAV'),\n",
       " Seq('VQPVLHRAAQALVLMSYTGLLTSTMIK'),\n",
       " Seq('LVLLNS'),\n",
       " Seq('KLIVVASKKRTKMTI'),\n",
       " Seq('LILTL'),\n",
       " Seq('LRDTLSLTTNMKKQFIIYLRIVQLLLNMTSLSLE'),\n",
       " Seq('TVTWYHIYHVNVLLNTQWQTSSML'),\n",
       " Seq('GILMKVIVTH'),\n",
       " Seq('KKYLSHTIVVMMIISIKRTGMIL'),\n",
       " Seq('KTQIYYAYTPT'),\n",
       " Seq('VNVYAKLC'),\n",
       " Seq('KQYNSVMPCEMLVLLVY'),\n",
       " Seq('H'),\n",
       " Seq('IIKISMVTGMISVISYKPRQVVEFLL'),\n",
       " Seq('ILIIHC'),\n",
       " Seq('CLY'),\n",
       " Seq('P'),\n",
       " Seq('PGL'),\n",
       " Seq('LQSHMLTLT'),\n",
       " Seq('QSLTLSGIC'),\n",
       " Seq('NMTSRKRG'),\n",
       " Seq('NSLTVILNIGIRHTTQIVLTVWMTDAFCIVQTLMFYSLQCSHLQVLDH'),\n",
       " Seq(''),\n",
       " Seq('EKYLLMVFHL'),\n",
       " Seq('FQLDTTSES'),\n",
       " Seq('VLYIIRM'),\n",
       " Seq('TYIALDLVLRNYLCMLLTLLCTLLLVIYY'),\n",
       " Seq('INALRAFQ'),\n",
       " Seq('LHLLTMLLFKLSNLVILTKTSMTLLCLRVSLRKEVLLN'),\n",
       " Seq('NTSSLLRMVMLLSAIMTTIVIIYQQCVISDNYYL'),\n",
       " Seq('LKLLISTLIVTMVAVLMLTKSSSTT'),\n",
       " Seq('TNQLVFHLINGVRLDFIMIQ'),\n",
       " Seq('VMRIKMHFSHIQNVMSSLL'),\n",
       " Seq('LK'),\n",
       " Seq('ILSMPLVQRTELAP'),\n",
       " Seq('LVSLSVVL'),\n",
       " Seq('PIDSFIKNY'),\n",
       " Seq('NQ'),\n",
       " Seq('PPLEELL'),\n",
       " Seq(''),\n",
       " Seq('LEQANSMVVGTTC'),\n",
       " Seq('KLFIVM'),\n",
       " Seq('KTLILWVGIILNVIEPCLTCLELWPHLFLLANIQRVVACHTVSID'),\n",
       " Seq('LMSVLKY'),\n",
       " Seq('VKWSCVAVHYMLNQVEPHQEMPQLLMLIVFLTFVKLSRPMLMHFYLLMVTKLPI...QTL'),\n",
       " Seq('MSFTHICVNISQ'),\n",
       " Seq(''),\n",
       " Seq('YSLTMLLCVSIALMHLKV'),\n",
       " Seq('WLA'),\n",
       " Seq('RTLSQFFIIKTMFLCLKQNVGLRLTLLKDLMNFALNIQC'),\n",
       " Seq('LNRVMIMCTFLTQIHQES'),\n",
       " Seq('GPAVL'),\n",
       " Seq('MIS'),\n",
       " Seq('KQMVHL'),\n",
       " Seq('LNGSCL'),\n",
       " Seq('L'),\n",
       " Seq('MLTHLLNILIRSMLMSFICTYNT'),\n",
       " Seq('ESYMMS'),\n",
       " Seq('QDTC'),\n",
       " Seq('TCILLCLLMITPQGIGNLSFMRLCTHRIQSYRLLGLVFFAIHRLH'),\n",
       " Seq('DVVLAYVDHSYVVNAVTTMSYQHHIN'),\n",
       " Seq('SCLLIRMFAMLQVVMSQM'),\n",
       " Seq('LNFT'),\n",
       " Seq('EV'),\n",
       " Seq('AIIVNHINHPLVFHCVLMDKFLVYIKIHVLVAIMLLTLMQLQHVTGQMLVITF'),\n",
       " Seq('LTPVLKDSSFLQQKRSKLLRRHLNCLMVLLLYVKCCLTENYIFHGKLVNLDHHL...VIV'),\n",
       " Seq('LKTVKYK'),\n",
       " Seq('ESTPLKKVTMVMLLFTEVQQLTN'),\n",
       " Seq('MLVIILC'),\n",
       " Seq('HHIQ'),\n",
       " Seq('CH'),\n",
       " Seq('VHLH'),\n",
       " Seq('CHKSTMLELLAYTQHSISQMSFLAMLQIIKRLVCKSILHSRDHLVLVRVILLLA'),\n",
       " Seq('LSTTLLLA'),\n",
       " Seq('CIQLALMPLLMHYVRRH'),\n",
       " Seq('NICL'),\n",
       " Seq('INVVELYLHVLV'),\n",
       " Seq('SVLINSK'),\n",
       " Seq('IQH'),\n",
       " Seq('NSMSFVL'),\n",
       " Seq('MHCLRRQQI'),\n",
       " Seq('LSLMKFQWPQIMI'),\n",
       " Seq('VLSMPDYVLSTMCTLATLLNYLHHAHC'),\n",
       " Seq('LRAH'),\n",
       " Seq('NQNISIQCVDL'),\n",
       " Seq('KL'),\n",
       " Seq('VQTCSSELVGVVLLKLLTL'),\n",
       " Seq('VLWFMIISLKHIKTNQLNALKCFIRVLSRMMFHLQLTGHK'),\n",
       " Seq('AW'),\n",
       " Seq('ENSLHVTLLGEKLSLFHLIIHRML'),\n",
       " Seq('PQRFWDYQLKLLIHHRAQNMTMSYSLKPLKQLTLVM'),\n",
       " Seq('TDLMLLLPEQK'),\n",
       " Seq('AYFA'),\n",
       " Seq('CLIETFMTSCNLQVLKFHVGMWQLYKLKM'),\n",
       " Seq('QDSLKIVVR'),\n",
       " Seq('SLGYILHRHLHTSVLTLNSKLKVYVLTYLAYLRT'),\n",
       " Seq('PIEDSSL'),\n",
       " Seq('WVLK'),\n",
       " Seq('IIKLMVTLTCLSPAKKL'),\n",
       " Seq('DMYVHGLASMSRGVMLLEKLLVPIYLYS'),\n",
       " Seq('VFLQVLT'),\n",
       " Seq('LLYLQVMLIHLIIQIFPELVLNHRLEINLNTSYHLCTKDFLGM'),\n",
       " Seq('CV'),\n",
       " Seq('RLYKC'),\n",
       " Seq('VTHLKISLTESYLSYGHMALS'),\n",
       " Seq('HL'),\n",
       " Seq('SIL'),\n",
       " Seq('K'),\n",
       " Seq('DLSAPVVYVIDVPHAFPLLQTLMPVGIILLDLITSIIRL'),\n",
       " Seq('LMFNNGVLQVTYKATMICIVKSMVMHM'),\n",
       " Seq('LVVMQS'),\n",
       " Seq('LGV'),\n",
       " Seq('LSTSALLSVLTGLLNIL'),\n",
       " Seq('LVMN'),\n",
       " Seq('RLMRLVERFNTWLLKLHY'),\n",
       " Seq('QTNSQFFTTLVTLKLLSVYLKLM'),\n",
       " Seq('NGSSMMHSLVVTKLIK'),\n",
       " Seq('KNYSILMPHILTNSQMVYAYFGIAMSIDILLIPLFVDLTLECYLTLTCLVVMVAVCM'),\n",
       " Seq('INMHSTHQLLIKVLLLI'),\n",
       " Seq('NNYHFSITLTVHVSLMENK'),\n",
       " Seq('CQI'),\n",
       " Seq('IMYH'),\n",
       " Seq('SLLRV'),\n",
       " Seq('HVAI'),\n",
       " Seq('VVLSVDIMLMSXDCISMLIT'),\n",
       " Seq(''),\n",
       " Seq('SQLALACGFTNNLILITSGTLLQDFRV'),\n",
       " Seq('KMWLLML'),\n",
       " Seq('IRDTLMDNRVKYQFLSLITLFTQKLMVLM'),\n",
       " Seq('NCLKIKQHYLLM'),\n",
       " Seq('HLSFGLSATLNQYQR'),\n",
       " Seq('KYSIIWVWTLLLIL'),\n",
       " Seq('SGTTKEMLQHIYLLLVFVL'),\n",
       " Seq('LT'),\n",
       " Seq('PRNQLKRFVHHSLSFLMVELMVK'),\n",
       " Seq('TYLEMPVMVFLLQKVVLKVYNHL'),\n",
       " Seq('VPNKLVLMESH'),\n",
       " Seq('LEKP'),\n",
       " Seq('KHSSIIIRKLMVLSNNYLKLTLLRVEIYKNLNPGVKWKLIS'),\n",
       " Seq('NXLXXXXXXXIN'),\n",
       " Seq('KAMPSNISFMEILVIVX'),\n",
       " Seq('VVXXXXXXXLNVLRNHLLN'),\n",
       " Seq('KILFLWTVQLKTIS'),\n",
       " Seq('QMRKQVHLSVCVLLLIYYLMILLK'),\n",
       " Seq(''),\n",
       " Seq('NPKIYL'),\n",
       " Seq('FLRLSK'),\n",
       " Seq('LLTIQKFHLCFGVKMAM'),\n",
       " Seq('KHFTQNYNLVKRGNRVLLCLIFTKCKECY'),\n",
       " Seq('KSVTFKIMVIVQHYLKA'),\n",
       " Seq(''),\n",
       " Seq(''),\n",
       " Seq('MSQNILNCVNI'),\n",
       " Seq('TH'),\n",
       " Seq('H'),\n",
       " Seq('LYPII'),\n",
       " Seq('ELYILVLVLIKELHQVQLF'),\n",
       " Seq('DSGCLRVRCLSIQILMTLSLMQIQL'),\n",
       " Seq('LLIVQLYIQLINGISLLVICTTLRLKMLQKKMTLKRVFSLTFVGLYNKS'),\n",
       " Seq('LLEVPWL'),\n",
       " Seq('R'),\n",
       " Seq('XXXXXXXXXXXXXXXXXXGQPLXLM'),\n",
       " Seq('MRHHLKHF'),\n",
       " Seq('LDVIIXXXXXXXXXXXXXXXXXXXXXXXIXXXXXXILYXXXXXXXXXXXXLLLCL'),\n",
       " Seq('XXXXXXXXXXXXXXXXXXXXXXXXXXXXXXXXXXXXXXXXXXXXXXXXXXXXXX...HYT'),\n",
       " Seq('TNLWICL'),\n",
       " Seq('ESSQLEL'),\n",
       " Seq('L'),\n",
       " Seq('SKVKSRMLLLQILFALLQRYRYKPHSLSDGLLLALHFLLFFRALPKS'),\n",
       " Seq('PSKRDGN'),\n",
       " Seq('HSPRVFTLFATCCCCL'),\n",
       " Seq('QFTHTFCSLLLALKPLFSIFML'),\n",
       " Seq('STSCRV'),\n",
       " Seq('TL'),\n",
       " Seq('E'),\n",
       " Seq(''),\n",
       " Seq(''),\n",
       " Seq('GFGFAGNAVPKTHYFMMPTIFFAGILIVTTIVYLTIV'),\n",
       " Seq('LLQLSLLQVMAQQVLFLNMTTRLVVILKNGNLE'),\n",
       " Seq('KTVLYYTVTSLQTITSCTQLN'),\n",
       " Seq('VQTLVLNMLPSSSTIKLLMSLKNMSKFTQSTVHPELLIQ'),\n",
       " Seq('WNQFMMNRRRLLACLCKHKLMSTNLCTHSFRKRQVR'),\n",
       " Seq(''),\n",
       " Seq('LIAYFFFLLSWYSC'),\n",
       " Seq('LH'),\n",
       " Seq('PSLLRFDCVRTAAILLT'),\n",
       " Seq('VL'),\n",
       " Seq('NLLFTFTLVLKI'),\n",
       " Seq('ILLEFLIFWSKRTKYYISFSVWNFNFSHGRFQRYYYR'),\n",
       " Seq('RA'),\n",
       " Seq('KAP'),\n",
       " Seq('TMEPSNRFPIPYMDLSSTICLCQQE'),\n",
       " Seq('VFVYN'),\n",
       " Seq('VNFPLAVMASNFSLFCACCCLQNKLDHRWNCYRNGLSCRLDVAQLLHCFFQTVC...SRN'),\n",
       " Seq('HSSQRATPWHYSDQTASRK'),\n",
       " Seq('TRNRSCDPSWTSSYCWTPSRTL'),\n",
       " Seq('HQGPA'),\n",
       " Seq('RNHCCYITNAFLLQIGSFAACSR'),\n",
       " Seq('LRFCCIQSLQDWQL'),\n",
       " Seq('IKHRPFQ'),\n",
       " Seq('Q'),\n",
       " Seq('QYCFACTVSDNRCFISLTFRLL'),\n",
       " Seq('QRYY'),\n",
       " Seq('LL'),\n",
       " Seq('GLLKFPFGILITS'),\n",
       " Seq('TS'),\n",
       " Seq('LKIYLSH'),\n",
       " Seq('LRINILN'),\n",
       " Seq('MKSNQWRLIKRT'),\n",
       " Seq('KLFFSWH'),\n",
       " Seq(''),\n",
       " Seq('HSLLVSFITTKSVLEVQQYF'),\n",
       " Seq('KNLALLEHTRAIHHFXXXXXXXXXXXXXXXXXXXXXXXXXXXXXXXXXXXXXXX...VLT'),\n",
       " Seq('TARS'),\n",
       " Seq(''),\n",
       " Seq('NLSRLNEHEISCFLRNHHNCSCISPRM'),\n",
       " Seq('FTVMYLTSTICS'),\n",
       " Seq(''),\n",
       " Seq('PVSYSLLF'),\n",
       " Seq('MVY'),\n",
       " Seq('SRSYKISTFN'),\n",
       " Seq('IVRG'),\n",
       " Seq('GWFLITHSVHRYR'),\n",
       " Seq('LYSFLFTFYN'),\n",
       " Seq('LPGT'),\n",
       " Seq('IG'),\n",
       " Seq('SCSALFVL'),\n",
       " Seq('RPFRVS'),\n",
       " Seq('RSCCFRFHLNEQTKCL'),\n",
       " Seq('MDPKISEMHPALRLVDPQIQLAVTRMENAVGRDQNNVGPKVYPIILRLGSPLSL...TVK'),\n",
       " Seq('KISVQDGISTT'),\n",
       " Seq('ELGQKLDFPMVLTKTASYGLQLREP'),\n",
       " Seq('IHQKITLAPAILLTMLQSCYNFLKEQHCQKASTQKGAEAAVKPLLVPHHVVATV...LTD'),\n",
       " Seq('TSLRAKCLVKANNNKAKLSLRNLLLRLLRSLGKNVLPLKHTM'),\n",
       " Seq('HKLSADVVQNKPKEILGTRN'),\n",
       " Seq('SDKELITNIGRKLHNLPPALQRSSECRALAWKSHLRERG'),\n",
       " Seq('PTQVPSNWMTKIQISKIKSFC'),\n",
       " Seq('ISILTHTKHSHQQSLKRTKRRRLMKLKPYRRDRRNSKLXLFFLLQIWMISPNNCNNP'),\n",
       " Seq('AVLTQLRPKLMQTTQGRWAI'),\n",
       " Seq('TFSLFRLRYIVYSCAE'),\n",
       " Seq('ILVTT'),\n",
       " Seq('HK'),\n",
       " Seq('M'),\n",
       " Seq('LTLISHSNL'),\n",
       " Seq('SVCNIREDLKEPPHFHRGHAEYDRVYSEQC'),\n",
       " Seq('GELPIWK')]"
      ]
     },
     "execution_count": 92,
     "metadata": {},
     "output_type": "execute_result"
    }
   ],
   "source": [
    "aa"
   ]
  },
  {
   "cell_type": "code",
   "execution_count": 98,
   "id": "55916475-184c-4558-99d9-d507aff76e3d",
   "metadata": {
    "collapsed": true,
    "jupyter": {
     "outputs_hidden": true
    },
    "tags": []
   },
   "outputs": [
    {
     "data": {
      "text/plain": [
       "[Seq('PTNFRSLVDLFSKRTLKSVWLSLGCMLSALTQYN'),\n",
       " Seq('LITVVDRTRVTRLSSAGCLRFRPCCSRSSAHLGFVRV'),\n",
       " Seq('PKGKMESLVPGFNEKTHVQLSLPVLQVRDVLVRGFGDSVEEVLSEARQHLKDGT...FAV'),\n",
       " Seq('VQPVLHRAAQALVLMSYTGLLTSTMIK'),\n",
       " Seq('LRDTLSLTTNMKKQFIIYLRIVQLLLNMTSLSLE'),\n",
       " Seq('TVTWYHIYHVNVLLNTQWQTSSML'),\n",
       " Seq('KKYLSHTIVVMMIISIKRTGMIL'),\n",
       " Seq('IIKISMVTGMISVISYKPRQVVEFLL'),\n",
       " Seq('NSLTVILNIGIRHTTQIVLTVWMTDAFCIVQTLMFYSLQCSHLQVLDH'),\n",
       " Seq('TYIALDLVLRNYLCMLLTLLCTLLLVIYY'),\n",
       " Seq('LHLLTMLLFKLSNLVILTKTSMTLLCLRVSLRKEVLLN'),\n",
       " Seq('NTSSLLRMVMLLSAIMTTIVIIYQQCVISDNYYL'),\n",
       " Seq('LKLLISTLIVTMVAVLMLTKSSSTT'),\n",
       " Seq('TNQLVFHLINGVRLDFIMIQ'),\n",
       " Seq('KTLILWVGIILNVIEPCLTCLELWPHLFLLANIQRVVACHTVSID'),\n",
       " Seq('VKWSCVAVHYMLNQVEPHQEMPQLLMLIVFLTFVKLSRPMLMHFYLLMVTKLPI...QTL'),\n",
       " Seq('RTLSQFFIIKTMFLCLKQNVGLRLTLLKDLMNFALNIQC'),\n",
       " Seq('MLTHLLNILIRSMLMSFICTYNT'),\n",
       " Seq('TCILLCLLMITPQGIGNLSFMRLCTHRIQSYRLLGLVFFAIHRLH'),\n",
       " Seq('DVVLAYVDHSYVVNAVTTMSYQHHIN'),\n",
       " Seq('AIIVNHINHPLVFHCVLMDKFLVYIKIHVLVAIMLLTLMQLQHVTGQMLVITF'),\n",
       " Seq('LTPVLKDSSFLQQKRSKLLRRHLNCLMVLLLYVKCCLTENYIFHGKLVNLDHHL...VIV'),\n",
       " Seq('ESTPLKKVTMVMLLFTEVQQLTN'),\n",
       " Seq('CHKSTMLELLAYTQHSISQMSFLAMLQIIKRLVCKSILHSRDHLVLVRVILLLA'),\n",
       " Seq('VLSMPDYVLSTMCTLATLLNYLHHAHC'),\n",
       " Seq('VLWFMIISLKHIKTNQLNALKCFIRVLSRMMFHLQLTGHK'),\n",
       " Seq('ENSLHVTLLGEKLSLFHLIIHRML'),\n",
       " Seq('PQRFWDYQLKLLIHHRAQNMTMSYSLKPLKQLTLVM'),\n",
       " Seq('CLIETFMTSCNLQVLKFHVGMWQLYKLKM'),\n",
       " Seq('SLGYILHRHLHTSVLTLNSKLKVYVLTYLAYLRT'),\n",
       " Seq('DMYVHGLASMSRGVMLLEKLLVPIYLYS'),\n",
       " Seq('LLYLQVMLIHLIIQIFPELVLNHRLEINLNTSYHLCTKDFLGM'),\n",
       " Seq('VTHLKISLTESYLSYGHMALS'),\n",
       " Seq('DLSAPVVYVIDVPHAFPLLQTLMPVGIILLDLITSIIRL'),\n",
       " Seq('LMFNNGVLQVTYKATMICIVKSMVMHM'),\n",
       " Seq('QTNSQFFTTLVTLKLLSVYLKLM'),\n",
       " Seq('KNYSILMPHILTNSQMVYAYFGIAMSIDILLIPLFVDLTLECYLTLTCLVVMVAVCM'),\n",
       " Seq('VVLSVDIMLMSXDCISMLIT'),\n",
       " Seq('SQLALACGFTNNLILITSGTLLQDFRV'),\n",
       " Seq('IRDTLMDNRVKYQFLSLITLFTQKLMVLM'),\n",
       " Seq('PRNQLKRFVHHSLSFLMVELMVK'),\n",
       " Seq('TYLEMPVMVFLLQKVVLKVYNHL'),\n",
       " Seq('KHSSIIIRKLMVLSNNYLKLTLLRVEIYKNLNPGVKWKLIS'),\n",
       " Seq('QMRKQVHLSVCVLLLIYYLMILLK'),\n",
       " Seq('KHFTQNYNLVKRGNRVLLCLIFTKCKECY'),\n",
       " Seq('DSGCLRVRCLSIQILMTLSLMQIQL'),\n",
       " Seq('LLIVQLYIQLINGISLLVICTTLRLKMLQKKMTLKRVFSLTFVGLYNKS'),\n",
       " Seq('XXXXXXXXXXXXXXXXXXGQPLXLM'),\n",
       " Seq('LDVIIXXXXXXXXXXXXXXXXXXXXXXXIXXXXXXILYXXXXXXXXXXXXLLLCL'),\n",
       " Seq('XXXXXXXXXXXXXXXXXXXXXXXXXXXXXXXXXXXXXXXXXXXXXXXXXXXXXX...HYT'),\n",
       " Seq('SKVKSRMLLLQILFALLQRYRYKPHSLSDGLLLALHFLLFFRALPKS'),\n",
       " Seq('QFTHTFCSLLLALKPLFSIFML'),\n",
       " Seq('GFGFAGNAVPKTHYFMMPTIFFAGILIVTTIVYLTIV'),\n",
       " Seq('LLQLSLLQVMAQQVLFLNMTTRLVVILKNGNLE'),\n",
       " Seq('KTVLYYTVTSLQTITSCTQLN'),\n",
       " Seq('VQTLVLNMLPSSSTIKLLMSLKNMSKFTQSTVHPELLIQ'),\n",
       " Seq('WNQFMMNRRRLLACLCKHKLMSTNLCTHSFRKRQVR'),\n",
       " Seq('ILLEFLIFWSKRTKYYISFSVWNFNFSHGRFQRYYYR'),\n",
       " Seq('TMEPSNRFPIPYMDLSSTICLCQQE'),\n",
       " Seq('VNFPLAVMASNFSLFCACCCLQNKLDHRWNCYRNGLSCRLDVAQLLHCFFQTVC...SRN'),\n",
       " Seq('TRNRSCDPSWTSSYCWTPSRTL'),\n",
       " Seq('RNHCCYITNAFLLQIGSFAACSR'),\n",
       " Seq('QYCFACTVSDNRCFISLTFRLL'),\n",
       " Seq('HSLLVSFITTKSVLEVQQYF'),\n",
       " Seq('KNLALLEHTRAIHHFXXXXXXXXXXXXXXXXXXXXXXXXXXXXXXXXXXXXXXX...VLT'),\n",
       " Seq('NLSRLNEHEISCFLRNHHNCSCISPRM'),\n",
       " Seq('MDPKISEMHPALRLVDPQIQLAVTRMENAVGRDQNNVGPKVYPIILRLGSPLSL...TVK'),\n",
       " Seq('ELGQKLDFPMVLTKTASYGLQLREP'),\n",
       " Seq('IHQKITLAPAILLTMLQSCYNFLKEQHCQKASTQKGAEAAVKPLLVPHHVVATV...LTD'),\n",
       " Seq('TSLRAKCLVKANNNKAKLSLRNLLLRLLRSLGKNVLPLKHTM'),\n",
       " Seq('HKLSADVVQNKPKEILGTRN'),\n",
       " Seq('SDKELITNIGRKLHNLPPALQRSSECRALAWKSHLRERG'),\n",
       " Seq('PTQVPSNWMTKIQISKIKSFC'),\n",
       " Seq('ISILTHTKHSHQQSLKRTKRRRLMKLKPYRRDRRNSKLXLFFLLQIWMISPNNCNNP'),\n",
       " Seq('AVLTQLRPKLMQTTQGRWAI'),\n",
       " Seq('SVCNIREDLKEPPHFHRGHAEYDRVYSEQC')]"
      ]
     },
     "execution_count": 98,
     "metadata": {},
     "output_type": "execute_result"
    }
   ],
   "source": [
    "new_aa = []\n",
    "for item in aa[:]:\n",
    "    if len(item) >= 20:\n",
    "        new_aa.append(item)\n",
    "        \n",
    "new_aa"
   ]
  },
  {
   "cell_type": "code",
   "execution_count": null,
   "id": "460f3a7e-601d-4105-8333-4be235a57e10",
   "metadata": {
    "tags": []
   },
   "outputs": [],
   "source": [
    "from __future__ import division\n",
    "\n",
    "poi_list = []\n",
    "from Bio.SeqUtils import ProtParam\n",
    "aa_new = [] # do I need to make a new list?\n",
    "for record in aa[:]:\n",
    "    if len(str(record)) >= 20:\n",
    "        aa_new.append(record)\n",
    "for record in aa_new[:]:\n",
    "    print(\"\\n\")\n",
    "    X = ProtParam.ProteinAnalysis(str(record))\n",
    "    POI = X.count_amino_acids()\n",
    "    poi_list.append(POI)\n",
    "    print(\"Amino acids percent =    \", str(X.get_amino_acids_percent()))\n",
    "    print(\"Aromaticity = \", X.aromaticity())\n",
    "    print(\"Isoelectric point = \", X.isoelectric_point())"
   ]
  },
  {
   "cell_type": "code",
   "execution_count": 99,
   "id": "c9321dee-7556-4677-8a52-c1105e1c2f26",
   "metadata": {
    "tags": []
   },
   "outputs": [
    {
     "name": "stdout",
     "output_type": "stream",
     "text": [
      "\n",
      "\n",
      "Amino acids percent =     {'A': 0.029411764705882353, 'C': 0.029411764705882353, 'D': 0.029411764705882353, 'E': 0.0, 'F': 0.058823529411764705, 'G': 0.029411764705882353, 'H': 0.0, 'I': 0.0, 'K': 0.058823529411764705, 'L': 0.20588235294117646, 'M': 0.029411764705882353, 'N': 0.058823529411764705, 'P': 0.029411764705882353, 'Q': 0.029411764705882353, 'R': 0.058823529411764705, 'S': 0.14705882352941177, 'T': 0.08823529411764706, 'V': 0.058823529411764705, 'W': 0.029411764705882353, 'Y': 0.029411764705882353}\n",
      "Aromaticity =  0.11764705882352941\n",
      "Isoelectric point =  9.799339485168456\n",
      "\n",
      "\n",
      "Amino acids percent =     {'A': 0.05405405405405406, 'C': 0.08108108108108109, 'D': 0.02702702702702703, 'E': 0.0, 'F': 0.05405405405405406, 'G': 0.05405405405405406, 'H': 0.02702702702702703, 'I': 0.02702702702702703, 'K': 0.0, 'L': 0.10810810810810811, 'M': 0.0, 'N': 0.0, 'P': 0.02702702702702703, 'Q': 0.0, 'R': 0.1891891891891892, 'S': 0.13513513513513514, 'T': 0.08108108108108109, 'V': 0.13513513513513514, 'W': 0.0, 'Y': 0.0}\n",
      "Aromaticity =  0.05405405405405406\n",
      "Isoelectric point =  11.604325294494632\n",
      "\n",
      "\n",
      "Amino acids percent =     {'A': 0.06854289605083977, 'C': 0.030640036314117113, 'D': 0.04743531547889242, 'E': 0.053563322741715845, 'F': 0.045619609623241034, 'G': 0.058783477076713574, 'H': 0.016568315932818885, 'I': 0.04743531547889242, 'K': 0.06241488878801634, 'L': 0.09577848388561053, 'M': 0.023377212891511574, 'N': 0.05242850658193373, 'P': 0.03699500680889696, 'Q': 0.03381752156150704, 'R': 0.029505220154335, 'S': 0.06445755787562416, 'T': 0.076713572401271, 'V': 0.08352246935996369, 'W': 0.009986382206082615, 'Y': 0.043349977303676804}\n",
      "Aromaticity =  0.09895596913300045\n",
      "Isoelectric point =  6.070370292663574\n",
      "\n",
      "\n",
      "Amino acids percent =     {'A': 0.1111111111111111, 'C': 0.0, 'D': 0.0, 'E': 0.0, 'F': 0.0, 'G': 0.037037037037037035, 'H': 0.037037037037037035, 'I': 0.037037037037037035, 'K': 0.037037037037037035, 'L': 0.18518518518518517, 'M': 0.07407407407407407, 'N': 0.0, 'P': 0.037037037037037035, 'Q': 0.07407407407407407, 'R': 0.037037037037037035, 'S': 0.07407407407407407, 'T': 0.1111111111111111, 'V': 0.1111111111111111, 'W': 0.0, 'Y': 0.037037037037037035}\n",
      "Aromaticity =  0.037037037037037035\n",
      "Isoelectric point =  9.994034004211429\n",
      "\n",
      "\n",
      "Amino acids percent =     {'A': 0.0, 'C': 0.0, 'D': 0.029411764705882353, 'E': 0.029411764705882353, 'F': 0.029411764705882353, 'G': 0.0, 'H': 0.0, 'I': 0.08823529411764706, 'K': 0.058823529411764705, 'L': 0.2647058823529412, 'M': 0.058823529411764705, 'N': 0.058823529411764705, 'P': 0.0, 'Q': 0.058823529411764705, 'R': 0.058823529411764705, 'S': 0.08823529411764706, 'T': 0.11764705882352941, 'V': 0.029411764705882353, 'W': 0.0, 'Y': 0.029411764705882353}\n",
      "Aromaticity =  0.058823529411764705\n",
      "Isoelectric point =  9.696641349792483\n",
      "\n",
      "\n",
      "Amino acids percent =     {'A': 0.0, 'C': 0.0, 'D': 0.0, 'E': 0.0, 'F': 0.0, 'G': 0.0, 'H': 0.08333333333333333, 'I': 0.041666666666666664, 'K': 0.0, 'L': 0.125, 'M': 0.041666666666666664, 'N': 0.08333333333333333, 'P': 0.0, 'Q': 0.08333333333333333, 'R': 0.0, 'S': 0.08333333333333333, 'T': 0.16666666666666666, 'V': 0.125, 'W': 0.08333333333333333, 'Y': 0.08333333333333333}\n",
      "Aromaticity =  0.16666666666666666\n",
      "Isoelectric point =  6.608749198913575\n",
      "\n",
      "\n",
      "Amino acids percent =     {'A': 0.0, 'C': 0.0, 'D': 0.0, 'E': 0.0, 'F': 0.0, 'G': 0.043478260869565216, 'H': 0.043478260869565216, 'I': 0.21739130434782608, 'K': 0.13043478260869565, 'L': 0.08695652173913043, 'M': 0.13043478260869565, 'N': 0.0, 'P': 0.0, 'Q': 0.0, 'R': 0.043478260869565216, 'S': 0.08695652173913043, 'T': 0.08695652173913043, 'V': 0.08695652173913043, 'W': 0.0, 'Y': 0.043478260869565216}\n",
      "Aromaticity =  0.043478260869565216\n",
      "Isoelectric point =  10.461623191833493\n",
      "\n",
      "\n",
      "Amino acids percent =     {'A': 0.0, 'C': 0.0, 'D': 0.0, 'E': 0.038461538461538464, 'F': 0.038461538461538464, 'G': 0.038461538461538464, 'H': 0.0, 'I': 0.19230769230769232, 'K': 0.07692307692307693, 'L': 0.07692307692307693, 'M': 0.07692307692307693, 'N': 0.0, 'P': 0.038461538461538464, 'Q': 0.038461538461538464, 'R': 0.038461538461538464, 'S': 0.11538461538461539, 'T': 0.038461538461538464, 'V': 0.15384615384615385, 'W': 0.0, 'Y': 0.038461538461538464}\n",
      "Aromaticity =  0.07692307692307693\n",
      "Isoelectric point =  9.699800300598145\n",
      "\n",
      "\n",
      "Amino acids percent =     {'A': 0.020833333333333332, 'C': 0.041666666666666664, 'D': 0.041666666666666664, 'E': 0.0, 'F': 0.041666666666666664, 'G': 0.020833333333333332, 'H': 0.0625, 'I': 0.10416666666666667, 'K': 0.0, 'L': 0.14583333333333334, 'M': 0.041666666666666664, 'N': 0.041666666666666664, 'P': 0.0, 'Q': 0.08333333333333333, 'R': 0.020833333333333332, 'S': 0.0625, 'T': 0.125, 'V': 0.10416666666666667, 'W': 0.020833333333333332, 'Y': 0.020833333333333332}\n",
      "Aromaticity =  0.08333333333333333\n",
      "Isoelectric point =  6.253334999084472\n",
      "\n",
      "\n",
      "Amino acids percent =     {'A': 0.034482758620689655, 'C': 0.06896551724137931, 'D': 0.034482758620689655, 'E': 0.0, 'F': 0.0, 'G': 0.0, 'H': 0.0, 'I': 0.06896551724137931, 'K': 0.0, 'L': 0.3793103448275862, 'M': 0.034482758620689655, 'N': 0.034482758620689655, 'P': 0.0, 'Q': 0.0, 'R': 0.034482758620689655, 'S': 0.0, 'T': 0.10344827586206896, 'V': 0.06896551724137931, 'W': 0.0, 'Y': 0.13793103448275862}\n",
      "Aromaticity =  0.13793103448275862\n",
      "Isoelectric point =  5.494705009460449\n",
      "\n",
      "\n",
      "Amino acids percent =     {'A': 0.0, 'C': 0.02631578947368421, 'D': 0.0, 'E': 0.02631578947368421, 'F': 0.02631578947368421, 'G': 0.0, 'H': 0.02631578947368421, 'I': 0.02631578947368421, 'K': 0.07894736842105263, 'L': 0.3684210526315789, 'M': 0.05263157894736842, 'N': 0.05263157894736842, 'P': 0.0, 'Q': 0.0, 'R': 0.05263157894736842, 'S': 0.07894736842105263, 'T': 0.10526315789473684, 'V': 0.07894736842105263, 'W': 0.0, 'Y': 0.0}\n",
      "Aromaticity =  0.02631578947368421\n",
      "Isoelectric point =  10.306834602355956\n",
      "\n",
      "\n",
      "Amino acids percent =     {'A': 0.029411764705882353, 'C': 0.029411764705882353, 'D': 0.029411764705882353, 'E': 0.0, 'F': 0.0, 'G': 0.0, 'H': 0.0, 'I': 0.14705882352941177, 'K': 0.0, 'L': 0.14705882352941177, 'M': 0.08823529411764706, 'N': 0.058823529411764705, 'P': 0.0, 'Q': 0.058823529411764705, 'R': 0.029411764705882353, 'S': 0.11764705882352941, 'T': 0.08823529411764706, 'V': 0.08823529411764706, 'W': 0.0, 'Y': 0.08823529411764706}\n",
      "Aromaticity =  0.08823529411764706\n",
      "Isoelectric point =  5.82726993560791\n",
      "\n",
      "\n",
      "Amino acids percent =     {'A': 0.04, 'C': 0.0, 'D': 0.0, 'E': 0.0, 'F': 0.0, 'G': 0.0, 'H': 0.0, 'I': 0.08, 'K': 0.08, 'L': 0.24, 'M': 0.08, 'N': 0.0, 'P': 0.0, 'Q': 0.0, 'R': 0.0, 'S': 0.16, 'T': 0.2, 'V': 0.12, 'W': 0.0, 'Y': 0.0}\n",
      "Aromaticity =  0.0\n",
      "Isoelectric point =  10.002737236022949\n",
      "\n",
      "\n",
      "Amino acids percent =     {'A': 0.0, 'C': 0.0, 'D': 0.05, 'E': 0.0, 'F': 0.1, 'G': 0.05, 'H': 0.05, 'I': 0.15, 'K': 0.0, 'L': 0.15, 'M': 0.05, 'N': 0.1, 'P': 0.0, 'Q': 0.1, 'R': 0.05, 'S': 0.0, 'T': 0.05, 'V': 0.1, 'W': 0.0, 'Y': 0.0}\n",
      "Aromaticity =  0.1\n",
      "Isoelectric point =  6.406288719177247\n",
      "\n",
      "\n",
      "Amino acids percent =     {'A': 0.044444444444444446, 'C': 0.06666666666666667, 'D': 0.022222222222222223, 'E': 0.044444444444444446, 'F': 0.022222222222222223, 'G': 0.022222222222222223, 'H': 0.044444444444444446, 'I': 0.13333333333333333, 'K': 0.022222222222222223, 'L': 0.2, 'M': 0.0, 'N': 0.044444444444444446, 'P': 0.044444444444444446, 'Q': 0.022222222222222223, 'R': 0.022222222222222223, 'S': 0.022222222222222223, 'T': 0.06666666666666667, 'V': 0.1111111111111111, 'W': 0.044444444444444446, 'Y': 0.0}\n",
      "Aromaticity =  0.06666666666666667\n",
      "Isoelectric point =  6.030071449279785\n",
      "\n",
      "\n",
      "Amino acids percent =     {'A': 0.02564102564102564, 'C': 0.01282051282051282, 'D': 0.01282051282051282, 'E': 0.05128205128205128, 'F': 0.05128205128205128, 'G': 0.0, 'H': 0.038461538461538464, 'I': 0.0641025641025641, 'K': 0.038461538461538464, 'L': 0.15384615384615385, 'M': 0.11538461538461539, 'N': 0.02564102564102564, 'P': 0.05128205128205128, 'Q': 0.05128205128205128, 'R': 0.01282051282051282, 'S': 0.07692307692307693, 'T': 0.0641025641025641, 'V': 0.10256410256410256, 'W': 0.01282051282051282, 'Y': 0.038461538461538464}\n",
      "Aromaticity =  0.10256410256410256\n",
      "Isoelectric point =  6.279935646057129\n",
      "\n",
      "\n",
      "Amino acids percent =     {'A': 0.02564102564102564, 'C': 0.05128205128205128, 'D': 0.02564102564102564, 'E': 0.0, 'F': 0.10256410256410256, 'G': 0.02564102564102564, 'H': 0.0, 'I': 0.07692307692307693, 'K': 0.07692307692307693, 'L': 0.23076923076923078, 'M': 0.05128205128205128, 'N': 0.07692307692307693, 'P': 0.0, 'Q': 0.07692307692307693, 'R': 0.05128205128205128, 'S': 0.02564102564102564, 'T': 0.07692307692307693, 'V': 0.02564102564102564, 'W': 0.0, 'Y': 0.0}\n",
      "Aromaticity =  0.10256410256410256\n",
      "Isoelectric point =  9.847497367858885\n",
      "\n",
      "\n",
      "Amino acids percent =     {'A': 0.0, 'C': 0.043478260869565216, 'D': 0.0, 'E': 0.0, 'F': 0.043478260869565216, 'G': 0.0, 'H': 0.043478260869565216, 'I': 0.13043478260869565, 'K': 0.0, 'L': 0.21739130434782608, 'M': 0.13043478260869565, 'N': 0.08695652173913043, 'P': 0.0, 'Q': 0.0, 'R': 0.043478260869565216, 'S': 0.08695652173913043, 'T': 0.13043478260869565, 'V': 0.0, 'W': 0.0, 'Y': 0.043478260869565216}\n",
      "Aromaticity =  0.08695652173913043\n",
      "Isoelectric point =  7.99880199432373\n",
      "\n",
      "\n",
      "Amino acids percent =     {'A': 0.022222222222222223, 'C': 0.06666666666666667, 'D': 0.0, 'E': 0.0, 'F': 0.06666666666666667, 'G': 0.06666666666666667, 'H': 0.06666666666666667, 'I': 0.1111111111111111, 'K': 0.0, 'L': 0.2222222222222222, 'M': 0.044444444444444446, 'N': 0.022222222222222223, 'P': 0.022222222222222223, 'Q': 0.044444444444444446, 'R': 0.08888888888888889, 'S': 0.044444444444444446, 'T': 0.06666666666666667, 'V': 0.022222222222222223, 'W': 0.0, 'Y': 0.022222222222222223}\n",
      "Aromaticity =  0.08888888888888889\n",
      "Isoelectric point =  9.799984169006347\n",
      "\n",
      "\n",
      "Amino acids percent =     {'A': 0.07692307692307693, 'C': 0.0, 'D': 0.07692307692307693, 'E': 0.0, 'F': 0.0, 'G': 0.0, 'H': 0.11538461538461539, 'I': 0.038461538461538464, 'K': 0.0, 'L': 0.038461538461538464, 'M': 0.038461538461538464, 'N': 0.07692307692307693, 'P': 0.0, 'Q': 0.038461538461538464, 'R': 0.0, 'S': 0.07692307692307693, 'T': 0.07692307692307693, 'V': 0.23076923076923078, 'W': 0.0, 'Y': 0.11538461538461539}\n",
      "Aromaticity =  0.11538461538461539\n",
      "Isoelectric point =  5.701485252380372\n",
      "\n",
      "\n",
      "Amino acids percent =     {'A': 0.03773584905660377, 'C': 0.018867924528301886, 'D': 0.018867924528301886, 'E': 0.0, 'F': 0.05660377358490566, 'G': 0.018867924528301886, 'H': 0.09433962264150944, 'I': 0.1320754716981132, 'K': 0.03773584905660377, 'L': 0.16981132075471697, 'M': 0.07547169811320754, 'N': 0.03773584905660377, 'P': 0.018867924528301886, 'Q': 0.05660377358490566, 'R': 0.0, 'S': 0.0, 'T': 0.05660377358490566, 'V': 0.1509433962264151, 'W': 0.0, 'Y': 0.018867924528301886}\n",
      "Aromaticity =  0.07547169811320754\n",
      "Isoelectric point =  8.253581047058105\n",
      "\n",
      "\n",
      "Amino acids percent =     {'A': 0.0, 'C': 0.046875, 'D': 0.03125, 'E': 0.03125, 'F': 0.03125, 'G': 0.015625, 'H': 0.0625, 'I': 0.046875, 'K': 0.078125, 'L': 0.25, 'M': 0.03125, 'N': 0.046875, 'P': 0.015625, 'Q': 0.03125, 'R': 0.046875, 'S': 0.0625, 'T': 0.046875, 'V': 0.09375, 'W': 0.0, 'Y': 0.03125}\n",
      "Aromaticity =  0.0625\n",
      "Isoelectric point =  9.259996986389158\n",
      "\n",
      "\n",
      "Amino acids percent =     {'A': 0.0, 'C': 0.0, 'D': 0.0, 'E': 0.08695652173913043, 'F': 0.043478260869565216, 'G': 0.0, 'H': 0.0, 'I': 0.0, 'K': 0.08695652173913043, 'L': 0.17391304347826086, 'M': 0.08695652173913043, 'N': 0.043478260869565216, 'P': 0.043478260869565216, 'Q': 0.08695652173913043, 'R': 0.0, 'S': 0.043478260869565216, 'T': 0.17391304347826086, 'V': 0.13043478260869565, 'W': 0.0, 'Y': 0.0}\n",
      "Aromaticity =  0.043478260869565216\n",
      "Isoelectric point =  6.24065990447998\n",
      "\n",
      "\n",
      "Amino acids percent =     {'A': 0.05555555555555555, 'C': 0.037037037037037035, 'D': 0.018518518518518517, 'E': 0.018518518518518517, 'F': 0.018518518518518517, 'G': 0.0, 'H': 0.07407407407407407, 'I': 0.09259259259259259, 'K': 0.05555555555555555, 'L': 0.2222222222222222, 'M': 0.05555555555555555, 'N': 0.0, 'P': 0.0, 'Q': 0.05555555555555555, 'R': 0.05555555555555555, 'S': 0.1111111111111111, 'T': 0.037037037037037035, 'V': 0.07407407407407407, 'W': 0.0, 'Y': 0.018518518518518517}\n",
      "Aromaticity =  0.037037037037037035\n",
      "Isoelectric point =  9.69612560272217\n",
      "\n",
      "\n",
      "Amino acids percent =     {'A': 0.07407407407407407, 'C': 0.07407407407407407, 'D': 0.037037037037037035, 'E': 0.0, 'F': 0.0, 'G': 0.0, 'H': 0.1111111111111111, 'I': 0.0, 'K': 0.0, 'L': 0.2222222222222222, 'M': 0.07407407407407407, 'N': 0.037037037037037035, 'P': 0.037037037037037035, 'Q': 0.0, 'R': 0.0, 'S': 0.07407407407407407, 'T': 0.1111111111111111, 'V': 0.07407407407407407, 'W': 0.0, 'Y': 0.07407407407407407}\n",
      "Aromaticity =  0.07407407407407407\n",
      "Isoelectric point =  6.2453207015991214\n",
      "\n",
      "\n",
      "Amino acids percent =     {'A': 0.025, 'C': 0.025, 'D': 0.0, 'E': 0.0, 'F': 0.075, 'G': 0.025, 'H': 0.075, 'I': 0.1, 'K': 0.1, 'L': 0.175, 'M': 0.075, 'N': 0.05, 'P': 0.0, 'Q': 0.05, 'R': 0.05, 'S': 0.05, 'T': 0.05, 'V': 0.05, 'W': 0.025, 'Y': 0.0}\n",
      "Aromaticity =  0.1\n",
      "Isoelectric point =  11.17232265472412\n",
      "\n",
      "\n",
      "Amino acids percent =     {'A': 0.0, 'C': 0.0, 'D': 0.0, 'E': 0.08333333333333333, 'F': 0.041666666666666664, 'G': 0.041666666666666664, 'H': 0.125, 'I': 0.08333333333333333, 'K': 0.041666666666666664, 'L': 0.2916666666666667, 'M': 0.041666666666666664, 'N': 0.041666666666666664, 'P': 0.0, 'Q': 0.0, 'R': 0.041666666666666664, 'S': 0.08333333333333333, 'T': 0.041666666666666664, 'V': 0.041666666666666664, 'W': 0.0, 'Y': 0.0}\n",
      "Aromaticity =  0.041666666666666664\n",
      "Isoelectric point =  7.117117118835449\n",
      "\n",
      "\n",
      "Amino acids percent =     {'A': 0.027777777777777776, 'C': 0.0, 'D': 0.027777777777777776, 'E': 0.0, 'F': 0.027777777777777776, 'G': 0.0, 'H': 0.05555555555555555, 'I': 0.027777777777777776, 'K': 0.08333333333333333, 'L': 0.19444444444444445, 'M': 0.08333333333333333, 'N': 0.027777777777777776, 'P': 0.05555555555555555, 'Q': 0.1111111111111111, 'R': 0.05555555555555555, 'S': 0.05555555555555555, 'T': 0.05555555555555555, 'V': 0.027777777777777776, 'W': 0.027777777777777776, 'Y': 0.05555555555555555}\n",
      "Aromaticity =  0.1111111111111111\n",
      "Isoelectric point =  10.171064186096192\n",
      "\n",
      "\n",
      "Amino acids percent =     {'A': 0.0, 'C': 0.06896551724137931, 'D': 0.0, 'E': 0.034482758620689655, 'F': 0.06896551724137931, 'G': 0.034482758620689655, 'H': 0.034482758620689655, 'I': 0.034482758620689655, 'K': 0.10344827586206896, 'L': 0.1724137931034483, 'M': 0.10344827586206896, 'N': 0.034482758620689655, 'P': 0.0, 'Q': 0.06896551724137931, 'R': 0.0, 'S': 0.034482758620689655, 'T': 0.06896551724137931, 'V': 0.06896551724137931, 'W': 0.034482758620689655, 'Y': 0.034482758620689655}\n",
      "Aromaticity =  0.13793103448275862\n",
      "Isoelectric point =  8.82206325531006\n",
      "\n",
      "\n",
      "Amino acids percent =     {'A': 0.029411764705882353, 'C': 0.0, 'D': 0.0, 'E': 0.0, 'F': 0.0, 'G': 0.029411764705882353, 'H': 0.08823529411764706, 'I': 0.029411764705882353, 'K': 0.058823529411764705, 'L': 0.2647058823529412, 'M': 0.0, 'N': 0.029411764705882353, 'P': 0.0, 'Q': 0.0, 'R': 0.058823529411764705, 'S': 0.08823529411764706, 'T': 0.11764705882352941, 'V': 0.08823529411764706, 'W': 0.0, 'Y': 0.11764705882352941}\n",
      "Aromaticity =  0.11764705882352941\n",
      "Isoelectric point =  9.99467868804932\n",
      "\n",
      "\n",
      "Amino acids percent =     {'A': 0.03571428571428571, 'C': 0.0, 'D': 0.03571428571428571, 'E': 0.03571428571428571, 'F': 0.0, 'G': 0.07142857142857142, 'H': 0.03571428571428571, 'I': 0.03571428571428571, 'K': 0.03571428571428571, 'L': 0.21428571428571427, 'M': 0.10714285714285714, 'N': 0.0, 'P': 0.03571428571428571, 'Q': 0.0, 'R': 0.03571428571428571, 'S': 0.10714285714285714, 'T': 0.0, 'V': 0.10714285714285714, 'W': 0.0, 'Y': 0.10714285714285714}\n",
      "Aromaticity =  0.10714285714285714\n",
      "Isoelectric point =  6.749255180358888\n",
      "\n",
      "\n",
      "Amino acids percent =     {'A': 0.0, 'C': 0.023255813953488372, 'D': 0.023255813953488372, 'E': 0.046511627906976744, 'F': 0.046511627906976744, 'G': 0.023255813953488372, 'H': 0.06976744186046512, 'I': 0.11627906976744186, 'K': 0.023255813953488372, 'L': 0.2558139534883721, 'M': 0.046511627906976744, 'N': 0.06976744186046512, 'P': 0.023255813953488372, 'Q': 0.046511627906976744, 'R': 0.023255813953488372, 'S': 0.023255813953488372, 'T': 0.046511627906976744, 'V': 0.046511627906976744, 'W': 0.0, 'Y': 0.046511627906976744}\n",
      "Aromaticity =  0.09302325581395349\n",
      "Isoelectric point =  6.268113136291503\n",
      "\n",
      "\n",
      "Amino acids percent =     {'A': 0.047619047619047616, 'C': 0.0, 'D': 0.0, 'E': 0.047619047619047616, 'F': 0.0, 'G': 0.047619047619047616, 'H': 0.09523809523809523, 'I': 0.047619047619047616, 'K': 0.047619047619047616, 'L': 0.19047619047619047, 'M': 0.047619047619047616, 'N': 0.0, 'P': 0.0, 'Q': 0.0, 'R': 0.0, 'S': 0.19047619047619047, 'T': 0.09523809523809523, 'V': 0.047619047619047616, 'W': 0.0, 'Y': 0.09523809523809523}\n",
      "Aromaticity =  0.09523809523809523\n",
      "Isoelectric point =  6.891125297546388\n",
      "\n",
      "\n",
      "Amino acids percent =     {'A': 0.05128205128205128, 'C': 0.0, 'D': 0.07692307692307693, 'E': 0.0, 'F': 0.02564102564102564, 'G': 0.02564102564102564, 'H': 0.02564102564102564, 'I': 0.15384615384615385, 'K': 0.0, 'L': 0.20512820512820512, 'M': 0.02564102564102564, 'N': 0.0, 'P': 0.10256410256410256, 'Q': 0.02564102564102564, 'R': 0.02564102564102564, 'S': 0.05128205128205128, 'T': 0.05128205128205128, 'V': 0.1282051282051282, 'W': 0.0, 'Y': 0.02564102564102564}\n",
      "Aromaticity =  0.05128205128205128\n",
      "Isoelectric point =  4.413343238830567\n",
      "\n",
      "\n",
      "Amino acids percent =     {'A': 0.037037037037037035, 'C': 0.037037037037037035, 'D': 0.0, 'E': 0.0, 'F': 0.037037037037037035, 'G': 0.037037037037037035, 'H': 0.037037037037037035, 'I': 0.07407407407407407, 'K': 0.07407407407407407, 'L': 0.07407407407407407, 'M': 0.18518518518518517, 'N': 0.07407407407407407, 'P': 0.0, 'Q': 0.037037037037037035, 'R': 0.0, 'S': 0.037037037037037035, 'T': 0.07407407407407407, 'V': 0.14814814814814814, 'W': 0.0, 'Y': 0.037037037037037035}\n",
      "Aromaticity =  0.07407407407407407\n",
      "Isoelectric point =  9.197591590881348\n",
      "\n",
      "\n",
      "Amino acids percent =     {'A': 0.0, 'C': 0.0, 'D': 0.0, 'E': 0.0, 'F': 0.08695652173913043, 'G': 0.0, 'H': 0.0, 'I': 0.0, 'K': 0.08695652173913043, 'L': 0.2608695652173913, 'M': 0.043478260869565216, 'N': 0.043478260869565216, 'P': 0.0, 'Q': 0.08695652173913043, 'R': 0.0, 'S': 0.08695652173913043, 'T': 0.17391304347826086, 'V': 0.08695652173913043, 'W': 0.0, 'Y': 0.043478260869565216}\n",
      "Aromaticity =  0.13043478260869565\n",
      "Isoelectric point =  9.703023719787598\n",
      "\n",
      "\n",
      "Amino acids percent =     {'A': 0.05263157894736842, 'C': 0.05263157894736842, 'D': 0.03508771929824561, 'E': 0.017543859649122806, 'F': 0.03508771929824561, 'G': 0.017543859649122806, 'H': 0.017543859649122806, 'I': 0.10526315789473684, 'K': 0.017543859649122806, 'L': 0.17543859649122806, 'M': 0.08771929824561403, 'N': 0.03508771929824561, 'P': 0.03508771929824561, 'Q': 0.017543859649122806, 'R': 0.0, 'S': 0.05263157894736842, 'T': 0.07017543859649122, 'V': 0.10526315789473684, 'W': 0.0, 'Y': 0.07017543859649122}\n",
      "Aromaticity =  0.10526315789473684\n",
      "Isoelectric point =  4.536399650573731\n",
      "\n",
      "\n",
      "Amino acids percent =     {'A': 0.0, 'C': 0.05, 'D': 0.1, 'E': 0.0, 'F': 0.0, 'G': 0.0, 'H': 0.0, 'I': 0.15, 'K': 0.0, 'L': 0.15, 'M': 0.15, 'N': 0.0, 'P': 0.0, 'Q': 0.0, 'R': 0.0, 'S': 0.15, 'T': 0.05, 'V': 0.15, 'W': 0.0, 'Y': 0.0}\n",
      "Aromaticity =  0.0\n",
      "Isoelectric point =  4.0500284194946286\n",
      "\n",
      "\n",
      "Amino acids percent =     {'A': 0.07407407407407407, 'C': 0.037037037037037035, 'D': 0.037037037037037035, 'E': 0.0, 'F': 0.07407407407407407, 'G': 0.07407407407407407, 'H': 0.0, 'I': 0.07407407407407407, 'K': 0.0, 'L': 0.2222222222222222, 'M': 0.0, 'N': 0.07407407407407407, 'P': 0.0, 'Q': 0.07407407407407407, 'R': 0.037037037037037035, 'S': 0.07407407407407407, 'T': 0.1111111111111111, 'V': 0.037037037037037035, 'W': 0.0, 'Y': 0.0}\n",
      "Aromaticity =  0.07407407407407407\n",
      "Isoelectric point =  5.550975608825683\n",
      "\n",
      "\n",
      "Amino acids percent =     {'A': 0.0, 'C': 0.0, 'D': 0.06896551724137931, 'E': 0.0, 'F': 0.06896551724137931, 'G': 0.0, 'H': 0.0, 'I': 0.06896551724137931, 'K': 0.06896551724137931, 'L': 0.20689655172413793, 'M': 0.10344827586206896, 'N': 0.034482758620689655, 'P': 0.0, 'Q': 0.06896551724137931, 'R': 0.06896551724137931, 'S': 0.034482758620689655, 'T': 0.10344827586206896, 'V': 0.06896551724137931, 'W': 0.0, 'Y': 0.034482758620689655}\n",
      "Aromaticity =  0.10344827586206896\n",
      "Isoelectric point =  9.696641349792483\n",
      "\n",
      "\n",
      "Amino acids percent =     {'A': 0.0, 'C': 0.0, 'D': 0.0, 'E': 0.043478260869565216, 'F': 0.08695652173913043, 'G': 0.0, 'H': 0.08695652173913043, 'I': 0.0, 'K': 0.08695652173913043, 'L': 0.17391304347826086, 'M': 0.08695652173913043, 'N': 0.043478260869565216, 'P': 0.043478260869565216, 'Q': 0.043478260869565216, 'R': 0.08695652173913043, 'S': 0.08695652173913043, 'T': 0.0, 'V': 0.13043478260869565, 'W': 0.0, 'Y': 0.0}\n",
      "Aromaticity =  0.08695652173913043\n",
      "Isoelectric point =  11.00302867889404\n",
      "\n",
      "\n",
      "Amino acids percent =     {'A': 0.0, 'C': 0.0, 'D': 0.0, 'E': 0.043478260869565216, 'F': 0.043478260869565216, 'G': 0.0, 'H': 0.043478260869565216, 'I': 0.0, 'K': 0.08695652173913043, 'L': 0.21739130434782608, 'M': 0.08695652173913043, 'N': 0.043478260869565216, 'P': 0.043478260869565216, 'Q': 0.043478260869565216, 'R': 0.0, 'S': 0.0, 'T': 0.043478260869565216, 'V': 0.21739130434782608, 'W': 0.0, 'Y': 0.08695652173913043}\n",
      "Aromaticity =  0.13043478260869565\n",
      "Isoelectric point =  8.132960700988772\n",
      "\n",
      "\n",
      "Amino acids percent =     {'A': 0.0, 'C': 0.0, 'D': 0.0, 'E': 0.024390243902439025, 'F': 0.0, 'G': 0.024390243902439025, 'H': 0.024390243902439025, 'I': 0.12195121951219512, 'K': 0.14634146341463414, 'L': 0.1951219512195122, 'M': 0.024390243902439025, 'N': 0.0975609756097561, 'P': 0.024390243902439025, 'Q': 0.0, 'R': 0.04878048780487805, 'S': 0.0975609756097561, 'T': 0.024390243902439025, 'V': 0.07317073170731707, 'W': 0.024390243902439025, 'Y': 0.04878048780487805}\n",
      "Aromaticity =  0.07317073170731708\n",
      "Isoelectric point =  10.46130084991455\n",
      "\n",
      "\n",
      "Amino acids percent =     {'A': 0.0, 'C': 0.041666666666666664, 'D': 0.0, 'E': 0.0, 'F': 0.0, 'G': 0.0, 'H': 0.041666666666666664, 'I': 0.08333333333333333, 'K': 0.08333333333333333, 'L': 0.2916666666666667, 'M': 0.08333333333333333, 'N': 0.0, 'P': 0.0, 'Q': 0.08333333333333333, 'R': 0.041666666666666664, 'S': 0.041666666666666664, 'T': 0.0, 'V': 0.125, 'W': 0.0, 'Y': 0.08333333333333333}\n",
      "Aromaticity =  0.08333333333333333\n",
      "Isoelectric point =  9.628756141662599\n",
      "\n",
      "\n",
      "Amino acids percent =     {'A': 0.0, 'C': 0.10344827586206896, 'D': 0.0, 'E': 0.034482758620689655, 'F': 0.06896551724137931, 'G': 0.034482758620689655, 'H': 0.034482758620689655, 'I': 0.034482758620689655, 'K': 0.13793103448275862, 'L': 0.13793103448275862, 'M': 0.0, 'N': 0.10344827586206896, 'P': 0.0, 'Q': 0.034482758620689655, 'R': 0.06896551724137931, 'S': 0.0, 'T': 0.06896551724137931, 'V': 0.06896551724137931, 'W': 0.0, 'Y': 0.06896551724137931}\n",
      "Aromaticity =  0.13793103448275862\n",
      "Isoelectric point =  9.573119926452637\n",
      "\n",
      "\n",
      "Amino acids percent =     {'A': 0.0, 'C': 0.08, 'D': 0.04, 'E': 0.0, 'F': 0.0, 'G': 0.04, 'H': 0.0, 'I': 0.12, 'K': 0.0, 'L': 0.24, 'M': 0.08, 'N': 0.0, 'P': 0.0, 'Q': 0.12, 'R': 0.08, 'S': 0.12, 'T': 0.04, 'V': 0.04, 'W': 0.0, 'Y': 0.0}\n",
      "Aromaticity =  0.0\n",
      "Isoelectric point =  8.072038078308104\n",
      "\n",
      "\n",
      "Amino acids percent =     {'A': 0.0, 'C': 0.02040816326530612, 'D': 0.0, 'E': 0.0, 'F': 0.04081632653061224, 'G': 0.04081632653061224, 'H': 0.0, 'I': 0.10204081632653061, 'K': 0.10204081632653061, 'L': 0.24489795918367346, 'M': 0.04081632653061224, 'N': 0.04081632653061224, 'P': 0.0, 'Q': 0.061224489795918366, 'R': 0.04081632653061224, 'S': 0.061224489795918366, 'T': 0.08163265306122448, 'V': 0.08163265306122448, 'W': 0.0, 'Y': 0.04081632653061224}\n",
      "Aromaticity =  0.08163265306122448\n",
      "Isoelectric point =  10.39534969329834\n",
      "\n",
      "\n",
      "Amino acids percent =     {'A': 0.0, 'C': 0.0, 'D': 0.0, 'E': 0.0, 'F': 0.0, 'G': 0.04, 'H': 0.0, 'I': 0.0, 'K': 0.0, 'L': 0.08, 'M': 0.04, 'N': 0.0, 'P': 0.04, 'Q': 0.04, 'R': 0.0, 'S': 0.0, 'T': 0.0, 'V': 0.0, 'W': 0.0, 'Y': 0.0}\n",
      "Aromaticity =  0.0\n",
      "Isoelectric point =  5.525000190734862\n",
      "\n",
      "\n",
      "Amino acids percent =     {'A': 0.0, 'C': 0.01818181818181818, 'D': 0.01818181818181818, 'E': 0.0, 'F': 0.0, 'G': 0.0, 'H': 0.0, 'I': 0.07272727272727272, 'K': 0.0, 'L': 0.10909090909090909, 'M': 0.0, 'N': 0.0, 'P': 0.0, 'Q': 0.0, 'R': 0.0, 'S': 0.0, 'T': 0.0, 'V': 0.01818181818181818, 'W': 0.0, 'Y': 0.01818181818181818}\n",
      "Aromaticity =  0.01818181818181818\n",
      "Isoelectric point =  4.0500284194946286\n",
      "\n",
      "\n",
      "Amino acids percent =     {'A': 0.05500381970970206, 'C': 0.026737967914438502, 'D': 0.04354469060351413, 'E': 0.03208556149732621, 'F': 0.05118411000763942, 'G': 0.057295645530939646, 'H': 0.013750954927425516, 'I': 0.05500381970970206, 'K': 0.04201680672268908, 'L': 0.07028265851795264, 'M': 0.009931245225362872, 'N': 0.059587471352177235, 'P': 0.03896103896103896, 'Q': 0.04201680672268908, 'R': 0.02750190985485103, 'S': 0.06799083269671505, 'T': 0.06417112299465241, 'V': 0.06722689075630252, 'W': 0.009167303284950344, 'Y': 0.03284950343773873}\n",
      "Aromaticity =  0.09320091673032849\n",
      "Isoelectric point =  6.183082008361816\n",
      "\n",
      "\n",
      "Amino acids percent =     {'A': 0.06382978723404255, 'C': 0.0, 'D': 0.02127659574468085, 'E': 0.0, 'F': 0.0851063829787234, 'G': 0.02127659574468085, 'H': 0.0425531914893617, 'I': 0.02127659574468085, 'K': 0.0851063829787234, 'L': 0.2978723404255319, 'M': 0.02127659574468085, 'N': 0.0, 'P': 0.0425531914893617, 'Q': 0.0425531914893617, 'R': 0.0851063829787234, 'S': 0.10638297872340426, 'T': 0.0, 'V': 0.02127659574468085, 'W': 0.0, 'Y': 0.0425531914893617}\n",
      "Aromaticity =  0.1276595744680851\n",
      "Isoelectric point =  11.096959114074707\n",
      "\n",
      "\n",
      "Amino acids percent =     {'A': 0.045454545454545456, 'C': 0.045454545454545456, 'D': 0.0, 'E': 0.0, 'F': 0.18181818181818182, 'G': 0.0, 'H': 0.045454545454545456, 'I': 0.045454545454545456, 'K': 0.045454545454545456, 'L': 0.2727272727272727, 'M': 0.045454545454545456, 'N': 0.0, 'P': 0.045454545454545456, 'Q': 0.045454545454545456, 'R': 0.0, 'S': 0.09090909090909091, 'T': 0.09090909090909091, 'V': 0.0, 'W': 0.0, 'Y': 0.0}\n",
      "Aromaticity =  0.18181818181818182\n",
      "Isoelectric point =  8.231146049499515\n",
      "\n",
      "\n",
      "Amino acids percent =     {'A': 0.08108108108108109, 'C': 0.0, 'D': 0.0, 'E': 0.0, 'F': 0.13513513513513514, 'G': 0.10810810810810811, 'H': 0.02702702702702703, 'I': 0.13513513513513514, 'K': 0.02702702702702703, 'L': 0.05405405405405406, 'M': 0.05405405405405406, 'N': 0.02702702702702703, 'P': 0.05405405405405406, 'Q': 0.0, 'R': 0.0, 'S': 0.0, 'T': 0.13513513513513514, 'V': 0.10810810810810811, 'W': 0.0, 'Y': 0.05405405405405406}\n",
      "Aromaticity =  0.1891891891891892\n",
      "Isoelectric point =  8.504878807067872\n",
      "\n",
      "\n",
      "Amino acids percent =     {'A': 0.030303030303030304, 'C': 0.0, 'D': 0.0, 'E': 0.030303030303030304, 'F': 0.030303030303030304, 'G': 0.030303030303030304, 'H': 0.0, 'I': 0.030303030303030304, 'K': 0.030303030303030304, 'L': 0.30303030303030304, 'M': 0.06060606060606061, 'N': 0.09090909090909091, 'P': 0.0, 'Q': 0.12121212121212122, 'R': 0.030303030303030304, 'S': 0.030303030303030304, 'T': 0.06060606060606061, 'V': 0.12121212121212122, 'W': 0.0, 'Y': 0.0}\n",
      "Aromaticity =  0.030303030303030304\n",
      "Isoelectric point =  8.748246955871583\n",
      "\n",
      "\n",
      "Amino acids percent =     {'A': 0.0, 'C': 0.047619047619047616, 'D': 0.0, 'E': 0.0, 'F': 0.0, 'G': 0.0, 'H': 0.0, 'I': 0.047619047619047616, 'K': 0.047619047619047616, 'L': 0.14285714285714285, 'M': 0.0, 'N': 0.047619047619047616, 'P': 0.0, 'Q': 0.09523809523809523, 'R': 0.0, 'S': 0.09523809523809523, 'T': 0.2857142857142857, 'V': 0.09523809523809523, 'W': 0.0, 'Y': 0.09523809523809523}\n",
      "Aromaticity =  0.09523809523809523\n",
      "Isoelectric point =  8.175187492370608\n",
      "\n",
      "\n",
      "Amino acids percent =     {'A': 0.0, 'C': 0.0, 'D': 0.0, 'E': 0.02564102564102564, 'F': 0.02564102564102564, 'G': 0.0, 'H': 0.02564102564102564, 'I': 0.05128205128205128, 'K': 0.07692307692307693, 'L': 0.20512820512820512, 'M': 0.07692307692307693, 'N': 0.05128205128205128, 'P': 0.05128205128205128, 'Q': 0.07692307692307693, 'R': 0.0, 'S': 0.15384615384615385, 'T': 0.10256410256410256, 'V': 0.07692307692307693, 'W': 0.0, 'Y': 0.0}\n",
      "Aromaticity =  0.02564102564102564\n",
      "Isoelectric point =  9.702636909484863\n",
      "\n",
      "\n",
      "Amino acids percent =     {'A': 0.027777777777777776, 'C': 0.08333333333333333, 'D': 0.0, 'E': 0.0, 'F': 0.05555555555555555, 'G': 0.0, 'H': 0.05555555555555555, 'I': 0.0, 'K': 0.08333333333333333, 'L': 0.1388888888888889, 'M': 0.08333333333333333, 'N': 0.08333333333333333, 'P': 0.0, 'Q': 0.05555555555555555, 'R': 0.16666666666666666, 'S': 0.05555555555555555, 'T': 0.05555555555555555, 'V': 0.027777777777777776, 'W': 0.027777777777777776, 'Y': 0.0}\n",
      "Aromaticity =  0.08333333333333333\n",
      "Isoelectric point =  11.71901454925537\n",
      "\n",
      "\n",
      "Amino acids percent =     {'A': 0.0, 'C': 0.0, 'D': 0.0, 'E': 0.02702702702702703, 'F': 0.16216216216216217, 'G': 0.02702702702702703, 'H': 0.02702702702702703, 'I': 0.08108108108108109, 'K': 0.05405405405405406, 'L': 0.08108108108108109, 'M': 0.0, 'N': 0.05405405405405406, 'P': 0.0, 'Q': 0.02702702702702703, 'R': 0.10810810810810811, 'S': 0.10810810810810811, 'T': 0.02702702702702703, 'V': 0.02702702702702703, 'W': 0.05405405405405406, 'Y': 0.13513513513513514}\n",
      "Aromaticity =  0.35135135135135137\n",
      "Isoelectric point =  10.112655830383297\n",
      "\n",
      "\n",
      "Amino acids percent =     {'A': 0.0, 'C': 0.08, 'D': 0.04, 'E': 0.08, 'F': 0.04, 'G': 0.0, 'H': 0.0, 'I': 0.08, 'K': 0.0, 'L': 0.08, 'M': 0.08, 'N': 0.04, 'P': 0.12, 'Q': 0.08, 'R': 0.04, 'S': 0.12, 'T': 0.08, 'V': 0.0, 'W': 0.0, 'Y': 0.04}\n",
      "Aromaticity =  0.08\n",
      "Isoelectric point =  4.425052070617675\n",
      "\n",
      "\n",
      "Amino acids percent =     {'A': 0.09090909090909091, 'C': 0.12121212121212122, 'D': 0.030303030303030304, 'E': 0.0, 'F': 0.09090909090909091, 'G': 0.015151515151515152, 'H': 0.045454545454545456, 'I': 0.015151515151515152, 'K': 0.015151515151515152, 'L': 0.12121212121212122, 'M': 0.015151515151515152, 'N': 0.09090909090909091, 'P': 0.015151515151515152, 'Q': 0.06060606060606061, 'R': 0.06060606060606061, 'S': 0.06060606060606061, 'T': 0.015151515151515152, 'V': 0.09090909090909091, 'W': 0.015151515151515152, 'Y': 0.030303030303030304}\n",
      "Aromaticity =  0.13636363636363635\n",
      "Isoelectric point =  8.519448661804201\n",
      "\n",
      "\n",
      "Amino acids percent =     {'A': 0.0, 'C': 0.09090909090909091, 'D': 0.045454545454545456, 'E': 0.0, 'F': 0.0, 'G': 0.0, 'H': 0.0, 'I': 0.0, 'K': 0.0, 'L': 0.045454545454545456, 'M': 0.0, 'N': 0.045454545454545456, 'P': 0.09090909090909091, 'Q': 0.0, 'R': 0.13636363636363635, 'S': 0.22727272727272727, 'T': 0.18181818181818182, 'V': 0.0, 'W': 0.09090909090909091, 'Y': 0.045454545454545456}\n",
      "Aromaticity =  0.13636363636363635\n",
      "Isoelectric point =  8.935334205627445\n",
      "\n",
      "\n",
      "Amino acids percent =     {'A': 0.13043478260869565, 'C': 0.13043478260869565, 'D': 0.0, 'E': 0.0, 'F': 0.08695652173913043, 'G': 0.043478260869565216, 'H': 0.043478260869565216, 'I': 0.08695652173913043, 'K': 0.0, 'L': 0.08695652173913043, 'M': 0.0, 'N': 0.08695652173913043, 'P': 0.0, 'Q': 0.043478260869565216, 'R': 0.08695652173913043, 'S': 0.08695652173913043, 'T': 0.043478260869565216, 'V': 0.0, 'W': 0.0, 'Y': 0.043478260869565216}\n",
      "Aromaticity =  0.13043478260869565\n",
      "Isoelectric point =  8.706149101257324\n",
      "\n",
      "\n",
      "Amino acids percent =     {'A': 0.045454545454545456, 'C': 0.13636363636363635, 'D': 0.045454545454545456, 'E': 0.0, 'F': 0.13636363636363635, 'G': 0.0, 'H': 0.0, 'I': 0.045454545454545456, 'K': 0.0, 'L': 0.13636363636363635, 'M': 0.0, 'N': 0.045454545454545456, 'P': 0.0, 'Q': 0.045454545454545456, 'R': 0.09090909090909091, 'S': 0.09090909090909091, 'T': 0.09090909090909091, 'V': 0.045454545454545456, 'W': 0.0, 'Y': 0.045454545454545456}\n",
      "Aromaticity =  0.18181818181818182\n",
      "Isoelectric point =  7.957671165466309\n",
      "\n",
      "\n",
      "Amino acids percent =     {'A': 0.0, 'C': 0.0, 'D': 0.0, 'E': 0.05, 'F': 0.1, 'G': 0.0, 'H': 0.05, 'I': 0.05, 'K': 0.05, 'L': 0.15, 'M': 0.0, 'N': 0.0, 'P': 0.0, 'Q': 0.1, 'R': 0.0, 'S': 0.15, 'T': 0.1, 'V': 0.15, 'W': 0.0, 'Y': 0.05}\n",
      "Aromaticity =  0.15000000000000002\n",
      "Isoelectric point =  6.747777366638184\n",
      "\n",
      "\n",
      "Amino acids percent =     {'A': 0.03305785123966942, 'C': 0.008264462809917356, 'D': 0.0, 'E': 0.008264462809917356, 'F': 0.03305785123966942, 'G': 0.0, 'H': 0.024793388429752067, 'I': 0.01652892561983471, 'K': 0.008264462809917356, 'L': 0.08264462809917356, 'M': 0.0, 'N': 0.024793388429752067, 'P': 0.008264462809917356, 'Q': 0.008264462809917356, 'R': 0.008264462809917356, 'S': 0.01652892561983471, 'T': 0.01652892561983471, 'V': 0.01652892561983471, 'W': 0.0, 'Y': 0.024793388429752067}\n",
      "Aromaticity =  0.05785123966942149\n",
      "Isoelectric point =  8.180796241760255\n",
      "\n",
      "\n",
      "Amino acids percent =     {'A': 0.0, 'C': 0.1111111111111111, 'D': 0.0, 'E': 0.07407407407407407, 'F': 0.037037037037037035, 'G': 0.0, 'H': 0.1111111111111111, 'I': 0.07407407407407407, 'K': 0.0, 'L': 0.1111111111111111, 'M': 0.037037037037037035, 'N': 0.14814814814814814, 'P': 0.037037037037037035, 'Q': 0.0, 'R': 0.1111111111111111, 'S': 0.14814814814814814, 'T': 0.0, 'V': 0.0, 'W': 0.0, 'Y': 0.0}\n",
      "Aromaticity =  0.037037037037037035\n",
      "Isoelectric point =  7.996416664123535\n",
      "\n",
      "\n",
      "Amino acids percent =     {'A': 0.07216494845360824, 'C': 0.0, 'D': 0.05154639175257732, 'E': 0.061855670103092786, 'F': 0.020618556701030927, 'G': 0.030927835051546393, 'H': 0.010309278350515464, 'I': 0.05154639175257732, 'K': 0.061855670103092786, 'L': 0.12371134020618557, 'M': 0.05154639175257732, 'N': 0.05154639175257732, 'P': 0.08247422680412371, 'Q': 0.05154639175257732, 'R': 0.05154639175257732, 'S': 0.041237113402061855, 'T': 0.07216494845360824, 'V': 0.10309278350515463, 'W': 0.0, 'Y': 0.010309278350515464}\n",
      "Aromaticity =  0.030927835051546393\n",
      "Isoelectric point =  6.5619707107543945\n",
      "\n",
      "\n",
      "Amino acids percent =     {'A': 0.04, 'C': 0.0, 'D': 0.04, 'E': 0.08, 'F': 0.04, 'G': 0.08, 'H': 0.0, 'I': 0.0, 'K': 0.08, 'L': 0.2, 'M': 0.04, 'N': 0.0, 'P': 0.08, 'Q': 0.08, 'R': 0.04, 'S': 0.04, 'T': 0.08, 'V': 0.04, 'W': 0.0, 'Y': 0.04}\n",
      "Aromaticity =  0.08\n",
      "Isoelectric point =  6.278003120422363\n",
      "\n",
      "\n",
      "Amino acids percent =     {'A': 0.12643678160919541, 'C': 0.05747126436781609, 'D': 0.011494252873563218, 'E': 0.05747126436781609, 'F': 0.011494252873563218, 'G': 0.011494252873563218, 'H': 0.04597701149425287, 'I': 0.04597701149425287, 'K': 0.05747126436781609, 'L': 0.21839080459770116, 'M': 0.034482758620689655, 'N': 0.022988505747126436, 'P': 0.034482758620689655, 'Q': 0.09195402298850575, 'R': 0.0, 'S': 0.022988505747126436, 'T': 0.05747126436781609, 'V': 0.06896551724137931, 'W': 0.011494252873563218, 'Y': 0.011494252873563218}\n",
      "Aromaticity =  0.034482758620689655\n",
      "Isoelectric point =  6.440846824645996\n",
      "\n",
      "\n",
      "Amino acids percent =     {'A': 0.07142857142857142, 'C': 0.023809523809523808, 'D': 0.0, 'E': 0.0, 'F': 0.0, 'G': 0.023809523809523808, 'H': 0.023809523809523808, 'I': 0.0, 'K': 0.14285714285714285, 'L': 0.2857142857142857, 'M': 0.023809523809523808, 'N': 0.11904761904761904, 'P': 0.023809523809523808, 'Q': 0.0, 'R': 0.09523809523809523, 'S': 0.07142857142857142, 'T': 0.047619047619047616, 'V': 0.047619047619047616, 'W': 0.0, 'Y': 0.0}\n",
      "Aromaticity =  0.0\n",
      "Isoelectric point =  11.999967765808105\n",
      "\n",
      "\n",
      "Amino acids percent =     {'A': 0.05, 'C': 0.0, 'D': 0.05, 'E': 0.05, 'F': 0.0, 'G': 0.05, 'H': 0.05, 'I': 0.05, 'K': 0.15, 'L': 0.1, 'M': 0.0, 'N': 0.1, 'P': 0.05, 'Q': 0.05, 'R': 0.05, 'S': 0.05, 'T': 0.05, 'V': 0.1, 'W': 0.0, 'Y': 0.0}\n",
      "Aromaticity =  0.0\n",
      "Isoelectric point =  9.699929237365723\n",
      "\n",
      "\n",
      "Amino acids percent =     {'A': 0.07692307692307693, 'C': 0.02564102564102564, 'D': 0.02564102564102564, 'E': 0.07692307692307693, 'F': 0.0, 'G': 0.05128205128205128, 'H': 0.05128205128205128, 'I': 0.05128205128205128, 'K': 0.07692307692307693, 'L': 0.15384615384615385, 'M': 0.0, 'N': 0.05128205128205128, 'P': 0.05128205128205128, 'Q': 0.02564102564102564, 'R': 0.1282051282051282, 'S': 0.10256410256410256, 'T': 0.02564102564102564, 'V': 0.0, 'W': 0.02564102564102564, 'Y': 0.0}\n",
      "Aromaticity =  0.02564102564102564\n",
      "Isoelectric point =  10.274407005310056\n",
      "\n",
      "\n",
      "Amino acids percent =     {'A': 0.0, 'C': 0.047619047619047616, 'D': 0.0, 'E': 0.0, 'F': 0.047619047619047616, 'G': 0.0, 'H': 0.0, 'I': 0.14285714285714285, 'K': 0.14285714285714285, 'L': 0.0, 'M': 0.047619047619047616, 'N': 0.047619047619047616, 'P': 0.09523809523809523, 'Q': 0.09523809523809523, 'R': 0.0, 'S': 0.14285714285714285, 'T': 0.09523809523809523, 'V': 0.047619047619047616, 'W': 0.047619047619047616, 'Y': 0.0}\n",
      "Aromaticity =  0.09523809523809523\n",
      "Isoelectric point =  9.805657386779785\n",
      "\n",
      "\n",
      "Amino acids percent =     {'A': 0.0, 'C': 0.017543859649122806, 'D': 0.017543859649122806, 'E': 0.0, 'F': 0.03508771929824561, 'G': 0.0, 'H': 0.05263157894736842, 'I': 0.07017543859649122, 'K': 0.10526315789473684, 'L': 0.14035087719298245, 'M': 0.03508771929824561, 'N': 0.08771929824561403, 'P': 0.05263157894736842, 'Q': 0.05263157894736842, 'R': 0.14035087719298245, 'S': 0.08771929824561403, 'T': 0.05263157894736842, 'V': 0.0, 'W': 0.017543859649122806, 'Y': 0.017543859649122806}\n",
      "Aromaticity =  0.07017543859649122\n",
      "Isoelectric point =  11.999967765808105\n",
      "\n",
      "\n",
      "Amino acids percent =     {'A': 0.1, 'C': 0.0, 'D': 0.0, 'E': 0.0, 'F': 0.0, 'G': 0.05, 'H': 0.0, 'I': 0.05, 'K': 0.05, 'L': 0.15, 'M': 0.05, 'N': 0.0, 'P': 0.05, 'Q': 0.15, 'R': 0.1, 'S': 0.0, 'T': 0.15, 'V': 0.05, 'W': 0.05, 'Y': 0.0}\n",
      "Aromaticity =  0.05\n",
      "Isoelectric point =  11.999967765808105\n",
      "\n",
      "\n",
      "Amino acids percent =     {'A': 0.03333333333333333, 'C': 0.06666666666666667, 'D': 0.06666666666666667, 'E': 0.13333333333333333, 'F': 0.03333333333333333, 'G': 0.03333333333333333, 'H': 0.1, 'I': 0.03333333333333333, 'K': 0.03333333333333333, 'L': 0.03333333333333333, 'M': 0.0, 'N': 0.03333333333333333, 'P': 0.06666666666666667, 'Q': 0.03333333333333333, 'R': 0.1, 'S': 0.06666666666666667, 'T': 0.0, 'V': 0.06666666666666667, 'W': 0.0, 'Y': 0.06666666666666667}\n",
      "Aromaticity =  0.1\n",
      "Isoelectric point =  5.776967430114746\n"
     ]
    }
   ],
   "source": [
    "from __future__ import division\n",
    "poi_list = []\n",
    "from Bio.SeqUtils import ProtParam\n",
    "for record in aa[:]:\n",
    "    if len(record) >= 20:\n",
    "        print(\"\\n\")\n",
    "        X = ProtParam.ProteinAnalysis(str(record))\n",
    "        POI = X.count_amino_acids()\n",
    "        poi_list.append(POI)\n",
    "        print(\"Amino acids percent =    \", str(X.get_amino_acids_percent()))\n",
    "        print(\"Aromaticity = \", X.aromaticity())\n",
    "        print(\"Isoelectric point = \", X.isoelectric_point())"
   ]
  },
  {
   "cell_type": "code",
   "execution_count": 100,
   "id": "468a259e-2f5f-41af-bc22-7ef2b7188a8c",
   "metadata": {
    "tags": []
   },
   "outputs": [
    {
     "name": "stdout",
     "output_type": "stream",
     "text": [
      "Help on module Bio.SeqUtils.ProtParam in Bio.SeqUtils:\n",
      "\n",
      "NAME\n",
      "    Bio.SeqUtils.ProtParam - Simple protein analysis.\n",
      "\n",
      "DESCRIPTION\n",
      "    Examples\n",
      "    --------\n",
      "    >>> from Bio.SeqUtils.ProtParam import ProteinAnalysis\n",
      "    >>> X = ProteinAnalysis(\"MAEGEITTFTALTEKFNLPPGNYKKPKLLYCSNGGHFLRILPDGTVDGT\"\n",
      "    ...                     \"RDRSDQHIQLQLSAESVGEVYIKSTETGQYLAMDTSGLLYGSQTPSEEC\"\n",
      "    ...                     \"LFLERLEENHYNTYTSKKHAEKNWFVGLKKNGSCKRGPRTHYGQKAILF\"\n",
      "    ...                     \"LPLPV\")\n",
      "    >>> print(X.count_amino_acids()['A'])\n",
      "    6\n",
      "    >>> print(X.count_amino_acids()['E'])\n",
      "    12\n",
      "    >>> print(\"%0.2f\" % X.get_amino_acids_percent()['A'])\n",
      "    0.04\n",
      "    >>> print(\"%0.2f\" % X.get_amino_acids_percent()['L'])\n",
      "    0.12\n",
      "    >>> print(\"%0.2f\" % X.molecular_weight())\n",
      "    17103.16\n",
      "    >>> print(\"%0.2f\" % X.aromaticity())\n",
      "    0.10\n",
      "    >>> print(\"%0.2f\" % X.instability_index())\n",
      "    41.98\n",
      "    >>> print(\"%0.2f\" % X.isoelectric_point())\n",
      "    7.72\n",
      "    >>> sec_struc = X.secondary_structure_fraction()  # [helix, turn, sheet]\n",
      "    >>> print(\"%0.2f\" % sec_struc[0])  # helix\n",
      "    0.28\n",
      "    >>> epsilon_prot = X.molar_extinction_coefficient()  # [reduced, oxidized]\n",
      "    >>> print(epsilon_prot[0])  # with reduced cysteines\n",
      "    17420\n",
      "    >>> print(epsilon_prot[1])  # with disulfid bridges\n",
      "    17545\n",
      "    \n",
      "    Other public methods are:\n",
      "     - gravy\n",
      "     - protein_scale\n",
      "     - flexibility\n",
      "     - charge_at_pH\n",
      "\n",
      "CLASSES\n",
      "    builtins.object\n",
      "        ProteinAnalysis\n",
      "    \n",
      "    class ProteinAnalysis(builtins.object)\n",
      "     |  Class containing methods for protein analysis.\n",
      "     |  \n",
      "     |  The constructor takes two arguments.\n",
      "     |  The first is the protein sequence as a string, which is then converted to a\n",
      "     |  sequence object using the Bio.Seq module. This is done just to make sure\n",
      "     |  the sequence is a protein sequence and not anything else.\n",
      "     |  \n",
      "     |  The second argument is optional. If set to True, the weight of the amino\n",
      "     |  acids will be calculated using their monoisotopic mass (the weight of the\n",
      "     |  most abundant isotopes for each element), instead of the average molecular\n",
      "     |  mass (the averaged weight of all stable isotopes for each element).\n",
      "     |  If set to false (the default value) or left out, the IUPAC average\n",
      "     |  molecular mass will be used for the calculation.\n",
      "     |  \n",
      "     |  Methods defined here:\n",
      "     |  \n",
      "     |  __init__(self, prot_sequence, monoisotopic=False)\n",
      "     |      Initialize the class.\n",
      "     |  \n",
      "     |  aromaticity(self)\n",
      "     |      Calculate the aromaticity according to Lobry, 1994.\n",
      "     |      \n",
      "     |      Calculates the aromaticity value of a protein according to Lobry, 1994.\n",
      "     |      It is simply the relative frequency of Phe+Trp+Tyr.\n",
      "     |  \n",
      "     |  charge_at_pH(self, pH)\n",
      "     |      Calculate the charge of a protein at given pH.\n",
      "     |  \n",
      "     |  count_amino_acids(self)\n",
      "     |      Count standard amino acids, return a dict.\n",
      "     |      \n",
      "     |      Counts the number times each amino acid is in the protein\n",
      "     |      sequence. Returns a dictionary {AminoAcid:Number}.\n",
      "     |      \n",
      "     |      The return value is cached in self.amino_acids_content.\n",
      "     |      It is not recalculated upon subsequent calls.\n",
      "     |  \n",
      "     |  flexibility(self)\n",
      "     |      Calculate the flexibility according to Vihinen, 1994.\n",
      "     |      \n",
      "     |      No argument to change window size because parameters are specific for\n",
      "     |      a window=9. The parameters used are optimized for determining the\n",
      "     |      flexibility.\n",
      "     |  \n",
      "     |  get_amino_acids_percent(self)\n",
      "     |      Calculate the amino acid content in percentages.\n",
      "     |      \n",
      "     |      The same as count_amino_acids only returns the Number in percentage of\n",
      "     |      entire sequence. Returns a dictionary of {AminoAcid:percentage}.\n",
      "     |      \n",
      "     |      The return value is cached in self.amino_acids_percent.\n",
      "     |      \n",
      "     |      input is the dictionary self.amino_acids_content.\n",
      "     |      output is a dictionary with amino acids as keys.\n",
      "     |  \n",
      "     |  gravy(self, scale='KyteDoolitle')\n",
      "     |      Calculate the GRAVY (Grand Average of Hydropathy) according to Kyte and Doolitle, 1982.\n",
      "     |      \n",
      "     |      Utilizes the given Hydrophobicity scale, by default uses the original\n",
      "     |      proposed by Kyte and Doolittle (KyteDoolitle). Other options are:\n",
      "     |      Aboderin, AbrahamLeo, Argos, BlackMould, BullBreese, Casari, Cid,\n",
      "     |      Cowan3.4, Cowan7.5, Eisenberg, Engelman, Fasman, Fauchere, GoldSack,\n",
      "     |      Guy, Jones, Juretic, Kidera, Miyazawa, Parker,Ponnuswamy, Rose,\n",
      "     |      Roseman, Sweet, Tanford, Wilson and Zimmerman.\n",
      "     |      \n",
      "     |      New scales can be added in ProtParamData.\n",
      "     |  \n",
      "     |  instability_index(self)\n",
      "     |      Calculate the instability index according to Guruprasad et al 1990.\n",
      "     |      \n",
      "     |      Implementation of the method of Guruprasad et al. 1990 to test a\n",
      "     |      protein for stability. Any value above 40 means the protein is unstable\n",
      "     |      (has a short half life).\n",
      "     |      \n",
      "     |      See: Guruprasad K., Reddy B.V.B., Pandit M.W.\n",
      "     |      Protein Engineering 4:155-161(1990).\n",
      "     |  \n",
      "     |  isoelectric_point(self)\n",
      "     |      Calculate the isoelectric point.\n",
      "     |      \n",
      "     |      Uses the module IsoelectricPoint to calculate the pI of a protein.\n",
      "     |  \n",
      "     |  molar_extinction_coefficient(self)\n",
      "     |      Calculate the molar extinction coefficient.\n",
      "     |      \n",
      "     |      Calculates the molar extinction coefficient assuming cysteines\n",
      "     |      (reduced) and cystines residues (Cys-Cys-bond)\n",
      "     |  \n",
      "     |  molecular_weight(self)\n",
      "     |      Calculate MW from Protein sequence.\n",
      "     |  \n",
      "     |  protein_scale(self, param_dict, window, edge=1.0)\n",
      "     |      Compute a profile by any amino acid scale.\n",
      "     |      \n",
      "     |      An amino acid scale is defined by a numerical value assigned to each\n",
      "     |      type of amino acid. The most frequently used scales are the\n",
      "     |      hydrophobicity or hydrophilicity scales and the secondary structure\n",
      "     |      conformational parameters scales, but many other scales exist which\n",
      "     |      are based on different chemical and physical properties of the\n",
      "     |      amino acids.  You can set several parameters that control the\n",
      "     |      computation of a scale profile, such as the window size and the window\n",
      "     |      edge relative weight value.\n",
      "     |      \n",
      "     |      WindowSize: The window size is the length of the interval to use for\n",
      "     |      the profile computation. For a window size n, we use the i-(n-1)/2\n",
      "     |      neighboring residues on each side to compute the score for residue i.\n",
      "     |      The score for residue i is the sum of the scaled values for these\n",
      "     |      amino acids, optionally weighted according to their position in the\n",
      "     |      window.\n",
      "     |      \n",
      "     |      Edge: The central amino acid of the window always has a weight of 1.\n",
      "     |      By default, the amino acids at the remaining window positions have the\n",
      "     |      same weight, but you can make the residue at the center of the window\n",
      "     |      have a larger weight than the others by setting the edge value for the\n",
      "     |      residues at the beginning and end of the interval to a value between\n",
      "     |      0 and 1. For instance, for Edge=0.4 and a window size of 5 the weights\n",
      "     |      will be: 0.4, 0.7, 1.0, 0.7, 0.4.\n",
      "     |      \n",
      "     |      The method returns a list of values which can be plotted to view the\n",
      "     |      change along a protein sequence.  Many scales exist. Just add your\n",
      "     |      favorites to the ProtParamData modules.\n",
      "     |      \n",
      "     |      Similar to expasy's ProtScale:\n",
      "     |      http://www.expasy.org/cgi-bin/protscale.pl\n",
      "     |  \n",
      "     |  secondary_structure_fraction(self)\n",
      "     |      Calculate fraction of helix, turn and sheet.\n",
      "     |      \n",
      "     |      Returns a list of the fraction of amino acids which tend\n",
      "     |      to be in Helix, Turn or Sheet.\n",
      "     |      \n",
      "     |      Amino acids in helix: V, I, Y, F, W, L.\n",
      "     |      Amino acids in Turn: N, P, G, S.\n",
      "     |      Amino acids in sheet: E, M, A, L.\n",
      "     |      \n",
      "     |      Returns a tuple of three floats (Helix, Turn, Sheet).\n",
      "     |  \n",
      "     |  ----------------------------------------------------------------------\n",
      "     |  Data descriptors defined here:\n",
      "     |  \n",
      "     |  __dict__\n",
      "     |      dictionary for instance variables (if defined)\n",
      "     |  \n",
      "     |  __weakref__\n",
      "     |      list of weak references to the object (if defined)\n",
      "\n",
      "FILE\n",
      "    /home/baloglu/.local/lib/python3.6/site-packages/Bio/SeqUtils/ProtParam.py\n",
      "\n",
      "\n"
     ]
    }
   ],
   "source": [
    "help(ProtParam)"
   ]
  },
  {
   "cell_type": "code",
   "execution_count": 101,
   "id": "785b2d34-7281-409b-8ad7-ca1f63cc628e",
   "metadata": {},
   "outputs": [],
   "source": [
    "# let's compare viral sequences with each other\n",
    "\n",
    "from Bio import pairwise2\n",
    "\n",
    "SARS = SeqIO.read(\"../datasets/SARS.fna\", \"fasta\")\n",
    "MERS = SeqIO.read(\"../datasets/MERS.fna\", \"fasta\")\n",
    "COV2 = SeqIO.read(\"../datasets/W4_sequence.fasta\", \"fasta\") #SARS-CoV2 sequence\n"
   ]
  },
  {
   "cell_type": "code",
   "execution_count": 103,
   "id": "0f20a08b-8df8-47e7-9a84-7fe7ebd11796",
   "metadata": {},
   "outputs": [
    {
     "name": "stdout",
     "output_type": "stream",
     "text": [
      "SARS/COV Similarity (%): 83.33837518066619\n",
      "MERS/COV Similarity (%): 69.39141405757164\n",
      "MERS/SARS Similarity (%): 69.93714496991697\n"
     ]
    }
   ],
   "source": [
    "# Alignments using pairwise2 algorithm\n",
    "\n",
    "SARS_COV = pairwise2.align.globalxx(SARS.seq, COV2.seq, one_alignment_only=True, score_only=True)\n",
    "print('SARS/COV Similarity (%):', SARS_COV / len(SARS.seq) * 100)\n",
    "\n",
    "MERS_COV = pairwise2.align.globalxx(MERS.seq, COV2.seq, one_alignment_only=True, score_only=True)\n",
    "print('MERS/COV Similarity (%):', MERS_COV / len(MERS.seq) * 100)\n",
    "\n",
    "MERS_SARS = pairwise2.align.globalxx(MERS.seq, SARS.seq, one_alignment_only=True, score_only=True)\n",
    "print('MERS/SARS Similarity (%):', MERS_SARS / len(SARS.seq) * 100)\n"
   ]
  },
  {
   "cell_type": "code",
   "execution_count": 104,
   "id": "e1308b67-249c-41da-8946-8749bd0e7a06",
   "metadata": {},
   "outputs": [
    {
     "data": {
      "image/png": "[encoded data removed]",
      "text/plain": [
       "<Figure size 432x288 with 1 Axes>"
      ]
     },
     "metadata": {
      "needs_background": "light"
     },
     "output_type": "display_data"
    }
   ],
   "source": [
    "# Plot the data\n",
    "import matplotlib.pyplot as plt\n",
    "X = ['SARS/COV2', 'MERS/COV2', 'MERS/SARS']\n",
    "Y = [SARS_COV/ len(SARS.seq) * 100, MERS_COV/ len(MERS.seq)*100, MERS_SARS/len(SARS.seq)*100]\n",
    "plt.title('Sequence identity (%)')\n",
    "plt.bar(X,Y);"
   ]
  },
  {
   "cell_type": "code",
   "execution_count": null,
   "id": "6ad3086a-f3b9-4f3b-9d6e-84b99264c404",
   "metadata": {},
   "outputs": [],
   "source": [
    "# How does the sequence alignment work? What makes it time consuming?"
   ]
  },
  {
   "cell_type": "code",
   "execution_count": null,
   "id": "301ef9cf-91b3-40c4-9ce7-990c928cf4e4",
   "metadata": {},
   "outputs": [],
   "source": []
  }
 ],
 "metadata": {
  "kernelspec": {
   "display_name": "Python 3",
   "language": "python",
   "name": "python3"
  },
  "language_info": {
   "codemirror_mode": {
    "name": "ipython",
    "version": 3
   },
   "file_extension": ".py",
   "mimetype": "text/x-python",
   "name": "python",
   "nbconvert_exporter": "python",
   "pygments_lexer": "ipython3",
   "version": "3.6.8"
  }
 },
 "nbformat": 4,
 "nbformat_minor": 5
}
