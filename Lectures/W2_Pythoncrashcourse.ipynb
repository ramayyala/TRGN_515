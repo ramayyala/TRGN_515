{
 "cells": [
  {
   "cell_type": "markdown",
   "id": "f786e30a-eb14-4ecf-a956-d5c306da99c7",
   "metadata": {},
   "source": [
    "# PART 4"
   ]
  },
  {
   "cell_type": "markdown",
   "id": "86348897-bb80-4b02-889a-887331d73865",
   "metadata": {},
   "source": [
    "## **[Dictionaries](https://docs.python.org/3/library/stdtypes.html#dict)**"
   ]
  },
  {
   "cell_type": "code",
   "execution_count": 106,
   "id": "dfe19f37-1b2e-4057-8ef4-7c4e27d4f1f3",
   "metadata": {},
   "outputs": [
    {
     "name": "stdout",
     "output_type": "stream",
     "text": [
      "dict: {}, type: <class 'dict'>\n"
     ]
    }
   ],
   "source": [
    "my_first_dict = {}  #or another method: my_first_dict = dict()\n",
    "print('dict: {}, type: {}'.format(my_first_dict, type(my_first_dict)))"
   ]
  },
  {
   "cell_type": "markdown",
   "id": "1eb1da88-090b-4bb6-91a1-ba4d5e240bc4",
   "metadata": {},
   "source": [
    "### Initialization"
   ]
  },
  {
   "cell_type": "code",
   "execution_count": 107,
   "id": "b00d97a3-03cb-4fc3-b831-8d25b18a4957",
   "metadata": {},
   "outputs": [
    {
     "name": "stdout",
     "output_type": "stream",
     "text": [
      "{'key1': 2, 'key2': 4, 'key3': 6}\n",
      "{'key1': 2, 'key2': 4, 'key3': 6}\n",
      "equal: True\n",
      "length: 3\n"
     ]
    }
   ],
   "source": [
    "dict1 = {'key1': 2, 'key2': 4, 'key3': 6}\n",
    "my_second_dict = dict(key1 = 2, key2 = 4, key3 = 6)\n",
    "\n",
    "print(dict1)\n",
    "print(my_second_dict)\n",
    "\n",
    "print('equal: {}'.format(dict1 == my_second_dict))\n",
    "print('length: {}'.format(len(dict1)))"
   ]
  },
  {
   "cell_type": "code",
   "execution_count": 111,
   "id": "16be2b96-da5f-4cf2-9386-a5e1cb4cc823",
   "metadata": {},
   "outputs": [
    {
     "name": "stdout",
     "output_type": "stream",
     "text": [
      "{'Subaru': 'Japanese', 'Tesla': 'American', 'Mercedes': 'German'}\n"
     ]
    }
   ],
   "source": [
    "my_dict = {\n",
    "    'Subaru' : 'Japanese',\n",
    "    'Tesla' : 'American',\n",
    "    'Mercedes' : 'German',\n",
    "}\n",
    "\n",
    "print(my_dict)"
   ]
  },
  {
   "cell_type": "code",
   "execution_count": 112,
   "id": "c7496329-b95c-4ab3-9eaf-a9b1bd19f1b9",
   "metadata": {
    "collapsed": true,
    "jupyter": {
     "outputs_hidden": true
    },
    "tags": []
   },
   "outputs": [
    {
     "name": "stdout",
     "output_type": "stream",
     "text": [
      "Help on built-in function format in module builtins:\n",
      "\n",
      "format(value, format_spec='', /)\n",
      "    Return value.__format__(format_spec)\n",
      "    \n",
      "    format_spec defaults to the empty string.\n",
      "    See the Format Specification Mini-Language section of help('FORMATTING') for\n",
      "    details.\n",
      "\n",
      "Format String Syntax\n",
      "********************\n",
      "\n",
      "The \"str.format()\" method and the \"Formatter\" class share the same\n",
      "syntax for format strings (although in the case of \"Formatter\",\n",
      "subclasses can define their own format string syntax).  The syntax is\n",
      "related to that of formatted string literals, but there are\n",
      "differences.\n",
      "\n",
      "Format strings contain “replacement fields” surrounded by curly braces\n",
      "\"{}\". Anything that is not contained in braces is considered literal\n",
      "text, which is copied unchanged to the output.  If you need to include\n",
      "a brace character in the literal text, it can be escaped by doubling:\n",
      "\"{{\" and \"}}\".\n",
      "\n",
      "The grammar for a replacement field is as follows:\n",
      "\n",
      "      replacement_field ::= \"{\" [field_name] [\"!\" conversion] [\":\" format_spec] \"}\"\n",
      "      field_name        ::= arg_name (\".\" attribute_name | \"[\" element_index \"]\")*\n",
      "      arg_name          ::= [identifier | digit+]\n",
      "      attribute_name    ::= identifier\n",
      "      element_index     ::= digit+ | index_string\n",
      "      index_string      ::= <any source character except \"]\"> +\n",
      "      conversion        ::= \"r\" | \"s\" | \"a\"\n",
      "      format_spec       ::= <described in the next section>\n",
      "\n",
      "In less formal terms, the replacement field can start with a\n",
      "*field_name* that specifies the object whose value is to be formatted\n",
      "and inserted into the output instead of the replacement field. The\n",
      "*field_name* is optionally followed by a  *conversion* field, which is\n",
      "preceded by an exclamation point \"'!'\", and a *format_spec*, which is\n",
      "preceded by a colon \"':'\".  These specify a non-default format for the\n",
      "replacement value.\n",
      "\n",
      "See also the Format Specification Mini-Language section.\n",
      "\n",
      "The *field_name* itself begins with an *arg_name* that is either a\n",
      "number or a keyword.  If it’s a number, it refers to a positional\n",
      "argument, and if it’s a keyword, it refers to a named keyword\n",
      "argument.  If the numerical arg_names in a format string are 0, 1, 2,\n",
      "… in sequence, they can all be omitted (not just some) and the numbers\n",
      "0, 1, 2, … will be automatically inserted in that order. Because\n",
      "*arg_name* is not quote-delimited, it is not possible to specify\n",
      "arbitrary dictionary keys (e.g., the strings \"'10'\" or \"':-]'\") within\n",
      "a format string. The *arg_name* can be followed by any number of index\n",
      "or attribute expressions. An expression of the form \"'.name'\" selects\n",
      "the named attribute using \"getattr()\", while an expression of the form\n",
      "\"'[index]'\" does an index lookup using \"__getitem__()\".\n",
      "\n",
      "Changed in version 3.1: The positional argument specifiers can be\n",
      "omitted for \"str.format()\", so \"'{} {}'.format(a, b)\" is equivalent to\n",
      "\"'{0} {1}'.format(a, b)\".\n",
      "\n",
      "Changed in version 3.4: The positional argument specifiers can be\n",
      "omitted for \"Formatter\".\n",
      "\n",
      "Some simple format string examples:\n",
      "\n",
      "   \"First, thou shalt count to {0}\"  # References first positional argument\n",
      "   \"Bring me a {}\"                   # Implicitly references the first positional argument\n",
      "   \"From {} to {}\"                   # Same as \"From {0} to {1}\"\n",
      "   \"My quest is {name}\"              # References keyword argument 'name'\n",
      "   \"Weight in tons {0.weight}\"       # 'weight' attribute of first positional arg\n",
      "   \"Units destroyed: {players[0]}\"   # First element of keyword argument 'players'.\n",
      "\n",
      "The *conversion* field causes a type coercion before formatting.\n",
      "Normally, the job of formatting a value is done by the \"__format__()\"\n",
      "method of the value itself.  However, in some cases it is desirable to\n",
      "force a type to be formatted as a string, overriding its own\n",
      "definition of formatting.  By converting the value to a string before\n",
      "calling \"__format__()\", the normal formatting logic is bypassed.\n",
      "\n",
      "Three conversion flags are currently supported: \"'!s'\" which calls\n",
      "\"str()\" on the value, \"'!r'\" which calls \"repr()\" and \"'!a'\" which\n",
      "calls \"ascii()\".\n",
      "\n",
      "Some examples:\n",
      "\n",
      "   \"Harold's a clever {0!s}\"        # Calls str() on the argument first\n",
      "   \"Bring out the holy {name!r}\"    # Calls repr() on the argument first\n",
      "   \"More {!a}\"                      # Calls ascii() on the argument first\n",
      "\n",
      "The *format_spec* field contains a specification of how the value\n",
      "should be presented, including such details as field width, alignment,\n",
      "padding, decimal precision and so on.  Each value type can define its\n",
      "own “formatting mini-language” or interpretation of the *format_spec*.\n",
      "\n",
      "Most built-in types support a common formatting mini-language, which\n",
      "is described in the next section.\n",
      "\n",
      "A *format_spec* field can also include nested replacement fields\n",
      "within it. These nested replacement fields may contain a field name,\n",
      "conversion flag and format specification, but deeper nesting is not\n",
      "allowed.  The replacement fields within the format_spec are\n",
      "substituted before the *format_spec* string is interpreted. This\n",
      "allows the formatting of a value to be dynamically specified.\n",
      "\n",
      "See the Format examples section for some examples.\n",
      "\n",
      "\n",
      "Format Specification Mini-Language\n",
      "==================================\n",
      "\n",
      "“Format specifications” are used within replacement fields contained\n",
      "within a format string to define how individual values are presented\n",
      "(see Format String Syntax and Formatted string literals). They can\n",
      "also be passed directly to the built-in \"format()\" function.  Each\n",
      "formattable type may define how the format specification is to be\n",
      "interpreted.\n",
      "\n",
      "Most built-in types implement the following options for format\n",
      "specifications, although some of the formatting options are only\n",
      "supported by the numeric types.\n",
      "\n",
      "A general convention is that an empty format string (\"\"\"\") produces\n",
      "the same result as if you had called \"str()\" on the value. A non-empty\n",
      "format string typically modifies the result.\n",
      "\n",
      "The general form of a *standard format specifier* is:\n",
      "\n",
      "   format_spec     ::= [[fill]align][sign][#][0][width][grouping_option][.precision][type]\n",
      "   fill            ::= <any character>\n",
      "   align           ::= \"<\" | \">\" | \"=\" | \"^\"\n",
      "   sign            ::= \"+\" | \"-\" | \" \"\n",
      "   width           ::= digit+\n",
      "   grouping_option ::= \"_\" | \",\"\n",
      "   precision       ::= digit+\n",
      "   type            ::= \"b\" | \"c\" | \"d\" | \"e\" | \"E\" | \"f\" | \"F\" | \"g\" | \"G\" | \"n\" | \"o\" | \"s\" | \"x\" | \"X\" | \"%\"\n",
      "\n",
      "If a valid *align* value is specified, it can be preceded by a *fill*\n",
      "character that can be any character and defaults to a space if\n",
      "omitted. It is not possible to use a literal curly brace (“\"{\"” or\n",
      "“\"}\"”) as the *fill* character in a formatted string literal or when\n",
      "using the \"str.format()\" method.  However, it is possible to insert a\n",
      "curly brace with a nested replacement field.  This limitation doesn’t\n",
      "affect the \"format()\" function.\n",
      "\n",
      "The meaning of the various alignment options is as follows:\n",
      "\n",
      "   +-----------+------------------------------------------------------------+\n",
      "   | Option    | Meaning                                                    |\n",
      "   +===========+============================================================+\n",
      "   | \"'<'\"     | Forces the field to be left-aligned within the available   |\n",
      "   |           | space (this is the default for most objects).              |\n",
      "   +-----------+------------------------------------------------------------+\n",
      "   | \"'>'\"     | Forces the field to be right-aligned within the available  |\n",
      "   |           | space (this is the default for numbers).                   |\n",
      "   +-----------+------------------------------------------------------------+\n",
      "   | \"'='\"     | Forces the padding to be placed after the sign (if any)    |\n",
      "   |           | but before the digits.  This is used for printing fields   |\n",
      "   |           | in the form ‘+000000120’. This alignment option is only    |\n",
      "   |           | valid for numeric types.  It becomes the default when ‘0’  |\n",
      "   |           | immediately precedes the field width.                      |\n",
      "   +-----------+------------------------------------------------------------+\n",
      "   | \"'^'\"     | Forces the field to be centered within the available       |\n",
      "   |           | space.                                                     |\n",
      "   +-----------+------------------------------------------------------------+\n",
      "\n",
      "Note that unless a minimum field width is defined, the field width\n",
      "will always be the same size as the data to fill it, so that the\n",
      "alignment option has no meaning in this case.\n",
      "\n",
      "The *sign* option is only valid for number types, and can be one of\n",
      "the following:\n",
      "\n",
      "   +-----------+------------------------------------------------------------+\n",
      "   | Option    | Meaning                                                    |\n",
      "   +===========+============================================================+\n",
      "   | \"'+'\"     | indicates that a sign should be used for both positive as  |\n",
      "   |           | well as negative numbers.                                  |\n",
      "   +-----------+------------------------------------------------------------+\n",
      "   | \"'-'\"     | indicates that a sign should be used only for negative     |\n",
      "   |           | numbers (this is the default behavior).                    |\n",
      "   +-----------+------------------------------------------------------------+\n",
      "   | space     | indicates that a leading space should be used on positive  |\n",
      "   |           | numbers, and a minus sign on negative numbers.             |\n",
      "   +-----------+------------------------------------------------------------+\n",
      "\n",
      "The \"'#'\" option causes the “alternate form” to be used for the\n",
      "conversion.  The alternate form is defined differently for different\n",
      "types.  This option is only valid for integer, float, complex and\n",
      "Decimal types. For integers, when binary, octal, or hexadecimal output\n",
      "is used, this option adds the prefix respective \"'0b'\", \"'0o'\", or\n",
      "\"'0x'\" to the output value. For floats, complex and Decimal the\n",
      "alternate form causes the result of the conversion to always contain a\n",
      "decimal-point character, even if no digits follow it. Normally, a\n",
      "decimal-point character appears in the result of these conversions\n",
      "only if a digit follows it. In addition, for \"'g'\" and \"'G'\"\n",
      "conversions, trailing zeros are not removed from the result.\n",
      "\n",
      "The \"','\" option signals the use of a comma for a thousands separator.\n",
      "For a locale aware separator, use the \"'n'\" integer presentation type\n",
      "instead.\n",
      "\n",
      "Changed in version 3.1: Added the \"','\" option (see also **PEP 378**).\n",
      "\n",
      "The \"'_'\" option signals the use of an underscore for a thousands\n",
      "separator for floating point presentation types and for integer\n",
      "presentation type \"'d'\".  For integer presentation types \"'b'\", \"'o'\",\n",
      "\"'x'\", and \"'X'\", underscores will be inserted every 4 digits.  For\n",
      "other presentation types, specifying this option is an error.\n",
      "\n",
      "Changed in version 3.6: Added the \"'_'\" option (see also **PEP 515**).\n",
      "\n",
      "*width* is a decimal integer defining the minimum field width.  If not\n",
      "specified, then the field width will be determined by the content.\n",
      "\n",
      "When no explicit alignment is given, preceding the *width* field by a\n",
      "zero (\"'0'\") character enables sign-aware zero-padding for numeric\n",
      "types.  This is equivalent to a *fill* character of \"'0'\" with an\n",
      "*alignment* type of \"'='\".\n",
      "\n",
      "The *precision* is a decimal number indicating how many digits should\n",
      "be displayed after the decimal point for a floating point value\n",
      "formatted with \"'f'\" and \"'F'\", or before and after the decimal point\n",
      "for a floating point value formatted with \"'g'\" or \"'G'\".  For non-\n",
      "number types the field indicates the maximum field size - in other\n",
      "words, how many characters will be used from the field content. The\n",
      "*precision* is not allowed for integer values.\n",
      "\n",
      "Finally, the *type* determines how the data should be presented.\n",
      "\n",
      "The available string presentation types are:\n",
      "\n",
      "   +-----------+------------------------------------------------------------+\n",
      "   | Type      | Meaning                                                    |\n",
      "   +===========+============================================================+\n",
      "   | \"'s'\"     | String format. This is the default type for strings and    |\n",
      "   |           | may be omitted.                                            |\n",
      "   +-----------+------------------------------------------------------------+\n",
      "   | None      | The same as \"'s'\".                                         |\n",
      "   +-----------+------------------------------------------------------------+\n",
      "\n",
      "The available integer presentation types are:\n",
      "\n",
      "   +-----------+------------------------------------------------------------+\n",
      "   | Type      | Meaning                                                    |\n",
      "   +===========+============================================================+\n",
      "   | \"'b'\"     | Binary format. Outputs the number in base 2.               |\n",
      "   +-----------+------------------------------------------------------------+\n",
      "   | \"'c'\"     | Character. Converts the integer to the corresponding       |\n",
      "   |           | unicode character before printing.                         |\n",
      "   +-----------+------------------------------------------------------------+\n",
      "   | \"'d'\"     | Decimal Integer. Outputs the number in base 10.            |\n",
      "   +-----------+------------------------------------------------------------+\n",
      "   | \"'o'\"     | Octal format. Outputs the number in base 8.                |\n",
      "   +-----------+------------------------------------------------------------+\n",
      "   | \"'x'\"     | Hex format. Outputs the number in base 16, using lower-    |\n",
      "   |           | case letters for the digits above 9.                       |\n",
      "   +-----------+------------------------------------------------------------+\n",
      "   | \"'X'\"     | Hex format. Outputs the number in base 16, using upper-    |\n",
      "   |           | case letters for the digits above 9.                       |\n",
      "   +-----------+------------------------------------------------------------+\n",
      "   | \"'n'\"     | Number. This is the same as \"'d'\", except that it uses the |\n",
      "   |           | current locale setting to insert the appropriate number    |\n",
      "   |           | separator characters.                                      |\n",
      "   +-----------+------------------------------------------------------------+\n",
      "   | None      | The same as \"'d'\".                                         |\n",
      "   +-----------+------------------------------------------------------------+\n",
      "\n",
      "In addition to the above presentation types, integers can be formatted\n",
      "with the floating point presentation types listed below (except \"'n'\"\n",
      "and \"None\"). When doing so, \"float()\" is used to convert the integer\n",
      "to a floating point number before formatting.\n",
      "\n",
      "The available presentation types for floating point and decimal values\n",
      "are:\n",
      "\n",
      "   +-----------+------------------------------------------------------------+\n",
      "   | Type      | Meaning                                                    |\n",
      "   +===========+============================================================+\n",
      "   | \"'e'\"     | Exponent notation. Prints the number in scientific         |\n",
      "   |           | notation using the letter ‘e’ to indicate the exponent.    |\n",
      "   |           | The default precision is \"6\".                              |\n",
      "   +-----------+------------------------------------------------------------+\n",
      "   | \"'E'\"     | Exponent notation. Same as \"'e'\" except it uses an upper   |\n",
      "   |           | case ‘E’ as the separator character.                       |\n",
      "   +-----------+------------------------------------------------------------+\n",
      "   | \"'f'\"     | Fixed-point notation. Displays the number as a fixed-point |\n",
      "   |           | number. The default precision is \"6\".                      |\n",
      "   +-----------+------------------------------------------------------------+\n",
      "   | \"'F'\"     | Fixed-point notation. Same as \"'f'\", but converts \"nan\" to |\n",
      "   |           | \"NAN\" and \"inf\" to \"INF\".                                  |\n",
      "   +-----------+------------------------------------------------------------+\n",
      "   | \"'g'\"     | General format.  For a given precision \"p >= 1\", this      |\n",
      "   |           | rounds the number to \"p\" significant digits and then       |\n",
      "   |           | formats the result in either fixed-point format or in      |\n",
      "   |           | scientific notation, depending on its magnitude.  The      |\n",
      "   |           | precise rules are as follows: suppose that the result      |\n",
      "   |           | formatted with presentation type \"'e'\" and precision \"p-1\" |\n",
      "   |           | would have exponent \"exp\".  Then if \"-4 <= exp < p\", the   |\n",
      "   |           | number is formatted with presentation type \"'f'\" and       |\n",
      "   |           | precision \"p-1-exp\".  Otherwise, the number is formatted   |\n",
      "   |           | with presentation type \"'e'\" and precision \"p-1\". In both  |\n",
      "   |           | cases insignificant trailing zeros are removed from the    |\n",
      "   |           | significand, and the decimal point is also removed if      |\n",
      "   |           | there are no remaining digits following it.  Positive and  |\n",
      "   |           | negative infinity, positive and negative zero, and nans,   |\n",
      "   |           | are formatted as \"inf\", \"-inf\", \"0\", \"-0\" and \"nan\"        |\n",
      "   |           | respectively, regardless of the precision.  A precision of |\n",
      "   |           | \"0\" is treated as equivalent to a precision of \"1\". The    |\n",
      "   |           | default precision is \"6\".                                  |\n",
      "   +-----------+------------------------------------------------------------+\n",
      "   | \"'G'\"     | General format. Same as \"'g'\" except switches to \"'E'\" if  |\n",
      "   |           | the number gets too large. The representations of infinity |\n",
      "   |           | and NaN are uppercased, too.                               |\n",
      "   +-----------+------------------------------------------------------------+\n",
      "   | \"'n'\"     | Number. This is the same as \"'g'\", except that it uses the |\n",
      "   |           | current locale setting to insert the appropriate number    |\n",
      "   |           | separator characters.                                      |\n",
      "   +-----------+------------------------------------------------------------+\n",
      "   | \"'%'\"     | Percentage. Multiplies the number by 100 and displays in   |\n",
      "   |           | fixed (\"'f'\") format, followed by a percent sign.          |\n",
      "   +-----------+------------------------------------------------------------+\n",
      "   | None      | Similar to \"'g'\", except that fixed-point notation, when   |\n",
      "   |           | used, has at least one digit past the decimal point. The   |\n",
      "   |           | default precision is as high as needed to represent the    |\n",
      "   |           | particular value. The overall effect is to match the       |\n",
      "   |           | output of \"str()\" as altered by the other format           |\n",
      "   |           | modifiers.                                                 |\n",
      "   +-----------+------------------------------------------------------------+\n",
      "\n",
      "\n",
      "Format examples\n",
      "===============\n",
      "\n",
      "This section contains examples of the \"str.format()\" syntax and\n",
      "comparison with the old \"%\"-formatting.\n",
      "\n",
      "In most of the cases the syntax is similar to the old \"%\"-formatting,\n",
      "with the addition of the \"{}\" and with \":\" used instead of \"%\". For\n",
      "example, \"'%03.2f'\" can be translated to \"'{:03.2f}'\".\n",
      "\n",
      "The new format syntax also supports new and different options, shown\n",
      "in the following examples.\n",
      "\n",
      "Accessing arguments by position:\n",
      "\n",
      "   >>> '{0}, {1}, {2}'.format('a', 'b', 'c')\n",
      "   'a, b, c'\n",
      "   >>> '{}, {}, {}'.format('a', 'b', 'c')  # 3.1+ only\n",
      "   'a, b, c'\n",
      "   >>> '{2}, {1}, {0}'.format('a', 'b', 'c')\n",
      "   'c, b, a'\n",
      "   >>> '{2}, {1}, {0}'.format(*'abc')      # unpacking argument sequence\n",
      "   'c, b, a'\n",
      "   >>> '{0}{1}{0}'.format('abra', 'cad')   # arguments' indices can be repeated\n",
      "   'abracadabra'\n",
      "\n",
      "Accessing arguments by name:\n",
      "\n",
      "   >>> 'Coordinates: {latitude}, {longitude}'.format(latitude='37.24N', longitude='-115.81W')\n",
      "   'Coordinates: 37.24N, -115.81W'\n",
      "   >>> coord = {'latitude': '37.24N', 'longitude': '-115.81W'}\n",
      "   >>> 'Coordinates: {latitude}, {longitude}'.format(**coord)\n",
      "   'Coordinates: 37.24N, -115.81W'\n",
      "\n",
      "Accessing arguments’ attributes:\n",
      "\n",
      "   >>> c = 3-5j\n",
      "   >>> ('The complex number {0} is formed from the real part {0.real} '\n",
      "   ...  'and the imaginary part {0.imag}.').format(c)\n",
      "   'The complex number (3-5j) is formed from the real part 3.0 and the imaginary part -5.0.'\n",
      "   >>> class Point:\n",
      "   ...     def __init__(self, x, y):\n",
      "   ...         self.x, self.y = x, y\n",
      "   ...     def __str__(self):\n",
      "   ...         return 'Point({self.x}, {self.y})'.format(self=self)\n",
      "   ...\n",
      "   >>> str(Point(4, 2))\n",
      "   'Point(4, 2)'\n",
      "\n",
      "Accessing arguments’ items:\n",
      "\n",
      "   >>> coord = (3, 5)\n",
      "   >>> 'X: {0[0]};  Y: {0[1]}'.format(coord)\n",
      "   'X: 3;  Y: 5'\n",
      "\n",
      "Replacing \"%s\" and \"%r\":\n",
      "\n",
      "   >>> \"repr() shows quotes: {!r}; str() doesn't: {!s}\".format('test1', 'test2')\n",
      "   \"repr() shows quotes: 'test1'; str() doesn't: test2\"\n",
      "\n",
      "Aligning the text and specifying a width:\n",
      "\n",
      "   >>> '{:<30}'.format('left aligned')\n",
      "   'left aligned                  '\n",
      "   >>> '{:>30}'.format('right aligned')\n",
      "   '                 right aligned'\n",
      "   >>> '{:^30}'.format('centered')\n",
      "   '           centered           '\n",
      "   >>> '{:*^30}'.format('centered')  # use '*' as a fill char\n",
      "   '***********centered***********'\n",
      "\n",
      "Replacing \"%+f\", \"%-f\", and \"% f\" and specifying a sign:\n",
      "\n",
      "   >>> '{:+f}; {:+f}'.format(3.14, -3.14)  # show it always\n",
      "   '+3.140000; -3.140000'\n",
      "   >>> '{: f}; {: f}'.format(3.14, -3.14)  # show a space for positive numbers\n",
      "   ' 3.140000; -3.140000'\n",
      "   >>> '{:-f}; {:-f}'.format(3.14, -3.14)  # show only the minus -- same as '{:f}; {:f}'\n",
      "   '3.140000; -3.140000'\n",
      "\n",
      "Replacing \"%x\" and \"%o\" and converting the value to different bases:\n",
      "\n",
      "   >>> # format also supports binary numbers\n",
      "   >>> \"int: {0:d};  hex: {0:x};  oct: {0:o};  bin: {0:b}\".format(42)\n",
      "   'int: 42;  hex: 2a;  oct: 52;  bin: 101010'\n",
      "   >>> # with 0x, 0o, or 0b as prefix:\n",
      "   >>> \"int: {0:d};  hex: {0:#x};  oct: {0:#o};  bin: {0:#b}\".format(42)\n",
      "   'int: 42;  hex: 0x2a;  oct: 0o52;  bin: 0b101010'\n",
      "\n",
      "Using the comma as a thousands separator:\n",
      "\n",
      "   >>> '{:,}'.format(1234567890)\n",
      "   '1,234,567,890'\n",
      "\n",
      "Expressing a percentage:\n",
      "\n",
      "   >>> points = 19\n",
      "   >>> total = 22\n",
      "   >>> 'Correct answers: {:.2%}'.format(points/total)\n",
      "   'Correct answers: 86.36%'\n",
      "\n",
      "Using type-specific formatting:\n",
      "\n",
      "   >>> import datetime\n",
      "   >>> d = datetime.datetime(2010, 7, 4, 12, 15, 58)\n",
      "   >>> '{:%Y-%m-%d %H:%M:%S}'.format(d)\n",
      "   '2010-07-04 12:15:58'\n",
      "\n",
      "Nesting arguments and more complex examples:\n",
      "\n",
      "   >>> for align, text in zip('<^>', ['left', 'center', 'right']):\n",
      "   ...     '{0:{fill}{align}16}'.format(text, fill=align, align=align)\n",
      "   ...\n",
      "   'left<<<<<<<<<<<<'\n",
      "   '^^^^^center^^^^^'\n",
      "   '>>>>>>>>>>>right'\n",
      "   >>>\n",
      "   >>> octets = [192, 168, 0, 1]\n",
      "   >>> '{:02X}{:02X}{:02X}{:02X}'.format(*octets)\n",
      "   'C0A80001'\n",
      "   >>> int(_, 16)\n",
      "   3232235521\n",
      "   >>>\n",
      "   >>> width = 5\n",
      "   >>> for num in range(5,12): \n",
      "   ...     for base in 'dXob':\n",
      "   ...         print('{0:{width}{base}}'.format(num, base=base, width=width), end=' ')\n",
      "   ...     print()\n",
      "   ...\n",
      "       5     5     5   101\n",
      "       6     6     6   110\n",
      "       7     7     7   111\n",
      "       8     8    10  1000\n",
      "       9     9    11  1001\n",
      "      10     A    12  1010\n",
      "      11     B    13  1011\n",
      "\n",
      "Related help topics: OPERATORS\n",
      "\n"
     ]
    }
   ],
   "source": [
    "help(format)\n",
    "help('FORMATTING')"
   ]
  },
  {
   "cell_type": "markdown",
   "id": "ba9e1928-d3f8-4191-9a08-70038a427dd8",
   "metadata": {},
   "source": [
    "## `dict.keys(), dict.values(), dict.items()`"
   ]
  },
  {
   "cell_type": "code",
   "execution_count": 113,
   "id": "f4b8ed3b-eb1f-4551-946c-b136314aeb42",
   "metadata": {},
   "outputs": [
    {
     "name": "stdout",
     "output_type": "stream",
     "text": [
      "keys: dict_keys(['key1', 'key2', 'key3'])\n",
      "values: dict_values([2, 4, 6])\n",
      "items: dict_items([('key1', 2), ('key2', 4), ('key3', 6)])\n"
     ]
    }
   ],
   "source": [
    "print('keys: {}'.format(my_second_dict.keys()))\n",
    "print('values: {}'.format(my_second_dict.values()))\n",
    "print('items: {}'.format(my_second_dict.items()))"
   ]
  },
  {
   "cell_type": "markdown",
   "id": "1cfbb485-fea7-4baa-9f8f-5b6989527ad3",
   "metadata": {},
   "source": [
    "### How to access the values of a dictionary and how to set new values?"
   ]
  },
  {
   "cell_type": "code",
   "execution_count": 117,
   "id": "31ed918c-3dda-4d14-9d55-f5c248ed8c1f",
   "metadata": {},
   "outputs": [
    {
     "name": "stdout",
     "output_type": "stream",
     "text": [
      "<class 'dict'>\n",
      "{'ratatouille': ['eggplant', 'tomato', 'zucchini', 'onion', 'olive oil', 'garlic'], 'homemade pasta': ['wheat', 'olive oil', 'sea salt']}\n",
      "ingredients for homemade pasta: ['wheat', 'olive oil', 'sea salt']\n"
     ]
    }
   ],
   "source": [
    "recipe_dict = dict()\n",
    "recipe_dict['ratatouille'] = ['eggplant', 'tomato', 'zucchini', 'onion', 'olive oil', 'garlic']\n",
    "recipe_dict['homemade pasta'] = ['semolina flour', 'olive oil', 'sea salt']\n",
    "recipe_dict['homemade pasta'] = ['wheat', 'olive oil', 'sea salt']  # we are changing the value that exists\n",
    "print(type(recipe_dict))\n",
    "print(recipe_dict)\n",
    "print('ingredients for homemade pasta: {}'.format(recipe_dict['homemade pasta']))\n"
   ]
  },
  {
   "cell_type": "markdown",
   "id": "af948d70-5d1b-439d-8e9c-b7086f11227f",
   "metadata": {},
   "source": [
    "Accessing a nonexistent key will raise `KeyError`:"
   ]
  },
  {
   "cell_type": "code",
   "execution_count": 120,
   "id": "84472729-cfb3-462c-9c9c-b8f604e909aa",
   "metadata": {},
   "outputs": [
    {
     "ename": "KeyError",
     "evalue": "'soup'",
     "output_type": "error",
     "traceback": [
      "\u001b[0;31m---------------------------------------------------------------------------\u001b[0m",
      "\u001b[0;31mKeyError\u001b[0m                                  Traceback (most recent call last)",
      "\u001b[0;32m<ipython-input-120-b79f1348acea>\u001b[0m in \u001b[0;36m<module>\u001b[0;34m\u001b[0m\n\u001b[0;32m----> 1\u001b[0;31m \u001b[0mprint\u001b[0m\u001b[0;34m(\u001b[0m\u001b[0mrecipe_dict\u001b[0m\u001b[0;34m[\u001b[0m\u001b[0;34m'soup'\u001b[0m\u001b[0;34m]\u001b[0m\u001b[0;34m[\u001b[0m\u001b[0;36m0\u001b[0m\u001b[0;34m]\u001b[0m\u001b[0;34m)\u001b[0m\u001b[0;34m\u001b[0m\u001b[0;34m\u001b[0m\u001b[0m\n\u001b[0m",
      "\u001b[0;31mKeyError\u001b[0m: 'soup'"
     ]
    }
   ],
   "source": [
    "print(recipe_dict['soup'][0])"
   ]
  },
  {
   "cell_type": "markdown",
   "id": "7cd5cba1-2ca6-4d4d-b8b4-462745157f79",
   "metadata": {},
   "source": [
    "### Deleting elements of dictionary"
   ]
  },
  {
   "cell_type": "code",
   "execution_count": null,
   "id": "3ae2d73d-9c5d-4e66-b697-f8de8dfe643f",
   "metadata": {},
   "outputs": [],
   "source": [
    "my_dict = {'key1': 3, 'key2': 9, 'key3': 15}\n",
    "del my_dict['key3']\n",
    "print(my_dict)\n",
    "\n",
    "# First check: Does the key exist? (hints: pop() ve popitem())\n",
    "key_to_delete = 'key3'\n",
    "if key_to_delete in my_dict:\n",
    "    del my_dict[key_to_delete]\n",
    "else:\n",
    "    print('{key} is not in {dictionary}'.format(key=key_to_delete, dictionary=my_dict)) #remember format"
   ]
  },
  {
   "cell_type": "code",
   "execution_count": null,
   "id": "3143cca7-81b7-4416-9a8b-3a7a11531970",
   "metadata": {},
   "outputs": [],
   "source": [
    "squares = {1: 1, 2: 4, 3: 9, 4: 16, 5: 25}\n",
    "print('dictionary before modification: ', squares)\n",
    "\n",
    "#let's remove a given element using pop method \n",
    "print(squares.pop(1))\n",
    "print(squares)\n",
    "\n",
    "#let's remove a random element\n",
    "print(squares.popitem()) # returns (key, value)\n",
    "print(squares)\n",
    "\n",
    "#let's remove all elements\n",
    "squares.clear() #result {}\n",
    "print(squares)\n",
    "\n",
    "#let's delete the dictionary\n",
    "del squares\n",
    "print(squares) #it will error out"
   ]
  },
  {
   "cell_type": "markdown",
   "id": "a520e47d-e69f-4044-bbc4-0431775afb89",
   "metadata": {},
   "source": [
    "### Dictionaries are mutable\n",
    "\n",
    "Which other data types are mutable?"
   ]
  },
  {
   "cell_type": "code",
   "execution_count": null,
   "id": "c3b32f29-6b12-4170-a5ed-602c8435ac70",
   "metadata": {},
   "outputs": [],
   "source": [
    "grades = {}.fromkeys(['week 1', 'week 2', 'week 3'], 88)\n",
    "print(grades)\n",
    "\n",
    "updated_grades = grades\n",
    "grades['week 2'] = 90\n",
    "grades['week 3'] = 92\n",
    "grades['week 4'] = 82\n",
    "print('grades: {}\\nupdated_grades: {}'.format(grades, updated_grades))\n",
    "print('equal: {}'.format(grades == updated_grades))"
   ]
  },
  {
   "cell_type": "code",
   "execution_count": null,
   "id": "bfbe7a9f-a3e1-4147-9189-a8849f064072",
   "metadata": {},
   "outputs": [],
   "source": [
    "help(dict.fromkeys)"
   ]
  },
  {
   "cell_type": "markdown",
   "id": "0f3932d7-376d-45d3-b703-676250518f84",
   "metadata": {},
   "source": [
    "If we prefer a copy, let's make a new `dict`:"
   ]
  },
  {
   "cell_type": "code",
   "execution_count": null,
   "id": "c553fe4c-1ef0-42b8-95f1-7ba7b98e5965",
   "metadata": {},
   "outputs": [],
   "source": [
    "grades = {}.fromkeys(['week 1', 'week 2', 'week 3'], 88)\n",
    "updated_grades = dict(grades)\n",
    "grades['week 2'] = 90\n",
    "grades['week 3'] = 92\n",
    "print('grades: {}\\nupdated_grades: {}'.format(grades, updated_grades))\n",
    "print('equal: {}'.format(grades == updated_grades))"
   ]
  },
  {
   "cell_type": "markdown",
   "id": "fc20a58b-ae3f-49b9-b6fa-fb6e1f35cca4",
   "metadata": {},
   "source": [
    "### `dict.get()`\n",
    "\n",
    "Returns `None` if `key` is not in `dict`. However, you can also specify default return value which will be returned if `key` is not present in the `dict`."
   ]
  },
  {
   "cell_type": "code",
   "execution_count": null,
   "id": "0888051f-6ab8-4fa1-929c-d0ff5d859534",
   "metadata": {},
   "outputs": [],
   "source": [
    "my_dict = {'a': 1, 'b': 2, 'c': 3}\n",
    "d = my_dict.get('d')\n",
    "print('d: {}'.format(d))\n",
    "\n",
    "d = my_dict.get('d', 'temporary values for d')\n",
    "print('d: {}'.format(d))"
   ]
  },
  {
   "cell_type": "code",
   "execution_count": null,
   "id": "852a13b8-b091-4d55-8b48-3aeed8494d0b",
   "metadata": {},
   "outputs": [],
   "source": [
    "help(dict.get)"
   ]
  },
  {
   "cell_type": "markdown",
   "id": "c76e947c-feec-410f-9d17-95abdac4f000",
   "metadata": {},
   "source": [
    "## `dict.pop()`"
   ]
  },
  {
   "cell_type": "code",
   "execution_count": null,
   "id": "fec55118-2420-46ad-9bf0-eb4171e8b01e",
   "metadata": {},
   "outputs": [],
   "source": [
    "enzymes = {}\n",
    "enzymes['EcoRI'] = r'GAATTC'\n",
    "enzymes['AvaII'] =  r'GG(A|T)CC'\n",
    "enzymes['BisI'] =  r'GC[ATGC]GC'\n",
    "print('enzymes dictionary before pop method: {}'.format(enzymes))\n",
    "\n",
    "\n",
    "#let's remove an element using pop, it will shows its value \n",
    "EcoRI = enzymes.pop('EcoRI')\n",
    "print('EcoRI: {}'.format(EcoRI))\n",
    "print('enzymes dictionary after removing EcoRI: {}'.format(enzymes))\n",
    "\n"
   ]
  },
  {
   "cell_type": "markdown",
   "id": "989b2458-66c2-41af-b8ee-129c2a1398b8",
   "metadata": {},
   "source": [
    "### `dict.setdefault()`\n",
    "\n",
    "Returns the `value` of `key` defined as first parameter. If the `key` does not exist in the dict, adds `key` with `default value` (second parameter)."
   ]
  },
  {
   "cell_type": "code",
   "execution_count": null,
   "id": "9a1a5828-441c-4161-85e8-01abef552138",
   "metadata": {},
   "outputs": [],
   "source": [
    "new_dict = {'a': 1, 'b': 2, 'c': 3}\n",
    "a = new_dict.setdefault('a', 'default value')\n",
    "d = new_dict.setdefault('d', 'default value')\n",
    "print('a: {}\\nd: {}\\nnew_dict: {}'.format(a, d, new_dict))"
   ]
  },
  {
   "cell_type": "markdown",
   "id": "9e095cba-2b2b-4d8a-b063-2682f9e2dec1",
   "metadata": {},
   "source": [
    "### `dict.update()`\n",
    "\n",
    "1) dictionary gets updated, 2) two `dictionaries` get combined."
   ]
  },
  {
   "cell_type": "code",
   "execution_count": null,
   "id": "88fd5fa3-ddf0-4cdf-b1de-35e31067945d",
   "metadata": {},
   "outputs": [],
   "source": [
    "d = {1: \"one\", 2: \"three\"}\n",
    "d1 = {2: \"two\"}\n",
    "\n",
    "# updates the value of key 2\n",
    "d.update(d1)\n",
    "print(d)\n",
    "\n",
    "d1 = {3: \"three\"}\n",
    "\n",
    "# adds element with key 3\n",
    "d.update(d1)\n",
    "print(d)"
   ]
  },
  {
   "cell_type": "markdown",
   "id": "4a0d1ffa-4d10-4372-8915-cbc766726078",
   "metadata": {},
   "source": [
    "## the keys in the `dict` are immutable"
   ]
  },
  {
   "cell_type": "markdown",
   "id": "0fc1b0ba-77bf-4561-98ee-0b318652af27",
   "metadata": {},
   "source": [
    "Therefore, we can not use mutable data types ad keys of a dictionary. Examples: list or dictionary:"
   ]
  },
  {
   "cell_type": "code",
   "execution_count": null,
   "id": "cef9a616-eaf1-413c-9b9c-e9b19fe0c6a9",
   "metadata": {},
   "outputs": [],
   "source": [
    " bad_dict = {['my_list'], 'value'}  # will generate TypeError"
   ]
  },
  {
   "cell_type": "markdown",
   "id": "272cf2a4-0564-48e5-a541-ae8195b102fb",
   "metadata": {},
   "source": [
    "Values are mutable"
   ]
  },
  {
   "cell_type": "code",
   "execution_count": null,
   "id": "804c4afa-c4c6-4814-925b-b0453caccb10",
   "metadata": {},
   "outputs": [],
   "source": [
    "good_dict = {'my key': ['Python', ' can be', 'difficult']}\n",
    "print(good_dict)"
   ]
  },
  {
   "cell_type": "code",
   "execution_count": null,
   "id": "c087eb92-6b37-41ea-9c30-b8e35fb74429",
   "metadata": {},
   "outputs": [],
   "source": [
    "#Introduction to bioinformatics: Using dictionaries\n",
    "\n",
    "dna = \"AATGATGAACGAC\" \n",
    "dinucleotides = ['AA','AT','AG','AC',\n",
    "                 'TA','TT','TG','TC', \n",
    "                 'GA','GT','GG','GC', \n",
    "                 'CA','CT','CG','CT'] \n",
    "all_counts = {}  #initialize dictionary\n",
    "for dinucleotide in dinucleotides: #for each element in dictionary\n",
    "    count = dna.count(dinucleotide) #count how many of that element\n",
    "    print(\"count is \" + str(count) + \" for \" + dinucleotide) \n",
    "    all_counts[dinucleotide] = count #all these elements are keys, so let's define the values for each key\n",
    "print(all_counts)"
   ]
  },
  {
   "cell_type": "markdown",
   "id": "6ba9ea28-7166-4593-950e-6e9d6fd7ad60",
   "metadata": {},
   "source": [
    "# PART 5"
   ]
  },
  {
   "cell_type": "markdown",
   "id": "5d100f04-e0a6-4d6f-a292-946d70ccdf13",
   "metadata": {},
   "source": [
    "## **[`for` loops](https://docs.python.org/3/tutorial/controlflow.html#for-statements)**"
   ]
  },
  {
   "cell_type": "markdown",
   "id": "c5eea458-4bd7-4e3a-88d7-41193bd66b34",
   "metadata": {},
   "source": [
    "### For loops in lists "
   ]
  },
  {
   "cell_type": "markdown",
   "id": "026e4d2f-4d37-4be0-bd72-5224f67477ef",
   "metadata": {},
   "source": [
    "Example: Our goal is to convert each value given in cm to inch and print the output.\n",
    "\n",
    "info: 1 inch = 2.54 cms\n",
    "\n",
    "Algorithm:\n",
    "length_cm=[158, 165, 168, 172, 183, 190]\n",
    "\n",
    "For each element in length_cm[index]\n",
    "          inc = length_cm[index]/2.54\n",
    "\n",
    "          print cm and inch values\n",
    "          Move to the next element\n",
    "\n",
    "For every operation that needs to take place in the for loop, they need to have same indentation. \n",
    "Not a requirement, but better to use \\\"<TAB\\\"> or press space four times."
   ]
  },
  {
   "cell_type": "code",
   "execution_count": null,
   "id": "2ce06f49-543d-49ea-a1dc-149479d9f279",
   "metadata": {},
   "outputs": [],
   "source": [
    "print(\"------------------\") # beginning of the output)\n",
    "length_cm = [158, 165, 168, 172, 183, 190]\n",
    "for item in length_cm: # for each element in length_cm\n",
    "    # entering for loop\n",
    "    # things to do in for loop\n",
    "    inc = item/2.54 # convert to inch\n",
    "    print('value in cm: ', item, ',', 'value in inch: ', inc) # Print\n",
    "    # exit for loop\n",
    "# things to do outside for loop\n",
    "print(\"------------------\") # end of the output"
   ]
  },
  {
   "cell_type": "markdown",
   "id": "b5e225f4-e929-4767-99cf-bdfa934bdf4d",
   "metadata": {},
   "source": [
    "### `break`\n",
    "using break, we can stop the loop when a given condition is satisfied."
   ]
  },
  {
   "cell_type": "code",
   "execution_count": null,
   "id": "acbafe75-7e6e-4c84-89b4-1dde2d8f755a",
   "metadata": {},
   "outputs": [],
   "source": [
    "for item in length_cm:\n",
    "    if item == 165:\n",
    "        break\n",
    "    print(item)"
   ]
  },
  {
   "cell_type": "markdown",
   "id": "fadad6bc-35ad-4885-be12-09470ded9187",
   "metadata": {},
   "source": [
    "### `continue`\n",
    "Continue to the next item without executing the lines occuring after `continue` inside the loop:"
   ]
  },
  {
   "cell_type": "code",
   "execution_count": null,
   "id": "3b455d86-82c5-464d-9327-8c1130f01444",
   "metadata": {},
   "outputs": [],
   "source": [
    "for item in length_cm:\n",
    "    if item == 160:\n",
    "        continue\n",
    "    print(item)"
   ]
  },
  {
   "cell_type": "markdown",
   "id": "5d08efca-e366-4e99-91de-71de83b52df3",
   "metadata": {},
   "source": [
    "### `enumerate()` \n",
    "enumerate() function can give us both the value and the index for that given value"
   ]
  },
  {
   "cell_type": "code",
   "execution_count": null,
   "id": "33d388da-0e0f-44f0-9eb9-df01b8eab922",
   "metadata": {},
   "outputs": [],
   "source": [
    "for idx, val in enumerate(length_cm):\n",
    "    print('idx: {}, value: {}'.format(idx, val))"
   ]
  },
  {
   "cell_type": "code",
   "execution_count": null,
   "id": "7bf9725d-3f59-4c9a-b1fa-47431740e511",
   "metadata": {},
   "outputs": [],
   "source": [
    "Turkish_consonants = \"bcçdfgğhjklmnprsştvyz\"\n",
    "Turkish_consonants = list(Turkish_consonants)\n",
    "print(Turkish_consonants)\n",
    "\n",
    "count = 0\n",
    "for item in Turkish_consonants:\n",
    "    print(count, item)\n",
    "    count +=1\n",
    "#What happens if count+=1 is outside of the loop?"
   ]
  },
  {
   "cell_type": "code",
   "execution_count": null,
   "id": "5917eb7d-9069-49dc-a744-25d3f11b2d8e",
   "metadata": {},
   "outputs": [],
   "source": [
    "#We can rewrite the above for loop more neatly by using enumerate() function.\n",
    "\n",
    "for count, item in enumerate(Turkish_consonants):\n",
    "    print(count, item)\n"
   ]
  },
  {
   "cell_type": "code",
   "execution_count": null,
   "id": "68390d1d-50bf-4114-b048-5de525266f73",
   "metadata": {},
   "outputs": [],
   "source": [
    "#python\n",
    "# Python program to illustrate\n",
    "# enumerate function\n",
    "l1 = [\"Moderna\",\"BioNTech\",\"Sinovac\"]\n",
    "s1 = \"available vaccines\"\n",
    "\n",
    "# creating enumerate objects\n",
    "obj1 = enumerate(l1)\n",
    "obj2 = enumerate(s1)\n",
    "\n",
    "print(\"Return type:\",type(obj1))\n",
    "print(list(enumerate(l1)))\n",
    "\n",
    "# changing start index to 2 from 0\n",
    "print(list(enumerate(s1,2)))\n"
   ]
  },
  {
   "cell_type": "markdown",
   "id": "3961c203-a38e-40b0-b0d3-ce354764e4fb",
   "metadata": {},
   "source": [
    "\n",
    "## for loops for dictionaries"
   ]
  },
  {
   "cell_type": "code",
   "execution_count": null,
   "id": "192f8235-cb34-40cb-9fe8-55ac8cc157fc",
   "metadata": {},
   "outputs": [],
   "source": [
    "recipe_dict = {} \n",
    "recipe_dict['ratatouille '] = ['eggplant', 'tomato', 'zucchini', 'onion', 'olive oil', 'garlic']\n",
    "recipe_dict['homemade pasta'] = ['semolina flour', 'olive oil', 'sea salt']\n",
    "for key in recipe_dict.keys(): \n",
    "    print(key)"
   ]
  },
  {
   "cell_type": "markdown",
   "id": "6947c516-b558-4d3c-a762-56de4ccb9318",
   "metadata": {},
   "source": [
    "## `range()`\n",
    "\n",
    "range() function returns numbers starting from 0, and increasing incrementally."
   ]
  },
  {
   "cell_type": "code",
   "execution_count": null,
   "id": "39ce0a0d-ad3f-4292-963c-1d0be90fa7a2",
   "metadata": {},
   "outputs": [],
   "source": [
    "for number in range(5):\n",
    "    print(number) #range(5) returns 0-4, not 0-5."
   ]
  },
  {
   "cell_type": "code",
   "execution_count": null,
   "id": "eca3e77e-8629-44c3-a407-ff715a6e76bc",
   "metadata": {},
   "outputs": [],
   "source": [
    "for number in range(2, 5):\n",
    "    print(number) \n",
    "\n",
    "#range() function's default initial value is 0,\n",
    "#but we can specify a different initial value:\n",
    "#range(2, 5) returns values from 2 to 5 (exclusive of 5):"
   ]
  },
  {
   "cell_type": "code",
   "execution_count": null,
   "id": "dfdb337c-9e85-47a3-9388-d4c5001bdded",
   "metadata": {},
   "outputs": [],
   "source": [
    "for number in range(0, 10, 2):  # last number is the number of steps\n",
    "    print(number)"
   ]
  },
  {
   "cell_type": "code",
   "execution_count": null,
   "id": "37425564-fb15-44e5-b49e-baa5d2724ab2",
   "metadata": {},
   "outputs": [],
   "source": [
    "# generate a random sequence\n",
    "#import random\n",
    "seq = ''.join([random.choice('ACGT') for _ in range(10)])\n",
    "print(seq)\n",
    "print(len(seq))\n",
    "\n",
    "# What is happening here?"
   ]
  },
  {
   "cell_type": "code",
   "execution_count": null,
   "id": "368645c9-eef8-4e88-b4fc-a92a8cdab9d2",
   "metadata": {},
   "outputs": [],
   "source": [
    "for number in range(10): \n",
    "    print(number)"
   ]
  },
  {
   "cell_type": "code",
   "execution_count": null,
   "id": "1007df8a-8814-423e-81e2-75bc7f68f65d",
   "metadata": {},
   "outputs": [],
   "source": [
    "help(random.choice)"
   ]
  },
  {
   "cell_type": "code",
   "execution_count": null,
   "id": "f396d1f4-5768-4966-9118-4a01dd896eec",
   "metadata": {},
   "outputs": [],
   "source": [
    "print(random.choice('ACGT'))"
   ]
  },
  {
   "cell_type": "code",
   "execution_count": null,
   "id": "7d9eed07-a7d2-4f3b-a240-90535478b144",
   "metadata": {},
   "outputs": [],
   "source": [
    "#Let's practice some\n",
    "\n",
    "my_numbers = [1,3,5,7,9,12,19,21]\n",
    "\n",
    "#which numbers in the `my_numbers` list are multiples of 3? Please answer with a for loop.\n",
    "\n",
    "for item in my_numbers:\n",
    "    if item%3 ==0:\n",
    "        print(item)"
   ]
  },
  {
   "cell_type": "code",
   "execution_count": null,
   "id": "5d1ca28e-7970-4e27-a602-ec56bc094909",
   "metadata": {},
   "outputs": [],
   "source": [
    "#The sum of values in my_numbers list?\n",
    "\n",
    "total  = 0\n",
    "for item in my_numbers:\n",
    "    total += item\n",
    "print('total:', total)\n"
   ]
  },
  {
   "cell_type": "code",
   "execution_count": null,
   "id": "767602d3-1bef-473e-9dea-d0ad116c9dba",
   "metadata": {},
   "outputs": [],
   "source": [
    "for num in range(10,20):  # loop through values between 10 and 20 (exclusive of 20)\n",
    "   for i in range(2,num): # for each element in the loop, starting from 2\n",
    "      if num%i == 0:      \n",
    "         j=num/i          \n",
    "         print('%d is equal to %d * %d' % (num,i,j))\n",
    "         break # move to the next number\n",
    "   else:                 \n",
    "      print(num, ' is a prime number')"
   ]
  },
  {
   "cell_type": "markdown",
   "id": "39630bcc-6d12-4851-8cbb-c0c43151220e",
   "metadata": {},
   "source": [
    "## The importance of pointers in Python: What is the point?"
   ]
  },
  {
   "cell_type": "markdown",
   "id": "6a3bde22-3f1d-4e23-9fe0-5085cf7de176",
   "metadata": {},
   "source": [
    "So far, we have seen that everything in Python is indeed an object. Each object contains at least three pieces of data:\n",
    "\n",
    "    Reference count\n",
    "    Type\n",
    "    Value\n"
   ]
  },
  {
   "cell_type": "markdown",
   "id": "9227daaf-8b29-4156-a520-f22d75a68a4a",
   "metadata": {},
   "source": [
    "A variable does not point to a value in Python but points to the memory address of an object. For example, in our simple example x = 1 the variable x is pointing to a memory address that the integer object 1 is stored."
   ]
  },
  {
   "cell_type": "markdown",
   "id": "a808ffb5-7c4b-496d-907c-0892292cdd0d",
   "metadata": {},
   "source": [
    "# How do we find the memory address that the variable x points to?\n",
    "\n",
    "    id() returns the object’s memory address.\n",
    "    is returns True if and only if two objects have the same memory address.\n"
   ]
  },
  {
   "cell_type": "code",
   "execution_count": 2,
   "id": "c8d71eb4-9048-48d4-b74d-89a7eec50af0",
   "metadata": {},
   "outputs": [
    {
     "name": "stdout",
     "output_type": "stream",
     "text": [
      "address of x 140070764232136\n",
      "value of x {'val1': [1, 2, 3, 4, 5, 6, 7, 8, 9]}\n",
      "address of y 140071108720544\n",
      "value of y 1\n"
     ]
    }
   ],
   "source": [
    "# Create a dictionary and populate with elements\n",
    "x = {}\n",
    "x['val1'] = list(range(1,10))\n",
    "y = 1\n",
    "\n",
    "print('address of x', id(x))\n",
    "print('value of x', x)\n",
    "print('address of y', id(y))\n",
    "print('value of y', y)"
   ]
  },
  {
   "cell_type": "code",
   "execution_count": 141,
   "id": "c1ab90f9-9474-4c2b-9b60-061bb2081c2e",
   "metadata": {},
   "outputs": [
    {
     "name": "stdout",
     "output_type": "stream",
     "text": [
      "address of x 139892595062824\n",
      "value of x {'val1': [1, 2, 3, 4, 5, 6, 7, 8, 9]}\n",
      "address of val1 in dict x 139892594668424\n",
      "address of y 139892594668424\n",
      "value of y [1, 2, 3, 4, 5, 6, 7, 8, 9]\n"
     ]
    }
   ],
   "source": [
    "# reassign value to y\n",
    "y = x['val1']\n",
    "print('address of x', id(x))\n",
    "print('value of x', x)\n",
    "print('address of val1 in dict x', id(x['val1']))\n",
    "print('address of y', id(y))\n",
    "print('value of y', y)"
   ]
  },
  {
   "cell_type": "code",
   "execution_count": 142,
   "id": "67a970b4-34bd-4d81-8489-baede202f45f",
   "metadata": {},
   "outputs": [
    {
     "name": "stdout",
     "output_type": "stream",
     "text": [
      "address of x 139892595062824\n",
      "value of x {'val1': [1, 2, 99, 4, 5, 6, 7, 8, 9]}\n",
      "address of val1 in dict x 139892594668424\n",
      "address of y 139892594668424\n",
      "value of y [1, 2, 99, 4, 5, 6, 7, 8, 9]\n"
     ]
    }
   ],
   "source": [
    "y[2] = 99\n",
    "print('address of x', id(x))\n",
    "print('value of x', x)\n",
    "print('address of val1 in dict x', id(x['val1']))\n",
    "print('address of y', id(y))\n",
    "print('value of y', y)"
   ]
  },
  {
   "cell_type": "code",
   "execution_count": 144,
   "id": "01dfa396-525b-42f4-a371-13e038e624d2",
   "metadata": {},
   "outputs": [
    {
     "name": "stdout",
     "output_type": "stream",
     "text": [
      "address of x 139892595062824\n",
      "value of x {'val1': [1, 2, 3, 4, 5, 6, 7, 8, 9]}\n",
      "address of val1 in dict x 139892594669512\n",
      "address of y 139892595492040\n",
      "value of y [1, 2, 3, 4, 5, 6, 7, 8, 9]\n"
     ]
    }
   ],
   "source": [
    "x['val1'] = list(range(1,10))\n",
    "y = [i for i in x['val1']]\n",
    "print('address of x', id(x))\n",
    "print('value of x', x)\n",
    "print('address of val1 in dict x', id(x['val1']))\n",
    "print('address of y', id(y))\n",
    "print('value of y', y)"
   ]
  },
  {
   "cell_type": "code",
   "execution_count": 145,
   "id": "6045c2f2-e8ff-42b3-b68b-d023c496c508",
   "metadata": {},
   "outputs": [
    {
     "name": "stdout",
     "output_type": "stream",
     "text": [
      "address of x 139892595062824\n",
      "value of x {'val1': [1, 2, 3, 4, 5, 6, 7, 8, 9]}\n",
      "address of val1 in dict x 139892594669512\n",
      "address of y 139892595492040\n",
      "value of y [1, 2, 99, 4, 5, 6, 7, 8, 9]\n"
     ]
    }
   ],
   "source": [
    "y[2] = 99\n",
    "print('address of x', id(x))\n",
    "print('value of x', x)\n",
    "print('address of val1 in dict x', id(x['val1']))\n",
    "print('address of y', id(y))\n",
    "print('value of y', y)"
   ]
  },
  {
   "cell_type": "code",
   "execution_count": 197,
   "id": "57a89a66-990e-4da4-bc09-c0abef33ae9b",
   "metadata": {},
   "outputs": [
    {
     "data": {
      "text/plain": [
       "{'val1': [0, 1]}"
      ]
     },
     "execution_count": 197,
     "metadata": {},
     "output_type": "execute_result"
    }
   ],
   "source": [
    "x = {}\n",
    "x['val1'] = [0,1]\n",
    "x"
   ]
  },
  {
   "cell_type": "code",
   "execution_count": 198,
   "id": "d74df1dc-435f-4e32-be74-18ff96eeceac",
   "metadata": {},
   "outputs": [
    {
     "name": "stdout",
     "output_type": "stream",
     "text": [
      "value of y [[0, 1], [0, 1], [0, 1], [0, 1], [0, 1], [0, 1], [0, 1], [0, 1], [0, 1], [0, 1]]\n",
      "139889966815688 139889966815688\n",
      "value of y [[2, 2], [2, 2], [2, 2], [2, 2], [2, 2], [2, 2], [2, 2], [2, 2], [2, 2], [2, 2]]\n"
     ]
    }
   ],
   "source": [
    "x['val1'] = [0,1]\n",
    "y = [x['val1']]*10 # make a new variable that is now an array, essentialy copying the dictionary 10 times: array of arrays\n",
    "print('value of y', y)\n",
    "print(id(y[0]), id(y[1])) # for every element of y, the memory address is the same. WHY??\n",
    "\n",
    "y[0][0] = 0\n",
    "y[0][1] = 0\n",
    "y[1][0] = 1\n",
    "y[1][1] = 1\n",
    "y[2][0] = 2\n",
    "y[2][1] = 2 #we were hoping to get [0,0,1,1,2,2]. What happened?\n",
    "print('value of y', y)"
   ]
  },
  {
   "cell_type": "code",
   "execution_count": 193,
   "id": "664519c4-14a7-48e8-9a4c-1cb066080762",
   "metadata": {},
   "outputs": [],
   "source": [
    "import pandas as pd\n",
    "x = [[None, None]]\n",
    "x = pd.DataFrame(x, columns=['gender','age'])\n",
    "[david, brooke, bilge] = [x, x, x]\n",
    "\n",
    "brooke.gender = 'female'\n",
    "brooke.age = 35\n",
    "bilge.gender = 'kadin'\n",
    "bilge.age = 21\n",
    "david.gender = 'male'\n",
    "david.age = 105"
   ]
  },
  {
   "cell_type": "code",
   "execution_count": 194,
   "id": "6ea3c9dd-cc95-45cd-a7b8-0c481d251379",
   "metadata": {},
   "outputs": [
    {
     "name": "stdout",
     "output_type": "stream",
     "text": [
      "david\n",
      "  gender  age\n",
      "0   male  105\n",
      "brooke\n",
      "  gender  age\n",
      "0   male  105\n",
      "bilge\n",
      "  gender  age\n",
      "0   male  105\n"
     ]
    }
   ],
   "source": [
    "y = ['david', 'brooke', 'bilge']\n",
    "x = [david, brooke, bilge]\n",
    "for i in range(len(x)):\n",
    "    print(y[i])\n",
    "    print(x[i])"
   ]
  },
  {
   "cell_type": "code",
   "execution_count": 191,
   "id": "05022bfb-dabc-496e-850c-79a942145e25",
   "metadata": {},
   "outputs": [
    {
     "name": "stdout",
     "output_type": "stream",
     "text": [
      "memory address of david 139889966847144\n",
      "memory address of brooke 139889966847144\n",
      "memory address of bilge 139889966847144\n"
     ]
    }
   ],
   "source": [
    "print('memory address of david', id(david))\n",
    "print('memory address of brooke', id(brooke))\n",
    "print('memory address of bilge', id(bilge))"
   ]
  },
  {
   "cell_type": "code",
   "execution_count": 5,
   "id": "0792b55c-1c99-4c3a-bf20-9d441ebcc0a9",
   "metadata": {},
   "outputs": [],
   "source": [
    "import pandas as pd\n",
    "x = [[None, None]]\n",
    "x = pd.DataFrame(x, columns=['gender','age'])\n",
    "# initialize with copies\n",
    "[david, brooke, bilge] = [x.copy(), x.copy(), x.copy()]\n",
    "\n",
    "david.gender = 'male'\n",
    "david.age = 43\n",
    "brooke.gender = 'female'\n",
    "brooke.age = 28\n",
    "bilge.gender = 'female'\n",
    "bilge.age = 79"
   ]
  },
  {
   "cell_type": "code",
   "execution_count": 189,
   "id": "177e2362-be0e-4560-84d3-28b437b1c4cb",
   "metadata": {},
   "outputs": [
    {
     "name": "stdout",
     "output_type": "stream",
     "text": [
      "david\n",
      "  gender  age\n",
      "0   male  105\n",
      "brooke\n",
      "   gender  age\n",
      "0  female   35\n",
      "bilge\n",
      "  gender  age\n",
      "0  kadin   21\n"
     ]
    }
   ],
   "source": [
    "y = ['david', 'brooke', 'bilge']\n",
    "x = [david, brooke, bilge]\n",
    "for i in range(len(x)):\n",
    "    print(y[i])\n",
    "    print(x[i])"
   ]
  },
  {
   "cell_type": "code",
   "execution_count": 192,
   "id": "96b9a544-7c66-4826-8c2d-67fa077f9154",
   "metadata": {},
   "outputs": [
    {
     "name": "stdout",
     "output_type": "stream",
     "text": [
      "memory address of david 139889966847144\n",
      "memory address of brooke 139889966847144\n",
      "memory address of bilge 139889966847144\n"
     ]
    }
   ],
   "source": [
    "print('memory address of david', id(david))\n",
    "print('memory address of brooke', id(brooke))\n",
    "print('memory address of bilge', id(bilge))"
   ]
  },
  {
   "cell_type": "code",
   "execution_count": null,
   "id": "85bf8062-25fb-4520-af7e-3e17cf1ec9f3",
   "metadata": {},
   "outputs": [],
   "source": []
  },
  {
   "cell_type": "code",
   "execution_count": null,
   "id": "f3744d19-22b9-407b-8c97-53c65b09a30e",
   "metadata": {},
   "outputs": [],
   "source": []
  },
  {
   "cell_type": "code",
   "execution_count": null,
   "id": "04e13ac2-92fa-4dc9-b903-a2d06610514b",
   "metadata": {},
   "outputs": [],
   "source": []
  },
  {
   "cell_type": "markdown",
   "id": "8a6caf2e",
   "metadata": {},
   "source": [
    "# Functions"
   ]
  },
  {
   "cell_type": "code",
   "execution_count": null,
   "id": "4a12c63c",
   "metadata": {},
   "outputs": [],
   "source": [
    "def hello_my_first_function():\n",
    "    print('Hello world!')\n",
    "\n",
    "print('type: {}'.format(hello_my_first_function))\n",
    "\n",
    "hello_my_first_function()  # Let's call the function"
   ]
  },
  {
   "cell_type": "markdown",
   "id": "4d331c36",
   "metadata": {},
   "source": [
    "### Arguments"
   ]
  },
  {
   "cell_type": "code",
   "execution_count": null,
   "id": "bc486fcc",
   "metadata": {},
   "outputs": [],
   "source": [
    "def key_Python_libraries(name1, name2, name3): #required arguments\n",
    "    print('These are great libraries for data visualization in Python:  {}, {}, {}'.format(name1, name2, name3))\n",
    "\n",
    "key_Python_libraries('matplotlib', 'seaborn', 'Bokeh')"
   ]
  },
  {
   "cell_type": "code",
   "execution_count": null,
   "id": "c222f166",
   "metadata": {},
   "outputs": [],
   "source": [
    "# functions that return something we define \n",
    "\n",
    "def strip_and_lowercase(original):\n",
    "    modified = original.lower().strip()\n",
    "    return modified\n",
    "\n",
    "ugly_string = '  MixED CaSe '\n",
    "pretty = strip_and_lowercase(ugly_string)\n",
    "print('pretty: {}'.format(pretty))\n",
    "\n",
    "#In general, a function takes arguments (if any), performs some operations, and returns a value (or object). \n",
    "#The value that a function returns to the caller is generally known as the function’s return value. \n",
    "#All Python functions have a return value, either explicit or implicit. "
   ]
  },
  {
   "cell_type": "code",
   "execution_count": null,
   "id": "69f666ec",
   "metadata": {},
   "outputs": [],
   "source": [
    "def word_lowercase(word):\n",
    "    modified = word.upper()\n",
    "    return modified\n",
    "\n",
    "mixed = 'AAgcgctgagtcTGC'\n",
    "word_lowercase(mixed)"
   ]
  },
  {
   "cell_type": "code",
   "execution_count": null,
   "id": "660bd33e",
   "metadata": {},
   "outputs": [],
   "source": [
    "# Introduction to bioinformatics: Example to the use of dictionaries\n",
    "\n",
    "dna = \"AATGATGAACGAC\" \n",
    "dinucleotides = ['AA','AT','AG','AC',\n",
    "                 'TA','TT','TG','TC', \n",
    "                 'GA','GT','GG','GC', \n",
    "                 'CA','CT','CG','CT'] \n",
    "all_counts = {}  #initiated the dictionary\n",
    "for dinucleotide in dinucleotides: #for each element in the dictionary\n",
    "    count = dna.count(dinucleotide) #let's count how many elements \n",
    "    print(\"count is \" + str(count) + \" for \" + dinucleotide) \n",
    "    all_counts[dinucleotide] = count #all elements are keys, let's prepare values for each key\n",
    "print(all_counts)\n"
   ]
  },
  {
   "cell_type": "code",
   "execution_count": null,
   "id": "85d09071",
   "metadata": {},
   "outputs": [],
   "source": [
    "def dinucleotide_counting(seq):\n",
    "    \"\"\"This function gets a DNA sequence and returns the count of each dinucleotide\"\"\"\n",
    "    #convert sequence to upper letter format \n",
    "    seq = seq.upper()\n",
    "    counting = {k: 0 for k in dinucleotides}  # This is faster than a list\n",
    "    #Scans the sequence, looking for all dinucleotides at once\n",
    "    for i in range(len(seq)-2):\n",
    "        if seq[i:i+2] in counting:\n",
    "            counting[seq[i:i+2]] += 1\n",
    "    return counting"
   ]
  },
  {
   "cell_type": "code",
   "execution_count": null,
   "id": "1901fcba",
   "metadata": {},
   "outputs": [],
   "source": [
    "dinucleotide_counting('AAgcgctgagtcTGC')"
   ]
  },
  {
   "cell_type": "code",
   "execution_count": null,
   "id": "8e7e6aef",
   "metadata": {},
   "outputs": [],
   "source": [
    "seq2 = 'AACTG'\n",
    "range(len(seq2)-2)"
   ]
  },
  {
   "cell_type": "code",
   "execution_count": null,
   "id": "c4ac44b3",
   "metadata": {},
   "outputs": [],
   "source": [
    "#TGGA\n",
    "b = {k: 0 for k in dinucleotides}\n",
    "b\n"
   ]
  },
  {
   "cell_type": "code",
   "execution_count": null,
   "id": "a110535f",
   "metadata": {},
   "outputs": [],
   "source": [
    "seq = 'AATGC'\n",
    "seq[2:4]"
   ]
  },
  {
   "cell_type": "code",
   "execution_count": null,
   "id": "661b08d2",
   "metadata": {},
   "outputs": [],
   "source": [
    "dinucleotides = ['AA','AT','AG','AC',\n",
    "                 'TA','TT','TG','TC', \n",
    "                 'GA','GT','GG','GC', \n",
    "                 'CA','CT','CG','CT'] \n",
    "dinucleotide_counting(\"AATGATGAACGAC\")"
   ]
  },
  {
   "cell_type": "markdown",
   "id": "2cf8eaec",
   "metadata": {},
   "source": [
    "### Keyword arguments"
   ]
  },
  {
   "cell_type": "code",
   "execution_count": null,
   "id": "f2f6cff0",
   "metadata": {},
   "outputs": [],
   "source": [
    "def first_algorithm(first, second, third):\n",
    "    return (first + second)** third \n",
    "\n",
    "print(first_algorithm(2, 3, 4))\n",
    "\n",
    "print(first_algorithm(first=2, second=3, third=4))\n",
    "\n",
    "# using keyword arguments, we can change the ordering\n",
    "print(first_algorithm(third=4, first=2, second=3))\n",
    "\n",
    "# positional arguments and keyword arguments can also change places but we should start with positional arguments\n",
    "print(first_algorithm(2, third=4, second=3))  \n",
    "\n",
    "print(first_algorithm(third=4, second=3, 2))  #It will error out\n"
   ]
  },
  {
   "cell_type": "markdown",
   "id": "17d68a45",
   "metadata": {},
   "source": [
    "### Default arguments "
   ]
  },
  {
   "cell_type": "code",
   "execution_count": null,
   "id": "42a3dcde",
   "metadata": {
    "scrolled": true
   },
   "outputs": [],
   "source": [
    "def greet(name, msg=\"good morning!\"):\n",
    "    \"\"\"\n",
    "    This function greets to\n",
    "    the person with the\n",
    "    provided message.\n",
    "\n",
    "    If the message is not provided,\n",
    "    it defaults to \"Good\n",
    "    morning!\"\n",
    "    \"\"\"\n",
    "\n",
    "    print(\"Hello\", name + ', ' + msg)\n",
    "\n",
    "\n",
    "greet(\"Alex\")\n",
    "greet(\"Krishna\", \"how are you?\")"
   ]
  },
  {
   "cell_type": "markdown",
   "id": "f7ee6747",
   "metadata": {},
   "source": [
    "**Do not use mutable objects as default arguments!**"
   ]
  },
  {
   "cell_type": "code",
   "execution_count": null,
   "id": "691ecb07",
   "metadata": {},
   "outputs": [],
   "source": [
    "def compute_patterns(inputs=[]):\n",
    "    inputs.append(\"some stuff\")\n",
    "    patterns = [\"a list is based on\"] + inputs\n",
    "    return patterns"
   ]
  },
  {
   "cell_type": "code",
   "execution_count": null,
   "id": "d240d1db",
   "metadata": {},
   "outputs": [],
   "source": [
    "compute_patterns()"
   ]
  },
  {
   "cell_type": "code",
   "execution_count": null,
   "id": "0707e1e4",
   "metadata": {},
   "outputs": [],
   "source": [
    "def append(element, seq=[]):\n",
    "    seq.append(element)\n",
    "    return seq\n"
   ]
  },
  {
   "cell_type": "code",
   "execution_count": null,
   "id": "dcc31816",
   "metadata": {},
   "outputs": [],
   "source": [
    "append(1) # seq is assigned to []\n",
    "\n",
    "# This returns a reference to the *same* list as the default for `seq`"
   ]
  },
  {
   "cell_type": "code",
   "execution_count": null,
   "id": "246ec50b",
   "metadata": {},
   "outputs": [],
   "source": [
    "append(4) # `seq` is now given [1] as a default!"
   ]
  },
  {
   "cell_type": "markdown",
   "id": "a16e036c",
   "metadata": {},
   "source": [
    "Let's fix the above problem like this:"
   ]
  },
  {
   "cell_type": "code",
   "execution_count": null,
   "id": "a1dfd892",
   "metadata": {},
   "outputs": [],
   "source": [
    "def append(element, seq=None):\n",
    "    if seq is None:  \n",
    "        seq = []\n",
    "    seq.append(element)\n",
    "    return seq"
   ]
  },
  {
   "cell_type": "code",
   "execution_count": null,
   "id": "59826985",
   "metadata": {},
   "outputs": [],
   "source": [
    "append(4)"
   ]
  },
  {
   "cell_type": "code",
   "execution_count": null,
   "id": "5be482fa",
   "metadata": {},
   "outputs": [],
   "source": [
    "#a more clean fix\n",
    "def append(element, seq=None):\n",
    "    seq = seq if seq else []\n",
    "    seq.append(element)\n",
    "    return seq"
   ]
  },
  {
   "cell_type": "code",
   "execution_count": null,
   "id": "e5215c94",
   "metadata": {},
   "outputs": [],
   "source": [
    "append(3)"
   ]
  },
  {
   "cell_type": "markdown",
   "id": "00c22c5c",
   "metadata": {},
   "source": [
    "### Docstrings\n",
    "Python docstrings are the string literals that appear right after the definition of a function, method, class, or module. They are used to document our code."
   ]
  },
  {
   "cell_type": "code",
   "execution_count": null,
   "id": "08d9572a",
   "metadata": {},
   "outputs": [],
   "source": [
    "filename = 'fastq_runid_687811ddee13bdfed6e08d8f5d403e432f41ebd8_0_0.fastq'"
   ]
  },
  {
   "cell_type": "code",
   "execution_count": null,
   "id": "85a6bb6c",
   "metadata": {
    "tags": []
   },
   "outputs": [],
   "source": [
    "import bilge_pype as bpy\n",
    "\n",
    "def load_file(filename, run_info=None):\n",
    "    '''\n",
    "    Checks the file type and load the data\n",
    "    '''\n",
    "    file_format = filename.split('.')\n",
    "    # check if it is a fasta file\n",
    "    if ('fasta' in file_format) or ('fa' in file_format):\n",
    "        A = bpy.read_fasta(filename)\n",
    "    # check if it is a fastq file\n",
    "    elif ('fastq' in file_format) or ('fq' in file_format):\n",
    "        A = bpy.read_fastq(filename)\n",
    "    return A\n",
    "\n",
    "load_file(filename)"
   ]
  },
  {
   "cell_type": "code",
   "execution_count": null,
   "id": "0ab09b5e",
   "metadata": {
    "tags": []
   },
   "outputs": [],
   "source": [
    "def print_sum(val1, val2):\n",
    "    \"\"\"results in the sum of two given values\"\"\"\n",
    "    print('total: {}'.format(val1 + val2))\n",
    "\n",
    "print_sum(308, 1897)\n",
    "print(help(print_sum))"
   ]
  },
  {
   "cell_type": "markdown",
   "id": "79a9ee44",
   "metadata": {},
   "source": [
    "### [`pass`](https://docs.python.org/3/reference/simple_stmts.html#the-pass-statement) statement\n",
    "`pass` statement is a null statement.The interpreter does not ignore a pass statement, but nothing happens and the statement results into no operation. The pass statement is useful when you don't write the implementation of a function but you want to implement it in the future."
   ]
  },
  {
   "cell_type": "code",
   "execution_count": null,
   "id": "28298d2c",
   "metadata": {},
   "outputs": [],
   "source": [
    "def my_function(bla_bla_bla):\n",
    "    pass\n",
    "\n",
    "def my_other_function():\n",
    "    pass"
   ]
  },
  {
   "cell_type": "code",
   "execution_count": null,
   "id": "f45f3c05-7db3-45a2-91ce-cc9fb8ba520e",
   "metadata": {},
   "outputs": [],
   "source": []
  }
 ],
 "metadata": {
  "kernelspec": {
   "display_name": "Python 3",
   "language": "python",
   "name": "python3"
  },
  "language_info": {
   "codemirror_mode": {
    "name": "ipython",
    "version": 3
   },
   "file_extension": ".py",
   "mimetype": "text/x-python",
   "name": "python",
   "nbconvert_exporter": "python",
   "pygments_lexer": "ipython3",
   "version": "3.6.8"
  }
 },
 "nbformat": 4,
 "nbformat_minor": 5
}
