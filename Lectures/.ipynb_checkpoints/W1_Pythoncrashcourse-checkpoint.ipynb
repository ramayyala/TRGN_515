{
 "cells": [
  {
   "cell_type": "markdown",
   "id": "f5f9bc3c-d2bd-4af2-896e-12a9695db5bf",
   "metadata": {
    "tags": []
   },
   "source": [
    "# PART 1"
   ]
  },
  {
   "cell_type": "code",
   "execution_count": null,
   "id": "4d6c4cf1-a77f-4b4a-a9a5-da5845973122",
   "metadata": {},
   "outputs": [],
   "source": [
    "#Let's start with keywords in Python\n",
    "import keyword\n",
    "# Keywords are special words which are reserved and have a specific meaning. \n",
    "# Python has a set of keywords that cannot be used as variables in programs."
   ]
  },
  {
   "cell_type": "code",
   "execution_count": null,
   "id": "15c81a13-9f96-4d85-80c5-d7312fcdc8c1",
   "metadata": {},
   "outputs": [],
   "source": [
    "keyword.kwlist"
   ]
  },
  {
   "cell_type": "markdown",
   "id": "eac56e4e",
   "metadata": {
    "tags": []
   },
   "source": [
    "## **[Numbers](https://docs.python.org/3/library/stdtypes.html#numeric-types-int-float-complex)**"
   ]
  },
  {
   "cell_type": "markdown",
   "id": "5e37a461",
   "metadata": {
    "tags": []
   },
   "source": [
    "## `int`"
   ]
  },
  {
   "cell_type": "code",
   "execution_count": null,
   "id": "b2ec6906",
   "metadata": {
    "scrolled": true
   },
   "outputs": [],
   "source": [
    "first_int = 68\n",
    "print('value: {}, type: {}'.format(first_int, type(first_int)))"
   ]
  },
  {
   "cell_type": "code",
   "execution_count": null,
   "id": "ae9f4586",
   "metadata": {
    "tags": []
   },
   "outputs": [],
   "source": [
    "help(int)"
   ]
  },
  {
   "cell_type": "markdown",
   "id": "1a9f4912",
   "metadata": {
    "tags": []
   },
   "source": [
    "## `float`"
   ]
  },
  {
   "cell_type": "code",
   "execution_count": null,
   "id": "5cbc8a9f",
   "metadata": {
    "scrolled": true
   },
   "outputs": [],
   "source": [
    "first_float = float(first_int)\n",
    "print('value: {}, type: {}'.format(first_float, type(first_float)))"
   ]
  },
  {
   "cell_type": "markdown",
   "id": "9b9e08fd",
   "metadata": {},
   "source": [
    "division of `int`s generate `float`:"
   ]
  },
  {
   "cell_type": "code",
   "execution_count": null,
   "id": "202cfa2e",
   "metadata": {},
   "outputs": [],
   "source": [
    "print(1 / 1)\n",
    "print(6 / 5)\n",
    "print(type(1))\n",
    "print(type(1/1))\n",
    "print(type(6/5))"
   ]
  },
  {
   "cell_type": "markdown",
   "id": "5f68caec",
   "metadata": {},
   "source": [
    "## [Floor division `//`](https://python-reference.readthedocs.io/en/latest/docs/operators/floor_division.html), [modulus `%`](https://realpython.com/python-modulo-operator/), [power `**`](https://www.w3schools.com/python/ref_func_pow.asp)"
   ]
  },
  {
   "cell_type": "code",
   "execution_count": null,
   "id": "4494f719",
   "metadata": {},
   "outputs": [],
   "source": [
    "7 // 2"
   ]
  },
  {
   "cell_type": "code",
   "execution_count": null,
   "id": "2e50bed1",
   "metadata": {},
   "outputs": [],
   "source": [
    "7 % 3 #the remainder value after division operation"
   ]
  },
  {
   "cell_type": "code",
   "execution_count": null,
   "id": "6900b1ef",
   "metadata": {},
   "outputs": [],
   "source": [
    "5 ** 2"
   ]
  },
  {
   "cell_type": "markdown",
   "id": "8c986e0e",
   "metadata": {},
   "source": [
    "<a id='decimal'></a>\n",
    "## [`decimal.Decimal`](https://docs.python.org/3/library/decimal.html)"
   ]
  },
  {
   "cell_type": "code",
   "execution_count": null,
   "id": "5be3d978",
   "metadata": {
    "scrolled": true
   },
   "outputs": [],
   "source": [
    "from decimal import Decimal"
   ]
  },
  {
   "cell_type": "code",
   "execution_count": null,
   "id": "38cee48d",
   "metadata": {
    "scrolled": true
   },
   "outputs": [],
   "source": [
    "from_float = Decimal(0.1)\n",
    "from_str = Decimal('0.1')\n",
    "print('from float: {}\\nfrom string: {}'.format(from_float, from_str))"
   ]
  },
  {
   "cell_type": "markdown",
   "id": "e263508f",
   "metadata": {},
   "source": [
    "## [Mathematical operator precedence in calculations](https://www.tutorialspoint.com/python/operators_precedence_example.htm)\n",
    "If you want an operation to take precedence over others, use brackets:"
   ]
  },
  {
   "cell_type": "code",
   "execution_count": null,
   "id": "a5715055",
   "metadata": {
    "tags": []
   },
   "outputs": [],
   "source": [
    "print(1 + 3**3 * 4 / 8) # 1 + 27 * 4 / 8 == 1 + 108 / 8 == 1 + 13.5\n",
    "print((1 + 3**3) * 4 / 8) # (1 + 27) * 4 / 8"
   ]
  },
  {
   "cell_type": "markdown",
   "id": "c0412fde-8000-4c69-a893-f143f36ab849",
   "metadata": {},
   "source": [
    "## **[Strings](https://docs.python.org/3/library/string.html)**"
   ]
  },
  {
   "cell_type": "code",
   "execution_count": null,
   "id": "1ad737e6-2315-43ce-9935-2c90c7eb7caf",
   "metadata": {},
   "outputs": [],
   "source": [
    "first_string = 'Welcome to the first lecture of TRGN515!'"
   ]
  },
  {
   "cell_type": "code",
   "execution_count": null,
   "id": "99a107a4-e1e1-4b42-8056-1238d871e10f",
   "metadata": {},
   "outputs": [],
   "source": [
    "first_string"
   ]
  },
  {
   "cell_type": "code",
   "execution_count": null,
   "id": "b389784c-2171-4201-a8e3-26f203fe56dc",
   "metadata": {},
   "outputs": [],
   "source": [
    "type(first_string)"
   ]
  },
  {
   "cell_type": "code",
   "execution_count": null,
   "id": "50cb3743-721a-46bf-9d45-96466c564132",
   "metadata": {},
   "outputs": [],
   "source": [
    "len(first_string)"
   ]
  },
  {
   "cell_type": "markdown",
   "id": "24b7da31-a3ae-4621-8ef7-16aa0bb9f502",
   "metadata": {},
   "source": [
    "## `str.replace()`"
   ]
  },
  {
   "cell_type": "markdown",
   "id": "fad318c0-b3e1-4370-8f21-7d8c132f9aee",
   "metadata": {},
   "source": [
    "Using help() function, you can find out what this or other functions mean"
   ]
  },
  {
   "cell_type": "code",
   "execution_count": null,
   "id": "c01bc95b-2625-443d-b32f-b9ba15bc5d8e",
   "metadata": {},
   "outputs": [],
   "source": [
    "help(str.replace)"
   ]
  },
  {
   "cell_type": "markdown",
   "id": "c2b7bddb-4e45-41c1-aeef-3946755312d6",
   "metadata": {},
   "source": [
    "\n",
    "first_string will not be modified, because the replace function does not act on the original string, but rather on its copy"
   ]
  },
  {
   "cell_type": "code",
   "execution_count": null,
   "id": "4c22590e-4fce-420f-8dce-d21380e85183",
   "metadata": {},
   "outputs": [],
   "source": [
    "first_string.replace('515', '?')\n",
    "print(first_string)"
   ]
  },
  {
   "cell_type": "markdown",
   "id": "26aca211-46a1-40bc-b358-77422357ee57",
   "metadata": {},
   "source": [
    "You will use replace to get to what you want"
   ]
  },
  {
   "cell_type": "code",
   "execution_count": null,
   "id": "0588aac2-1a24-4c15-ad19-7765eb2a1597",
   "metadata": {},
   "outputs": [],
   "source": [
    "modified_string = first_string.replace('TRGN515', 'this epic class')\n",
    "print(modified_string)"
   ]
  },
  {
   "cell_type": "markdown",
   "id": "728acbf6-b629-4902-a7e4-bef482683bb7",
   "metadata": {},
   "source": [
    "## `str.format()`"
   ]
  },
  {
   "cell_type": "code",
   "execution_count": null,
   "id": "d8a50be2-678e-4bc7-b1f8-5e0ea84d9968",
   "metadata": {},
   "outputs": [],
   "source": [
    "secret = '{} is very cool'.format('learning Python')\n",
    "print(secret)"
   ]
  },
  {
   "cell_type": "markdown",
   "id": "b97045b6-0d40-487f-91b4-a35b52284c19",
   "metadata": {},
   "source": [
    "## `str.join()`"
   ]
  },
  {
   "cell_type": "code",
   "execution_count": null,
   "id": "329d6153-c7bb-495f-8177-2a66e372d728",
   "metadata": {},
   "outputs": [],
   "source": [
    "pandas = 'pandas'\n",
    "numpy = 'numpy'\n",
    "matplotlib = 'matplotlib'\n",
    "cool_python_libs = ', '.join([pandas, numpy, matplotlib])"
   ]
  },
  {
   "cell_type": "code",
   "execution_count": null,
   "id": "e6cdcf35-33b2-4365-b9d6-56a8350515a7",
   "metadata": {},
   "outputs": [],
   "source": [
    "print('A few examples to the coolest python libraries: {}'.format(cool_python_libs))"
   ]
  },
  {
   "cell_type": "markdown",
   "id": "4106a996-502d-4b13-94e8-4a0669dae44e",
   "metadata": {},
   "source": [
    "Alternatives to str.join(): [not as Pythonic](https://docs.python-guide.org/writing/style/#idioms), [and rather slower](https://waymoot.org/home/python_string/)"
   ]
  },
  {
   "cell_type": "code",
   "execution_count": null,
   "id": "62804794-a2fd-4781-b12c-d0478ff3caf2",
   "metadata": {},
   "outputs": [],
   "source": [
    "cool_python_libs = pandas + ', ' + numpy + ', ' + matplotlib\n",
    "print('Some cool python libraries: {}'.format(cool_python_libs))\n",
    "\n",
    "cool_python_libs = pandas\n",
    "cool_python_libs += ', ' + numpy\n",
    "cool_python_libs += ', ' + matplotlib\n",
    "print('Some cool python libraries: {}'.format(cool_python_libs))"
   ]
  },
  {
   "cell_type": "markdown",
   "id": "d2c61c12-d28b-4e11-a8ea-e2edb6da0555",
   "metadata": {},
   "source": [
    "## `str.strip()`"
   ]
  },
  {
   "cell_type": "code",
   "execution_count": null,
   "id": "bb1c4b48-0581-4598-ab22-703a435869b3",
   "metadata": {},
   "outputs": [],
   "source": [
    "ugly_formatted = ' \\n \\t learning strings   '\n",
    "stripped = ugly_formatted.strip()\n",
    "\n",
    "print('ugly: {}'.format(ugly_formatted))\n",
    "print('stripped: {}'.format(ugly_formatted.strip()))"
   ]
  },
  {
   "cell_type": "code",
   "execution_count": null,
   "id": "80926a90-4160-45e5-ac85-b4682a0d69bb",
   "metadata": {},
   "outputs": [],
   "source": [
    "help(str.strip)"
   ]
  },
  {
   "cell_type": "markdown",
   "id": "a7dd7965-6bf0-4495-bbfc-9141d45a03c0",
   "metadata": {},
   "source": [
    "## `str.split()`"
   ]
  },
  {
   "cell_type": "code",
   "execution_count": 1,
   "id": "1b4e0d07-1ac5-42ff-a1b5-12a31df5c9db",
   "metadata": {},
   "outputs": [
    {
     "name": "stdout",
     "output_type": "stream",
     "text": [
      "['three', 'different', 'words']\n"
     ]
    }
   ],
   "source": [
    "sentence = 'three different words'\n",
    "words = sentence.split()\n",
    "print(words)"
   ]
  },
  {
   "cell_type": "code",
   "execution_count": 2,
   "id": "b4a9689d-65ae-45c9-9c49-330e22b254dd",
   "metadata": {},
   "outputs": [
    {
     "data": {
      "text/plain": [
       "list"
      ]
     },
     "execution_count": 2,
     "metadata": {},
     "output_type": "execute_result"
    }
   ],
   "source": [
    "type(words)"
   ]
  },
  {
   "cell_type": "code",
   "execution_count": 3,
   "id": "55c56b36-7606-4be8-abf7-bf0e3652de7c",
   "metadata": {},
   "outputs": [
    {
     "name": "stdout",
     "output_type": "stream",
     "text": [
      "['01001', '101101', '11100000']\n"
     ]
    }
   ],
   "source": [
    "secret_binary_data = '01001,101101,11100000'\n",
    "binaries = secret_binary_data.split(',')\n",
    "print(binaries)"
   ]
  },
  {
   "cell_type": "markdown",
   "id": "33306256-d45f-4a23-8f73-f8c9e9105fe8",
   "metadata": {},
   "source": [
    "Let's use bunch of string methods all together"
   ]
  },
  {
   "cell_type": "code",
   "execution_count": 5,
   "id": "edaf7772-fe28-4c09-adff-a563eef34222",
   "metadata": {},
   "outputs": [
    {
     "name": "stdout",
     "output_type": "stream",
     "text": [
      "   this sentence has a very pretty format \n"
     ]
    }
   ],
   "source": [
    "ugly_mixed_case = '   ThiS SeNTencE HaS a VERy UgLy FoRmAT '\n",
    "pretty = ugly_mixed_case.strip().lower().replace('ugly', 'pretty')\n",
    "print(pretty)"
   ]
  },
  {
   "cell_type": "code",
   "execution_count": 9,
   "id": "b418b400-d787-45a1-8202-238a4d1636f4",
   "metadata": {},
   "outputs": [
    {
     "name": "stdout",
     "output_type": "stream",
     "text": [
      "this sentence has a very ugly format\n"
     ]
    }
   ],
   "source": [
    "ugly_mixed_case = '   ThiS SeNTencE HaS a VERy UgLy FoRmAT '\n",
    "pretty = ugly_mixed_case.replace('ugly', 'pretty').strip().lower()\n",
    "print(pretty)"
   ]
  },
  {
   "cell_type": "markdown",
   "id": "328da09d-0dcd-4a98-a6a5-79902581a701",
   "metadata": {},
   "source": [
    "Why will the following fail?"
   ]
  },
  {
   "cell_type": "code",
   "execution_count": 10,
   "id": "48e63eb0-f7c5-4b8e-a129-72f8e82aa2c6",
   "metadata": {},
   "outputs": [
    {
     "name": "stdout",
     "output_type": "stream",
     "text": [
      "this sentence has a very ugly format\n"
     ]
    }
   ],
   "source": [
    "pretty = ugly_mixed_case.replace('ugly', 'good').strip().lower()\n",
    "print(pretty)"
   ]
  },
  {
   "cell_type": "code",
   "execution_count": 11,
   "id": "d07f5ece-5538-48eb-9147-c7884a46ef9e",
   "metadata": {},
   "outputs": [],
   "source": [
    "# define a new sequence\n",
    "seq = \"ACGTTGGGCTGACCAGTACTAGTACNNNNN\""
   ]
  },
  {
   "cell_type": "code",
   "execution_count": 12,
   "id": "d6d13aae-9063-43c1-972b-7212e90ed49e",
   "metadata": {},
   "outputs": [
    {
     "data": {
      "text/plain": [
       "'T'"
      ]
     },
     "execution_count": 12,
     "metadata": {},
     "output_type": "execute_result"
    }
   ],
   "source": [
    "# Get a character from a string, slicing\n",
    "seq[9]"
   ]
  },
  {
   "cell_type": "code",
   "execution_count": 13,
   "id": "ee4dd964-1b7c-4e95-bce0-9f0a16d0cd96",
   "metadata": {},
   "outputs": [
    {
     "data": {
      "text/plain": [
       "30"
      ]
     },
     "execution_count": 13,
     "metadata": {},
     "output_type": "execute_result"
    }
   ],
   "source": [
    "# get the length of the sequence\n",
    "len(seq)"
   ]
  },
  {
   "cell_type": "code",
   "execution_count": 14,
   "id": "d4acefa5-ca9d-4f69-89c4-14143a5e3a30",
   "metadata": {},
   "outputs": [
    {
     "data": {
      "text/plain": [
       "'ACGTT'"
      ]
     },
     "execution_count": 14,
     "metadata": {},
     "output_type": "execute_result"
    }
   ],
   "source": [
    "# get a substring\n",
    "seq[0:5]"
   ]
  },
  {
   "cell_type": "code",
   "execution_count": 17,
   "id": "5c480b14-f521-473c-981a-31787350fbfb",
   "metadata": {},
   "outputs": [
    {
     "data": {
      "text/plain": [
       "'ACG'"
      ]
     },
     "execution_count": 17,
     "metadata": {},
     "output_type": "execute_result"
    }
   ],
   "source": [
    "# get a prefix\n",
    "seq[:3]"
   ]
  },
  {
   "cell_type": "code",
   "execution_count": 20,
   "id": "da313c5c-60aa-4863-9a9f-dc934e6c3283",
   "metadata": {},
   "outputs": [
    {
     "data": {
      "text/plain": [
       "'GGCTGACCAGTACTAGTACNNNNN'"
      ]
     },
     "execution_count": 20,
     "metadata": {},
     "output_type": "execute_result"
    }
   ],
   "source": [
    "# get a suffix\n",
    "seq[6:]"
   ]
  },
  {
   "cell_type": "code",
   "execution_count": 25,
   "id": "2186bb5e-2d59-4238-898e-afbaae714c9c",
   "metadata": {},
   "outputs": [
    {
     "data": {
      "text/plain": [
       "'GGCTGACCAGTACTAGTACNNNNN'"
      ]
     },
     "execution_count": 25,
     "metadata": {},
     "output_type": "execute_result"
    }
   ],
   "source": [
    "# another way to get a suffix\n",
    "seq[-24:]"
   ]
  },
  {
   "cell_type": "markdown",
   "id": "d67513a3-6c2f-4a28-94d8-0f45a23bbbf0",
   "metadata": {},
   "source": [
    "## **[Escape characters](https://python-reference.readthedocs.io/en/latest/docs/str/escapes.html#escape-characters)**\n"
   ]
  },
  {
   "cell_type": "code",
   "execution_count": 26,
   "id": "79306a65-e27c-4e5a-b028-175643a72cad",
   "metadata": {},
   "outputs": [
    {
     "name": "stdout",
     "output_type": "stream",
     "text": [
      "First line\n",
      "Second line\n"
     ]
    }
   ],
   "source": [
    "two_lines = 'First line\\nSecond line'\n",
    "print(two_lines)"
   ]
  },
  {
   "cell_type": "code",
   "execution_count": 27,
   "id": "2ab3cd9a-e1d1-4796-87ce-81fb8903a2fe",
   "metadata": {},
   "outputs": [
    {
     "name": "stdout",
     "output_type": "stream",
     "text": [
      "\tThis will be indented\n"
     ]
    }
   ],
   "source": [
    "indented = '\\tThis will be indented'\n",
    "print(indented)"
   ]
  },
  {
   "cell_type": "markdown",
   "id": "aade26cb-f59d-48ba-a5cf-e8156e3f0943",
   "metadata": {
    "tags": []
   },
   "source": [
    "# PART 2"
   ]
  },
  {
   "cell_type": "markdown",
   "id": "78cca979",
   "metadata": {},
   "source": [
    "## **Conditionals: testing truth value**"
   ]
  },
  {
   "cell_type": "markdown",
   "id": "3487d247",
   "metadata": {},
   "source": [
    "### `bool` (bool function converts a value to True or False)"
   ]
  },
  {
   "cell_type": "code",
   "execution_count": 28,
   "id": "260b7420",
   "metadata": {},
   "outputs": [
    {
     "name": "stdout",
     "output_type": "stream",
     "text": [
      "type of True and False: <class 'bool'>\n"
     ]
    }
   ],
   "source": [
    "print('type of True and False: {}'.format(type(True)))"
   ]
  },
  {
   "cell_type": "code",
   "execution_count": 29,
   "id": "41047282",
   "metadata": {},
   "outputs": [
    {
     "name": "stdout",
     "output_type": "stream",
     "text": [
      "0: False, 1: True\n",
      "empty list: False, list with values: True\n",
      "empty dict: False, dict with values: True\n"
     ]
    }
   ],
   "source": [
    "#For empty lists, tuple or strings, => bool function returns False\n",
    "#For 0  => bool function returns False\n",
    "#For empty dictionaries => bool function returns False\n",
    "\n",
    "print('0: {}, 1: {}'.format(bool(0), bool(1)))\n",
    "print('empty list: {}, list with values: {}'.format(bool([]), bool(['full', 'empty'])))\n",
    "print('empty dict: {}, dict with values: {}'.format(bool({}), bool({'Python': 'is cool'})))"
   ]
  },
  {
   "cell_type": "markdown",
   "id": "7e4d9948",
   "metadata": {},
   "source": [
    "### `==, !=, >, <, >=, <=`\n"
   ]
  },
  {
   "cell_type": "code",
   "execution_count": 30,
   "id": "8213d569",
   "metadata": {},
   "outputs": [
    {
     "name": "stdout",
     "output_type": "stream",
     "text": [
      "1 == 0: False\n",
      "1 != 0: True\n",
      "1 > 0: True\n",
      "1 > 1: False\n",
      "1 < 0: False\n",
      "1 < 1: False\n",
      "1 >= 0: True\n",
      "1 >= 1: True\n",
      "1 <= 0: False\n",
      "1 <= 1: True\n"
     ]
    }
   ],
   "source": [
    "print('1 == 0: {}'.format(1 == 0)) # == operator compares the value or equality of two objects\n",
    "print('1 != 0: {}'.format(1 != 0)) \n",
    "print('1 > 0: {}'.format(1 > 0))\n",
    "print('1 > 1: {}'.format(1 > 1))\n",
    "print('1 < 0: {}'.format(1 < 0))\n",
    "print('1 < 1: {}'.format(1 < 1))\n",
    "print('1 >= 0: {}'.format(1 >= 0))\n",
    "print('1 >= 1: {}'.format(1 >= 1))\n",
    "print('1 <= 0: {}'.format(1 <= 0))\n",
    "print('1 <= 1: {}'.format(1 <= 1))"
   ]
  },
  {
   "cell_type": "markdown",
   "id": "e8298f62",
   "metadata": {},
   "source": [
    "We can also concatenate operations"
   ]
  },
  {
   "cell_type": "code",
   "execution_count": 31,
   "id": "5d363d9a",
   "metadata": {},
   "outputs": [
    {
     "name": "stdout",
     "output_type": "stream",
     "text": [
      "1 <= 2 <= 3: True\n"
     ]
    }
   ],
   "source": [
    "print('1 <= 2 <= 3: {}'.format(1 <= 2 <= 3))"
   ]
  },
  {
   "cell_type": "markdown",
   "id": "0890a7ae",
   "metadata": {},
   "source": [
    "### `and, or, not`"
   ]
  },
  {
   "cell_type": "code",
   "execution_count": 32,
   "id": "b08cacd1",
   "metadata": {},
   "outputs": [
    {
     "name": "stdout",
     "output_type": "stream",
     "text": [
      "True\n",
      "False\n",
      "False\n"
     ]
    }
   ],
   "source": [
    "x = 5\n",
    "print(x > 3 and x < 10)\n",
    "print(x < 5 or x < 3) # if only one of the operations is True, returns True\n",
    "print(not(x > 3 and x < 10)) # operator that implements negation"
   ]
  },
  {
   "cell_type": "markdown",
   "id": "b409c2a9",
   "metadata": {},
   "source": [
    "## `if`\n",
    "\n",
    "in if statement, test expression is evaluated and will execute statement(s) only if the test expression is True."
   ]
  },
  {
   "cell_type": "code",
   "execution_count": 34,
   "id": "ef6fbbaa",
   "metadata": {},
   "outputs": [
    {
     "name": "stdout",
     "output_type": "stream",
     "text": [
      "statement is not True\n"
     ]
    }
   ],
   "source": [
    "statement = True\n",
    "if statement:\n",
    "    print('statement is True')\n",
    "    \n",
    "if not statement:\n",
    "    print('statement is not True')"
   ]
  },
  {
   "cell_type": "code",
   "execution_count": 36,
   "id": "ffaf4342",
   "metadata": {},
   "outputs": [
    {
     "name": "stdout",
     "output_type": "stream",
     "text": [
      "Value is positive and less than one or value is three\n"
     ]
    }
   ],
   "source": [
    "val = 3\n",
    "if 0 <= val < 1 or val == 3:\n",
    "    print('Value is positive and less than one or value is three')"
   ]
  },
  {
   "cell_type": "markdown",
   "id": "80eb3ae1",
   "metadata": {},
   "source": [
    "## `if-else`\n",
    "Else statement takes place if the 'if' statement returns False"
   ]
  },
  {
   "cell_type": "code",
   "execution_count": 37,
   "id": "f999d170",
   "metadata": {},
   "outputs": [
    {
     "name": "stdout",
     "output_type": "stream",
     "text": [
      "because cond1 is False, this statement will execute.\n"
     ]
    }
   ],
   "source": [
    "cond1 = False\n",
    "\n",
    "if cond1 == True:\n",
    "    print(\"because cond1 is False, this statement will be skipped.\") #will not work\n",
    "else:\n",
    "    print(\"because cond1 is False, this statement will execute.\")"
   ]
  },
  {
   "cell_type": "markdown",
   "id": "2f8d0826",
   "metadata": {},
   "source": [
    "## `if-elif-else`\n",
    "\n",
    "The elif is short for else if. It allows us to check for multiple expressions"
   ]
  },
  {
   "cell_type": "code",
   "execution_count": 38,
   "id": "f2fe118d",
   "metadata": {},
   "outputs": [
    {
     "name": "stdout",
     "output_type": "stream",
     "text": [
      "value is smaller than 0.\n"
     ]
    }
   ],
   "source": [
    "value=-1\n",
    "\n",
    "if value<0:\n",
    "    print(\"value is smaller than 0.\")\n",
    "elif value>20:\n",
    "    print(\"value is larger than 20.\")\n",
    "elif value==20:\n",
    "    print(\"value is equal to 20.\")"
   ]
  },
  {
   "cell_type": "markdown",
   "id": "cf4ea670-80a3-4ad4-b45d-2530d16af092",
   "metadata": {},
   "source": [
    "You can use the `elif` statement as many times as you want. You also do not have to use `else` statement at the end of the loop."
   ]
  },
  {
   "cell_type": "code",
   "execution_count": 40,
   "id": "cc67d840",
   "metadata": {},
   "outputs": [
    {
     "name": "stdin",
     "output_type": "stream",
     "text": [
      "enter midterm score :  60\n",
      "enter finals score : 85\n"
     ]
    },
    {
     "name": "stdout",
     "output_type": "stream",
     "text": [
      "Your average score is :  75\n",
      "Your letter grade is BA\n"
     ]
    }
   ],
   "source": [
    "#Let's write a little program to calculate your average score.\n",
    "\n",
    "midtermscore=float(input(\"enter midterm score : \"))\n",
    "finalscore=float(input(\"enter finals score :\"))\n",
    " \n",
    "#Let's calculate 40% of the midterm score and 60% of the finals score.\n",
    " \n",
    "AvrScore=(0.4*midtermscore)+(0.6*finalscore)\n",
    " \n",
    "print(\"Your average score is : \", int(AvrScore))\n",
    " \n",
    "#Let's add one more condition: Finals score needs to be more than 50.\n",
    " \n",
    "if finalscore>=50:\n",
    "    if(AvrScore>=85 and finalscore>=50):\n",
    "        print(\"Your letter grade is AA\")\n",
    "    elif AvrScore>=75 and AvrScore<85 :\n",
    "        print(\"Your letter grade is BA\")\n",
    "    elif AvrScore >= 70 and AvrScore < 75:\n",
    "        print(\"Your letter grade is BB\")\n",
    "    elif AvrScore >= 65 and AvrScore < 70:\n",
    "        print(\"Your letter grade is CB\")\n",
    "    elif AvrScore >= 60 and AvrScore < 65:\n",
    "        print(\"Your letter grade is CC\")\n",
    "    elif AvrScore >= 55 and AvrScore < 60:\n",
    "        print(\"Your letter grade is DC\")\n",
    "    elif AvrScore >= 50 and AvrScore < 55:\n",
    "        print(\"Your letter grade is DD\")\n",
    " \n",
    "else:\n",
    "    print(\"Your letter grade is FF, you failed.\")"
   ]
  },
  {
   "cell_type": "markdown",
   "id": "7c75498b",
   "metadata": {},
   "source": [
    "Check out [tutorial from Real Python](https://realpython.com/python-conditional-statements/) for more information on conditionals."
   ]
  },
  {
   "cell_type": "markdown",
   "id": "fc888a2a-4024-4cb9-877d-1903c53b3cd4",
   "metadata": {},
   "source": [
    "# PART 3"
   ]
  },
  {
   "cell_type": "markdown",
   "id": "223d3abe",
   "metadata": {},
   "source": [
    "## **[Lists](https://docs.python.org/3/library/stdtypes.html#lists)**"
   ]
  },
  {
   "cell_type": "code",
   "execution_count": 41,
   "id": "14b08f01",
   "metadata": {},
   "outputs": [
    {
     "name": "stdout",
     "output_type": "stream",
     "text": [
      "first list: [], type: <class 'list'>\n"
     ]
    }
   ],
   "source": [
    "my_first_list = []\n",
    "print('first list: {}, type: {}'.format(my_first_list, type(my_first_list)))"
   ]
  },
  {
   "cell_type": "code",
   "execution_count": 42,
   "id": "3321707b",
   "metadata": {},
   "outputs": [
    {
     "name": "stdout",
     "output_type": "stream",
     "text": [
      "lengths: 4 ve 6\n"
     ]
    }
   ],
   "source": [
    "numbers_list = [1, 2, 6, 7]\n",
    "mixed_list = [0.2, 5, 'learning', 'Python', 'is still fun', ':)']\n",
    "print('lengths: {} ve {}'.format(len(numbers_list), len(mixed_list)))"
   ]
  },
  {
   "cell_type": "markdown",
   "id": "2ead73c4",
   "metadata": {},
   "source": [
    "### How to access the list elements? "
   ]
  },
  {
   "cell_type": "code",
   "execution_count": 43,
   "id": "53676477",
   "metadata": {},
   "outputs": [
    {
     "name": "stdout",
     "output_type": "stream",
     "text": [
      "Python\n",
      "still\n",
      "fun\n"
     ]
    }
   ],
   "source": [
    "my_list = ['Python', 'is', 'still', 'fun']\n",
    "print(my_list[0]) \n",
    "# python lists are 0-indexed. So the first element is 0, second is 1, so on.\n",
    "print(my_list[2])\n",
    "print(my_list[3])"
   ]
  },
  {
   "cell_type": "code",
   "execution_count": 45,
   "id": "da22829d",
   "metadata": {},
   "outputs": [
    {
     "name": "stdout",
     "output_type": "stream",
     "text": [
      "first group: ['Dr. Craig', 'Dr. Carpten']\n",
      "second person from the second group: Dr. Hjelm\n",
      "first person from the fourth group: Dr. Manojlovic\n"
     ]
    }
   ],
   "source": [
    "Keck_Faculty = [['Dr. Craig','Dr. Carpten'], ['Dr. Baloglu ', 'Dr. Hjelm'], ['Dr. King', 'Dr. Lin'], ['Dr. Manojlovic', 'Dr. Saliha'], ['Dr. Villarreal','Dr. McEachron']]  # two dimensional\n",
    "print('first group: {}'.format(Keck_Faculty[0]))\n",
    "print('second person from the second group: {}'.format(Keck_Faculty[1][1]))\n",
    "\n",
    "# print first person from the fourth group\n",
    "print('first person from the fourth group: {}'.format(Keck_Faculty[3][0]))"
   ]
  },
  {
   "cell_type": "code",
   "execution_count": 46,
   "id": "6e162bee",
   "metadata": {},
   "outputs": [
    {
     "data": {
      "text/plain": [
       "5"
      ]
     },
     "execution_count": 46,
     "metadata": {},
     "output_type": "execute_result"
    }
   ],
   "source": [
    "len(Keck_Faculty)"
   ]
  },
  {
   "cell_type": "markdown",
   "id": "e632be75",
   "metadata": {
    "tags": []
   },
   "source": [
    "### Check if elements are present in the list"
   ]
  },
  {
   "cell_type": "code",
   "execution_count": 47,
   "id": "dc8ac169",
   "metadata": {
    "tags": []
   },
   "outputs": [
    {
     "name": "stdout",
     "output_type": "stream",
     "text": [
      "BOLD exists in the list!\n"
     ]
    }
   ],
   "source": [
    "bioinformatics_databases = ['NCBI GenBank', 'BOLD', 'ENA', 'Protein Data Bank']\n",
    "if 'BOLD' in bioinformatics_databases:\n",
    "    print('BOLD exists in the list!')"
   ]
  },
  {
   "cell_type": "code",
   "execution_count": 48,
   "id": "43f5c834",
   "metadata": {
    "tags": []
   },
   "outputs": [
    {
     "name": "stdout",
     "output_type": "stream",
     "text": [
      "8 does not exist in the list\n"
     ]
    }
   ],
   "source": [
    "if 8 not in [1, 2, 3, 4, 5]:\n",
    "    print('8 does not exist in the list')"
   ]
  },
  {
   "cell_type": "markdown",
   "id": "2cbca33b",
   "metadata": {
    "tags": []
   },
   "source": [
    "### Lists are mutable "
   ]
  },
  {
   "cell_type": "markdown",
   "id": "2e74a19b",
   "metadata": {},
   "source": [
    "### Updating the elements of a list"
   ]
  },
  {
   "cell_type": "code",
   "execution_count": 49,
   "id": "df99e9d9",
   "metadata": {},
   "outputs": [
    {
     "name": "stdout",
     "output_type": "stream",
     "text": [
      "my original list: [89, 1, 2, 3, 4, 5]\n",
      "my updated list: [99, 1, 2, 3, 4, 5]\n",
      "[1, 2, 3, 4, 5]\n"
     ]
    }
   ],
   "source": [
    "#lists are mutable, changeable\n",
    "my_list = [89, 1, 2, 3, 4, 5]\n",
    "print('my original list:', my_list)\n",
    "my_list[0] = 99\n",
    "print('my updated list:', my_list)\n",
    "\n",
    "# let's delete the first element of the list\n",
    "del my_list[0]\n",
    "print(my_list) \n",
    "\n",
    "# we now changed the original list, could we change the list without touching the original list?"
   ]
  },
  {
   "cell_type": "code",
   "execution_count": 50,
   "id": "a05d5c31",
   "metadata": {},
   "outputs": [
    {
     "ename": "AttributeError",
     "evalue": "type object 'list' has no attribute 'replace'",
     "output_type": "error",
     "traceback": [
      "\u001b[0;31m---------------------------------------------------------------------------\u001b[0m",
      "\u001b[0;31mAttributeError\u001b[0m                            Traceback (most recent call last)",
      "\u001b[0;32m<ipython-input-50-4046470afd27>\u001b[0m in \u001b[0;36m<module>\u001b[0;34m\u001b[0m\n\u001b[0;32m----> 1\u001b[0;31m \u001b[0mhelp\u001b[0m\u001b[0;34m(\u001b[0m\u001b[0mlist\u001b[0m\u001b[0;34m.\u001b[0m\u001b[0mreplace\u001b[0m\u001b[0;34m)\u001b[0m \u001b[0;31m# will it work?\u001b[0m\u001b[0;34m\u001b[0m\u001b[0;34m\u001b[0m\u001b[0m\n\u001b[0m",
      "\u001b[0;31mAttributeError\u001b[0m: type object 'list' has no attribute 'replace'"
     ]
    }
   ],
   "source": [
    "help(list.replace) # will it work?"
   ]
  },
  {
   "cell_type": "code",
   "execution_count": null,
   "id": "db979e36-4e67-4b78-a57b-c35344287c1d",
   "metadata": {},
   "outputs": [],
   "source": []
  },
  {
   "cell_type": "code",
   "execution_count": 54,
   "id": "e11bd4ec",
   "metadata": {},
   "outputs": [
    {
     "name": "stdout",
     "output_type": "stream",
     "text": [
      "main_list: [128, 2, 3], modified_list: [128, 2, 3]\n"
     ]
    }
   ],
   "source": [
    "main_list = [1, 2, 3]\n",
    "print('list before modification: ', main_list)\n",
    "modified_list = main_list\n",
    "modified_list[0] = 128\n",
    "print('main_list: {}, modified_list: {}'.format(main_list, modified_list))"
   ]
  },
  {
   "cell_type": "markdown",
   "id": "454ac243",
   "metadata": {},
   "source": [
    "This is rather dangerous, ideally we should not modify the original list. Here are some potential solutions:"
   ]
  },
  {
   "cell_type": "code",
   "execution_count": 57,
   "id": "eef15ddf",
   "metadata": {},
   "outputs": [
    {
     "name": "stdout",
     "output_type": "stream",
     "text": [
      "original: [1, 2, 3], modified_list: [128, 2, 3]\n"
     ]
    }
   ],
   "source": [
    "main_list = [1, 2, 3]\n",
    "modified_list = list(main_list) # Note list() \n",
    "modified_list[0] = 128\n",
    "print('original: {}, modified_list: {}'.format(main_list, modified_list))"
   ]
  },
  {
   "cell_type": "markdown",
   "id": "01d1308d-1100-4c2b-8d43-aa875eb8f842",
   "metadata": {},
   "source": [
    "### Three possible ways to copy a list: \n",
    "\n",
    "1- The first, [:], is creating a slice (normally often used for getting just part of a list), which happens to contain the entire list, and thus is effectively a copy of the list.\n",
    "\n",
    "2- The second, list(), is using the actual list type constructor to create a new list which has contents equal to the first list\n",
    "\n",
    "3- The third, list_a.copy() is making a copy of the original list, without modifying it"
   ]
  },
  {
   "cell_type": "code",
   "execution_count": 58,
   "id": "c916a8b0-806c-4349-b730-8ba38d6bc9d4",
   "metadata": {},
   "outputs": [
    {
     "name": "stdout",
     "output_type": "stream",
     "text": [
      "original: [1, 2, 3], modified_list: [128, 2, 3]\n"
     ]
    }
   ],
   "source": [
    "main_list = [1, 2, 3]\n",
    "modified_list = main_list[:] \n",
    "modified_list[0] = 128\n",
    "print('original: {}, modified_list: {}'.format(main_list, modified_list))"
   ]
  },
  {
   "cell_type": "markdown",
   "id": "6b507d53",
   "metadata": {},
   "source": [
    "## `list.append()`"
   ]
  },
  {
   "cell_type": "code",
   "execution_count": 61,
   "id": "1ecc0eb5-51c9-4aaa-b2a1-ec3cf2b0a1bb",
   "metadata": {},
   "outputs": [
    {
     "name": "stdout",
     "output_type": "stream",
     "text": [
      "Help on method_descriptor:\n",
      "\n",
      "append(...)\n",
      "    L.append(object) -> None -- append object to end\n",
      "\n"
     ]
    }
   ],
   "source": [
    "help(list.append)"
   ]
  },
  {
   "cell_type": "code",
   "execution_count": 64,
   "id": "a19ddd85",
   "metadata": {},
   "outputs": [
    {
     "name": "stdout",
     "output_type": "stream",
     "text": [
      "[1, 'apple']\n"
     ]
    }
   ],
   "source": [
    "my_list = [1]\n",
    "my_list.append('apple')\n",
    "print(my_list)"
   ]
  },
  {
   "cell_type": "markdown",
   "id": "142aeb57",
   "metadata": {},
   "source": [
    "## `list.remove()`"
   ]
  },
  {
   "cell_type": "code",
   "execution_count": 66,
   "id": "115e124e-1c25-4e36-9892-a66490ad97f0",
   "metadata": {},
   "outputs": [
    {
     "data": {
      "text/plain": [
       "4"
      ]
     },
     "execution_count": 66,
     "metadata": {},
     "output_type": "execute_result"
    }
   ],
   "source": [
    "list_b = [1, 4, 5, 'TRGN515']\n",
    "list_b[1]"
   ]
  },
  {
   "cell_type": "code",
   "execution_count": 69,
   "id": "d66244b1-29ae-4002-bc2f-29d11003b41c",
   "metadata": {},
   "outputs": [
    {
     "name": "stdout",
     "output_type": "stream",
     "text": [
      "['Python', 'is', 'tricky']\n"
     ]
    }
   ],
   "source": [
    "my_list = ['Python', 'is', 'sometimes', 'tricky']\n",
    "my_list.remove(my_list[2])\n",
    "print(my_list)"
   ]
  },
  {
   "cell_type": "code",
   "execution_count": 71,
   "id": "07a01c73",
   "metadata": {},
   "outputs": [],
   "source": [
    "my_list = ['Python', 'is', 'sometimes', 'tricky']\n",
    "my_list.remove('sometimes')\n",
    "print(my_list)\n",
    "\n",
    "# If you are not sure if an element is present in the list, check first:\n",
    "\n",
    "if 'sometimes' in my_list:\n",
    "    my_list.remove('sometimes')\n",
    "else:\n",
    "    print('the word sometimes does not exist in this list.')"
   ]
  },
  {
   "cell_type": "markdown",
   "id": "05a7eabd",
   "metadata": {},
   "source": [
    "## `list.sort()`"
   ]
  },
  {
   "cell_type": "code",
   "execution_count": 80,
   "id": "f9c97a1b-8e95-4aa6-a49d-a299c5805cd1",
   "metadata": {},
   "outputs": [
    {
     "name": "stdout",
     "output_type": "stream",
     "text": [
      "Help on method_descriptor:\n",
      "\n",
      "sort(...)\n",
      "    L.sort(key=None, reverse=False) -> None -- stable sort *IN PLACE*\n",
      "\n"
     ]
    }
   ],
   "source": [
    "help(list.sort)"
   ]
  },
  {
   "cell_type": "code",
   "execution_count": 82,
   "id": "d18deb34",
   "metadata": {},
   "outputs": [
    {
     "name": "stdout",
     "output_type": "stream",
     "text": [
      "digits: [1, 3, 5, 9, 10]\n",
      "the order of sorted digits have been reversed: [10, 9, 5, 3, 1]\n"
     ]
    }
   ],
   "source": [
    "my_digits = [9, 1, 3, 5, 10]\n",
    "my_digits.sort()\n",
    "print('digits: {}'.format(my_digits))\n",
    "\n",
    "my_digits.sort(reverse=True)\n",
    "print('the order of sorted digits have been reversed: {}'.format(my_digits))\n"
   ]
  },
  {
   "cell_type": "code",
   "execution_count": 84,
   "id": "3bcacce4-e941-4a2e-bdb9-979c7fa6dce4",
   "metadata": {},
   "outputs": [
    {
     "name": "stdout",
     "output_type": "stream",
     "text": [
      "words: ['words', 'this', 'of', 'list', 'is', 'a']\n"
     ]
    }
   ],
   "source": [
    "my_words = ['this', 'is', 'a', 'list', 'of', 'words']\n",
    "my_words.sort(reverse=True)\n",
    "print('words: {}'.format(my_words))"
   ]
  },
  {
   "cell_type": "markdown",
   "id": "f4b3d2f7",
   "metadata": {},
   "source": [
    "## `sorted(list)`\n",
    "`list.sort()` sorts the original list, `sorted(list)` returns a sorted list and does not make changes to the original list."
   ]
  },
  {
   "cell_type": "code",
   "execution_count": 85,
   "id": "773daae3",
   "metadata": {},
   "outputs": [
    {
     "name": "stdout",
     "output_type": "stream",
     "text": [
      "digits: [9, 1, 3, 5, 10], sorted_digits: [1, 3, 5, 9, 10]\n"
     ]
    }
   ],
   "source": [
    "my_digits = [9, 1, 3, 5, 10]\n",
    "sorted_digits = sorted(my_digits)\n",
    "print('digits: {}, sorted_digits: {}'.format(my_digits, sorted_digits))"
   ]
  },
  {
   "cell_type": "markdown",
   "id": "a161f658",
   "metadata": {},
   "source": [
    "## `list.extend()`"
   ]
  },
  {
   "cell_type": "code",
   "execution_count": 87,
   "id": "026cea3c-a9fd-47f9-8adb-1e8faf17a727",
   "metadata": {},
   "outputs": [
    {
     "name": "stdout",
     "output_type": "stream",
     "text": [
      "Help on method_descriptor:\n",
      "\n",
      "extend(...)\n",
      "    L.extend(iterable) -> None -- extend list by appending elements from the iterable\n",
      "\n"
     ]
    }
   ],
   "source": [
    "help(list.extend)"
   ]
  },
  {
   "cell_type": "code",
   "execution_count": 91,
   "id": "734fab8c",
   "metadata": {},
   "outputs": [
    {
     "name": "stdout",
     "output_type": "stream",
     "text": [
      "A few examples to female Turkish authors:  modified_list: ['Duygu Asena', 'Buket Uzuner', 'Ayse Kulin', 'Gulten Akin'], second: ['Ayse Kulin', 'Gulten Akin']\n"
     ]
    }
   ],
   "source": [
    "first_list = ['Duygu Asena', 'Buket Uzuner']\n",
    "second_list = ['Ayse Kulin','Gulten Akin']\n",
    "first_list.extend(second_list) # what is happening here?\n",
    "print('A few examples to female Turkish authors: ', 'modified_list: {}, second: {}'.format(first_list, second_list))"
   ]
  },
  {
   "cell_type": "code",
   "execution_count": 90,
   "id": "b0193168-f505-4054-845a-0b5a27e1f5b8",
   "metadata": {},
   "outputs": [
    {
     "name": "stdout",
     "output_type": "stream",
     "text": [
      "List after extend: ['Duygu Asena', 'Buket Uzuner', 'Ayse Kulin', 'Gulten Akin']\n"
     ]
    }
   ],
   "source": [
    "print('List after extend:', first_list)\n",
    "#Here, all the elements of iterable were added to the end of first_list."
   ]
  },
  {
   "cell_type": "markdown",
   "id": "0c18ac9d",
   "metadata": {},
   "source": [
    "Another, slower and non-Pythonic, extend method is the addition operation:"
   ]
  },
  {
   "cell_type": "code",
   "execution_count": null,
   "id": "4889d216",
   "metadata": {},
   "outputs": [],
   "source": [
    "first = [1, 2, 3]\n",
    "second = [4, 5]\n",
    "first += second  # same as: first = first + second\n",
    "print('first: {}'.format(first))\n",
    "\n",
    "# If you need a new list\n",
    "summed = first + second\n",
    "print('summed: {}'.format(summed))"
   ]
  },
  {
   "cell_type": "markdown",
   "id": "bca86a8c",
   "metadata": {},
   "source": [
    "## `list.reverse()`"
   ]
  },
  {
   "cell_type": "code",
   "execution_count": 93,
   "id": "53f0b6a4-1e40-47b9-908f-fa2c71696238",
   "metadata": {},
   "outputs": [
    {
     "name": "stdout",
     "output_type": "stream",
     "text": [
      "Help on method_descriptor:\n",
      "\n",
      "reverse(...)\n",
      "    L.reverse() -- reverse *IN PLACE*\n",
      "\n"
     ]
    }
   ],
   "source": [
    "help(list.reverse)"
   ]
  },
  {
   "cell_type": "code",
   "execution_count": 92,
   "id": "0390a41f",
   "metadata": {},
   "outputs": [
    {
     "name": "stdout",
     "output_type": "stream",
     "text": [
      "['PacBio', 'Nanopore', 'Illumina']\n"
     ]
    }
   ],
   "source": [
    "my_list = ['Illumina', 'Nanopore', 'PacBio']\n",
    "my_list.reverse()\n",
    "print(my_list)"
   ]
  },
  {
   "cell_type": "code",
   "execution_count": 105,
   "id": "80123c28-3ab8-4286-bfe6-5dece9099542",
   "metadata": {},
   "outputs": [
    {
     "name": "stdout",
     "output_type": "stream",
     "text": [
      "reversed list:  ['PacBio', 'Nanopore', 'Illumina']\n",
      "my original list:  ['Illumina', 'Nanopore', 'PacBio']\n"
     ]
    }
   ],
   "source": [
    "my_list = ['Illumina', 'Nanopore', 'PacBio']\n",
    "print('reversed list: ', list(reversed(my_list)))\n",
    "print('my original list: ', my_list)\n"
   ]
  },
  {
   "cell_type": "markdown",
   "id": "66ca853e-37a5-4734-bf94-c33353d09665",
   "metadata": {},
   "source": [
    "# PART 4"
   ]
  },
  {
   "cell_type": "markdown",
   "id": "8f298d37",
   "metadata": {},
   "source": [
    "## **[Dictionaries](https://docs.python.org/3/library/stdtypes.html#dict)**"
   ]
  },
  {
   "cell_type": "code",
   "execution_count": 106,
   "id": "7f1be18f",
   "metadata": {},
   "outputs": [
    {
     "name": "stdout",
     "output_type": "stream",
     "text": [
      "dict: {}, type: <class 'dict'>\n"
     ]
    }
   ],
   "source": [
    "my_first_dict = {}  #or another method: my_first_dict = dict()\n",
    "print('dict: {}, type: {}'.format(my_first_dict, type(my_first_dict)))"
   ]
  },
  {
   "cell_type": "markdown",
   "id": "613f11e9",
   "metadata": {},
   "source": [
    "### Initialization"
   ]
  },
  {
   "cell_type": "code",
   "execution_count": 107,
   "id": "8a0322b2",
   "metadata": {},
   "outputs": [
    {
     "name": "stdout",
     "output_type": "stream",
     "text": [
      "{'key1': 2, 'key2': 4, 'key3': 6}\n",
      "{'key1': 2, 'key2': 4, 'key3': 6}\n",
      "equal: True\n",
      "length: 3\n"
     ]
    }
   ],
   "source": [
    "dict1 = {'key1': 2, 'key2': 4, 'key3': 6}\n",
    "my_second_dict = dict(key1 = 2, key2 = 4, key3 = 6)\n",
    "\n",
    "print(dict1)\n",
    "print(my_second_dict)\n",
    "\n",
    "print('equal: {}'.format(dict1 == my_second_dict))\n",
    "print('length: {}'.format(len(dict1)))"
   ]
  },
  {
   "cell_type": "code",
   "execution_count": 111,
   "id": "fe4006bc-905c-4597-a9a0-8727d18defc4",
   "metadata": {},
   "outputs": [
    {
     "name": "stdout",
     "output_type": "stream",
     "text": [
      "{'Subaru': 'Japanese', 'Tesla': 'American', 'Mercedes': 'German'}\n"
     ]
    }
   ],
   "source": [
    "my_dict = {\n",
    "    'Subaru' : 'Japanese',\n",
    "    'Tesla' : 'American',\n",
    "    'Mercedes' : 'German',\n",
    "}\n",
    "\n",
    "print(my_dict)"
   ]
  },
  {
   "cell_type": "code",
   "execution_count": 112,
   "id": "11eb52f4",
   "metadata": {
    "collapsed": true,
    "jupyter": {
     "outputs_hidden": true
    },
    "tags": []
   },
   "outputs": [
    {
     "name": "stdout",
     "output_type": "stream",
     "text": [
      "Help on built-in function format in module builtins:\n",
      "\n",
      "format(value, format_spec='', /)\n",
      "    Return value.__format__(format_spec)\n",
      "    \n",
      "    format_spec defaults to the empty string.\n",
      "    See the Format Specification Mini-Language section of help('FORMATTING') for\n",
      "    details.\n",
      "\n",
      "Format String Syntax\n",
      "********************\n",
      "\n",
      "The \"str.format()\" method and the \"Formatter\" class share the same\n",
      "syntax for format strings (although in the case of \"Formatter\",\n",
      "subclasses can define their own format string syntax).  The syntax is\n",
      "related to that of formatted string literals, but there are\n",
      "differences.\n",
      "\n",
      "Format strings contain “replacement fields” surrounded by curly braces\n",
      "\"{}\". Anything that is not contained in braces is considered literal\n",
      "text, which is copied unchanged to the output.  If you need to include\n",
      "a brace character in the literal text, it can be escaped by doubling:\n",
      "\"{{\" and \"}}\".\n",
      "\n",
      "The grammar for a replacement field is as follows:\n",
      "\n",
      "      replacement_field ::= \"{\" [field_name] [\"!\" conversion] [\":\" format_spec] \"}\"\n",
      "      field_name        ::= arg_name (\".\" attribute_name | \"[\" element_index \"]\")*\n",
      "      arg_name          ::= [identifier | digit+]\n",
      "      attribute_name    ::= identifier\n",
      "      element_index     ::= digit+ | index_string\n",
      "      index_string      ::= <any source character except \"]\"> +\n",
      "      conversion        ::= \"r\" | \"s\" | \"a\"\n",
      "      format_spec       ::= <described in the next section>\n",
      "\n",
      "In less formal terms, the replacement field can start with a\n",
      "*field_name* that specifies the object whose value is to be formatted\n",
      "and inserted into the output instead of the replacement field. The\n",
      "*field_name* is optionally followed by a  *conversion* field, which is\n",
      "preceded by an exclamation point \"'!'\", and a *format_spec*, which is\n",
      "preceded by a colon \"':'\".  These specify a non-default format for the\n",
      "replacement value.\n",
      "\n",
      "See also the Format Specification Mini-Language section.\n",
      "\n",
      "The *field_name* itself begins with an *arg_name* that is either a\n",
      "number or a keyword.  If it’s a number, it refers to a positional\n",
      "argument, and if it’s a keyword, it refers to a named keyword\n",
      "argument.  If the numerical arg_names in a format string are 0, 1, 2,\n",
      "… in sequence, they can all be omitted (not just some) and the numbers\n",
      "0, 1, 2, … will be automatically inserted in that order. Because\n",
      "*arg_name* is not quote-delimited, it is not possible to specify\n",
      "arbitrary dictionary keys (e.g., the strings \"'10'\" or \"':-]'\") within\n",
      "a format string. The *arg_name* can be followed by any number of index\n",
      "or attribute expressions. An expression of the form \"'.name'\" selects\n",
      "the named attribute using \"getattr()\", while an expression of the form\n",
      "\"'[index]'\" does an index lookup using \"__getitem__()\".\n",
      "\n",
      "Changed in version 3.1: The positional argument specifiers can be\n",
      "omitted for \"str.format()\", so \"'{} {}'.format(a, b)\" is equivalent to\n",
      "\"'{0} {1}'.format(a, b)\".\n",
      "\n",
      "Changed in version 3.4: The positional argument specifiers can be\n",
      "omitted for \"Formatter\".\n",
      "\n",
      "Some simple format string examples:\n",
      "\n",
      "   \"First, thou shalt count to {0}\"  # References first positional argument\n",
      "   \"Bring me a {}\"                   # Implicitly references the first positional argument\n",
      "   \"From {} to {}\"                   # Same as \"From {0} to {1}\"\n",
      "   \"My quest is {name}\"              # References keyword argument 'name'\n",
      "   \"Weight in tons {0.weight}\"       # 'weight' attribute of first positional arg\n",
      "   \"Units destroyed: {players[0]}\"   # First element of keyword argument 'players'.\n",
      "\n",
      "The *conversion* field causes a type coercion before formatting.\n",
      "Normally, the job of formatting a value is done by the \"__format__()\"\n",
      "method of the value itself.  However, in some cases it is desirable to\n",
      "force a type to be formatted as a string, overriding its own\n",
      "definition of formatting.  By converting the value to a string before\n",
      "calling \"__format__()\", the normal formatting logic is bypassed.\n",
      "\n",
      "Three conversion flags are currently supported: \"'!s'\" which calls\n",
      "\"str()\" on the value, \"'!r'\" which calls \"repr()\" and \"'!a'\" which\n",
      "calls \"ascii()\".\n",
      "\n",
      "Some examples:\n",
      "\n",
      "   \"Harold's a clever {0!s}\"        # Calls str() on the argument first\n",
      "   \"Bring out the holy {name!r}\"    # Calls repr() on the argument first\n",
      "   \"More {!a}\"                      # Calls ascii() on the argument first\n",
      "\n",
      "The *format_spec* field contains a specification of how the value\n",
      "should be presented, including such details as field width, alignment,\n",
      "padding, decimal precision and so on.  Each value type can define its\n",
      "own “formatting mini-language” or interpretation of the *format_spec*.\n",
      "\n",
      "Most built-in types support a common formatting mini-language, which\n",
      "is described in the next section.\n",
      "\n",
      "A *format_spec* field can also include nested replacement fields\n",
      "within it. These nested replacement fields may contain a field name,\n",
      "conversion flag and format specification, but deeper nesting is not\n",
      "allowed.  The replacement fields within the format_spec are\n",
      "substituted before the *format_spec* string is interpreted. This\n",
      "allows the formatting of a value to be dynamically specified.\n",
      "\n",
      "See the Format examples section for some examples.\n",
      "\n",
      "\n",
      "Format Specification Mini-Language\n",
      "==================================\n",
      "\n",
      "“Format specifications” are used within replacement fields contained\n",
      "within a format string to define how individual values are presented\n",
      "(see Format String Syntax and Formatted string literals). They can\n",
      "also be passed directly to the built-in \"format()\" function.  Each\n",
      "formattable type may define how the format specification is to be\n",
      "interpreted.\n",
      "\n",
      "Most built-in types implement the following options for format\n",
      "specifications, although some of the formatting options are only\n",
      "supported by the numeric types.\n",
      "\n",
      "A general convention is that an empty format string (\"\"\"\") produces\n",
      "the same result as if you had called \"str()\" on the value. A non-empty\n",
      "format string typically modifies the result.\n",
      "\n",
      "The general form of a *standard format specifier* is:\n",
      "\n",
      "   format_spec     ::= [[fill]align][sign][#][0][width][grouping_option][.precision][type]\n",
      "   fill            ::= <any character>\n",
      "   align           ::= \"<\" | \">\" | \"=\" | \"^\"\n",
      "   sign            ::= \"+\" | \"-\" | \" \"\n",
      "   width           ::= digit+\n",
      "   grouping_option ::= \"_\" | \",\"\n",
      "   precision       ::= digit+\n",
      "   type            ::= \"b\" | \"c\" | \"d\" | \"e\" | \"E\" | \"f\" | \"F\" | \"g\" | \"G\" | \"n\" | \"o\" | \"s\" | \"x\" | \"X\" | \"%\"\n",
      "\n",
      "If a valid *align* value is specified, it can be preceded by a *fill*\n",
      "character that can be any character and defaults to a space if\n",
      "omitted. It is not possible to use a literal curly brace (“\"{\"” or\n",
      "“\"}\"”) as the *fill* character in a formatted string literal or when\n",
      "using the \"str.format()\" method.  However, it is possible to insert a\n",
      "curly brace with a nested replacement field.  This limitation doesn’t\n",
      "affect the \"format()\" function.\n",
      "\n",
      "The meaning of the various alignment options is as follows:\n",
      "\n",
      "   +-----------+------------------------------------------------------------+\n",
      "   | Option    | Meaning                                                    |\n",
      "   +===========+============================================================+\n",
      "   | \"'<'\"     | Forces the field to be left-aligned within the available   |\n",
      "   |           | space (this is the default for most objects).              |\n",
      "   +-----------+------------------------------------------------------------+\n",
      "   | \"'>'\"     | Forces the field to be right-aligned within the available  |\n",
      "   |           | space (this is the default for numbers).                   |\n",
      "   +-----------+------------------------------------------------------------+\n",
      "   | \"'='\"     | Forces the padding to be placed after the sign (if any)    |\n",
      "   |           | but before the digits.  This is used for printing fields   |\n",
      "   |           | in the form ‘+000000120’. This alignment option is only    |\n",
      "   |           | valid for numeric types.  It becomes the default when ‘0’  |\n",
      "   |           | immediately precedes the field width.                      |\n",
      "   +-----------+------------------------------------------------------------+\n",
      "   | \"'^'\"     | Forces the field to be centered within the available       |\n",
      "   |           | space.                                                     |\n",
      "   +-----------+------------------------------------------------------------+\n",
      "\n",
      "Note that unless a minimum field width is defined, the field width\n",
      "will always be the same size as the data to fill it, so that the\n",
      "alignment option has no meaning in this case.\n",
      "\n",
      "The *sign* option is only valid for number types, and can be one of\n",
      "the following:\n",
      "\n",
      "   +-----------+------------------------------------------------------------+\n",
      "   | Option    | Meaning                                                    |\n",
      "   +===========+============================================================+\n",
      "   | \"'+'\"     | indicates that a sign should be used for both positive as  |\n",
      "   |           | well as negative numbers.                                  |\n",
      "   +-----------+------------------------------------------------------------+\n",
      "   | \"'-'\"     | indicates that a sign should be used only for negative     |\n",
      "   |           | numbers (this is the default behavior).                    |\n",
      "   +-----------+------------------------------------------------------------+\n",
      "   | space     | indicates that a leading space should be used on positive  |\n",
      "   |           | numbers, and a minus sign on negative numbers.             |\n",
      "   +-----------+------------------------------------------------------------+\n",
      "\n",
      "The \"'#'\" option causes the “alternate form” to be used for the\n",
      "conversion.  The alternate form is defined differently for different\n",
      "types.  This option is only valid for integer, float, complex and\n",
      "Decimal types. For integers, when binary, octal, or hexadecimal output\n",
      "is used, this option adds the prefix respective \"'0b'\", \"'0o'\", or\n",
      "\"'0x'\" to the output value. For floats, complex and Decimal the\n",
      "alternate form causes the result of the conversion to always contain a\n",
      "decimal-point character, even if no digits follow it. Normally, a\n",
      "decimal-point character appears in the result of these conversions\n",
      "only if a digit follows it. In addition, for \"'g'\" and \"'G'\"\n",
      "conversions, trailing zeros are not removed from the result.\n",
      "\n",
      "The \"','\" option signals the use of a comma for a thousands separator.\n",
      "For a locale aware separator, use the \"'n'\" integer presentation type\n",
      "instead.\n",
      "\n",
      "Changed in version 3.1: Added the \"','\" option (see also **PEP 378**).\n",
      "\n",
      "The \"'_'\" option signals the use of an underscore for a thousands\n",
      "separator for floating point presentation types and for integer\n",
      "presentation type \"'d'\".  For integer presentation types \"'b'\", \"'o'\",\n",
      "\"'x'\", and \"'X'\", underscores will be inserted every 4 digits.  For\n",
      "other presentation types, specifying this option is an error.\n",
      "\n",
      "Changed in version 3.6: Added the \"'_'\" option (see also **PEP 515**).\n",
      "\n",
      "*width* is a decimal integer defining the minimum field width.  If not\n",
      "specified, then the field width will be determined by the content.\n",
      "\n",
      "When no explicit alignment is given, preceding the *width* field by a\n",
      "zero (\"'0'\") character enables sign-aware zero-padding for numeric\n",
      "types.  This is equivalent to a *fill* character of \"'0'\" with an\n",
      "*alignment* type of \"'='\".\n",
      "\n",
      "The *precision* is a decimal number indicating how many digits should\n",
      "be displayed after the decimal point for a floating point value\n",
      "formatted with \"'f'\" and \"'F'\", or before and after the decimal point\n",
      "for a floating point value formatted with \"'g'\" or \"'G'\".  For non-\n",
      "number types the field indicates the maximum field size - in other\n",
      "words, how many characters will be used from the field content. The\n",
      "*precision* is not allowed for integer values.\n",
      "\n",
      "Finally, the *type* determines how the data should be presented.\n",
      "\n",
      "The available string presentation types are:\n",
      "\n",
      "   +-----------+------------------------------------------------------------+\n",
      "   | Type      | Meaning                                                    |\n",
      "   +===========+============================================================+\n",
      "   | \"'s'\"     | String format. This is the default type for strings and    |\n",
      "   |           | may be omitted.                                            |\n",
      "   +-----------+------------------------------------------------------------+\n",
      "   | None      | The same as \"'s'\".                                         |\n",
      "   +-----------+------------------------------------------------------------+\n",
      "\n",
      "The available integer presentation types are:\n",
      "\n",
      "   +-----------+------------------------------------------------------------+\n",
      "   | Type      | Meaning                                                    |\n",
      "   +===========+============================================================+\n",
      "   | \"'b'\"     | Binary format. Outputs the number in base 2.               |\n",
      "   +-----------+------------------------------------------------------------+\n",
      "   | \"'c'\"     | Character. Converts the integer to the corresponding       |\n",
      "   |           | unicode character before printing.                         |\n",
      "   +-----------+------------------------------------------------------------+\n",
      "   | \"'d'\"     | Decimal Integer. Outputs the number in base 10.            |\n",
      "   +-----------+------------------------------------------------------------+\n",
      "   | \"'o'\"     | Octal format. Outputs the number in base 8.                |\n",
      "   +-----------+------------------------------------------------------------+\n",
      "   | \"'x'\"     | Hex format. Outputs the number in base 16, using lower-    |\n",
      "   |           | case letters for the digits above 9.                       |\n",
      "   +-----------+------------------------------------------------------------+\n",
      "   | \"'X'\"     | Hex format. Outputs the number in base 16, using upper-    |\n",
      "   |           | case letters for the digits above 9.                       |\n",
      "   +-----------+------------------------------------------------------------+\n",
      "   | \"'n'\"     | Number. This is the same as \"'d'\", except that it uses the |\n",
      "   |           | current locale setting to insert the appropriate number    |\n",
      "   |           | separator characters.                                      |\n",
      "   +-----------+------------------------------------------------------------+\n",
      "   | None      | The same as \"'d'\".                                         |\n",
      "   +-----------+------------------------------------------------------------+\n",
      "\n",
      "In addition to the above presentation types, integers can be formatted\n",
      "with the floating point presentation types listed below (except \"'n'\"\n",
      "and \"None\"). When doing so, \"float()\" is used to convert the integer\n",
      "to a floating point number before formatting.\n",
      "\n",
      "The available presentation types for floating point and decimal values\n",
      "are:\n",
      "\n",
      "   +-----------+------------------------------------------------------------+\n",
      "   | Type      | Meaning                                                    |\n",
      "   +===========+============================================================+\n",
      "   | \"'e'\"     | Exponent notation. Prints the number in scientific         |\n",
      "   |           | notation using the letter ‘e’ to indicate the exponent.    |\n",
      "   |           | The default precision is \"6\".                              |\n",
      "   +-----------+------------------------------------------------------------+\n",
      "   | \"'E'\"     | Exponent notation. Same as \"'e'\" except it uses an upper   |\n",
      "   |           | case ‘E’ as the separator character.                       |\n",
      "   +-----------+------------------------------------------------------------+\n",
      "   | \"'f'\"     | Fixed-point notation. Displays the number as a fixed-point |\n",
      "   |           | number. The default precision is \"6\".                      |\n",
      "   +-----------+------------------------------------------------------------+\n",
      "   | \"'F'\"     | Fixed-point notation. Same as \"'f'\", but converts \"nan\" to |\n",
      "   |           | \"NAN\" and \"inf\" to \"INF\".                                  |\n",
      "   +-----------+------------------------------------------------------------+\n",
      "   | \"'g'\"     | General format.  For a given precision \"p >= 1\", this      |\n",
      "   |           | rounds the number to \"p\" significant digits and then       |\n",
      "   |           | formats the result in either fixed-point format or in      |\n",
      "   |           | scientific notation, depending on its magnitude.  The      |\n",
      "   |           | precise rules are as follows: suppose that the result      |\n",
      "   |           | formatted with presentation type \"'e'\" and precision \"p-1\" |\n",
      "   |           | would have exponent \"exp\".  Then if \"-4 <= exp < p\", the   |\n",
      "   |           | number is formatted with presentation type \"'f'\" and       |\n",
      "   |           | precision \"p-1-exp\".  Otherwise, the number is formatted   |\n",
      "   |           | with presentation type \"'e'\" and precision \"p-1\". In both  |\n",
      "   |           | cases insignificant trailing zeros are removed from the    |\n",
      "   |           | significand, and the decimal point is also removed if      |\n",
      "   |           | there are no remaining digits following it.  Positive and  |\n",
      "   |           | negative infinity, positive and negative zero, and nans,   |\n",
      "   |           | are formatted as \"inf\", \"-inf\", \"0\", \"-0\" and \"nan\"        |\n",
      "   |           | respectively, regardless of the precision.  A precision of |\n",
      "   |           | \"0\" is treated as equivalent to a precision of \"1\". The    |\n",
      "   |           | default precision is \"6\".                                  |\n",
      "   +-----------+------------------------------------------------------------+\n",
      "   | \"'G'\"     | General format. Same as \"'g'\" except switches to \"'E'\" if  |\n",
      "   |           | the number gets too large. The representations of infinity |\n",
      "   |           | and NaN are uppercased, too.                               |\n",
      "   +-----------+------------------------------------------------------------+\n",
      "   | \"'n'\"     | Number. This is the same as \"'g'\", except that it uses the |\n",
      "   |           | current locale setting to insert the appropriate number    |\n",
      "   |           | separator characters.                                      |\n",
      "   +-----------+------------------------------------------------------------+\n",
      "   | \"'%'\"     | Percentage. Multiplies the number by 100 and displays in   |\n",
      "   |           | fixed (\"'f'\") format, followed by a percent sign.          |\n",
      "   +-----------+------------------------------------------------------------+\n",
      "   | None      | Similar to \"'g'\", except that fixed-point notation, when   |\n",
      "   |           | used, has at least one digit past the decimal point. The   |\n",
      "   |           | default precision is as high as needed to represent the    |\n",
      "   |           | particular value. The overall effect is to match the       |\n",
      "   |           | output of \"str()\" as altered by the other format           |\n",
      "   |           | modifiers.                                                 |\n",
      "   +-----------+------------------------------------------------------------+\n",
      "\n",
      "\n",
      "Format examples\n",
      "===============\n",
      "\n",
      "This section contains examples of the \"str.format()\" syntax and\n",
      "comparison with the old \"%\"-formatting.\n",
      "\n",
      "In most of the cases the syntax is similar to the old \"%\"-formatting,\n",
      "with the addition of the \"{}\" and with \":\" used instead of \"%\". For\n",
      "example, \"'%03.2f'\" can be translated to \"'{:03.2f}'\".\n",
      "\n",
      "The new format syntax also supports new and different options, shown\n",
      "in the following examples.\n",
      "\n",
      "Accessing arguments by position:\n",
      "\n",
      "   >>> '{0}, {1}, {2}'.format('a', 'b', 'c')\n",
      "   'a, b, c'\n",
      "   >>> '{}, {}, {}'.format('a', 'b', 'c')  # 3.1+ only\n",
      "   'a, b, c'\n",
      "   >>> '{2}, {1}, {0}'.format('a', 'b', 'c')\n",
      "   'c, b, a'\n",
      "   >>> '{2}, {1}, {0}'.format(*'abc')      # unpacking argument sequence\n",
      "   'c, b, a'\n",
      "   >>> '{0}{1}{0}'.format('abra', 'cad')   # arguments' indices can be repeated\n",
      "   'abracadabra'\n",
      "\n",
      "Accessing arguments by name:\n",
      "\n",
      "   >>> 'Coordinates: {latitude}, {longitude}'.format(latitude='37.24N', longitude='-115.81W')\n",
      "   'Coordinates: 37.24N, -115.81W'\n",
      "   >>> coord = {'latitude': '37.24N', 'longitude': '-115.81W'}\n",
      "   >>> 'Coordinates: {latitude}, {longitude}'.format(**coord)\n",
      "   'Coordinates: 37.24N, -115.81W'\n",
      "\n",
      "Accessing arguments’ attributes:\n",
      "\n",
      "   >>> c = 3-5j\n",
      "   >>> ('The complex number {0} is formed from the real part {0.real} '\n",
      "   ...  'and the imaginary part {0.imag}.').format(c)\n",
      "   'The complex number (3-5j) is formed from the real part 3.0 and the imaginary part -5.0.'\n",
      "   >>> class Point:\n",
      "   ...     def __init__(self, x, y):\n",
      "   ...         self.x, self.y = x, y\n",
      "   ...     def __str__(self):\n",
      "   ...         return 'Point({self.x}, {self.y})'.format(self=self)\n",
      "   ...\n",
      "   >>> str(Point(4, 2))\n",
      "   'Point(4, 2)'\n",
      "\n",
      "Accessing arguments’ items:\n",
      "\n",
      "   >>> coord = (3, 5)\n",
      "   >>> 'X: {0[0]};  Y: {0[1]}'.format(coord)\n",
      "   'X: 3;  Y: 5'\n",
      "\n",
      "Replacing \"%s\" and \"%r\":\n",
      "\n",
      "   >>> \"repr() shows quotes: {!r}; str() doesn't: {!s}\".format('test1', 'test2')\n",
      "   \"repr() shows quotes: 'test1'; str() doesn't: test2\"\n",
      "\n",
      "Aligning the text and specifying a width:\n",
      "\n",
      "   >>> '{:<30}'.format('left aligned')\n",
      "   'left aligned                  '\n",
      "   >>> '{:>30}'.format('right aligned')\n",
      "   '                 right aligned'\n",
      "   >>> '{:^30}'.format('centered')\n",
      "   '           centered           '\n",
      "   >>> '{:*^30}'.format('centered')  # use '*' as a fill char\n",
      "   '***********centered***********'\n",
      "\n",
      "Replacing \"%+f\", \"%-f\", and \"% f\" and specifying a sign:\n",
      "\n",
      "   >>> '{:+f}; {:+f}'.format(3.14, -3.14)  # show it always\n",
      "   '+3.140000; -3.140000'\n",
      "   >>> '{: f}; {: f}'.format(3.14, -3.14)  # show a space for positive numbers\n",
      "   ' 3.140000; -3.140000'\n",
      "   >>> '{:-f}; {:-f}'.format(3.14, -3.14)  # show only the minus -- same as '{:f}; {:f}'\n",
      "   '3.140000; -3.140000'\n",
      "\n",
      "Replacing \"%x\" and \"%o\" and converting the value to different bases:\n",
      "\n",
      "   >>> # format also supports binary numbers\n",
      "   >>> \"int: {0:d};  hex: {0:x};  oct: {0:o};  bin: {0:b}\".format(42)\n",
      "   'int: 42;  hex: 2a;  oct: 52;  bin: 101010'\n",
      "   >>> # with 0x, 0o, or 0b as prefix:\n",
      "   >>> \"int: {0:d};  hex: {0:#x};  oct: {0:#o};  bin: {0:#b}\".format(42)\n",
      "   'int: 42;  hex: 0x2a;  oct: 0o52;  bin: 0b101010'\n",
      "\n",
      "Using the comma as a thousands separator:\n",
      "\n",
      "   >>> '{:,}'.format(1234567890)\n",
      "   '1,234,567,890'\n",
      "\n",
      "Expressing a percentage:\n",
      "\n",
      "   >>> points = 19\n",
      "   >>> total = 22\n",
      "   >>> 'Correct answers: {:.2%}'.format(points/total)\n",
      "   'Correct answers: 86.36%'\n",
      "\n",
      "Using type-specific formatting:\n",
      "\n",
      "   >>> import datetime\n",
      "   >>> d = datetime.datetime(2010, 7, 4, 12, 15, 58)\n",
      "   >>> '{:%Y-%m-%d %H:%M:%S}'.format(d)\n",
      "   '2010-07-04 12:15:58'\n",
      "\n",
      "Nesting arguments and more complex examples:\n",
      "\n",
      "   >>> for align, text in zip('<^>', ['left', 'center', 'right']):\n",
      "   ...     '{0:{fill}{align}16}'.format(text, fill=align, align=align)\n",
      "   ...\n",
      "   'left<<<<<<<<<<<<'\n",
      "   '^^^^^center^^^^^'\n",
      "   '>>>>>>>>>>>right'\n",
      "   >>>\n",
      "   >>> octets = [192, 168, 0, 1]\n",
      "   >>> '{:02X}{:02X}{:02X}{:02X}'.format(*octets)\n",
      "   'C0A80001'\n",
      "   >>> int(_, 16)\n",
      "   3232235521\n",
      "   >>>\n",
      "   >>> width = 5\n",
      "   >>> for num in range(5,12): \n",
      "   ...     for base in 'dXob':\n",
      "   ...         print('{0:{width}{base}}'.format(num, base=base, width=width), end=' ')\n",
      "   ...     print()\n",
      "   ...\n",
      "       5     5     5   101\n",
      "       6     6     6   110\n",
      "       7     7     7   111\n",
      "       8     8    10  1000\n",
      "       9     9    11  1001\n",
      "      10     A    12  1010\n",
      "      11     B    13  1011\n",
      "\n",
      "Related help topics: OPERATORS\n",
      "\n"
     ]
    }
   ],
   "source": [
    "help(format)\n",
    "help('FORMATTING')"
   ]
  },
  {
   "cell_type": "markdown",
   "id": "23d33ef5",
   "metadata": {},
   "source": [
    "## `dict.keys(), dict.values(), dict.items()`"
   ]
  },
  {
   "cell_type": "code",
   "execution_count": 113,
   "id": "14c90dfb",
   "metadata": {},
   "outputs": [
    {
     "name": "stdout",
     "output_type": "stream",
     "text": [
      "keys: dict_keys(['key1', 'key2', 'key3'])\n",
      "values: dict_values([2, 4, 6])\n",
      "items: dict_items([('key1', 2), ('key2', 4), ('key3', 6)])\n"
     ]
    }
   ],
   "source": [
    "print('keys: {}'.format(my_second_dict.keys()))\n",
    "print('values: {}'.format(my_second_dict.values()))\n",
    "print('items: {}'.format(my_second_dict.items()))"
   ]
  },
  {
   "cell_type": "markdown",
   "id": "ab2882db",
   "metadata": {},
   "source": [
    "### How to access the values of a dictionary and how to set new values?"
   ]
  },
  {
   "cell_type": "code",
   "execution_count": 117,
   "id": "d7dcc61e",
   "metadata": {},
   "outputs": [
    {
     "name": "stdout",
     "output_type": "stream",
     "text": [
      "<class 'dict'>\n",
      "{'ratatouille': ['eggplant', 'tomato', 'zucchini', 'onion', 'olive oil', 'garlic'], 'homemade pasta': ['wheat', 'olive oil', 'sea salt']}\n",
      "ingredients for homemade pasta: ['wheat', 'olive oil', 'sea salt']\n"
     ]
    }
   ],
   "source": [
    "recipe_dict = dict()\n",
    "recipe_dict['ratatouille'] = ['eggplant', 'tomato', 'zucchini', 'onion', 'olive oil', 'garlic']\n",
    "recipe_dict['homemade pasta'] = ['semolina flour', 'olive oil', 'sea salt']\n",
    "recipe_dict['homemade pasta'] = ['wheat', 'olive oil', 'sea salt']  # we are changing the value that exists\n",
    "print(type(recipe_dict))\n",
    "print(recipe_dict)\n",
    "print('ingredients for homemade pasta: {}'.format(recipe_dict['homemade pasta']))\n"
   ]
  },
  {
   "cell_type": "markdown",
   "id": "c57bf2eb",
   "metadata": {},
   "source": [
    "Accessing a nonexistent key will raise `KeyError`:"
   ]
  },
  {
   "cell_type": "code",
   "execution_count": 120,
   "id": "1f8181cf",
   "metadata": {},
   "outputs": [
    {
     "ename": "KeyError",
     "evalue": "'soup'",
     "output_type": "error",
     "traceback": [
      "\u001b[0;31m---------------------------------------------------------------------------\u001b[0m",
      "\u001b[0;31mKeyError\u001b[0m                                  Traceback (most recent call last)",
      "\u001b[0;32m<ipython-input-120-b79f1348acea>\u001b[0m in \u001b[0;36m<module>\u001b[0;34m\u001b[0m\n\u001b[0;32m----> 1\u001b[0;31m \u001b[0mprint\u001b[0m\u001b[0;34m(\u001b[0m\u001b[0mrecipe_dict\u001b[0m\u001b[0;34m[\u001b[0m\u001b[0;34m'soup'\u001b[0m\u001b[0;34m]\u001b[0m\u001b[0;34m[\u001b[0m\u001b[0;36m0\u001b[0m\u001b[0;34m]\u001b[0m\u001b[0;34m)\u001b[0m\u001b[0;34m\u001b[0m\u001b[0;34m\u001b[0m\u001b[0m\n\u001b[0m",
      "\u001b[0;31mKeyError\u001b[0m: 'soup'"
     ]
    }
   ],
   "source": [
    "print(recipe_dict['soup'][0])"
   ]
  },
  {
   "cell_type": "markdown",
   "id": "e3737f13",
   "metadata": {},
   "source": [
    "### Deleting elements of dictionary"
   ]
  },
  {
   "cell_type": "code",
   "execution_count": null,
   "id": "c62565aa",
   "metadata": {},
   "outputs": [],
   "source": [
    "my_dict = {'key1': 3, 'key2': 9, 'key3': 15}\n",
    "del my_dict['key3']\n",
    "print(my_dict)\n",
    "\n",
    "# First check: Does the key exist? (hints: pop() ve popitem())\n",
    "key_to_delete = 'key3'\n",
    "if key_to_delete in my_dict:\n",
    "    del my_dict[key_to_delete]\n",
    "else:\n",
    "    print('{key} is not in {dictionary}'.format(key=key_to_delete, dictionary=my_dict)) #remember format"
   ]
  },
  {
   "cell_type": "code",
   "execution_count": null,
   "id": "e7ad45e2",
   "metadata": {},
   "outputs": [],
   "source": [
    "squares = {1: 1, 2: 4, 3: 9, 4: 16, 5: 25}\n",
    "print('dictionary before modification: ', squares)\n",
    "\n",
    "#let's remove a given element using pop method \n",
    "print(squares.pop(1))\n",
    "print(squares)\n",
    "\n",
    "#let's remove a random element\n",
    "print(squares.popitem()) # returns (key, value)\n",
    "print(squares)\n",
    "\n",
    "#let's remove all elements\n",
    "squares.clear() #result {}\n",
    "print(squares)\n",
    "\n",
    "#let's delete the dictionary\n",
    "del squares\n",
    "print(squares) #it will error out"
   ]
  },
  {
   "cell_type": "markdown",
   "id": "65e94c16",
   "metadata": {},
   "source": [
    "### Dictionaries are mutable\n",
    "\n",
    "Which other data types are mutable?"
   ]
  },
  {
   "cell_type": "code",
   "execution_count": null,
   "id": "cdfd6679",
   "metadata": {},
   "outputs": [],
   "source": [
    "grades = {}.fromkeys(['week 1', 'week 2', 'week 3'], 88)\n",
    "print(grades)\n",
    "\n",
    "updated_grades = grades\n",
    "grades['week 2'] = 90\n",
    "grades['week 3'] = 92\n",
    "grades['week 4'] = 82\n",
    "print('grades: {}\\nupdated_grades: {}'.format(grades, updated_grades))\n",
    "print('equal: {}'.format(grades == updated_grades))"
   ]
  },
  {
   "cell_type": "code",
   "execution_count": null,
   "id": "65511f5b-b37e-4af9-9944-25d27e15c058",
   "metadata": {},
   "outputs": [],
   "source": [
    "help(dict.fromkeys)"
   ]
  },
  {
   "cell_type": "markdown",
   "id": "90fcc6e7",
   "metadata": {},
   "source": [
    "If we prefer a copy, let's make a new `dict`:"
   ]
  },
  {
   "cell_type": "code",
   "execution_count": null,
   "id": "d3e5875f",
   "metadata": {},
   "outputs": [],
   "source": [
    "grades = {}.fromkeys(['week 1', 'week 2', 'week 3'], 88)\n",
    "updated_grades = dict(grades)\n",
    "grades['week 2'] = 90\n",
    "grades['week 3'] = 92\n",
    "print('grades: {}\\nupdated_grades: {}'.format(grades, updated_grades))\n",
    "print('equal: {}'.format(grades == updated_grades))"
   ]
  },
  {
   "cell_type": "markdown",
   "id": "6de074f2",
   "metadata": {},
   "source": [
    "### `dict.get()`\n",
    "\n",
    "Returns `None` if `key` is not in `dict`. However, you can also specify default return value which will be returned if `key` is not present in the `dict`."
   ]
  },
  {
   "cell_type": "code",
   "execution_count": null,
   "id": "23894508",
   "metadata": {},
   "outputs": [],
   "source": [
    "my_dict = {'a': 1, 'b': 2, 'c': 3}\n",
    "d = my_dict.get('d')\n",
    "print('d: {}'.format(d))\n",
    "\n",
    "d = my_dict.get('d', 'temporary values for d')\n",
    "print('d: {}'.format(d))"
   ]
  },
  {
   "cell_type": "code",
   "execution_count": null,
   "id": "871aa094-22d2-48cd-b16c-9155a7482f5c",
   "metadata": {},
   "outputs": [],
   "source": [
    "help(dict.get)"
   ]
  },
  {
   "cell_type": "markdown",
   "id": "7dfe46f9",
   "metadata": {},
   "source": [
    "## `dict.pop()`"
   ]
  },
  {
   "cell_type": "code",
   "execution_count": null,
   "id": "3646435d",
   "metadata": {},
   "outputs": [],
   "source": [
    "enzymes = {}\n",
    "enzymes['EcoRI'] = r'GAATTC'\n",
    "enzymes['AvaII'] =  r'GG(A|T)CC'\n",
    "enzymes['BisI'] =  r'GC[ATGC]GC'\n",
    "print('enzymes dictionary before pop method: {}'.format(enzymes))\n",
    "\n",
    "\n",
    "#let's remove an element using pop, it will shows its value \n",
    "EcoRI = enzymes.pop('EcoRI')\n",
    "print('EcoRI: {}'.format(EcoRI))\n",
    "print('enzymes dictionary after removing EcoRI: {}'.format(enzymes))\n",
    "\n"
   ]
  },
  {
   "cell_type": "markdown",
   "id": "f905268a",
   "metadata": {},
   "source": [
    "### `dict.setdefault()`\n",
    "\n",
    "Returns the `value` of `key` defined as first parameter. If the `key` does not exist in the dict, adds `key` with `default value` (second parameter)."
   ]
  },
  {
   "cell_type": "code",
   "execution_count": null,
   "id": "054c2921",
   "metadata": {},
   "outputs": [],
   "source": [
    "new_dict = {'a': 1, 'b': 2, 'c': 3}\n",
    "a = new_dict.setdefault('a', 'default value')\n",
    "d = new_dict.setdefault('d', 'default value')\n",
    "print('a: {}\\nd: {}\\nnew_dict: {}'.format(a, d, new_dict))"
   ]
  },
  {
   "cell_type": "markdown",
   "id": "f51f9bbd",
   "metadata": {},
   "source": [
    "### `dict.update()`\n",
    "\n",
    "1) dictionary gets updated, 2) two `dictionaries` get combined."
   ]
  },
  {
   "cell_type": "code",
   "execution_count": null,
   "id": "d6c8111f",
   "metadata": {},
   "outputs": [],
   "source": [
    "d = {1: \"one\", 2: \"three\"}\n",
    "d1 = {2: \"two\"}\n",
    "\n",
    "# updates the value of key 2\n",
    "d.update(d1)\n",
    "print(d)\n",
    "\n",
    "d1 = {3: \"three\"}\n",
    "\n",
    "# adds element with key 3\n",
    "d.update(d1)\n",
    "print(d)"
   ]
  },
  {
   "cell_type": "markdown",
   "id": "8a547ee1",
   "metadata": {},
   "source": [
    "## the keys in the `dict` are immutable"
   ]
  },
  {
   "cell_type": "markdown",
   "id": "555768e9",
   "metadata": {},
   "source": [
    "Therefore, we can not use mutable data types ad keys of a dictionary. Examples: list or dictionary:"
   ]
  },
  {
   "cell_type": "code",
   "execution_count": null,
   "id": "4d02e19d",
   "metadata": {},
   "outputs": [],
   "source": [
    " bad_dict = {['my_list'], 'value'}  # will generate TypeError"
   ]
  },
  {
   "cell_type": "markdown",
   "id": "fd1d3758",
   "metadata": {},
   "source": [
    "Values are mutable"
   ]
  },
  {
   "cell_type": "code",
   "execution_count": null,
   "id": "6fc3f319",
   "metadata": {},
   "outputs": [],
   "source": [
    "good_dict = {'my key': ['Python', ' can be', 'difficult']}\n",
    "print(good_dict)"
   ]
  },
  {
   "cell_type": "code",
   "execution_count": null,
   "id": "05da5cb9",
   "metadata": {},
   "outputs": [],
   "source": [
    "#Introduction to bioinformatics: Using dictionaries\n",
    "\n",
    "dna = \"AATGATGAACGAC\" \n",
    "dinucleotides = ['AA','AT','AG','AC',\n",
    "                 'TA','TT','TG','TC', \n",
    "                 'GA','GT','GG','GC', \n",
    "                 'CA','CT','CG','CT'] \n",
    "all_counts = {}  #initialize dictionary\n",
    "for dinucleotide in dinucleotides: #for each element in dictionary\n",
    "    count = dna.count(dinucleotide) #count how many of that element\n",
    "    print(\"count is \" + str(count) + \" for \" + dinucleotide) \n",
    "    all_counts[dinucleotide] = count #all these elements are keys, so let's define the values for each key\n",
    "print(all_counts)"
   ]
  },
  {
   "cell_type": "code",
   "execution_count": null,
   "id": "b8930be6-5d10-4be4-a8f3-72f5c2af8f44",
   "metadata": {},
   "outputs": [],
   "source": []
  }
 ],
 "metadata": {
  "kernelspec": {
   "display_name": "Python 3",
   "language": "python",
   "name": "python3"
  },
  "language_info": {
   "codemirror_mode": {
    "name": "ipython",
    "version": 3
   },
   "file_extension": ".py",
   "mimetype": "text/x-python",
   "name": "python",
   "nbconvert_exporter": "python",
   "pygments_lexer": "ipython3",
   "version": "3.6.8"
  }
 },
 "nbformat": 4,
 "nbformat_minor": 5
}
