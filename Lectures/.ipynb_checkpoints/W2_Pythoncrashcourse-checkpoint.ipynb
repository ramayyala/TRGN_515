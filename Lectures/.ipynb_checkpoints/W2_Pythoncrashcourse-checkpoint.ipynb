{
 "cells": [
  {
   "cell_type": "markdown",
   "id": "f786e30a-eb14-4ecf-a956-d5c306da99c7",
   "metadata": {},
   "source": [
    "# PART 4"
   ]
  },
  {
   "cell_type": "markdown",
   "id": "86348897-bb80-4b02-889a-887331d73865",
   "metadata": {},
   "source": [
    "## **[Dictionaries](https://docs.python.org/3/library/stdtypes.html#dict)**"
   ]
  },
  {
   "cell_type": "code",
   "execution_count": null,
   "id": "dfe19f37-1b2e-4057-8ef4-7c4e27d4f1f3",
   "metadata": {},
   "outputs": [],
   "source": [
    "my_first_dict = {}  #or another method: my_first_dict = dict()\n",
    "print('dict: {}, type: {}'.format(my_first_dict, type(my_first_dict)))"
   ]
  },
  {
   "cell_type": "markdown",
   "id": "1eb1da88-090b-4bb6-91a1-ba4d5e240bc4",
   "metadata": {},
   "source": [
    "### Initialization"
   ]
  },
  {
   "cell_type": "code",
   "execution_count": null,
   "id": "b00d97a3-03cb-4fc3-b831-8d25b18a4957",
   "metadata": {},
   "outputs": [],
   "source": [
    "dict1 = {'key1': 2, 'key2': 4, 'key3': 6}\n",
    "my_second_dict = dict(key1 = 2, key2 = 4, key3 = 6)\n",
    "\n",
    "print(dict1)\n",
    "print(my_second_dict)\n",
    "\n",
    "print('equal: {}'.format(dict1 == my_second_dict))\n",
    "print('length: {}'.format(len(dict1)))"
   ]
  },
  {
   "cell_type": "code",
   "execution_count": null,
   "id": "16be2b96-da5f-4cf2-9386-a5e1cb4cc823",
   "metadata": {},
   "outputs": [],
   "source": [
    "my_dict = {\n",
    "    'Subaru' : 'Japanese',\n",
    "    'Tesla' : 'American',\n",
    "    'Mercedes' : 'German',\n",
    "}\n",
    "\n",
    "print(my_dict)"
   ]
  },
  {
   "cell_type": "code",
   "execution_count": null,
   "id": "c7496329-b95c-4ab3-9eaf-a9b1bd19f1b9",
   "metadata": {
    "tags": []
   },
   "outputs": [],
   "source": [
    "help(format)\n",
    "help('FORMATTING')"
   ]
  },
  {
   "cell_type": "markdown",
   "id": "ba9e1928-d3f8-4191-9a08-70038a427dd8",
   "metadata": {},
   "source": [
    "## `dict.keys(), dict.values(), dict.items()`"
   ]
  },
  {
   "cell_type": "code",
   "execution_count": null,
   "id": "f4b8ed3b-eb1f-4551-946c-b136314aeb42",
   "metadata": {},
   "outputs": [],
   "source": [
    "print('keys: {}'.format(my_second_dict.keys()))\n",
    "print('values: {}'.format(my_second_dict.values()))\n",
    "print('items: {}'.format(my_second_dict.items()))"
   ]
  },
  {
   "cell_type": "markdown",
   "id": "1cfbb485-fea7-4baa-9f8f-5b6989527ad3",
   "metadata": {},
   "source": [
    "### How to access the values of a dictionary and how to set new values?"
   ]
  },
  {
   "cell_type": "code",
   "execution_count": null,
   "id": "31ed918c-3dda-4d14-9d55-f5c248ed8c1f",
   "metadata": {},
   "outputs": [],
   "source": [
    "recipe_dict = dict()\n",
    "recipe_dict['ratatouille'] = ['eggplant', 'tomato', 'zucchini', 'onion', 'olive oil', 'garlic']\n",
    "recipe_dict['homemade pasta'] = ['semolina flour', 'olive oil', 'sea salt']\n",
    "recipe_dict['homemade pasta'] = ['wheat', 'olive oil', 'sea salt']  # we are changing the value that exists\n",
    "print(type(recipe_dict))\n",
    "print(recipe_dict)\n",
    "print('ingredients for homemade pasta: {}'.format(recipe_dict['homemade pasta']))\n"
   ]
  },
  {
   "cell_type": "markdown",
   "id": "af948d70-5d1b-439d-8e9c-b7086f11227f",
   "metadata": {},
   "source": [
    "Accessing a nonexistent key will raise `KeyError`:"
   ]
  },
  {
   "cell_type": "code",
   "execution_count": null,
   "id": "84472729-cfb3-462c-9c9c-b8f604e909aa",
   "metadata": {},
   "outputs": [],
   "source": [
    "print(recipe_dict['soup'][0])"
   ]
  },
  {
   "cell_type": "markdown",
   "id": "7cd5cba1-2ca6-4d4d-b8b4-462745157f79",
   "metadata": {},
   "source": [
    "### Deleting elements of dictionary"
   ]
  },
  {
   "cell_type": "code",
   "execution_count": null,
   "id": "3ae2d73d-9c5d-4e66-b697-f8de8dfe643f",
   "metadata": {},
   "outputs": [],
   "source": [
    "my_dict = {'key1': 3, 'key2': 9, 'key3': 15}\n",
    "del my_dict['key3']\n",
    "print(my_dict)\n",
    "\n",
    "# First check: Does the key exist? (hints: pop() ve popitem())\n",
    "key_to_delete = 'key3'\n",
    "if key_to_delete in my_dict:\n",
    "    del my_dict[key_to_delete]\n",
    "else:\n",
    "    print('{key} is not in {dictionary}'.format(key=key_to_delete, dictionary=my_dict)) #remember format"
   ]
  },
  {
   "cell_type": "code",
   "execution_count": null,
   "id": "3143cca7-81b7-4416-9a8b-3a7a11531970",
   "metadata": {},
   "outputs": [],
   "source": [
    "squares = {1: 1, 2: 4, 3: 9, 4: 16, 5: 25}\n",
    "print('dictionary before modification: ', squares)\n",
    "\n",
    "#let's remove a given element using pop method \n",
    "print(squares.pop(1)) #pop will print the element that was removed\n",
    "print(squares)\n",
    "\n",
    "#let's remove a random element\n",
    "print(squares.popitem()) # returns (key, value)\n",
    "print(squares)\n",
    "\n",
    "#let's remove all elements\n",
    "squares.clear() #result {}\n",
    "print(squares)\n",
    "\n",
    "#let's delete the dictionary\n",
    "del squares\n",
    "print(squares) #it will error out"
   ]
  },
  {
   "cell_type": "markdown",
   "id": "a520e47d-e69f-4044-bbc4-0431775afb89",
   "metadata": {},
   "source": [
    "### Dictionaries are mutable\n",
    "\n",
    "Which other data types are mutable?"
   ]
  },
  {
   "cell_type": "code",
   "execution_count": null,
   "id": "c3b32f29-6b12-4170-a5ed-602c8435ac70",
   "metadata": {},
   "outputs": [],
   "source": [
    "grades = {}.fromkeys(['week 1', 'week 2', 'week 3'], 88)\n",
    "print(grades)\n",
    "\n",
    "updated_grades = grades.copy()\n",
    "updated_grades['week 2'] = 90\n",
    "updated_grades['week 3'] = 92\n",
    "updated_grades['week 4'] = 82\n",
    "print('grades: {}\\nupdated_grades: {}'.format(grades, updated_grades))\n",
    "print('equal: {}'.format(grades == updated_grades))"
   ]
  },
  {
   "cell_type": "code",
   "execution_count": null,
   "id": "8f12be2e-cb2d-4ced-980b-acac9d909f8b",
   "metadata": {},
   "outputs": [],
   "source": [
    "print(id(grades))\n",
    "print(id(updated_grades))"
   ]
  },
  {
   "cell_type": "markdown",
   "id": "f1a1c1e7-b51c-45b3-8abd-9655f21f2858",
   "metadata": {},
   "source": [
    "# So how can we fix the above issue?"
   ]
  },
  {
   "cell_type": "markdown",
   "id": "0f3932d7-376d-45d3-b703-676250518f84",
   "metadata": {},
   "source": [
    "If we prefer a copy, let's make a new `dict`:"
   ]
  },
  {
   "cell_type": "code",
   "execution_count": null,
   "id": "c553fe4c-1ef0-42b8-95f1-7ba7b98e5965",
   "metadata": {
    "tags": []
   },
   "outputs": [],
   "source": [
    "grades = {}.fromkeys(['week 1', 'week 2', 'week 3'], 88)\n",
    "updated_grades = dict(grades)\n",
    "grades['week 2'] = 90\n",
    "grades['week 3'] = 92\n",
    "print('grades: {}\\nupdated_grades: {}'.format(grades, updated_grades))\n",
    "print('equal: {}'.format(grades == updated_grades))"
   ]
  },
  {
   "cell_type": "code",
   "execution_count": null,
   "id": "6946c72b-3bd7-4708-9e70-3212cd2c2eb8",
   "metadata": {},
   "outputs": [],
   "source": [
    "help(dict.fromkeys)"
   ]
  },
  {
   "cell_type": "markdown",
   "id": "fc20a58b-ae3f-49b9-b6fa-fb6e1f35cca4",
   "metadata": {},
   "source": [
    "### `dict.get()`\n",
    "\n",
    "Returns `None` if `key` is not in `dict`. However, you can also specify default return value which will be returned if `key` is not present in the `dict`."
   ]
  },
  {
   "cell_type": "code",
   "execution_count": null,
   "id": "0888051f-6ab8-4fa1-929c-d0ff5d859534",
   "metadata": {},
   "outputs": [],
   "source": [
    "my_dict = {'a': 1, 'b': 2, 'c': 3}\n",
    "d = my_dict.get('d')\n",
    "print('d: {}'.format(d))\n",
    "\n",
    "d = my_dict.get('d', 'temporary values for d')\n",
    "print('d: {}'.format(d))"
   ]
  },
  {
   "cell_type": "code",
   "execution_count": null,
   "id": "e34eef9a-45fe-4b86-833e-45d7a312a7c4",
   "metadata": {},
   "outputs": [],
   "source": [
    "# check whether a given key exists in dictionary\n",
    "\n",
    "def key_check(dict_x, key):\n",
    "    if key in dict_x.keys():\n",
    "        print('Present and the value is: ', dict_x[key])\n",
    "    else:\n",
    "        print('Key is not present')\n",
    "        \n",
    "dict_a = {'key1' : 78, 'key2' : 89, 'key3' : 90, 'key4' : 72} \n",
    "key_check(dict_a, 'key2')"
   ]
  },
  {
   "cell_type": "code",
   "execution_count": null,
   "id": "852a13b8-b091-4d55-8b48-3aeed8494d0b",
   "metadata": {},
   "outputs": [],
   "source": [
    "help(dict.get)"
   ]
  },
  {
   "cell_type": "markdown",
   "id": "c76e947c-feec-410f-9d17-95abdac4f000",
   "metadata": {},
   "source": [
    "## `dict.pop()`"
   ]
  },
  {
   "cell_type": "code",
   "execution_count": null,
   "id": "fec55118-2420-46ad-9bf0-eb4171e8b01e",
   "metadata": {},
   "outputs": [],
   "source": [
    "enzymes = {}\n",
    "enzymes['EcoRI'] = r'GAATTC'\n",
    "enzymes['AvaII'] =  r'GG(A|T)CC'\n",
    "enzymes['BisI'] =  r'GC[ATGC]GC'\n",
    "print('enzymes dictionary before pop method: {}'.format(enzymes))\n",
    "\n",
    "#let's remove an element using pop, it will show its value \n",
    "EcoRI = enzymes.pop('EcoRI')\n",
    "print('EcoRI: {}'.format(EcoRI))\n",
    "print('enzymes dictionary after removing EcoRI: {}'.format(enzymes))\n"
   ]
  },
  {
   "cell_type": "markdown",
   "id": "56ba0d3e-bf75-462c-abd6-4229281ca2df",
   "metadata": {},
   "source": [
    "# [What is a python raw string?](https://www.journaldev.com/23598/python-raw-string)"
   ]
  },
  {
   "cell_type": "code",
   "execution_count": null,
   "id": "0e672b49-2f42-4301-bc25-1ec3515cb0b5",
   "metadata": {},
   "outputs": [],
   "source": [
    "raw_s = r'Hi\\nHello'\n",
    "print(raw_s)\n",
    "\n",
    "str_a = 'Hi\\nHello'\n",
    "print(str_a)"
   ]
  },
  {
   "cell_type": "code",
   "execution_count": null,
   "id": "257c2f92-82fd-47f3-98dd-1e2b0ec7e9e9",
   "metadata": {},
   "outputs": [],
   "source": []
  },
  {
   "cell_type": "markdown",
   "id": "989b2458-66c2-41af-b8ee-129c2a1398b8",
   "metadata": {},
   "source": [
    "### `dict.setdefault()`\n",
    "\n",
    "Returns the `value` of `key` defined as first parameter. If the `key` does not exist in the dict, adds `key` with `default value` (second parameter)."
   ]
  },
  {
   "cell_type": "code",
   "execution_count": null,
   "id": "9a1a5828-441c-4161-85e8-01abef552138",
   "metadata": {},
   "outputs": [],
   "source": [
    "new_dict = {'a': 1, 'b': 2, 'c': 3}\n",
    "a = new_dict.setdefault('a', 'default value')\n",
    "d = new_dict.setdefault('d', 'default value')\n",
    "print('a: {}\\nd: {}\\nnew_dict: {}'.format(a, d, new_dict))"
   ]
  },
  {
   "cell_type": "markdown",
   "id": "9e095cba-2b2b-4d8a-b063-2682f9e2dec1",
   "metadata": {},
   "source": [
    "### `dict.update()`\n",
    "\n",
    "    1) dictionary gets updated, 2) two `dictionaries` get combined."
   ]
  },
  {
   "cell_type": "code",
   "execution_count": null,
   "id": "88fd5fa3-ddf0-4cdf-b1de-35e31067945d",
   "metadata": {},
   "outputs": [],
   "source": [
    "d = {1: \"one\", 2: \"three\"}\n",
    "d1 = {2: \"two\"}\n",
    "\n",
    "# updates the value of key 2\n",
    "d.update(d1)\n",
    "print(d)\n",
    "\n",
    "d1 = {3: \"three\"}\n",
    "\n",
    "# adds element with key 3\n",
    "d.update(d1)\n",
    "print(d)"
   ]
  },
  {
   "cell_type": "markdown",
   "id": "4a0d1ffa-4d10-4372-8915-cbc766726078",
   "metadata": {},
   "source": [
    "## the keys in the `dict` are immutable"
   ]
  },
  {
   "cell_type": "markdown",
   "id": "0fc1b0ba-77bf-4561-98ee-0b318652af27",
   "metadata": {},
   "source": [
    "Therefore, we can not use mutable data types as keys of a dictionary. Examples: list or dictionary:"
   ]
  },
  {
   "cell_type": "code",
   "execution_count": null,
   "id": "cef9a616-eaf1-413c-9b9c-e9b19fe0c6a9",
   "metadata": {},
   "outputs": [],
   "source": [
    " bad_dict = {['my_list'], 'value'}  # will generate TypeError"
   ]
  },
  {
   "cell_type": "markdown",
   "id": "272cf2a4-0564-48e5-a541-ae8195b102fb",
   "metadata": {},
   "source": [
    "Values are mutable"
   ]
  },
  {
   "cell_type": "code",
   "execution_count": null,
   "id": "804c4afa-c4c6-4814-925b-b0453caccb10",
   "metadata": {},
   "outputs": [],
   "source": [
    "good_dict = {'my key': ['Python', ' can be', 'difficult']}\n",
    "print(good_dict)"
   ]
  },
  {
   "cell_type": "code",
   "execution_count": null,
   "id": "c087eb92-6b37-41ea-9c30-b8e35fb74429",
   "metadata": {},
   "outputs": [],
   "source": [
    "#Introduction to bioinformatics: Using dictionaries\n",
    "\n",
    "dna = \"AATGATGAACGAC\" \n",
    "dinucleotides = ['AA','AT','AG','AC',\n",
    "                 'TA','TT','TG','TC', \n",
    "                 'GA','GT','GG','GC', \n",
    "                 'CA','CT','CG','CT'] \n",
    "all_counts = {}  #initialize dictionary\n",
    "for dinucleotide in dinucleotides: #for each element in list\n",
    "    count = dna.count(dinucleotide) #count how many of that element\n",
    "    print(\"count is \" + str(count) + \" for \" + dinucleotide) \n",
    "    all_counts[dinucleotide] = count #all these elements are keys, so let's define the values for each key\n",
    "print(all_counts)"
   ]
  },
  {
   "cell_type": "code",
   "execution_count": null,
   "id": "475742f1-04f6-46af-8036-b552620f8bd8",
   "metadata": {},
   "outputs": [],
   "source": [
    "help(str.count)"
   ]
  },
  {
   "cell_type": "markdown",
   "id": "6ba9ea28-7166-4593-950e-6e9d6fd7ad60",
   "metadata": {},
   "source": [
    "# PART 5"
   ]
  },
  {
   "cell_type": "markdown",
   "id": "5d100f04-e0a6-4d6f-a292-946d70ccdf13",
   "metadata": {},
   "source": [
    "## **[`for` loops](https://docs.python.org/3/tutorial/controlflow.html#for-statements)**"
   ]
  },
  {
   "cell_type": "markdown",
   "id": "c5eea458-4bd7-4e3a-88d7-41193bd66b34",
   "metadata": {},
   "source": [
    "### For loops in lists "
   ]
  },
  {
   "cell_type": "markdown",
   "id": "026e4d2f-4d37-4be0-bd72-5224f67477ef",
   "metadata": {},
   "source": [
    "Example: Our goal is to convert each value given in cm to inch and print the output.\n",
    "\n",
    "#### Info: \n",
    "    1 inch = 2.54 cms\n",
    "    the list of length values we have: length_cm=[158, 165, 168, 172, 183, 190]\n",
    "\n",
    "#### Algorithm:\n",
    "    For each element in length_cm[index]\n",
    "       inc = length_cm[index]/2.54\n",
    "       print cm and inch values\n",
    "       Move to the next element\n",
    "\n",
    "For every operation that needs to take place in the for loop, they need to have same indentation. \n",
    "Not a requirement, but better to use \\\"<TAB\\\"> or press space four times."
   ]
  },
  {
   "cell_type": "code",
   "execution_count": null,
   "id": "2ce06f49-543d-49ea-a1dc-149479d9f279",
   "metadata": {},
   "outputs": [],
   "source": [
    "print(\"------------------\") # beginning of the output)\n",
    "length_cm = [158, 165, 168, 172, 183, 190]\n",
    "for item in length_cm: # for each element in length_cm\n",
    "    # entering for loop\n",
    "    # things to do in for loop\n",
    "    inc = item/2.54 # convert to inch\n",
    "    print('value in cm: ', item, ',', 'value in inch: ', inc) # Print\n",
    "    # exit for loop\n",
    "# things to do outside for loop\n",
    "print(\"------------------\") # end of the output"
   ]
  },
  {
   "cell_type": "markdown",
   "id": "b5e225f4-e929-4767-99cf-bdfa934bdf4d",
   "metadata": {},
   "source": [
    "### `break`\n",
    "using break, we can stop the loop when a given condition is satisfied."
   ]
  },
  {
   "cell_type": "code",
   "execution_count": null,
   "id": "acbafe75-7e6e-4c84-89b4-1dde2d8f755a",
   "metadata": {},
   "outputs": [],
   "source": [
    "for item in length_cm:\n",
    "    if item == 165:\n",
    "        break\n",
    "    inc = item/2.54\n",
    "    print(inc)"
   ]
  },
  {
   "cell_type": "markdown",
   "id": "fadad6bc-35ad-4885-be12-09470ded9187",
   "metadata": {},
   "source": [
    "### `continue`\n",
    "Continue to the next item without executing the lines occurring after `continue` inside the loop:"
   ]
  },
  {
   "cell_type": "code",
   "execution_count": null,
   "id": "3b455d86-82c5-464d-9327-8c1130f01444",
   "metadata": {},
   "outputs": [],
   "source": [
    "for item in length_cm:\n",
    "    if item == 160:\n",
    "        continue\n",
    "    inc = item/2.54    \n",
    "    print(inc)"
   ]
  },
  {
   "cell_type": "markdown",
   "id": "5d08efca-e366-4e99-91de-71de83b52df3",
   "metadata": {},
   "source": [
    "### `enumerate()` \n",
    "enumerate() class can give us both the value and the index for that given value"
   ]
  },
  {
   "cell_type": "code",
   "execution_count": null,
   "id": "ded165e4-1444-48ed-bfb5-16010fbf4655",
   "metadata": {},
   "outputs": [],
   "source": [
    "help(enumerate)"
   ]
  },
  {
   "cell_type": "code",
   "execution_count": null,
   "id": "33d388da-0e0f-44f0-9eb9-df01b8eab922",
   "metadata": {},
   "outputs": [],
   "source": [
    "for idx, val in enumerate(length_cm):\n",
    "    print('idx: {}, value: {}'.format(idx, val))"
   ]
  },
  {
   "cell_type": "code",
   "execution_count": null,
   "id": "7bf9725d-3f59-4c9a-b1fa-47431740e511",
   "metadata": {},
   "outputs": [],
   "source": [
    "Turkish_consonants = \"bcçdfgğhjklmnprsştvyz\"\n",
    "Turkish_consonants = list(Turkish_consonants)\n",
    "print(Turkish_consonants)\n",
    "\n",
    "count = 0\n",
    "for item in Turkish_consonants:\n",
    "    print(count, item)\n",
    "    count +=1\n",
    "#What happens if count+=1 is outside of the loop?"
   ]
  },
  {
   "cell_type": "code",
   "execution_count": null,
   "id": "5917eb7d-9069-49dc-a744-25d3f11b2d8e",
   "metadata": {},
   "outputs": [],
   "source": [
    "#We can rewrite the above for loop more neatly by using enumerate() function.\n",
    "\n",
    "for count, item in enumerate(Turkish_consonants):\n",
    "    print(count, item)\n"
   ]
  },
  {
   "cell_type": "code",
   "execution_count": null,
   "id": "2a2730c0-424f-4c42-935f-866fcd499835",
   "metadata": {
    "tags": []
   },
   "outputs": [],
   "source": [
    "# Write a python program to get sum of all items in a dictionary\n",
    "\n",
    "def get_sum(dict_x):\n",
    "    sum = 0 #initialize the sum\n",
    "    for key, value in dict_x.items():\n",
    "        sum += dict_x[key]\n",
    "    return sum\n",
    "\n",
    "dict_a = {'key1' : 78, 'key2' : 89, 'key3' : 90, 'key4' : 72} \n",
    "get_sum(dict_a)"
   ]
  },
  {
   "cell_type": "code",
   "execution_count": null,
   "id": "68390d1d-50bf-4114-b048-5de525266f73",
   "metadata": {},
   "outputs": [],
   "source": [
    "#python\n",
    "# Python program to illustrate\n",
    "# enumerate function\n",
    "l1 = [\"Moderna\",\"BioNTech\",\"Sinovac\"]\n",
    "s1 = \"available vaccines\"\n",
    "\n",
    "# creating enumerate objects\n",
    "obj1 = enumerate(l1)\n",
    "obj2 = enumerate(s1)\n",
    "\n",
    "print(\"Return type:\",type(obj1))\n",
    "print(list(enumerate(l1)))\n",
    "\n",
    "# changing start index to 2 from 0\n",
    "print(list(enumerate(s1,2)))\n"
   ]
  },
  {
   "cell_type": "markdown",
   "id": "3961c203-a38e-40b0-b0d3-ce354764e4fb",
   "metadata": {},
   "source": [
    "\n",
    "## for loops for dictionaries"
   ]
  },
  {
   "cell_type": "code",
   "execution_count": null,
   "id": "192f8235-cb34-40cb-9fe8-55ac8cc157fc",
   "metadata": {},
   "outputs": [],
   "source": [
    "recipe_dict = {} \n",
    "recipe_dict['ratatouille '] = ['eggplant', 'tomato', 'zucchini', 'onion', 'olive oil', 'garlic']\n",
    "recipe_dict['homemade pasta'] = ['semolina flour', 'olive oil', 'sea salt']\n",
    "print(recipe_dict)\n",
    "\n",
    "for key, value in recipe_dict.items(): \n",
    "    print(key, value)\n",
    "    \n"
   ]
  },
  {
   "cell_type": "markdown",
   "id": "6947c516-b558-4d3c-a762-56de4ccb9318",
   "metadata": {},
   "source": [
    "## `range()`\n",
    "\n",
    "range() function returns numbers starting from 0, and increasing incrementally."
   ]
  },
  {
   "cell_type": "code",
   "execution_count": null,
   "id": "c3eb7f93-8906-47b9-b21d-d83fc81f38f7",
   "metadata": {},
   "outputs": [],
   "source": [
    "help(range)"
   ]
  },
  {
   "cell_type": "code",
   "execution_count": null,
   "id": "39ce0a0d-ad3f-4292-963c-1d0be90fa7a2",
   "metadata": {},
   "outputs": [],
   "source": [
    "for number in range(5):\n",
    "    print(number) #range(5) returns 0-4, not 0-5."
   ]
  },
  {
   "cell_type": "code",
   "execution_count": null,
   "id": "eca3e77e-8629-44c3-a407-ff715a6e76bc",
   "metadata": {},
   "outputs": [],
   "source": [
    "for number in range(2, 5):\n",
    "    print(number) \n",
    "\n",
    "#range() function's default initial value is 0,\n",
    "#but we can specify a different initial value:\n",
    "#range(2, 5) returns values from 2 to 5 (exclusive of 5):"
   ]
  },
  {
   "cell_type": "code",
   "execution_count": null,
   "id": "dfdb337c-9e85-47a3-9388-d4c5001bdded",
   "metadata": {},
   "outputs": [],
   "source": [
    "for number in range(0, 10, 2):  # last number is the number of steps\n",
    "    print(number)"
   ]
  },
  {
   "cell_type": "code",
   "execution_count": null,
   "id": "37425564-fb15-44e5-b49e-baa5d2724ab2",
   "metadata": {},
   "outputs": [],
   "source": [
    "# generate a random sequence\n",
    "import random\n",
    "seq = ''.join([random.choice('ACGT') for _ in range(10)])\n",
    "print(seq)\n",
    "print(len(seq))\n",
    "\n",
    "# What is happening here?"
   ]
  },
  {
   "cell_type": "code",
   "execution_count": null,
   "id": "6cc0bafc-4a65-4e99-8974-bc6d2565fa08",
   "metadata": {},
   "outputs": [],
   "source": [
    "len(range(10))"
   ]
  },
  {
   "cell_type": "code",
   "execution_count": null,
   "id": "368645c9-eef8-4e88-b4fc-a92a8cdab9d2",
   "metadata": {},
   "outputs": [],
   "source": [
    "for number in range(10): \n",
    "    print(number)"
   ]
  },
  {
   "cell_type": "code",
   "execution_count": null,
   "id": "1007df8a-8814-423e-81e2-75bc7f68f65d",
   "metadata": {},
   "outputs": [],
   "source": [
    "help(random.choice)"
   ]
  },
  {
   "cell_type": "code",
   "execution_count": null,
   "id": "f396d1f4-5768-4966-9118-4a01dd896eec",
   "metadata": {},
   "outputs": [],
   "source": [
    "print(random.choice('ACGT'))"
   ]
  },
  {
   "cell_type": "code",
   "execution_count": null,
   "id": "7d9eed07-a7d2-4f3b-a240-90535478b144",
   "metadata": {},
   "outputs": [],
   "source": [
    "#Let's practice some\n",
    "\n",
    "my_numbers = [1,3,5,7,9,12,19,21]\n",
    "\n",
    "#which numbers in the `my_numbers` list are multiples of 3? Please answer with a for loop.\n",
    "\n",
    "for element in my_numbers:\n",
    "    if element % 3 == 0:\n",
    "        print(element)"
   ]
  },
  {
   "cell_type": "code",
   "execution_count": null,
   "id": "5d1ca28e-7970-4e27-a602-ec56bc094909",
   "metadata": {},
   "outputs": [],
   "source": [
    "#The sum of values in my_numbers list?\n",
    "\n",
    "my_numbers = [1,3,5,7,9,12,19,21]\n",
    "\n",
    "total = 0\n",
    "for item in my_numbers:\n",
    "    total += item\n",
    "print('total:', total)\n"
   ]
  },
  {
   "cell_type": "code",
   "execution_count": null,
   "id": "767602d3-1bef-473e-9dea-d0ad116c9dba",
   "metadata": {},
   "outputs": [],
   "source": [
    "for num in range(10,20):  # loop through values between 10 and 20 (exclusive of 20)\n",
    "   for i in range(2,num): # for each element in the loop, starting from 2\n",
    "      if num%i == 0:      \n",
    "         j=num/i          \n",
    "         print('%d is equal to %d * %d' % (num,i,j))\n",
    "         break # move to the next number\n",
    "   else:                 \n",
    "      print(num, ' is a prime number')"
   ]
  },
  {
   "cell_type": "markdown",
   "id": "14e55265-17e6-43d1-b2ea-bec80b17906a",
   "metadata": {},
   "source": [
    "# PART 6"
   ]
  },
  {
   "cell_type": "markdown",
   "id": "8a6caf2e",
   "metadata": {},
   "source": [
    "## Functions"
   ]
  },
  {
   "cell_type": "code",
   "execution_count": null,
   "id": "4a12c63c",
   "metadata": {},
   "outputs": [],
   "source": [
    "def hello_my_first_function():\n",
    "    print('Hello trgn515!')\n",
    "\n",
    "print('type: {}'.format(hello_my_first_function))\n",
    "\n",
    "hello_my_first_function()  # Let's call the function"
   ]
  },
  {
   "cell_type": "markdown",
   "id": "4d331c36",
   "metadata": {},
   "source": [
    "### Arguments"
   ]
  },
  {
   "cell_type": "code",
   "execution_count": null,
   "id": "bc486fcc",
   "metadata": {},
   "outputs": [],
   "source": [
    "def key_Python_libraries(name1, name2, name3): #required arguments\n",
    "    print('These are great libraries for data visualization in Python:  {}, {}, {}'.format(name1, name2, name3))\n",
    "\n",
    "key_Python_libraries('matplotlib', 'seaborn', 'Bokeh')"
   ]
  },
  {
   "cell_type": "code",
   "execution_count": null,
   "id": "c222f166",
   "metadata": {},
   "outputs": [],
   "source": [
    "# functions that return something we define \n",
    "\n",
    "def strip_and_lowercase(original):\n",
    "    modified = original.lower().strip()\n",
    "    return modified\n",
    "\n",
    "ugly_string = '  MixED CaSe '\n",
    "pretty = strip_and_lowercase(ugly_string)\n",
    "print('pretty: {}'.format(pretty))\n",
    "\n",
    "#In general, a function takes arguments (if any), performs some operations, and returns a value (or object). \n",
    "#The value that a function returns to the caller is generally known as the function’s return value. \n",
    "#All Python functions have a return value, either explicit or implicit. "
   ]
  },
  {
   "cell_type": "code",
   "execution_count": null,
   "id": "baae6a7c-2aa1-41b8-ae86-df15790890c6",
   "metadata": {},
   "outputs": [],
   "source": [
    "strip_and_lowercase(980)"
   ]
  },
  {
   "cell_type": "code",
   "execution_count": null,
   "id": "69f666ec",
   "metadata": {},
   "outputs": [],
   "source": [
    "def word_lowercase(word):\n",
    "    \"\"\"it converts the argument with data type string to lowercase\"\"\"\n",
    "    modified = word.lower()\n",
    "    return modified\n",
    "\n",
    "mixed = 'AAgcgctgagtcTGC'\n",
    "word_lowercase(mixed)"
   ]
  },
  {
   "cell_type": "code",
   "execution_count": null,
   "id": "660bd33e",
   "metadata": {},
   "outputs": [],
   "source": [
    "# Introduction to bioinformatics: Example to the use of dictionaries\n",
    "\n",
    "dna = \"AATGATGAACGAC\" \n",
    "dinucleotides = ['AA','AT','AG','AC',\n",
    "                 'TA','TT','TG','TC', \n",
    "                 'GA','GT','GG','GC', \n",
    "                 'CA','CT','CG','CT'] \n",
    "all_counts = {}  #initiated the dictionary\n",
    "for dinucleotide in dinucleotides: #for each element in the dictionary\n",
    "    count = dna.count(dinucleotide) #let's count how many elements \n",
    "    print(\"count is \" + str(count) + \" for \" + dinucleotide) \n",
    "    all_counts[dinucleotide] = count #all elements are keys, let's prepare values for each key\n",
    "print(all_counts)\n"
   ]
  },
  {
   "cell_type": "code",
   "execution_count": null,
   "id": "85d09071",
   "metadata": {},
   "outputs": [],
   "source": [
    "dinucleotides = ['AA','AT','AG','AC',\n",
    "                 'TA','TT','TG','TC', \n",
    "                 'GA','GT','GG','GC', \n",
    "                 'CA','CT','CG','CT']\n",
    "\n",
    "def dinucleotide_counting(seq):\n",
    "    \"\"\"This function gets a DNA sequence and returns the count of each dinucleotide within the DNA sequence\"\"\"\n",
    "    #convert sequence to upper letter format \n",
    "    seq = seq.upper()\n",
    "    counting = {k: 0 for k in dinucleotides}  # we initalize a dictionary, This is faster than a list\n",
    "    #Scans the sequence, looking for all dinucleotides at once\n",
    "    for i in range(len(seq)-2):\n",
    "        if seq[i:i+2] in counting:\n",
    "            counting[seq[i:i+2]] += 1\n",
    "    return counting"
   ]
  },
  {
   "cell_type": "code",
   "execution_count": null,
   "id": "fefa0c02-16e5-4293-96a2-00d9e197dbd2",
   "metadata": {},
   "outputs": [],
   "source": [
    "dinucleotides = ['AA','AT','AG','AC',\n",
    "                 'TA','TT','TG','TC', \n",
    "                 'GA','GT','GG','GC', \n",
    "                 'CA','CT','CG','CT']\n",
    "\n",
    "def dinucleotide_counting(seq):\n",
    "    \"\"\"This function gets a DNA sequence and returns the count of each dinucleotide within the DNA sequence\"\"\"\n",
    "    #convert sequence to upper letter format \n",
    "    seq = seq.upper()\n",
    "    counting = {}\n",
    "    for k in dinucleotides:\n",
    "        counting[k] = 0 # we initalize a dictionary, This is faster than a list\n",
    "    #Scans the sequence, looking for all dinucleotides at once\n",
    "    for i in range(len(seq)-2):\n",
    "        if seq[i:i+2] in counting:\n",
    "            counting[seq[i:i+2]] += 1\n",
    "    return counting"
   ]
  },
  {
   "cell_type": "code",
   "execution_count": null,
   "id": "1901fcba",
   "metadata": {},
   "outputs": [],
   "source": [
    "dinucleotide_counting('AAgcgctgagtcTGC')"
   ]
  },
  {
   "cell_type": "code",
   "execution_count": null,
   "id": "8e7e6aef",
   "metadata": {},
   "outputs": [],
   "source": [
    "seq2 = 'AACTG'\n",
    "range(len(seq2)-2)"
   ]
  },
  {
   "cell_type": "code",
   "execution_count": null,
   "id": "a110535f",
   "metadata": {},
   "outputs": [],
   "source": [
    "seq = 'AATGC'\n",
    "seq[2:4]"
   ]
  },
  {
   "cell_type": "code",
   "execution_count": null,
   "id": "661b08d2",
   "metadata": {},
   "outputs": [],
   "source": [
    "dinucleotide_counting(\"AATGATGAACGAC\")"
   ]
  },
  {
   "cell_type": "markdown",
   "id": "2cf8eaec",
   "metadata": {},
   "source": [
    "### Keyword arguments"
   ]
  },
  {
   "cell_type": "code",
   "execution_count": null,
   "id": "f2f6cff0",
   "metadata": {},
   "outputs": [],
   "source": [
    "def first_algorithm(first, second, third):\n",
    "    return (first + second)** third \n",
    "\n",
    "print(first_algorithm(2, 3, 4))\n",
    "\n",
    "print(first_algorithm(first=2, second=3, third=4))\n",
    "\n",
    "# using keyword arguments, we can change the ordering\n",
    "print(first_algorithm(third=4, first=2, second=3))\n",
    "\n",
    "# positional arguments and keyword arguments can also change places but we should start with positional arguments\n",
    "print(first_algorithm(2, third=4, second=3))  \n",
    "\n",
    "print(first_algorithm(third=4, second=3, 2))  #It will error out\n"
   ]
  },
  {
   "cell_type": "markdown",
   "id": "17d68a45",
   "metadata": {},
   "source": [
    "### Default arguments "
   ]
  },
  {
   "cell_type": "code",
   "execution_count": null,
   "id": "42a3dcde",
   "metadata": {
    "scrolled": true
   },
   "outputs": [],
   "source": [
    "def greet(name, msg=\"good morning!\"):\n",
    "    \"\"\"\n",
    "    This function greets to\n",
    "    the person with the\n",
    "    provided message.\n",
    "\n",
    "    If the message is not provided,\n",
    "    it defaults to \"Good\n",
    "    morning!\"\n",
    "    \"\"\"\n",
    "\n",
    "    print(\"Hello\", name + ', ' + msg)\n",
    "\n",
    "\n",
    "greet(\"Alex\")\n",
    "greet(\"Krishna\", \"how are you?\")"
   ]
  },
  {
   "cell_type": "markdown",
   "id": "f7ee6747",
   "metadata": {},
   "source": [
    "**Do not use mutable objects as default arguments!**"
   ]
  },
  {
   "cell_type": "code",
   "execution_count": 176,
   "id": "691ecb07",
   "metadata": {},
   "outputs": [],
   "source": [
    "def compute_patterns(inputs=[]):\n",
    "    inputs.append(\"some stuff\")\n",
    "    patterns = [\"a list is based on\"] + inputs\n",
    "    return patterns"
   ]
  },
  {
   "cell_type": "code",
   "execution_count": 178,
   "id": "d240d1db",
   "metadata": {},
   "outputs": [
    {
     "data": {
      "text/plain": [
       "['a list is based on', 'some stuff', 'some stuff']"
      ]
     },
     "execution_count": 178,
     "metadata": {},
     "output_type": "execute_result"
    }
   ],
   "source": [
    "compute_patterns()"
   ]
  },
  {
   "cell_type": "code",
   "execution_count": 184,
   "id": "0707e1e4",
   "metadata": {},
   "outputs": [],
   "source": [
    "def append(element, seq=[]):\n",
    "    seq.append(element)\n",
    "    return seq"
   ]
  },
  {
   "cell_type": "code",
   "execution_count": 186,
   "id": "dcc31816",
   "metadata": {},
   "outputs": [
    {
     "data": {
      "text/plain": [
       "[1, 1]"
      ]
     },
     "execution_count": 186,
     "metadata": {},
     "output_type": "execute_result"
    }
   ],
   "source": [
    "append(1) # seq is assigned to []\n",
    "\n",
    "# This returns a reference to the *same* list as the default for `seq`"
   ]
  },
  {
   "cell_type": "code",
   "execution_count": 187,
   "id": "246ec50b",
   "metadata": {},
   "outputs": [
    {
     "data": {
      "text/plain": [
       "[1, 1, 4]"
      ]
     },
     "execution_count": 187,
     "metadata": {},
     "output_type": "execute_result"
    }
   ],
   "source": [
    "append(4) # `seq` is now given [1] as a default!"
   ]
  },
  {
   "cell_type": "markdown",
   "id": "a16e036c",
   "metadata": {},
   "source": [
    "Let's fix the above problem like this:"
   ]
  },
  {
   "cell_type": "code",
   "execution_count": 188,
   "id": "a1dfd892",
   "metadata": {},
   "outputs": [],
   "source": [
    "def append(element, seq=None):\n",
    "    if seq is None:  \n",
    "        seq = []\n",
    "    seq.append(element)\n",
    "    return seq"
   ]
  },
  {
   "cell_type": "code",
   "execution_count": 192,
   "id": "59826985",
   "metadata": {},
   "outputs": [
    {
     "data": {
      "text/plain": [
       "[4]"
      ]
     },
     "execution_count": 192,
     "metadata": {},
     "output_type": "execute_result"
    }
   ],
   "source": [
    "append(4)"
   ]
  },
  {
   "cell_type": "markdown",
   "id": "c2f21aca-2c1e-4ea8-a45c-3103f6743736",
   "metadata": {},
   "source": [
    "#### [Lambda functions](https://realpython.com/python-lambda/) and [list comprehensions](https://www.w3schools.com/python/python_lists_comprehension.asp)\n",
    "\n",
    "    lambda input(s): function #lambda is the keyword\n",
    "    \n",
    "    #Normal python function\n",
    "    def a_name(x):\n",
    "        return x+x\n",
    "        \n",
    "    #Lambda function\n",
    "    lambda x: x+x\n",
    "    \n",
    "    #List comprehension\n",
    "    Provides shorter syntax when you want to create a new list based on the values of an existing list"
   ]
  },
  {
   "cell_type": "code",
   "execution_count": 193,
   "id": "c991ae92-9f77-4a6f-91a5-467989e86009",
   "metadata": {},
   "outputs": [],
   "source": [
    "def gets_cube(x):\n",
    "    return x*x*x\n",
    "\n",
    "cube = lambda x: x*x*x"
   ]
  },
  {
   "cell_type": "code",
   "execution_count": 194,
   "id": "7b73396b-6590-4607-9821-8ed9d60e0549",
   "metadata": {},
   "outputs": [
    {
     "name": "stdout",
     "output_type": "stream",
     "text": [
      "lambda function output is:  8\n",
      "regular function output is:  8\n"
     ]
    }
   ],
   "source": [
    "print('lambda function output is: ', cube(2))\n",
    "print('regular function output is: ', gets_cube(2))"
   ]
  },
  {
   "cell_type": "code",
   "execution_count": 203,
   "id": "21c26fee-e154-4d86-ae64-ce860283e247",
   "metadata": {},
   "outputs": [
    {
     "name": "stdout",
     "output_type": "stream",
     "text": [
      "[0]\n"
     ]
    }
   ],
   "source": [
    "my_list = [18, -3, 5, 0, -1, 12]\n",
    "new_list = list(filter(lambda x: x > 0, my_list)) #what is happening here?\n",
    "print(new_list) # [18, 5, 12]\n"
   ]
  },
  {
   "cell_type": "code",
   "execution_count": 201,
   "id": "84012216-eb13-4cc3-8f1a-206256268b34",
   "metadata": {},
   "outputs": [
    {
     "data": {
      "text/plain": [
       "[18, 5, 12]"
      ]
     },
     "execution_count": 201,
     "metadata": {},
     "output_type": "execute_result"
    }
   ],
   "source": [
    "def pos_values(list_x):\n",
    "    new_list = list()\n",
    "    for i in list_x:\n",
    "        if i > 0:\n",
    "            new_list.append(i)\n",
    "    return new_list\n",
    "\n",
    "my_list = [18, -3, 5, 0, -1, 12]\n",
    "pos_values(my_list)"
   ]
  },
  {
   "cell_type": "code",
   "execution_count": 202,
   "id": "bb86fe19-757a-4705-9836-5dea174461ac",
   "metadata": {
    "tags": []
   },
   "outputs": [
    {
     "name": "stdout",
     "output_type": "stream",
     "text": [
      "Help on class filter in module builtins:\n",
      "\n",
      "class filter(object)\n",
      " |  filter(function or None, iterable) --> filter object\n",
      " |  \n",
      " |  Return an iterator yielding those items of iterable for which function(item)\n",
      " |  is true. If function is None, return the items that are true.\n",
      " |  \n",
      " |  Methods defined here:\n",
      " |  \n",
      " |  __getattribute__(self, name, /)\n",
      " |      Return getattr(self, name).\n",
      " |  \n",
      " |  __iter__(self, /)\n",
      " |      Implement iter(self).\n",
      " |  \n",
      " |  __new__(*args, **kwargs) from builtins.type\n",
      " |      Create and return a new object.  See help(type) for accurate signature.\n",
      " |  \n",
      " |  __next__(self, /)\n",
      " |      Implement next(self).\n",
      " |  \n",
      " |  __reduce__(...)\n",
      " |      Return state information for pickling.\n",
      "\n"
     ]
    }
   ],
   "source": [
    "help(filter)"
   ]
  },
  {
   "cell_type": "code",
   "execution_count": 208,
   "id": "0b68b191-546b-4dda-a369-158d4bb7d1ef",
   "metadata": {},
   "outputs": [
    {
     "data": {
      "text/plain": [
       "['Cat', 'Dog', 'Cow']"
      ]
     },
     "execution_count": 208,
     "metadata": {},
     "output_type": "execute_result"
    }
   ],
   "source": [
    "list(map(lambda x: x.capitalize(), ['cat', 'dog', 'cow']))"
   ]
  },
  {
   "cell_type": "code",
   "execution_count": 205,
   "id": "f5c3ee09-8ab1-4a9f-942d-46197f02f8d5",
   "metadata": {},
   "outputs": [
    {
     "data": {
      "text/plain": [
       "['Cat', 'Dog', 'Cow']"
      ]
     },
     "execution_count": 205,
     "metadata": {},
     "output_type": "execute_result"
    }
   ],
   "source": [
    "# or we can use list comprehension\n",
    "[x.capitalize() for x in ['cat', 'dog', 'cow']]"
   ]
  },
  {
   "cell_type": "code",
   "execution_count": 206,
   "id": "98b372c4-bbc8-48b0-a123-048a612e7e60",
   "metadata": {
    "tags": []
   },
   "outputs": [
    {
     "name": "stdout",
     "output_type": "stream",
     "text": [
      "Help on class map in module builtins:\n",
      "\n",
      "class map(object)\n",
      " |  map(func, *iterables) --> map object\n",
      " |  \n",
      " |  Make an iterator that computes the function using arguments from\n",
      " |  each of the iterables.  Stops when the shortest iterable is exhausted.\n",
      " |  \n",
      " |  Methods defined here:\n",
      " |  \n",
      " |  __getattribute__(self, name, /)\n",
      " |      Return getattr(self, name).\n",
      " |  \n",
      " |  __iter__(self, /)\n",
      " |      Implement iter(self).\n",
      " |  \n",
      " |  __new__(*args, **kwargs) from builtins.type\n",
      " |      Create and return a new object.  See help(type) for accurate signature.\n",
      " |  \n",
      " |  __next__(self, /)\n",
      " |      Implement next(self).\n",
      " |  \n",
      " |  __reduce__(...)\n",
      " |      Return state information for pickling.\n",
      "\n"
     ]
    }
   ],
   "source": [
    "help(map)"
   ]
  },
  {
   "cell_type": "code",
   "execution_count": 209,
   "id": "7eb5600d-1bad-4883-a091-b6a54692d1d8",
   "metadata": {},
   "outputs": [
    {
     "data": {
      "text/plain": [
       "[0, 2, 4, 6, 8, 10]"
      ]
     },
     "execution_count": 209,
     "metadata": {},
     "output_type": "execute_result"
    }
   ],
   "source": [
    "even = lambda x: x%2 == 0\n",
    "\n",
    "list(filter(even, range(11)))"
   ]
  },
  {
   "cell_type": "code",
   "execution_count": null,
   "id": "e284da20-381f-4fb9-8efd-9ee6d678c5b1",
   "metadata": {},
   "outputs": [],
   "source": [
    "#list comprehension\n",
    "[x for x in range(11) if x%2 == 0]"
   ]
  },
  {
   "cell_type": "markdown",
   "id": "00c22c5c",
   "metadata": {},
   "source": [
    "### Docstrings\n",
    "Python docstrings are the string literals that appear right after the definition of a function, method, class, or module. They are used to document our code."
   ]
  },
  {
   "cell_type": "code",
   "execution_count": 210,
   "id": "85a6bb6c",
   "metadata": {
    "tags": []
   },
   "outputs": [
    {
     "data": {
      "text/html": [
       "<div>\n",
       "<style scoped>\n",
       "    .dataframe tbody tr th:only-of-type {\n",
       "        vertical-align: middle;\n",
       "    }\n",
       "\n",
       "    .dataframe tbody tr th {\n",
       "        vertical-align: top;\n",
       "    }\n",
       "\n",
       "    .dataframe thead th {\n",
       "        text-align: right;\n",
       "    }\n",
       "</style>\n",
       "<table border=\"1\" class=\"dataframe\">\n",
       "  <thead>\n",
       "    <tr style=\"text-align: right;\">\n",
       "      <th></th>\n",
       "      <th>sequence</th>\n",
       "      <th>quality</th>\n",
       "      <th>id</th>\n",
       "    </tr>\n",
       "  </thead>\n",
       "  <tbody>\n",
       "    <tr>\n",
       "      <th>0</th>\n",
       "      <td>UCAGUAAGAUCGAAAGAUUGGCUAAAGUUGAACCAAUUGAGAAUCG...</td>\n",
       "      <td>%+$-&amp;$*4+$&amp;9=8&gt;&gt;=82(&amp;&amp;/,.2/1;:76318&gt;/=:&lt;8=40+0...</td>\n",
       "      <td>6c73b496-0d9e-4d3d-9b05-ec7d29e8bb90 runid=687...</td>\n",
       "    </tr>\n",
       "    <tr>\n",
       "      <th>1</th>\n",
       "      <td>AGGUGGACUGAUCGAGUCAAGACUCCAUACGUUUUGCCCGUUCAAG...</td>\n",
       "      <td>$'#(&amp;$($%%#0&amp;'--%()-6/4&amp;&amp;..86640&lt;5/.522176/0A8...</td>\n",
       "      <td>5a6ffec3-a807-47ae-b91b-8340b4f4344d runid=687...</td>\n",
       "    </tr>\n",
       "    <tr>\n",
       "      <th>2</th>\n",
       "      <td>UGUCGGUUUGAGAACUGGUCAAUCAAGACUGGUGCUCCAAGCUAGA...</td>\n",
       "      <td>(%)-,*5)0/89C889;:&lt;9:9-67EC&lt;&gt;;=;=:%))+%''$')*5...</td>\n",
       "      <td>da79375e-4420-4fd5-a0f1-195fd1f355fa runid=687...</td>\n",
       "    </tr>\n",
       "    <tr>\n",
       "      <th>3</th>\n",
       "      <td>UCCAGCUAGAUUCGAAAGAUUGGCUAAGUUGAACCAAUUGUUGAGA...</td>\n",
       "      <td>%/163.1&amp;+(4%97=;&gt;&lt;A;5=;&gt;B:F=&lt;&gt;9CEA6:=4&gt;&lt;A&lt;:79=...</td>\n",
       "      <td>2d5c970a-5212-4e21-b074-70d6b64c6430 runid=687...</td>\n",
       "    </tr>\n",
       "    <tr>\n",
       "      <th>4</th>\n",
       "      <td>GAAGAUUGGCUAAGUGAACCAAUUGUGAAGAAAUCGAAGAAGAACU...</td>\n",
       "      <td>(-735:./-93542.92/9@B&gt;891-%%0.;&lt;&amp;&gt;87@KAGJ6&lt;56;...</td>\n",
       "      <td>a6923647-414d-465e-ab68-1edab9b2b32a runid=687...</td>\n",
       "    </tr>\n",
       "    <tr>\n",
       "      <th>...</th>\n",
       "      <td>...</td>\n",
       "      <td>...</td>\n",
       "      <td>...</td>\n",
       "    </tr>\n",
       "    <tr>\n",
       "      <th>3898</th>\n",
       "      <td>GAUUAAAGUUGUCGGUUAAAGAACUGGUCAAUUCCAAGACUGGUGC...</td>\n",
       "      <td>*89::7=&lt;:==:464:.2278&lt;768-):,33$$(6-B=9)3&lt;;B&gt;7...</td>\n",
       "      <td>80698b86-e0df-4d3f-ad79-0dbb2c60d70f runid=687...</td>\n",
       "    </tr>\n",
       "    <tr>\n",
       "      <th>3899</th>\n",
       "      <td>UGCUCCUUAUUGGUGCAUAGACCUUAAAAAAAU</td>\n",
       "      <td>46+5)6))+);6486*&amp;%3308/;05875:&lt;-8</td>\n",
       "      <td>42a1601f-2cdc-4c29-b4ac-0e69e28e09f1 runid=687...</td>\n",
       "    </tr>\n",
       "    <tr>\n",
       "      <th>3900</th>\n",
       "      <td>UCAUAUUUUUCAAAAAU</td>\n",
       "      <td>'('(+,&amp;(''*4644,(</td>\n",
       "      <td>2b332d08-7a63-4666-881c-c3173bceb43c runid=687...</td>\n",
       "    </tr>\n",
       "    <tr>\n",
       "      <th>3901</th>\n",
       "      <td>ACUCAUAUUUCAAAAAAAAUCUUCUCUCAUUUUCAUAUAUUUACAA...</td>\n",
       "      <td>$$'.%(&amp;**''48&lt;&lt;99&amp;%&amp;$&amp;&amp;$()*,,*-&amp;)(%'*))'((#$14...</td>\n",
       "      <td>f8d114e4-8809-4d9e-806e-d96787a87c49 runid=687...</td>\n",
       "    </tr>\n",
       "    <tr>\n",
       "      <th>3902</th>\n",
       "      <td>GUGACAAGGCUGUCUACCGUUCAGUAGAAAUCACCUUUACAGUGAC...</td>\n",
       "      <td>,+5507EB::?87136;&amp;'&amp;&amp;4480*+08'-$&amp;))(&amp;&amp;1632+;12...</td>\n",
       "      <td>3d8cd261-d303-46f4-84dc-441746e7187b runid=687...</td>\n",
       "    </tr>\n",
       "  </tbody>\n",
       "</table>\n",
       "<p>3903 rows × 3 columns</p>\n",
       "</div>"
      ],
      "text/plain": [
       "                                               sequence  \\\n",
       "0     UCAGUAAGAUCGAAAGAUUGGCUAAAGUUGAACCAAUUGAGAAUCG...   \n",
       "1     AGGUGGACUGAUCGAGUCAAGACUCCAUACGUUUUGCCCGUUCAAG...   \n",
       "2     UGUCGGUUUGAGAACUGGUCAAUCAAGACUGGUGCUCCAAGCUAGA...   \n",
       "3     UCCAGCUAGAUUCGAAAGAUUGGCUAAGUUGAACCAAUUGUUGAGA...   \n",
       "4     GAAGAUUGGCUAAGUGAACCAAUUGUGAAGAAAUCGAAGAAGAACU...   \n",
       "...                                                 ...   \n",
       "3898  GAUUAAAGUUGUCGGUUAAAGAACUGGUCAAUUCCAAGACUGGUGC...   \n",
       "3899                  UGCUCCUUAUUGGUGCAUAGACCUUAAAAAAAU   \n",
       "3900                                  UCAUAUUUUUCAAAAAU   \n",
       "3901  ACUCAUAUUUCAAAAAAAAUCUUCUCUCAUUUUCAUAUAUUUACAA...   \n",
       "3902  GUGACAAGGCUGUCUACCGUUCAGUAGAAAUCACCUUUACAGUGAC...   \n",
       "\n",
       "                                                quality  \\\n",
       "0     %+$-&$*4+$&9=8>>=82(&&/,.2/1;:76318>/=:<8=40+0...   \n",
       "1     $'#(&$($%%#0&'--%()-6/4&&..86640<5/.522176/0A8...   \n",
       "2     (%)-,*5)0/89C889;:<9:9-67EC<>;=;=:%))+%''$')*5...   \n",
       "3     %/163.1&+(4%97=;><A;5=;>B:F=<>9CEA6:=4><A<:79=...   \n",
       "4     (-735:./-93542.92/9@B>891-%%0.;<&>87@KAGJ6<56;...   \n",
       "...                                                 ...   \n",
       "3898  *89::7=<:==:464:.2278<768-):,33$$(6-B=9)3<;B>7...   \n",
       "3899                  46+5)6))+);6486*&%3308/;05875:<-8   \n",
       "3900                                  '('(+,&(''*4644,(   \n",
       "3901  $$'.%(&**''48<<99&%&$&&$()*,,*-&)(%'*))'((#$14...   \n",
       "3902  ,+5507EB::?87136;&'&&4480*+08'-$&))(&&1632+;12...   \n",
       "\n",
       "                                                     id  \n",
       "0     6c73b496-0d9e-4d3d-9b05-ec7d29e8bb90 runid=687...  \n",
       "1     5a6ffec3-a807-47ae-b91b-8340b4f4344d runid=687...  \n",
       "2     da79375e-4420-4fd5-a0f1-195fd1f355fa runid=687...  \n",
       "3     2d5c970a-5212-4e21-b074-70d6b64c6430 runid=687...  \n",
       "4     a6923647-414d-465e-ab68-1edab9b2b32a runid=687...  \n",
       "...                                                 ...  \n",
       "3898  80698b86-e0df-4d3f-ad79-0dbb2c60d70f runid=687...  \n",
       "3899  42a1601f-2cdc-4c29-b4ac-0e69e28e09f1 runid=687...  \n",
       "3900  2b332d08-7a63-4666-881c-c3173bceb43c runid=687...  \n",
       "3901  f8d114e4-8809-4d9e-806e-d96787a87c49 runid=687...  \n",
       "3902  3d8cd261-d303-46f4-84dc-441746e7187b runid=687...  \n",
       "\n",
       "[3903 rows x 3 columns]"
      ]
     },
     "execution_count": 210,
     "metadata": {},
     "output_type": "execute_result"
    }
   ],
   "source": [
    "filename = 'fastq_runid_687811ddee13bdfed6e08d8f5d403e432f41ebd8_0_0.fastq'\n",
    "\n",
    "import bilge_pype as bpy\n",
    "\n",
    "def load_file(filename, run_info=None):\n",
    "    '''\n",
    "    Checks the file type and loads the data\n",
    "    '''\n",
    "    file_format = filename.split('.')\n",
    "    # check if it is a fasta file\n",
    "    if ('fasta' in file_format) or ('fa' in file_format):\n",
    "        A = bpy.read_fasta(filename)\n",
    "    # check if it is a fastq file\n",
    "    elif ('fastq' in file_format) or ('fq' in file_format):\n",
    "        A = bpy.read_fastq(filename)\n",
    "    return A\n",
    "\n",
    "load_file(filename)"
   ]
  },
  {
   "cell_type": "code",
   "execution_count": 211,
   "id": "2776af5f-bbe7-454f-8418-1a885406cdb0",
   "metadata": {},
   "outputs": [
    {
     "name": "stdout",
     "output_type": "stream",
     "text": [
      "Help on function add_ONT_header in module bilge_pype:\n",
      "\n",
      "add_ONT_header(df)\n",
      "    Parses the fastq header for ONT specific information and adds it to the dataframe\n",
      "\n"
     ]
    }
   ],
   "source": [
    "import bilge_pype as bpy\n",
    "help(bpy.add_ONT_header)"
   ]
  },
  {
   "cell_type": "markdown",
   "id": "507cfebf-8ecb-4406-93ff-e152e164f32e",
   "metadata": {
    "tags": []
   },
   "source": [
    "# PART 7: Tuples\n",
    "\n",
    "    ordered\n",
    "    immutable\n",
    "    allows duplicate values\n",
    "    \n",
    "So maybe use when you do not want your data to be changed?\n",
    "Can also use as dictionary keys. "
   ]
  },
  {
   "cell_type": "code",
   "execution_count": 242,
   "id": "0b4c19b1-ef38-42bd-a154-423913995387",
   "metadata": {},
   "outputs": [
    {
     "name": "stdout",
     "output_type": "stream",
     "text": [
      "tuple: ('strawberry', 'durian', 'tangerine'), type: <class 'tuple'>\n",
      "durian\n"
     ]
    }
   ],
   "source": [
    "fav_fruits = tuple((\"strawberry\", \"durian\", \"tangerine\"))\n",
    "print('tuple: {}, type: {}'.format(fav_fruits, type(fav_fruits)))\n",
    "print(fav_fruits[1]) #prints the second item in tuple"
   ]
  },
  {
   "cell_type": "code",
   "execution_count": 212,
   "id": "1e07c9a6-d522-44a3-ae57-fa09acfa1f41",
   "metadata": {},
   "outputs": [
    {
     "name": "stdout",
     "output_type": "stream",
     "text": [
      "Help on class tuple in module builtins:\n",
      "\n",
      "class tuple(object)\n",
      " |  tuple() -> empty tuple\n",
      " |  tuple(iterable) -> tuple initialized from iterable's items\n",
      " |  \n",
      " |  If the argument is a tuple, the return value is the same object.\n",
      " |  \n",
      " |  Methods defined here:\n",
      " |  \n",
      " |  __add__(self, value, /)\n",
      " |      Return self+value.\n",
      " |  \n",
      " |  __contains__(self, key, /)\n",
      " |      Return key in self.\n",
      " |  \n",
      " |  __eq__(self, value, /)\n",
      " |      Return self==value.\n",
      " |  \n",
      " |  __ge__(self, value, /)\n",
      " |      Return self>=value.\n",
      " |  \n",
      " |  __getattribute__(self, name, /)\n",
      " |      Return getattr(self, name).\n",
      " |  \n",
      " |  __getitem__(self, key, /)\n",
      " |      Return self[key].\n",
      " |  \n",
      " |  __getnewargs__(...)\n",
      " |  \n",
      " |  __gt__(self, value, /)\n",
      " |      Return self>value.\n",
      " |  \n",
      " |  __hash__(self, /)\n",
      " |      Return hash(self).\n",
      " |  \n",
      " |  __iter__(self, /)\n",
      " |      Implement iter(self).\n",
      " |  \n",
      " |  __le__(self, value, /)\n",
      " |      Return self<=value.\n",
      " |  \n",
      " |  __len__(self, /)\n",
      " |      Return len(self).\n",
      " |  \n",
      " |  __lt__(self, value, /)\n",
      " |      Return self<value.\n",
      " |  \n",
      " |  __mul__(self, value, /)\n",
      " |      Return self*value.\n",
      " |  \n",
      " |  __ne__(self, value, /)\n",
      " |      Return self!=value.\n",
      " |  \n",
      " |  __new__(*args, **kwargs) from builtins.type\n",
      " |      Create and return a new object.  See help(type) for accurate signature.\n",
      " |  \n",
      " |  __repr__(self, /)\n",
      " |      Return repr(self).\n",
      " |  \n",
      " |  __rmul__(self, value, /)\n",
      " |      Return value*self.\n",
      " |  \n",
      " |  count(...)\n",
      " |      T.count(value) -> integer -- return number of occurrences of value\n",
      " |  \n",
      " |  index(...)\n",
      " |      T.index(value, [start, [stop]]) -> integer -- return first index of value.\n",
      " |      Raises ValueError if the value is not present.\n",
      "\n"
     ]
    }
   ],
   "source": [
    "help(tuple)"
   ]
  },
  {
   "cell_type": "code",
   "execution_count": 241,
   "id": "d9300b33-8663-4024-8047-1449f1c55992",
   "metadata": {},
   "outputs": [
    {
     "ename": "TypeError",
     "evalue": "'tuple' object does not support item assignment",
     "output_type": "error",
     "traceback": [
      "\u001b[0;31m---------------------------------------------------------------------------\u001b[0m",
      "\u001b[0;31mTypeError\u001b[0m                                 Traceback (most recent call last)",
      "\u001b[0;32m<ipython-input-241-b28d801173cc>\u001b[0m in \u001b[0;36m<module>\u001b[0;34m\u001b[0m\n\u001b[1;32m      1\u001b[0m \u001b[0;31m#tuple\u001b[0m\u001b[0;34m\u001b[0m\u001b[0;34m\u001b[0m\u001b[0;34m\u001b[0m\u001b[0m\n\u001b[1;32m      2\u001b[0m \u001b[0mfav_fruits_t\u001b[0m \u001b[0;34m=\u001b[0m \u001b[0mtuple\u001b[0m\u001b[0;34m(\u001b[0m\u001b[0;34m(\u001b[0m\u001b[0;34m\"strawberry\"\u001b[0m\u001b[0;34m,\u001b[0m \u001b[0;34m\"durian\"\u001b[0m\u001b[0;34m,\u001b[0m \u001b[0;34m\"tangerine\"\u001b[0m\u001b[0;34m,\u001b[0m \u001b[0;34m\"strawberry\"\u001b[0m\u001b[0;34m)\u001b[0m\u001b[0;34m)\u001b[0m\u001b[0;34m\u001b[0m\u001b[0;34m\u001b[0m\u001b[0m\n\u001b[0;32m----> 3\u001b[0;31m \u001b[0mfav_fruits_t\u001b[0m\u001b[0;34m[\u001b[0m\u001b[0;36m0\u001b[0m\u001b[0;34m]\u001b[0m \u001b[0;34m=\u001b[0m \u001b[0;34m\"blueberry\"\u001b[0m\u001b[0;34m\u001b[0m\u001b[0;34m\u001b[0m\u001b[0m\n\u001b[0m\u001b[1;32m      4\u001b[0m \u001b[0mfav_fruits_t\u001b[0m\u001b[0;34m\u001b[0m\u001b[0;34m\u001b[0m\u001b[0m\n",
      "\u001b[0;31mTypeError\u001b[0m: 'tuple' object does not support item assignment"
     ]
    }
   ],
   "source": [
    "#tuple\n",
    "fav_fruits_t = tuple(\"strawberry\", \"durian\", \"tangerine\", \"strawberry\")\n",
    "fav_fruits_t[0] = \"blueberry\"\n",
    "fav_fruits_t"
   ]
  },
  {
   "cell_type": "code",
   "execution_count": 224,
   "id": "b55dc118-2b00-4afb-9022-c4dceb492964",
   "metadata": {},
   "outputs": [
    {
     "data": {
      "text/plain": [
       "2"
      ]
     },
     "execution_count": 224,
     "metadata": {},
     "output_type": "execute_result"
    }
   ],
   "source": [
    "#list \n",
    "fav_fruits_l = [\"strawberry\", \"durian\", \"tangerine\", \"strawberry\"]\n",
    "fav_fruits_l.count(\"strawberry\")\n"
   ]
  },
  {
   "cell_type": "code",
   "execution_count": 223,
   "id": "d0eb15c6-0170-4520-a9db-973a3606a08f",
   "metadata": {},
   "outputs": [
    {
     "data": {
      "text/plain": [
       "1"
      ]
     },
     "execution_count": 223,
     "metadata": {},
     "output_type": "execute_result"
    }
   ],
   "source": [
    "tuple_sample = (\"yellow\", \"green\", \"magenta\", \"cyan\", \"cyan\")\n",
    "tuple_sample.count(\"yellow\")"
   ]
  },
  {
   "cell_type": "code",
   "execution_count": 225,
   "id": "5a88e643-d18f-4632-8600-02f50a8ba3e1",
   "metadata": {},
   "outputs": [
    {
     "data": {
      "text/plain": [
       "['blueberry', 'durian', 'tangerine', 'strawberry']"
      ]
     },
     "execution_count": 225,
     "metadata": {},
     "output_type": "execute_result"
    }
   ],
   "source": [
    "fav_fruits_l[0] = \"blueberry\"\n",
    "fav_fruits_l"
   ]
  },
  {
   "cell_type": "markdown",
   "id": "eaa6c2f6-817e-4b70-b29e-13c89adb0654",
   "metadata": {},
   "source": [
    "# PART 8: Sets\n",
    "    unordered, \n",
    "    immutable, \n",
    "    do not allow duplicate values\n",
    "    \n",
    "So maybe use sets for when you need uniqueness for the elements?"
   ]
  },
  {
   "cell_type": "code",
   "execution_count": 235,
   "id": "730d2b1b-b108-45e0-a5f9-9f88baa98a20",
   "metadata": {},
   "outputs": [
    {
     "name": "stdout",
     "output_type": "stream",
     "text": [
      "set: {'tangerine', 'strawberry', 'starfruit', 'durian'}, type: <class 'set'>\n"
     ]
    }
   ],
   "source": [
    "fav_fruits_s = {\"strawberry\", \"durian\", \"tangerine\", \"starfruit\"}\n",
    "print('set: {}, type: {}'.format(fav_fruits_s, type(fav_fruits_s)))\n"
   ]
  },
  {
   "cell_type": "code",
   "execution_count": 233,
   "id": "332e3029-e099-42de-99b2-4c3d594b3ddd",
   "metadata": {},
   "outputs": [
    {
     "ename": "TypeError",
     "evalue": "'set' object does not support indexing",
     "output_type": "error",
     "traceback": [
      "\u001b[0;31m---------------------------------------------------------------------------\u001b[0m",
      "\u001b[0;31mTypeError\u001b[0m                                 Traceback (most recent call last)",
      "\u001b[0;32m<ipython-input-233-9d4f866d557b>\u001b[0m in \u001b[0;36m<module>\u001b[0;34m\u001b[0m\n\u001b[0;32m----> 1\u001b[0;31m \u001b[0mprint\u001b[0m\u001b[0;34m(\u001b[0m\u001b[0mfav_fruits_s\u001b[0m\u001b[0;34m[\u001b[0m\u001b[0;36m1\u001b[0m\u001b[0;34m]\u001b[0m\u001b[0;34m)\u001b[0m\u001b[0;34m\u001b[0m\u001b[0;34m\u001b[0m\u001b[0m\n\u001b[0m",
      "\u001b[0;31mTypeError\u001b[0m: 'set' object does not support indexing"
     ]
    }
   ],
   "source": [
    "print(fav_fruits_s[1])"
   ]
  },
  {
   "cell_type": "code",
   "execution_count": 236,
   "id": "5c06a43e-e4f7-4abb-be27-2349da3df7a9",
   "metadata": {},
   "outputs": [
    {
     "ename": "AttributeError",
     "evalue": "'set' object has no attribute 'count'",
     "output_type": "error",
     "traceback": [
      "\u001b[0;31m---------------------------------------------------------------------------\u001b[0m",
      "\u001b[0;31mAttributeError\u001b[0m                            Traceback (most recent call last)",
      "\u001b[0;32m<ipython-input-236-b0f2d78f6af2>\u001b[0m in \u001b[0;36m<module>\u001b[0;34m\u001b[0m\n\u001b[1;32m      1\u001b[0m \u001b[0mfav_fruits_s\u001b[0m \u001b[0;34m=\u001b[0m \u001b[0;34m{\u001b[0m\u001b[0;34m\"strawberry\"\u001b[0m\u001b[0;34m,\u001b[0m \u001b[0;34m\"durian\"\u001b[0m\u001b[0;34m,\u001b[0m \u001b[0;34m\"tangerine\"\u001b[0m\u001b[0;34m,\u001b[0m \u001b[0;34m\"strawberry\"\u001b[0m\u001b[0;34m}\u001b[0m\u001b[0;34m\u001b[0m\u001b[0;34m\u001b[0m\u001b[0m\n\u001b[0;32m----> 2\u001b[0;31m \u001b[0mfav_fruits_s\u001b[0m\u001b[0;34m.\u001b[0m\u001b[0mcount\u001b[0m\u001b[0;34m(\u001b[0m\u001b[0;34m\"strawberry\"\u001b[0m\u001b[0;34m)\u001b[0m\u001b[0;34m\u001b[0m\u001b[0;34m\u001b[0m\u001b[0m\n\u001b[0m",
      "\u001b[0;31mAttributeError\u001b[0m: 'set' object has no attribute 'count'"
     ]
    }
   ],
   "source": [
    "fav_fruits_s = {\"strawberry\", \"durian\", \"tangerine\", \"strawberry\"}\n",
    "fav_fruits_s.count(\"strawberry\")"
   ]
  },
  {
   "cell_type": "code",
   "execution_count": 237,
   "id": "31d5cd3f-d3bb-42d4-bb29-0f3e10f81be5",
   "metadata": {},
   "outputs": [
    {
     "name": "stdout",
     "output_type": "stream",
     "text": [
      "Help on class set in module builtins:\n",
      "\n",
      "class set(object)\n",
      " |  set() -> new empty set object\n",
      " |  set(iterable) -> new set object\n",
      " |  \n",
      " |  Build an unordered collection of unique elements.\n",
      " |  \n",
      " |  Methods defined here:\n",
      " |  \n",
      " |  __and__(self, value, /)\n",
      " |      Return self&value.\n",
      " |  \n",
      " |  __contains__(...)\n",
      " |      x.__contains__(y) <==> y in x.\n",
      " |  \n",
      " |  __eq__(self, value, /)\n",
      " |      Return self==value.\n",
      " |  \n",
      " |  __ge__(self, value, /)\n",
      " |      Return self>=value.\n",
      " |  \n",
      " |  __getattribute__(self, name, /)\n",
      " |      Return getattr(self, name).\n",
      " |  \n",
      " |  __gt__(self, value, /)\n",
      " |      Return self>value.\n",
      " |  \n",
      " |  __iand__(self, value, /)\n",
      " |      Return self&=value.\n",
      " |  \n",
      " |  __init__(self, /, *args, **kwargs)\n",
      " |      Initialize self.  See help(type(self)) for accurate signature.\n",
      " |  \n",
      " |  __ior__(self, value, /)\n",
      " |      Return self|=value.\n",
      " |  \n",
      " |  __isub__(self, value, /)\n",
      " |      Return self-=value.\n",
      " |  \n",
      " |  __iter__(self, /)\n",
      " |      Implement iter(self).\n",
      " |  \n",
      " |  __ixor__(self, value, /)\n",
      " |      Return self^=value.\n",
      " |  \n",
      " |  __le__(self, value, /)\n",
      " |      Return self<=value.\n",
      " |  \n",
      " |  __len__(self, /)\n",
      " |      Return len(self).\n",
      " |  \n",
      " |  __lt__(self, value, /)\n",
      " |      Return self<value.\n",
      " |  \n",
      " |  __ne__(self, value, /)\n",
      " |      Return self!=value.\n",
      " |  \n",
      " |  __new__(*args, **kwargs) from builtins.type\n",
      " |      Create and return a new object.  See help(type) for accurate signature.\n",
      " |  \n",
      " |  __or__(self, value, /)\n",
      " |      Return self|value.\n",
      " |  \n",
      " |  __rand__(self, value, /)\n",
      " |      Return value&self.\n",
      " |  \n",
      " |  __reduce__(...)\n",
      " |      Return state information for pickling.\n",
      " |  \n",
      " |  __repr__(self, /)\n",
      " |      Return repr(self).\n",
      " |  \n",
      " |  __ror__(self, value, /)\n",
      " |      Return value|self.\n",
      " |  \n",
      " |  __rsub__(self, value, /)\n",
      " |      Return value-self.\n",
      " |  \n",
      " |  __rxor__(self, value, /)\n",
      " |      Return value^self.\n",
      " |  \n",
      " |  __sizeof__(...)\n",
      " |      S.__sizeof__() -> size of S in memory, in bytes\n",
      " |  \n",
      " |  __sub__(self, value, /)\n",
      " |      Return self-value.\n",
      " |  \n",
      " |  __xor__(self, value, /)\n",
      " |      Return self^value.\n",
      " |  \n",
      " |  add(...)\n",
      " |      Add an element to a set.\n",
      " |      \n",
      " |      This has no effect if the element is already present.\n",
      " |  \n",
      " |  clear(...)\n",
      " |      Remove all elements from this set.\n",
      " |  \n",
      " |  copy(...)\n",
      " |      Return a shallow copy of a set.\n",
      " |  \n",
      " |  difference(...)\n",
      " |      Return the difference of two or more sets as a new set.\n",
      " |      \n",
      " |      (i.e. all elements that are in this set but not the others.)\n",
      " |  \n",
      " |  difference_update(...)\n",
      " |      Remove all elements of another set from this set.\n",
      " |  \n",
      " |  discard(...)\n",
      " |      Remove an element from a set if it is a member.\n",
      " |      \n",
      " |      If the element is not a member, do nothing.\n",
      " |  \n",
      " |  intersection(...)\n",
      " |      Return the intersection of two sets as a new set.\n",
      " |      \n",
      " |      (i.e. all elements that are in both sets.)\n",
      " |  \n",
      " |  intersection_update(...)\n",
      " |      Update a set with the intersection of itself and another.\n",
      " |  \n",
      " |  isdisjoint(...)\n",
      " |      Return True if two sets have a null intersection.\n",
      " |  \n",
      " |  issubset(...)\n",
      " |      Report whether another set contains this set.\n",
      " |  \n",
      " |  issuperset(...)\n",
      " |      Report whether this set contains another set.\n",
      " |  \n",
      " |  pop(...)\n",
      " |      Remove and return an arbitrary set element.\n",
      " |      Raises KeyError if the set is empty.\n",
      " |  \n",
      " |  remove(...)\n",
      " |      Remove an element from a set; it must be a member.\n",
      " |      \n",
      " |      If the element is not a member, raise a KeyError.\n",
      " |  \n",
      " |  symmetric_difference(...)\n",
      " |      Return the symmetric difference of two sets as a new set.\n",
      " |      \n",
      " |      (i.e. all elements that are in exactly one of the sets.)\n",
      " |  \n",
      " |  symmetric_difference_update(...)\n",
      " |      Update a set with the symmetric difference of itself and another.\n",
      " |  \n",
      " |  union(...)\n",
      " |      Return the union of sets as a new set.\n",
      " |      \n",
      " |      (i.e. all elements that are in either set.)\n",
      " |  \n",
      " |  update(...)\n",
      " |      Update a set with the union of itself and others.\n",
      " |  \n",
      " |  ----------------------------------------------------------------------\n",
      " |  Data and other attributes defined here:\n",
      " |  \n",
      " |  __hash__ = None\n",
      "\n"
     ]
    }
   ],
   "source": [
    "help(set)"
   ]
  },
  {
   "cell_type": "code",
   "execution_count": 238,
   "id": "2cfd1275-dcd2-46fd-8782-bda62241ded6",
   "metadata": {},
   "outputs": [
    {
     "name": "stdout",
     "output_type": "stream",
     "text": [
      "{False, 'abcd', 40, 'female', 15}\n"
     ]
    }
   ],
   "source": [
    "set1 = {\"abcd\", 15, False, 40, \"female\"} #can contain string, integer, boolean all together\n",
    "print(set1) #unordered, so can not be indexed"
   ]
  },
  {
   "cell_type": "code",
   "execution_count": 239,
   "id": "7676e51c-f2ca-4724-b776-0b565eae69dd",
   "metadata": {},
   "outputs": [
    {
     "ename": "TypeError",
     "evalue": "set expected at most 1 arguments, got 5",
     "output_type": "error",
     "traceback": [
      "\u001b[0;31m---------------------------------------------------------------------------\u001b[0m",
      "\u001b[0;31mTypeError\u001b[0m                                 Traceback (most recent call last)",
      "\u001b[0;32m<ipython-input-239-2f514f4795ee>\u001b[0m in \u001b[0;36m<module>\u001b[0;34m\u001b[0m\n\u001b[1;32m      1\u001b[0m \u001b[0;31m# we can use set constructor\u001b[0m\u001b[0;34m\u001b[0m\u001b[0;34m\u001b[0m\u001b[0;34m\u001b[0m\u001b[0m\n\u001b[1;32m      2\u001b[0m \u001b[0;34m\u001b[0m\u001b[0m\n\u001b[0;32m----> 3\u001b[0;31m \u001b[0mset1\u001b[0m \u001b[0;34m=\u001b[0m \u001b[0mset\u001b[0m\u001b[0;34m(\u001b[0m\u001b[0;34m\"abcd\"\u001b[0m\u001b[0;34m,\u001b[0m \u001b[0;36m15\u001b[0m\u001b[0;34m,\u001b[0m \u001b[0;32mFalse\u001b[0m\u001b[0;34m,\u001b[0m \u001b[0;36m40\u001b[0m\u001b[0;34m,\u001b[0m \u001b[0;34m\"female\"\u001b[0m\u001b[0;34m)\u001b[0m \u001b[0;31m# will error out\u001b[0m\u001b[0;34m\u001b[0m\u001b[0;34m\u001b[0m\u001b[0m\n\u001b[0m\u001b[1;32m      4\u001b[0m \u001b[0mprint\u001b[0m\u001b[0;34m(\u001b[0m\u001b[0mset1\u001b[0m\u001b[0;34m)\u001b[0m\u001b[0;34m\u001b[0m\u001b[0;34m\u001b[0m\u001b[0m\n",
      "\u001b[0;31mTypeError\u001b[0m: set expected at most 1 arguments, got 5"
     ]
    }
   ],
   "source": [
    "# we can use set constructor\n",
    "\n",
    "set1 = set(\"abcd\", 15, False, 40, \"female\") # will error out\n",
    "print(set1)"
   ]
  },
  {
   "cell_type": "code",
   "execution_count": 240,
   "id": "ac55d703-18b0-47c4-9a3d-3ce5be6d8e74",
   "metadata": {},
   "outputs": [
    {
     "name": "stdout",
     "output_type": "stream",
     "text": [
      "{False, 'abcd', 40, 'female', 15}\n"
     ]
    }
   ],
   "source": [
    "set1 = set((\"abcd\", 15, False, 40, \"female\"))\n",
    "print(set1)"
   ]
  },
  {
   "cell_type": "markdown",
   "id": "ef8dc40b-fd93-4b08-aa43-263cf74de22f",
   "metadata": {},
   "source": [
    "# PART 9: [Classes](https://docs.python.org/3/tutorial/classes.html)"
   ]
  },
  {
   "cell_type": "markdown",
   "id": "80315e49-c017-4af0-b628-189d3130f66e",
   "metadata": {},
   "source": [
    "A class is a structure in Python that can be used as a blueprint to create objects that have\n",
    "\n",
    "   \n",
    "    1- Methods (functions) that belong to objects of the class.\n",
    "    2- Instance variables referring to data.\n",
    "    3- A special method called a constructor. This method will be called automatically whenever a new object of the class is created, and must have the name __init__.\n",
    "\n"
   ]
  },
  {
   "cell_type": "code",
   "execution_count": null,
   "id": "9f09884c-1c11-4180-8762-bb3ebf27a2e9",
   "metadata": {
    "tags": []
   },
   "outputs": [],
   "source": [
    "help(str)"
   ]
  },
  {
   "cell_type": "code",
   "execution_count": 250,
   "id": "9512cb12-7379-481d-b892-c039080b9fc4",
   "metadata": {},
   "outputs": [],
   "source": [
    "# let's create a class in python\n",
    "\n",
    "class Student():\n",
    "    name = None\n",
    "    grade = None\n",
    "    age = None\n",
    "    def __init__(self, name, age, grade):\n",
    "        '''initializes data in the student object'''\n",
    "        self.name = name\n",
    "        self.age = age\n",
    "        self.grade = grade\n",
    "\n",
    "    def print(self):\n",
    "        '''prints info about self'''\n",
    "        print(self.str())        \n",
    "\n",
    "    def str(self):\n",
    "        '''return string format of the data in the object'''\n",
    "        out = 'name:'+self.name+'\\n'\n",
    "        out+= 'age:'+str(self.age)+'\\n'\n",
    "        out+= 'grade:'+str(self.grade)+'\\n'\n",
    "        return out\n",
    "\n",
    "Sam = Student('Sam',13,'A++')"
   ]
  },
  {
   "cell_type": "code",
   "execution_count": 251,
   "id": "5cc42d2d-2e49-48a3-b9ee-267b7633065b",
   "metadata": {},
   "outputs": [
    {
     "data": {
      "text/plain": [
       "'name:Sam\\nage:13\\ngrade:A++\\n'"
      ]
     },
     "execution_count": 251,
     "metadata": {},
     "output_type": "execute_result"
    }
   ],
   "source": [
    "s = Sam.str()\n",
    "s"
   ]
  },
  {
   "cell_type": "code",
   "execution_count": 252,
   "id": "c6c8bbfd-e20c-4782-93f1-9c47f06266fe",
   "metadata": {},
   "outputs": [
    {
     "name": "stdout",
     "output_type": "stream",
     "text": [
      "name:Sam\n",
      "age:13\n",
      "grade:A++\n",
      "\n"
     ]
    }
   ],
   "source": [
    "Sam.print()"
   ]
  },
  {
   "cell_type": "code",
   "execution_count": 253,
   "id": "6741854d-3ee8-48d3-be87-297ef9800d7e",
   "metadata": {},
   "outputs": [
    {
     "name": "stdout",
     "output_type": "stream",
     "text": [
      "Help on Student in module __main__ object:\n",
      "\n",
      "class Student(builtins.object)\n",
      " |  Methods defined here:\n",
      " |  \n",
      " |  __init__(self, name, age, grade)\n",
      " |      initializes data in the student object\n",
      " |  \n",
      " |  print(self)\n",
      " |      prints info about self\n",
      " |  \n",
      " |  str(self)\n",
      " |      return string format of the data in the object\n",
      " |  \n",
      " |  ----------------------------------------------------------------------\n",
      " |  Data descriptors defined here:\n",
      " |  \n",
      " |  __dict__\n",
      " |      dictionary for instance variables (if defined)\n",
      " |  \n",
      " |  __weakref__\n",
      " |      list of weak references to the object (if defined)\n",
      " |  \n",
      " |  ----------------------------------------------------------------------\n",
      " |  Data and other attributes defined here:\n",
      " |  \n",
      " |  age = None\n",
      " |  \n",
      " |  grade = None\n",
      " |  \n",
      " |  name = None\n",
      "\n"
     ]
    }
   ],
   "source": [
    "help(Sam)"
   ]
  },
  {
   "cell_type": "markdown",
   "id": "25d83927-0b9e-4985-a85d-7591a8dcfbb3",
   "metadata": {},
   "source": [
    "#### Let's define a class called Gene\n",
    "\n",
    "each Gene object will have (1) an id (string) and (2) a sequence (also a string). \n",
    "\n",
    "We want to define a class called Gene (class names begin with a capital letter), where each Gene object will have (1) an id (string) and (2) a sequence (also a string). When creating a Gene object, we should define its id and sequence by passing them as parameters to the __init__ method.\n",
    "\n",
    "    class Gene:\n",
    "        def __init__(self, args[, ...])\n",
    "        #more code\n",
    "\n",
    "so it would look like this:\n",
    "\n",
    "    class Gene:\n",
    "        def __init__(self, gene_id, gene_seq):\n",
    "            self.id  = gene_id\n",
    "            self.sequence = gene_seq\n",
    "        "
   ]
  },
  {
   "cell_type": "markdown",
   "id": "3ad03c6a-72fc-4d90-8e9f-441f1c73d1ed",
   "metadata": {},
   "source": [
    "Use the __init__() function to assign values for gene_id and gene_seq\n",
    "\n",
    "The arguments of __init__ are required input when creating a new instance of this class, except for 'self'."
   ]
  },
  {
   "cell_type": "code",
   "execution_count": 260,
   "id": "2dd68a57-6b4a-4f68-8b21-e0360e64b80f",
   "metadata": {},
   "outputs": [
    {
     "name": "stdout",
     "output_type": "stream",
     "text": [
      "gi_788876969750\n",
      "GCGCTGATGCGTGATGCTCC\n"
     ]
    }
   ],
   "source": [
    "# create the Gene class below\n",
    "class Gene:\n",
    "    def __init__(self, gene_id, gene_seq, gene_name):\n",
    "        self.gene_id  = gene_id\n",
    "        self.gene_seq = gene_seq\n",
    "        self.gene_name = gene_name\n",
    "    \n",
    "    def print_id(self):\n",
    "        print('my ID is: ', str(self.id))\n",
    "        \n",
    "    def print_length(self):\n",
    "        print('my length is', str(len(self.gene_seq)))\n",
    "\n",
    "a = Gene(\"gi_788876969750\", \"GCGCTGATGCGTGATGCTCC\", \"COI\")\n",
    "print(a.gene_id)\n",
    "print(a.gene_seq)"
   ]
  },
  {
   "cell_type": "markdown",
   "id": "92dfa926-7348-4462-a2fd-bf274a88695f",
   "metadata": {},
   "source": [
    "The __init__() function is called automatically every time the class is being used to create a new object."
   ]
  },
  {
   "cell_type": "code",
   "execution_count": 263,
   "id": "12e2b8d6-a6f8-42fb-b1af-514b53dfdd1e",
   "metadata": {},
   "outputs": [
    {
     "name": "stdout",
     "output_type": "stream",
     "text": [
      "<__main__.Gene object at 0x7f9ad065e710>\n",
      "gi_788876969750\n",
      "gacttttacc\n",
      "COI\n"
     ]
    }
   ],
   "source": [
    "gene1 = Gene(\"gi_788876969750\", \"gacttttacc\", \"COI\")\n",
    "print(gene1)\n",
    "print(gene1.gene_id)\n",
    "print(gene1.gene_seq)\n",
    "print(gene1.gene_name)"
   ]
  },
  {
   "cell_type": "markdown",
   "id": "3c55f2b7-aeeb-48d8-bb98-3b8321629429",
   "metadata": {},
   "source": [
    "### [Class and instance variables](https://docs.python.org/3/tutorial/classes.html#class-and-instance-variables)\n",
    "\n",
    "Instance variables are for data unique to each instance and class variables are for attributes and methods shared by all instances of the class:"
   ]
  },
  {
   "attachments": {
    "10fca30c-3a23-46c2-baf9-c5c51ee4996f.png": {
     "image/png": "[encoded data removed]"
    }
   },
   "cell_type": "markdown",
   "id": "e5fb6f76-aadb-47a9-9928-bda21932a360",
   "metadata": {},
   "source": [
    "![image.png](attachment:10fca30c-3a23-46c2-baf9-c5c51ee4996f.png)"
   ]
  },
  {
   "cell_type": "markdown",
   "id": "9e33ce9d-21d1-4e72-9d55-ed06128bfcfb",
   "metadata": {},
   "source": [
    "\n",
    "### Object Methods\n",
    "\n",
    "Objects can also contain methods. Methods in objects are functions that belong to the object.\n",
    "\n",
    "For example, in the case of our 'Gene' class, we may want to check the base composition or GC content of a given sequence. Let us create a method in the Gene class:\n",
    "\n",
    "Note that each method takes 'self' as an argument along with the arguments required when calling this method.\n"
   ]
  },
  {
   "cell_type": "code",
   "execution_count": 266,
   "id": "4d1b8025-31f7-46d1-a317-091030b09cee",
   "metadata": {},
   "outputs": [
    {
     "name": "stdout",
     "output_type": "stream",
     "text": [
      "geneA: <__main__.Gene object at 0x7f9ad0663c88>, type; <class '__main__.Gene'>\n",
      "geneA T base content:  2\n",
      "geneA GC content:  0.3333333333333333\n"
     ]
    }
   ],
   "source": [
    "class Gene:\n",
    "    def __init__(self, gene_id, gene_seq):\n",
    "        self.gene_id  = gene_id\n",
    "        self.gene_seq = gene_seq\n",
    "    \n",
    "    def base_composition(self, base):\n",
    "        count_base = 0\n",
    "        for i in range(0, len(self.gene_seq)):\n",
    "            base_i = self.gene_seq[i]\n",
    "            if base_i == base:\n",
    "                count_base += 1\n",
    "        return count_base\n",
    "    \n",
    "    def gc_content(self):\n",
    "        g_count = self.base_composition(\"G\") + self.base_composition(\"g\") \n",
    "        c_count = self.base_composition(\"C\") + self.base_composition(\"c\") \n",
    "        return (g_count + c_count) /float(len(self.gene_seq))\n",
    "        \n",
    "#creating an object\n",
    "geneA = Gene(\"AY342\", \"CATttTGAC\")\n",
    "print('geneA: {}, type; {}'.format(geneA, type(geneA)))\n",
    "\n",
    "geneA_t = geneA.base_composition(\"T\") + geneA.base_composition(\"t\")\n",
    "print('geneA T base content: ', geneA_t)\n",
    "\n",
    "geneA_gc = geneA.gc_content()\n",
    "print('geneA GC content: ', geneA_gc)"
   ]
  },
  {
   "cell_type": "markdown",
   "id": "bfde4589-e88d-4591-a63b-c14359560d78",
   "metadata": {},
   "source": [
    "The self parameter is a reference to the current instance of the class, and is used to access variables that belong to the class. It does not have to be named self , you can call it anything you want, but it has to be the first parameter of any function in the class."
   ]
  },
  {
   "cell_type": "code",
   "execution_count": null,
   "id": "636a564f-709f-4629-89f2-7b9b76c8cbfd",
   "metadata": {},
   "outputs": [],
   "source": [
    "help(Gene)"
   ]
  },
  {
   "cell_type": "code",
   "execution_count": 267,
   "id": "6c029ed8-105a-4839-9731-565391c1d9ef",
   "metadata": {},
   "outputs": [
    {
     "name": "stdout",
     "output_type": "stream",
     "text": [
      "geneTH134 GC content:  0.4\n",
      "geneTH134 T base content:  4\n"
     ]
    }
   ],
   "source": [
    "# let's create some new genes named TH134 (COI_gene_midge)\n",
    "\n",
    "TH134 = Gene('TH134', 'gacttttacc') \n",
    "\n",
    "geneTH134_gc = TH134.gc_content()\n",
    "print('geneTH134 GC content: ', geneTH134_gc)\n",
    "\n",
    "geneTH134_t = TH134.base_composition(\"T\") + TH134.base_composition(\"t\")\n",
    "print('geneTH134 T base content: ', geneTH134_t)"
   ]
  },
  {
   "cell_type": "code",
   "execution_count": null,
   "id": "ae12c09e-55b6-411e-b154-13e6d47a6c56",
   "metadata": {},
   "outputs": [],
   "source": [
    "TH134.sequence"
   ]
  },
  {
   "cell_type": "code",
   "execution_count": null,
   "id": "ead6ef57-f3d2-4c3a-ba28-8c51ea46b823",
   "metadata": {},
   "outputs": [],
   "source": [
    "TH134.id"
   ]
  },
  {
   "cell_type": "markdown",
   "id": "70c2c8d9-0b47-44e7-8441-9e541864af61",
   "metadata": {},
   "source": [
    "### When should you consider creating a class?\n",
    "\n",
    "    - When you have many different types of data for a similar concept, and you would like to keep them organized into single objects as instance variables.\n",
    "    - When you have many different functions for a similar concept, and you would like to keep them organized into single objects as methods.\n",
    "    - When you have a concept that is simple now, but you suspect might increase in complexity in the future as you add to it. Like functions, classes enable code to be reused, and it is easy to add new methods and instance variables to classes when needed.\n"
   ]
  },
  {
   "cell_type": "markdown",
   "id": "39630bcc-6d12-4851-8cbb-c0c43151220e",
   "metadata": {},
   "source": [
    "# PART 10: BONUS!\n",
    "\n",
    "## The importance of pointers in Python: What is the point?"
   ]
  },
  {
   "cell_type": "markdown",
   "id": "6a3bde22-3f1d-4e23-9fe0-5085cf7de176",
   "metadata": {},
   "source": [
    "So far, we have seen that everything in Python is indeed an object. Each object contains at least three pieces of data:\n",
    "\n",
    "    Reference point\n",
    "    Type\n",
    "    Value\n"
   ]
  },
  {
   "cell_type": "markdown",
   "id": "9227daaf-8b29-4156-a520-f22d75a68a4a",
   "metadata": {},
   "source": [
    "A variable does not point to a value in Python but points to the memory address of an object. For example, in our simple example x = 1 the variable x is pointing to a memory address that the integer object 1 is stored."
   ]
  },
  {
   "cell_type": "markdown",
   "id": "a808ffb5-7c4b-496d-907c-0892292cdd0d",
   "metadata": {},
   "source": [
    "# How do we find the memory address that the variable x points to?\n",
    "\n",
    "    id() returns the object’s memory address.\n",
    "    is returns True if and only if two objects have the same memory address.\n"
   ]
  },
  {
   "cell_type": "code",
   "execution_count": 268,
   "id": "c8d71eb4-9048-48d4-b74d-89a7eec50af0",
   "metadata": {},
   "outputs": [
    {
     "name": "stdout",
     "output_type": "stream",
     "text": [
      "address of x 140302900714952\n",
      "value of x {'val1': [1, 2, 3, 4, 5, 6, 7, 8, 9]}\n",
      "address of y 140308148680608\n",
      "value of y 1\n"
     ]
    }
   ],
   "source": [
    "# Create a dictionary and populate with elements\n",
    "x = {}\n",
    "x['val1'] = list(range(1,10))\n",
    "y = 1\n",
    "\n",
    "print('address of x', id(x))\n",
    "print('value of x', x)\n",
    "print('address of y', id(y))\n",
    "print('value of y', y)"
   ]
  },
  {
   "cell_type": "code",
   "execution_count": 269,
   "id": "c1ab90f9-9474-4c2b-9b60-061bb2081c2e",
   "metadata": {},
   "outputs": [
    {
     "name": "stdout",
     "output_type": "stream",
     "text": [
      "address of x 140302900714952\n",
      "value of x {'val1': [1, 2, 3, 4, 5, 6, 7, 8, 9]}\n",
      "address of val1 in dict x 140302900904968\n",
      "address of y 140302900904968\n",
      "value of y [1, 2, 3, 4, 5, 6, 7, 8, 9]\n"
     ]
    }
   ],
   "source": [
    "# reassign value to y\n",
    "# the way we do this is dangerous\n",
    "# because changing the underlying data will also change y's reference point\n",
    "\n",
    "y = x['val1']\n",
    "print('address of x', id(x))\n",
    "print('value of x', x)\n",
    "print('address of val1 in dict x', id(x['val1']))\n",
    "print('address of y', id(y))\n",
    "print('value of y', y)"
   ]
  },
  {
   "cell_type": "code",
   "execution_count": 271,
   "id": "67a970b4-34bd-4d81-8489-baede202f45f",
   "metadata": {},
   "outputs": [
    {
     "name": "stdout",
     "output_type": "stream",
     "text": [
      "address of x 140302900714952\n",
      "value of x {'val1': [1, 2, 99, 4, 5, 6, 7, 8, 9]}\n",
      "address of val1 in dict x 140302900904968\n",
      "address of y 140302900904968\n",
      "True\n",
      "value of y [1, 2, 99, 4, 5, 6, 7, 8, 9]\n"
     ]
    }
   ],
   "source": [
    "y[2] = 99 #let's change the value\n",
    "print('address of x', id(x))\n",
    "print('value of x', x)\n",
    "print('address of val1 in dict x', id(x['val1']))\n",
    "print('address of y', id(y)) # what happened to y's reference point?\n",
    "print(y == x['val1'])\n",
    "# the address is the location of the data in memory\n",
    "# that does not get changed unless you delete the variable and set it to a new one\n",
    "\n",
    "print('value of y', y) "
   ]
  },
  {
   "cell_type": "code",
   "execution_count": 277,
   "id": "01dfa396-525b-42f4-a371-13e038e624d2",
   "metadata": {},
   "outputs": [
    {
     "name": "stdout",
     "output_type": "stream",
     "text": [
      "address of x 140302900714952\n",
      "value of x {'val1': [1, 2, 3, 4, 5, 6, 7, 8, 9]}\n",
      "address of val1 in dict x 140302902870280\n",
      "address of y 140302901957512\n",
      "value of y [1, 2, 3, 4, 5, 6, 7, 8, 9]\n"
     ]
    }
   ],
   "source": [
    "x['val1'] = list(range(1,10))\n",
    "# y = x['val1'].copy()\n",
    "y = [i for i in x['val1']] #y is now initialized as a new array using list comprehension, and no longer depends on x\n",
    "print('address of x', id(x))\n",
    "print('value of x', x)\n",
    "print('address of val1 in dict x', id(x['val1']))\n",
    "print('address of y', id(y)) #now the address of y is independent of x\n",
    "print('value of y', y)"
   ]
  },
  {
   "cell_type": "code",
   "execution_count": 278,
   "id": "6045c2f2-e8ff-42b3-b68b-d023c496c508",
   "metadata": {},
   "outputs": [
    {
     "name": "stdout",
     "output_type": "stream",
     "text": [
      "address of x 140302900714952\n",
      "value of x {'val1': [1, 2, 3, 4, 5, 6, 7, 8, 9]}\n",
      "address of val1 in dict x 140302902870280\n",
      "address of y 140302901957512\n",
      "value of y [1, 2, 99, 4, 5, 6, 7, 8, 9]\n"
     ]
    }
   ],
   "source": [
    "y[2] = 99\n",
    "print('address of x', id(x))\n",
    "print('value of x', x)\n",
    "print('address of val1 in dict x', id(x['val1']))\n",
    "print('address of y', id(y))\n",
    "print('value of y', y)"
   ]
  },
  {
   "cell_type": "code",
   "execution_count": 173,
   "id": "664519c4-14a7-48e8-9a4c-1cb066080762",
   "metadata": {},
   "outputs": [],
   "source": [
    "# we wanted to actually initalize the variables david, brooke, and bilge with the values of x\n",
    "\n",
    "import pandas as pd\n",
    "x = [[None, None]]\n",
    "x = pd.DataFrame(x, columns=['gender','age'])\n",
    "[david, brooke, bilge] = [x, x, x] \n",
    "\n",
    "brooke.gender = 'female'\n",
    "brooke.age = 21\n",
    "bilge.gender = 'kadin'\n",
    "bilge.age = 50\n",
    "david.gender = 'male'\n",
    "david.age = 105"
   ]
  },
  {
   "cell_type": "markdown",
   "id": "5082e26e-01f5-4c2a-a11b-26f2b9e57174",
   "metadata": {},
   "source": [
    "# what is going on here?"
   ]
  },
  {
   "cell_type": "code",
   "execution_count": 174,
   "id": "6ea3c9dd-cc95-45cd-a7b8-0c481d251379",
   "metadata": {},
   "outputs": [
    {
     "name": "stdout",
     "output_type": "stream",
     "text": [
      "david\n",
      "  gender  age\n",
      "0   male  105\n",
      "brooke\n",
      "  gender  age\n",
      "0   male  105\n",
      "bilge\n",
      "  gender  age\n",
      "0   male  105\n"
     ]
    }
   ],
   "source": [
    "y = ['david', 'brooke', 'bilge']\n",
    "x = [david, brooke, bilge]\n",
    "for i in range(len(x)):\n",
    "    print(y[i])\n",
    "    print(x[i])"
   ]
  },
  {
   "cell_type": "code",
   "execution_count": null,
   "id": "05022bfb-dabc-496e-850c-79a942145e25",
   "metadata": {},
   "outputs": [],
   "source": [
    "print('memory address of david', id(david))\n",
    "print('memory address of brooke', id(brooke))\n",
    "print('memory address of bilge', id(bilge))"
   ]
  },
  {
   "cell_type": "code",
   "execution_count": null,
   "id": "0792b55c-1c99-4c3a-bf20-9d441ebcc0a9",
   "metadata": {},
   "outputs": [],
   "source": [
    "import pandas as pd\n",
    "x = [[None, None]]\n",
    "x = pd.DataFrame(x, columns=['gender','age'])\n",
    "# initialize with copies\n",
    "[david, brooke, bilge] = [x.copy(), x.copy(), x.copy()]\n",
    "\n",
    "david.gender = 'male'\n",
    "david.age = 43\n",
    "brooke.gender = 'female'\n",
    "brooke.age = 28\n",
    "bilge.gender = 'female'\n",
    "bilge.age = 79"
   ]
  },
  {
   "cell_type": "code",
   "execution_count": null,
   "id": "177e2362-be0e-4560-84d3-28b437b1c4cb",
   "metadata": {},
   "outputs": [],
   "source": [
    "y = ['david', 'brooke', 'bilge']\n",
    "x = [david, brooke, bilge]\n",
    "for i in range(len(x)):\n",
    "    print(y[i])\n",
    "    print(x[i])"
   ]
  },
  {
   "cell_type": "code",
   "execution_count": null,
   "id": "96b9a544-7c66-4826-8c2d-67fa077f9154",
   "metadata": {},
   "outputs": [],
   "source": [
    "print('memory address of david', id(david))\n",
    "print('memory address of brooke', id(brooke))\n",
    "print('memory address of bilge', id(bilge))"
   ]
  },
  {
   "cell_type": "code",
   "execution_count": null,
   "id": "f45f3c05-7db3-45a2-91ce-cc9fb8ba520e",
   "metadata": {},
   "outputs": [],
   "source": []
  }
 ],
 "metadata": {
  "kernelspec": {
   "display_name": "Python 3",
   "language": "python",
   "name": "python3"
  },
  "language_info": {
   "codemirror_mode": {
    "name": "ipython",
    "version": 3
   },
   "file_extension": ".py",
   "mimetype": "text/x-python",
   "name": "python",
   "nbconvert_exporter": "python",
   "pygments_lexer": "ipython3",
   "version": "3.6.8"
  }
 },
 "nbformat": 4,
 "nbformat_minor": 5
}
