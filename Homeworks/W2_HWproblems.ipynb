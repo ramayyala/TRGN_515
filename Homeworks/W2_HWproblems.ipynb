{
 "cells": [
  {
   "cell_type": "markdown",
   "id": "d3925da8-8bbe-4ae5-8096-ede3c68d7d1c",
   "metadata": {},
   "source": [
    "# W1-HW5\n",
    "\n",
    "get the squares of odd numbers in the given list.\n",
    "\n",
    "my_numbers = [1,3,5,7,9,12,19,21]\n",
    "\n",
    "steps in the algorithm:\n",
    "1. start for loop\n",
    "2. calculate the square of the numbers and print that as an output when the numbers are odd numbers "
   ]
  },
  {
   "cell_type": "markdown",
   "id": "potential-california",
   "metadata": {},
   "source": [
    "# W2-HW6: find the dinucleotides\n",
    "\n",
    "Write a function named \"count_dinucleotides\", which will take dna and pair as its two arguments, i.e., count_dinucleotides(dna,pair)\n",
    "\n",
    "The output should be the count of how many of the given dinucleotides are found in the dna string.\n",
    "\n",
    "Example: If the DNA sequence is 'ACTGCTATCCATT' and the pair is 'AT' the output should be 2. "
   ]
  },
  {
   "cell_type": "markdown",
   "id": "younger-bronze",
   "metadata": {},
   "source": [
    "# W2-HW7: convert codons to aminoacids\n",
    "\n",
    "Write a function called codon_to_aa() that takes in a single three-base-pair string and returns \n",
    "a one-character string with the corresponding amino acid code.\n",
    "\n",
    "You may need to define all 64 possibilities, so be careful not to make any typos! \n",
    "\n",
    "Here is a hint in case you want to use it: \n",
    "\n",
    "    dict_aa = {'ATA':'I', 'ATC':'I', 'ATT':'I', 'ATG':'M',\n",
    "        'ACA':'T', 'ACC':'T', 'ACG':'T', 'ACT':'T',\n",
    "        'AAC':'N', 'AAT':'N', 'AAA':'K', 'AAG':'K',\n",
    "        'AGC':'S', 'AGT':'S', 'AGA':'R', 'AGG':'R',                \n",
    "        'CTA':'L', 'CTC':'L', 'CTG':'L', 'CTT':'L',\n",
    "        'CCA':'P', 'CCC':'P', 'CCG':'P', 'CCT':'P',\n",
    "        'CAC':'H', 'CAT':'H', 'CAA':'Q', 'CAG':'Q',\n",
    "        'CGA':'R', 'CGC':'R', 'CGG':'R', 'CGT':'R',\n",
    "        'GTA':'V', 'GTC':'V', 'GTG':'V', 'GTT':'V',\n",
    "        'GCA':'A', 'GCC':'A', 'GCG':'A', 'GCT':'A',\n",
    "        'GAC':'D', 'GAT':'D', 'GAA':'E', 'GAG':'E',\n",
    "        'GGA':'G', 'GGC':'G', 'GGG':'G', 'GGT':'G',\n",
    "        'TCA':'S', 'TCC':'S', 'TCG':'S', 'TCT':'S',\n",
    "        'TTC':'F', 'TTT':'F', 'TTA':'L', 'TTG':'L',\n",
    "        'TAC':'Y', 'TAT':'Y', 'TAA':'_', 'TAG':'_',\n",
    "        'TGC':'C', 'TGT':'C', 'TGA':'_', 'TGG':'W'}\n",
    "\n",
    "If the input is not a valid three-base-pair DNA string, the function should return \"X\" to signify “unknown.” \n",
    "\n",
    "Test your function with a few calls like \n",
    "        \n",
    "        print(codon_to_aa(\"TCC\")), \n",
    "        print(codon_to_aa(\"GAA\")), \n",
    "        and print(codon_to_aa(\"BBB\")).\n"
   ]
  },
  {
   "cell_type": "markdown",
   "id": "997c33bc-b114-4271-84d8-cdb99dbab0e8",
   "metadata": {},
   "source": [
    "# W2-HW8: get substrings from a given string\n",
    "\n",
    "Write a program with a function called get_windows() that takes three parameters: \n",
    "\n",
    "    the sequence to extract windows from (string), \n",
    "    the window size (int), \n",
    "    and the step size (int). \n",
    "    \n",
    "The function should return a list of strings, one per window, with no “partial windows” \n",
    "if the last window would run off the end of the sequence.\n",
    "\n",
    "Then test your function for the following cases:\n",
    "\n",
    "    get_windows('AAACTGTCTCTA', 3, 2)\n",
    "    get_windows('AC', 4, 2)\n",
    "    get_windows('TCTCTATCGGACG', 2, 3)\n"
   ]
  },
  {
   "cell_type": "markdown",
   "id": "d8afb806-22d3-4e10-b8c2-ac798bfb3301",
   "metadata": {},
   "source": [
    "# W2-HW9: count kmers\n",
    "\n",
    "Use the get_windows() function to write a count_kmers() function; it should take two parameters (a DNA sequence and an integer) and return a dictionary of k-mers to count for those k-mers. \n",
    "\n",
    "For example, count_kmers(\"GGGCTGTCTCTA\", 3) should return a dictionary with keys \"GGG\", \"GGC\", \"GCT\", \"CTG\", \"TGT\", \"GTC\", \"TCT\", \"CTC\", \"CTA\" and corresponding values 1, 1, 1, 1, 1, 1, 2, 1, 1. \n"
   ]
  },
  {
   "cell_type": "markdown",
   "id": "pointed-introduction",
   "metadata": {},
   "source": [
    "# W2-HW10: Make the function stronger\n",
    "\n",
    "The below function works as is but if we provide anything other than A, T, G, C (nucleotide or not) the code will fail to run. Write another function namedcount_nucleotides2 to fix this issue. \n",
    "\n",
    "Hint: Remember if/else conditionals.\n"
   ]
  },
  {
   "cell_type": "code",
   "execution_count": 1,
   "id": "elegant-ancient",
   "metadata": {},
   "outputs": [],
   "source": [
    "#W2-HW10: \n",
    "\n",
    "#Hint: google IUPAC codes\n",
    "def count_nucleotides(dna):\n",
    "    counts = {'A': 0, 'T': 0, 'G': 0, 'C': 0, 'N': 0}\n",
    "    for base in dna:\n",
    "        counts[base] += 1\n",
    "    return counts"
   ]
  },
  {
   "cell_type": "code",
   "execution_count": null,
   "id": "9ee4f524-4d5f-4f28-ab8e-e9febe9417ad",
   "metadata": {},
   "outputs": [],
   "source": []
  }
 ],
 "metadata": {
  "kernelspec": {
   "display_name": "Python 3",
   "language": "python",
   "name": "python3"
  },
  "language_info": {
   "codemirror_mode": {
    "name": "ipython",
    "version": 3
   },
   "file_extension": ".py",
   "mimetype": "text/x-python",
   "name": "python",
   "nbconvert_exporter": "python",
   "pygments_lexer": "ipython3",
   "version": "3.6.8"
  }
 },
 "nbformat": 4,
 "nbformat_minor": 5
}
