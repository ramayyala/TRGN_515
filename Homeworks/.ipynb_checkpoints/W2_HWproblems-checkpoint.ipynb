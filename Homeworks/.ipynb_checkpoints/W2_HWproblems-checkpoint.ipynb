{
 "cells": [
  {
   "cell_type": "markdown",
   "id": "d3925da8-8bbe-4ae5-8096-ede3c68d7d1c",
   "metadata": {},
   "source": [
    "# W1-HW5\n",
    "\n",
    "get the squares of odd numbers in the given list.\n",
    "\n",
    "my_numbers = [1,3,5,7,9,12,19,21]\n",
    "\n",
    "steps in the algorithm:\n",
    "1. start for loop\n",
    "2. calculate the square of the numbers and print that as an output when the numbers are odd numbers "
   ]
  },
  {
   "cell_type": "code",
   "execution_count": 1,
   "id": "a480eae3",
   "metadata": {},
   "outputs": [
    {
     "name": "stdout",
     "output_type": "stream",
     "text": [
      "1\n",
      "9\n",
      "25\n",
      "49\n",
      "81\n",
      "361\n",
      "441\n"
     ]
    }
   ],
   "source": [
    "my_numbers = [1,3,5,7,9,12,19,21]\n",
    "for i in my_numbers:\n",
    "    if (i % 2) != 0:\n",
    "        print (i**2)"
   ]
  },
  {
   "cell_type": "markdown",
   "id": "potential-california",
   "metadata": {},
   "source": [
    "# W2-HW6: find the dinucleotides\n",
    "\n",
    "Write a function named \"count_dinucleotides\", which will take dna and pair as its two arguments, i.e., count_dinucleotides(dna,pair)\n",
    "\n",
    "The output should be the count of how many of the given dinucleotides are found in the dna string.\n",
    "\n",
    "Example: If the DNA sequence is 'ACTGCTATCCATT' and the pair is 'AT' the output should be 2. "
   ]
  },
  {
   "cell_type": "code",
   "execution_count": 2,
   "id": "99946b6b",
   "metadata": {},
   "outputs": [],
   "source": [
    "def count_dinucleotides(dna,pair):\n",
    "    output=dna.count(pair)\n",
    "    return output\n",
    "    "
   ]
  },
  {
   "cell_type": "code",
   "execution_count": 6,
   "id": "5607c7c0",
   "metadata": {},
   "outputs": [
    {
     "data": {
      "text/plain": [
       "2"
      ]
     },
     "execution_count": 6,
     "metadata": {},
     "output_type": "execute_result"
    }
   ],
   "source": [
    "count_dinucleotides(\"ACTGCTATCCATT\",\"AT\")"
   ]
  },
  {
   "cell_type": "markdown",
   "id": "younger-bronze",
   "metadata": {},
   "source": [
    "# W2-HW7: convert codons to aminoacids\n",
    "\n",
    "Write a function called codon_to_aa() that takes in a single three-base-pair string and returns \n",
    "a one-character string with the corresponding amino acid code.\n",
    "\n",
    "You may need to define all 64 possibilities, so be careful not to make any typos! \n",
    "\n",
    "Here is a hint in case you want to use it: \n",
    "\n",
    "    dict_aa = {'ATA':'I', 'ATC':'I', 'ATT':'I', 'ATG':'M',\n",
    "        'ACA':'T', 'ACC':'T', 'ACG':'T', 'ACT':'T',\n",
    "        'AAC':'N', 'AAT':'N', 'AAA':'K', 'AAG':'K',\n",
    "        'AGC':'S', 'AGT':'S', 'AGA':'R', 'AGG':'R',                \n",
    "        'CTA':'L', 'CTC':'L', 'CTG':'L', 'CTT':'L',\n",
    "        'CCA':'P', 'CCC':'P', 'CCG':'P', 'CCT':'P',\n",
    "        'CAC':'H', 'CAT':'H', 'CAA':'Q', 'CAG':'Q',\n",
    "        'CGA':'R', 'CGC':'R', 'CGG':'R', 'CGT':'R',\n",
    "        'GTA':'V', 'GTC':'V', 'GTG':'V', 'GTT':'V',\n",
    "        'GCA':'A', 'GCC':'A', 'GCG':'A', 'GCT':'A',\n",
    "        'GAC':'D', 'GAT':'D', 'GAA':'E', 'GAG':'E',\n",
    "        'GGA':'G', 'GGC':'G', 'GGG':'G', 'GGT':'G',\n",
    "        'TCA':'S', 'TCC':'S', 'TCG':'S', 'TCT':'S',\n",
    "        'TTC':'F', 'TTT':'F', 'TTA':'L', 'TTG':'L',\n",
    "        'TAC':'Y', 'TAT':'Y', 'TAA':'_', 'TAG':'_',\n",
    "        'TGC':'C', 'TGT':'C', 'TGA':'_', 'TGG':'W'}\n",
    "\n",
    "If the input is not a valid three-base-pair DNA string, the function should return \"X\" to signify “unknown.” \n",
    "\n",
    "Test your function with a few calls like \n",
    "        \n",
    "        print(codon_to_aa(\"TCC\")), \n",
    "        print(codon_to_aa(\"GAA\")), \n",
    "        and print(codon_to_aa(\"BBB\")).\n"
   ]
  },
  {
   "cell_type": "code",
   "execution_count": 16,
   "id": "68e34469",
   "metadata": {},
   "outputs": [],
   "source": [
    "def codon_to_aa(bp):\n",
    "    dict_aa = {'ATA':'I', 'ATC':'I', 'ATT':'I', 'ATG':'M',\n",
    "    'ACA':'T', 'ACC':'T', 'ACG':'T', 'ACT':'T',\n",
    "    'AAC':'N', 'AAT':'N', 'AAA':'K', 'AAG':'K',\n",
    "    'AGC':'S', 'AGT':'S', 'AGA':'R', 'AGG':'R',                \n",
    "    'CTA':'L', 'CTC':'L', 'CTG':'L', 'CTT':'L',\n",
    "    'CCA':'P', 'CCC':'P', 'CCG':'P', 'CCT':'P',\n",
    "    'CAC':'H', 'CAT':'H', 'CAA':'Q', 'CAG':'Q',\n",
    "    'CGA':'R', 'CGC':'R', 'CGG':'R', 'CGT':'R',\n",
    "    'GTA':'V', 'GTC':'V', 'GTG':'V', 'GTT':'V',\n",
    "    'GCA':'A', 'GCC':'A', 'GCG':'A', 'GCT':'A',\n",
    "    'GAC':'D', 'GAT':'D', 'GAA':'E', 'GAG':'E',\n",
    "    'GGA':'G', 'GGC':'G', 'GGG':'G', 'GGT':'G',\n",
    "    'TCA':'S', 'TCC':'S', 'TCG':'S', 'TCT':'S',\n",
    "    'TTC':'F', 'TTT':'F', 'TTA':'L', 'TTG':'L',\n",
    "    'TAC':'Y', 'TAT':'Y', 'TAA':'_', 'TAG':'_',\n",
    "    'TGC':'C', 'TGT':'C', 'TGA':'_', 'TGG':'W'}\n",
    "    if bp in dict_aa.keys():\n",
    "        print(dict_aa.get(bp))\n",
    "    else:\n",
    "        print (\"X\")\n",
    "        \n",
    "    \n",
    "    \n",
    "    "
   ]
  },
  {
   "cell_type": "code",
   "execution_count": 18,
   "id": "693c1671",
   "metadata": {},
   "outputs": [
    {
     "name": "stdout",
     "output_type": "stream",
     "text": [
      "S\n"
     ]
    }
   ],
   "source": [
    "codon_to_aa(\"TCC\")"
   ]
  },
  {
   "cell_type": "code",
   "execution_count": 19,
   "id": "db8a48b3",
   "metadata": {},
   "outputs": [
    {
     "name": "stdout",
     "output_type": "stream",
     "text": [
      "E\n"
     ]
    }
   ],
   "source": [
    "codon_to_aa(\"GAA\") "
   ]
  },
  {
   "cell_type": "code",
   "execution_count": 20,
   "id": "fe7128f7",
   "metadata": {},
   "outputs": [
    {
     "name": "stdout",
     "output_type": "stream",
     "text": [
      "X\n"
     ]
    }
   ],
   "source": [
    "codon_to_aa(\"BBB\")"
   ]
  },
  {
   "cell_type": "markdown",
   "id": "997c33bc-b114-4271-84d8-cdb99dbab0e8",
   "metadata": {},
   "source": [
    "# W2-HW8: get substrings from a given string\n",
    "\n",
    "Write a program with a function called get_windows() that takes three parameters: \n",
    "\n",
    "    the sequence to extract windows from (string), \n",
    "    the window size (int), \n",
    "    and the step size (int). \n",
    "    \n",
    "The function should return a list of strings, one per window, with no “partial windows” \n",
    "if the last window would run off the end of the sequence.\n",
    "\n",
    "Then test your function for the following cases:\n",
    "\n",
    "    get_windows('AAACTGTCTCTA', 3, 2)\n",
    "    get_windows('AC', 4, 2)\n",
    "    get_windows('TCTCTATCGGACG', 2, 3)\n"
   ]
  },
  {
   "cell_type": "code",
   "execution_count": 92,
   "id": "ba6c97db",
   "metadata": {},
   "outputs": [],
   "source": [
    "def get_windows(seq,win,step):\n",
    "    string_list=[]\n",
    "    count=0\n",
    "    for i in range(len(seq)):\n",
    "        if len(seq[count:count+win])==win:\n",
    "            string_list.append(seq[count:count+win])\n",
    "        count+=step\n",
    "    return string_list"
   ]
  },
  {
   "cell_type": "code",
   "execution_count": 93,
   "id": "d883a244",
   "metadata": {},
   "outputs": [
    {
     "data": {
      "text/plain": [
       "['AAA', 'ACT', 'TGT', 'TCT', 'TCT']"
      ]
     },
     "execution_count": 93,
     "metadata": {},
     "output_type": "execute_result"
    }
   ],
   "source": [
    "get_windows('AAACTGTCTCTA', 3, 2)"
   ]
  },
  {
   "cell_type": "code",
   "execution_count": 94,
   "id": "8daee369",
   "metadata": {},
   "outputs": [
    {
     "data": {
      "text/plain": [
       "[]"
      ]
     },
     "execution_count": 94,
     "metadata": {},
     "output_type": "execute_result"
    }
   ],
   "source": [
    "get_windows('AC', 4, 2)"
   ]
  },
  {
   "cell_type": "code",
   "execution_count": 95,
   "id": "c6078863",
   "metadata": {},
   "outputs": [
    {
     "data": {
      "text/plain": [
       "['TC', 'CT', 'TC', 'GA']"
      ]
     },
     "execution_count": 95,
     "metadata": {},
     "output_type": "execute_result"
    }
   ],
   "source": [
    "get_windows('TCTCTATCGGACG', 2, 3)"
   ]
  },
  {
   "cell_type": "code",
   "execution_count": 96,
   "id": "7935fb70",
   "metadata": {},
   "outputs": [
    {
     "data": {
      "text/plain": [
       "['AAA', 'AAC', 'ACT', 'CTG', 'TGT', 'GTC', 'TCT', 'CTC', 'TCT', 'CTA']"
      ]
     },
     "execution_count": 96,
     "metadata": {},
     "output_type": "execute_result"
    }
   ],
   "source": [
    "get_windows('AAACTGTCTCTA', 3, 1)"
   ]
  },
  {
   "cell_type": "markdown",
   "id": "d8afb806-22d3-4e10-b8c2-ac798bfb3301",
   "metadata": {},
   "source": [
    "# W2-HW9: count kmers\n",
    "\n",
    "Use the get_windows() function to write a count_kmers() function; it should take two parameters (a DNA sequence and an integer) and return a dictionary of k-mers to count for those k-mers. \n",
    "\n",
    "For example, count_kmers(\"GGGCTGTCTCTA\", 3) should return a dictionary with keys \"GGG\", \"GGC\", \"GCT\", \"CTG\", \"TGT\", \"GTC\", \"TCT\", \"CTC\", \"CTA\" and corresponding values 1, 1, 1, 1, 1, 1, 2, 1, 1. \n"
   ]
  },
  {
   "cell_type": "code",
   "execution_count": 107,
   "id": "de8b9cc2",
   "metadata": {},
   "outputs": [],
   "source": [
    "def count_kmers(dna,number):\n",
    "    kmer_dict = {}\n",
    "    dna_keys=get_windows(dna,number,1)\n",
    "    counting = {k: 0 for k in dna_keys}  # we initalize a dictionary, This is faster than a list\n",
    "    #Scans the sequence, looking for all dinucleotides at once\n",
    "    for i in range(len(dna)-2):\n",
    "        if dna[i:i+number] in counting:\n",
    "            counting[dna[i:i+number]] += 1\n",
    "    return counting\n",
    "    "
   ]
  },
  {
   "cell_type": "code",
   "execution_count": 108,
   "id": "4cf27730",
   "metadata": {},
   "outputs": [
    {
     "data": {
      "text/plain": [
       "{'GGG': 1,\n",
       " 'GGC': 1,\n",
       " 'GCT': 1,\n",
       " 'CTG': 1,\n",
       " 'TGT': 1,\n",
       " 'GTC': 1,\n",
       " 'TCT': 2,\n",
       " 'CTC': 1,\n",
       " 'CTA': 1}"
      ]
     },
     "execution_count": 108,
     "metadata": {},
     "output_type": "execute_result"
    }
   ],
   "source": [
    "count_kmers(\"GGGCTGTCTCTA\", 3)"
   ]
  },
  {
   "cell_type": "markdown",
   "id": "pointed-introduction",
   "metadata": {},
   "source": [
    "# W2-HW10: Make the function stronger\n",
    "\n",
    "The below function works as is but if we provide anything other than A, T, G, C (nucleotide or not) the code will fail to run. Write another function namedcount_nucleotides2 to fix this issue. \n",
    "\n",
    "Hint: Remember if/else conditionals.\n"
   ]
  },
  {
   "cell_type": "code",
   "execution_count": 110,
   "id": "elegant-ancient",
   "metadata": {},
   "outputs": [],
   "source": [
    "#W2-HW10: \n",
    "\n",
    "#Hint: google IUPAC codes\n",
    "def count_nucleotides(dna):\n",
    "    counts = {'A': 0, 'T': 0, 'G': 0, 'C': 0, 'N': 0}\n",
    "    for base in dna:\n",
    "        counts[base] += 1\n",
    "    return counts"
   ]
  },
  {
   "cell_type": "code",
   "execution_count": 111,
   "id": "ad146c2b",
   "metadata": {},
   "outputs": [
    {
     "data": {
      "text/plain": [
       "{'A': 1, 'T': 4, 'G': 4, 'C': 3, 'N': 0}"
      ]
     },
     "execution_count": 111,
     "metadata": {},
     "output_type": "execute_result"
    }
   ],
   "source": [
    "count_nucleotides(\"GGGCTGTCTCTA\")"
   ]
  },
  {
   "cell_type": "code",
   "execution_count": 117,
   "id": "142d619f",
   "metadata": {},
   "outputs": [
    {
     "ename": "KeyError",
     "evalue": "'B'",
     "output_type": "error",
     "traceback": [
      "\u001b[0;31m---------------------------------------------------------------------------\u001b[0m",
      "\u001b[0;31mKeyError\u001b[0m                                  Traceback (most recent call last)",
      "\u001b[0;32m<ipython-input-117-7a47388625ec>\u001b[0m in \u001b[0;36m<module>\u001b[0;34m\u001b[0m\n\u001b[0;32m----> 1\u001b[0;31m \u001b[0mcount_nucleotides\u001b[0m\u001b[0;34m(\u001b[0m\u001b[0;34m\"GGBCTGTZTCTA\"\u001b[0m\u001b[0;34m)\u001b[0m\u001b[0;34m\u001b[0m\u001b[0;34m\u001b[0m\u001b[0m\n\u001b[0m",
      "\u001b[0;32m<ipython-input-110-4e1b6f00d600>\u001b[0m in \u001b[0;36mcount_nucleotides\u001b[0;34m(dna)\u001b[0m\n\u001b[1;32m      5\u001b[0m     \u001b[0mcounts\u001b[0m \u001b[0;34m=\u001b[0m \u001b[0;34m{\u001b[0m\u001b[0;34m'A'\u001b[0m\u001b[0;34m:\u001b[0m \u001b[0;36m0\u001b[0m\u001b[0;34m,\u001b[0m \u001b[0;34m'T'\u001b[0m\u001b[0;34m:\u001b[0m \u001b[0;36m0\u001b[0m\u001b[0;34m,\u001b[0m \u001b[0;34m'G'\u001b[0m\u001b[0;34m:\u001b[0m \u001b[0;36m0\u001b[0m\u001b[0;34m,\u001b[0m \u001b[0;34m'C'\u001b[0m\u001b[0;34m:\u001b[0m \u001b[0;36m0\u001b[0m\u001b[0;34m,\u001b[0m \u001b[0;34m'N'\u001b[0m\u001b[0;34m:\u001b[0m \u001b[0;36m0\u001b[0m\u001b[0;34m}\u001b[0m\u001b[0;34m\u001b[0m\u001b[0;34m\u001b[0m\u001b[0m\n\u001b[1;32m      6\u001b[0m     \u001b[0;32mfor\u001b[0m \u001b[0mbase\u001b[0m \u001b[0;32min\u001b[0m \u001b[0mdna\u001b[0m\u001b[0;34m:\u001b[0m\u001b[0;34m\u001b[0m\u001b[0;34m\u001b[0m\u001b[0m\n\u001b[0;32m----> 7\u001b[0;31m         \u001b[0mcounts\u001b[0m\u001b[0;34m[\u001b[0m\u001b[0mbase\u001b[0m\u001b[0;34m]\u001b[0m \u001b[0;34m+=\u001b[0m \u001b[0;36m1\u001b[0m\u001b[0;34m\u001b[0m\u001b[0;34m\u001b[0m\u001b[0m\n\u001b[0m\u001b[1;32m      8\u001b[0m     \u001b[0;32mreturn\u001b[0m \u001b[0mcounts\u001b[0m\u001b[0;34m\u001b[0m\u001b[0;34m\u001b[0m\u001b[0m\n",
      "\u001b[0;31mKeyError\u001b[0m: 'B'"
     ]
    }
   ],
   "source": [
    "count_nucleotides(\"GGBCTGTZTCTA\")"
   ]
  },
  {
   "cell_type": "code",
   "execution_count": 113,
   "id": "9ee4f524-4d5f-4f28-ab8e-e9febe9417ad",
   "metadata": {},
   "outputs": [],
   "source": [
    "def count_nucleotides2(dna):\n",
    "    counts = {'A': 0, 'T': 0, 'G': 0, 'C': 0, 'N': 0}\n",
    "    for base in dna:\n",
    "        if base ==\"A\" or base ==\"T\" or base ==\"G\" or base ==\"C\":\n",
    "            counts[base] += 1\n",
    "    return counts"
   ]
  },
  {
   "cell_type": "code",
   "execution_count": 118,
   "id": "907fc4aa",
   "metadata": {},
   "outputs": [
    {
     "data": {
      "text/plain": [
       "{'A': 1, 'T': 4, 'G': 4, 'C': 3, 'N': 0}"
      ]
     },
     "execution_count": 118,
     "metadata": {},
     "output_type": "execute_result"
    }
   ],
   "source": [
    "count_nucleotides2(\"GGGCTGTCTCTA\")"
   ]
  },
  {
   "cell_type": "code",
   "execution_count": 115,
   "id": "de7ad983",
   "metadata": {},
   "outputs": [
    {
     "data": {
      "text/plain": [
       "{'A': 1, 'T': 4, 'G': 3, 'C': 2, 'N': 0}"
      ]
     },
     "execution_count": 115,
     "metadata": {},
     "output_type": "execute_result"
    }
   ],
   "source": [
    "count_nucleotides2(\"GGBCTGTZTCTA\")"
   ]
  }
 ],
 "metadata": {
  "kernelspec": {
   "display_name": "Python 3",
   "language": "python",
   "name": "python3"
  },
  "language_info": {
   "codemirror_mode": {
    "name": "ipython",
    "version": 3
   },
   "file_extension": ".py",
   "mimetype": "text/x-python",
   "name": "python",
   "nbconvert_exporter": "python",
   "pygments_lexer": "ipython3",
   "version": "3.8.8"
  }
 },
 "nbformat": 4,
 "nbformat_minor": 5
}
