{
 "cells": [
  {
   "cell_type": "markdown",
   "id": "32e164b5-8df9-4789-b35b-007809a7c5bd",
   "metadata": {},
   "source": [
    "#### W3-HW16: What does complement or reverse complement mean in molecular biology, explain in 3-4 sentences, give examples (you can use markdown).\n"
   ]
  },
  {
   "cell_type": "markdown",
   "id": "620f8235",
   "metadata": {},
   "source": [
    "A complement in molecular biology is the counterpart to a sequence. For example, in a double-stranded DNA sequence, the upper strand is the main sequence per say. The lower strand, would be the complementary sequence that is going in the same direction as the upper strand as it as the paired base to the upper strand. For example, take the sequence of \"ACGTATAGGCTGACACGTAGAGATGGATGACCATAG\" as the upper strand. Its complementary sequence would be \"TGCATATCCGACTGTGCATCTCTACCTACTGGTATC\" with the matching base pairs that are complimentary to the upper strand. Specifically, if the upper strand as the A base, then the complementary strand will have a T base in DNA or a U base in RNA in that same position. A reverse complement is the lower strand sequence will be the same complementary sequence but just reversed in direction of the upper strand. So if we take the previous example sequence of \"ACGTATAGGCTGACACGTAGAGATGGATGACCATAG\", its reverse complement would be \"CTATGGTCATCCATCTCTACGTGTCAGCCTATACGT\".  "
   ]
  },
  {
   "cell_type": "markdown",
   "id": "bc722033-ceb8-4b8c-a60c-f644e18be948",
   "metadata": {},
   "source": [
    "#### W3-HW17: Can you write a little program, where it will prompt the user to enter a DNA/RNA sequence and generate its reverse/complement/reverse complement sequences? Do not use Biopython. Think of all the [corner cases](http://carpentries-incubator.github.io/python-testing/06-edges/index.html) for what kind of sequences can be provided as an input. You can then test your program to check the complement or reverse complement of a DNA sequence you found and downloaded from Genbank (please do not use examples shown in the class). \n",
    "\n",
    "#### Use this website as an inspiration and checkpoint: https://arep.med.harvard.edu/labgc/adnan/projects/Utilities/revcomp.html\n"
   ]
  },
  {
   "cell_type": "markdown",
   "id": "f3fa4d38",
   "metadata": {},
   "source": [
    "### Subfunctions for main function"
   ]
  },
  {
   "cell_type": "code",
   "execution_count": 390,
   "id": "5a384edf",
   "metadata": {},
   "outputs": [],
   "source": [
    "coding_dna = \"tcccaatgcctcgtatatgttttaaaggcagatgaccgtatccaaagaatcgccaactggatacgacgatctaaggtagggcggcggagttattgatggg\"\n",
    "\n",
    "def reverse_seq(sequence):\n",
    "    return sequence[::-1].upper()\n",
    "##DNA\n",
    "def complement_DNA(sequence):\n",
    "    compl = ''\n",
    "    sequence = sequence.lower() \n",
    "    for letter in sequence:\n",
    "        if letter == 'a':\n",
    "            compl += 't'\n",
    "        elif letter == 'c':\n",
    "            compl += 'g'\n",
    "        elif letter == 't':\n",
    "            compl += 'a'\n",
    "        else:\n",
    "            compl += 'c'\n",
    "    return compl.upper()\n",
    "    \n",
    "def rev_complement_DNA(sequence):\n",
    "    compl = ''\n",
    "    sequence = sequence.lower() \n",
    "    for letter in sequence:\n",
    "        if letter == 'a':\n",
    "            compl += 't'\n",
    "        elif letter == 'c':\n",
    "            compl += 'g'\n",
    "        elif letter == 't':\n",
    "            compl += 'a'\n",
    "        else:\n",
    "            compl += 'c'\n",
    "    return compl[::-1].upper()\n",
    "\n",
    "##RNA\n",
    "def complement_RNA(sequence):\n",
    "    compl = ''\n",
    "    sequence = sequence.lower() \n",
    "    for letter in sequence:\n",
    "        if letter == 'a':\n",
    "            compl += 'u'\n",
    "        elif letter == 'c':\n",
    "            compl += 'g'\n",
    "        elif letter == 'u':\n",
    "            compl += 'a'\n",
    "        else:\n",
    "            compl += 'c'\n",
    "    return compl.upper()\n",
    "    \n",
    "def rev_complement_RNA(sequence):\n",
    "    compl = ''\n",
    "    sequence = sequence.lower() \n",
    "    for letter in sequence:\n",
    "        if letter == 'a':\n",
    "            compl += 'u'\n",
    "        elif letter == 'c':\n",
    "            compl += 'g'\n",
    "        elif letter == 'u':\n",
    "            compl += 'a'\n",
    "        else:\n",
    "            compl += 'c'\n",
    "    return compl[::-1].upper()"
   ]
  },
  {
   "cell_type": "markdown",
   "id": "fc85fac5",
   "metadata": {},
   "source": [
    "#### Subfunctions to check if input is DNA or RNA and if it is a valid sequence, meaning does it contain ACGT in DNA or ACGU in RNA "
   ]
  },
  {
   "cell_type": "code",
   "execution_count": 391,
   "id": "82354ff2",
   "metadata": {},
   "outputs": [],
   "source": [
    "def dna_check(sequence):\n",
    "    return set(sequence.upper()).issubset(\"ACGT\")\n",
    "def rna_check(sequence):\n",
    "    return set(sequence.upper()).issubset(\"ACGU\")"
   ]
  },
  {
   "cell_type": "markdown",
   "id": "67828577",
   "metadata": {},
   "source": [
    "### Main Function that pieces it all together that user will use "
   ]
  },
  {
   "cell_type": "code",
   "execution_count": 33,
   "id": "d270d877",
   "metadata": {},
   "outputs": [],
   "source": [
    "def full_seq():\n",
    "    sequence = input(\"Please enter a DNA/RNA sequence:\\n\")\n",
    "    ##if input is a DNA sequence \n",
    "    if (dna_check(sequence)==True):\n",
    "        print(\"Complement:\",complement_DNA(sequence))\n",
    "        print(\"Reverse:\",reverse_seq(sequence))\n",
    "        print(\"Reverse Complement:\",rev_complement_DNA(sequence))\n",
    "    ## if input is a RNA sequence \n",
    "    elif (rna_check(sequence)==True):\n",
    "        print(\"Complement:\",complement_RNA(sequence))\n",
    "        print(\"Reverse:\",reverse_seq(sequence))\n",
    "        print(\"Reverse Complement:\",rev_complement_RNA(sequence))\n",
    "    ## if input isn't a valid sequence \n",
    "    else:\n",
    "        print(\"Sequence inputted is not a valid Sequence, Please input valid sequence\")"
   ]
  },
  {
   "cell_type": "code",
   "execution_count": 35,
   "id": "8267496c",
   "metadata": {},
   "outputs": [
    {
     "name": "stdout",
     "output_type": "stream",
     "text": [
      "Please enter a DNA/RNA sequence:\n",
      "tcccaatgcctcgtatatgttttaaaggcagatgaccgtatccaaagaatcgccaactggatacgacgatctaaggtagggcggcggagttattgatggg\n",
      "Complement: AGGGTTACGGAGCATATACAAAATTTCCGTCTACTGGCATAGGTTTCTTAGCGGTTGACCTATGCTGCTAGATTCCATCCCGCCGCCTCAATAACTACCC\n",
      "Reverse: GGGTAGTTATTGAGGCGGCGGGATGGAATCTAGCAGCATAGGTCAACCGCTAAGAAACCTATGCCAGTAGACGGAAATTTTGTATATGCTCCGTAACCCT\n",
      "Reverse Complement: CCCATCAATAACTCCGCCGCCCTACCTTAGATCGTCGTATCCAGTTGGCGATTCTTTGGATACGGTCATCTGCCTTTAAAACATATACGAGGCATTGGGA\n"
     ]
    }
   ],
   "source": [
    "full_seq()"
   ]
  },
  {
   "cell_type": "code",
   "execution_count": 36,
   "id": "1dd23b70",
   "metadata": {},
   "outputs": [
    {
     "name": "stdout",
     "output_type": "stream",
     "text": [
      "Please enter a DNA/RNA sequence:\n",
      "GCAGAAACGCAACAUUCAUGUCAUCCCCGGAGUUCGUUGUAUGUGGCACACACUGUGUGUAGAUACCAAGACCGUACGACGAGGUCCCCAGCAGUCGAUG\n",
      "Complement: CGUCUUUGCGUUGUAAGUACAGUAGGGGCCUCAAGCAACAUACACCGUGUGUGACACACAUCUAUGGUUCUGGCAUGCUGCUCCAGGGGUCGUCAGCUAC\n",
      "Reverse: GUAGCUGACGACCCCUGGAGCAGCAUGCCAGAACCAUAGAUGUGUGUCACACACGGUGUAUGUUGCUUGAGGCCCCUACUGUACUUACAACGCAAAGACG\n",
      "Reverse Complement: CAUCGACUGCUGGGGACCUCGUCGUACGGUCUUGGUAUCUACACACAGUGUGUGCCACAUACAACGAACUCCGGGGAUGACAUGAAUGUUGCGUUUCUGC\n"
     ]
    }
   ],
   "source": [
    "full_seq()"
   ]
  },
  {
   "cell_type": "markdown",
   "id": "a0281321-59aa-4616-a140-a256e451e062",
   "metadata": {},
   "source": [
    "#### W3-HW18: How does the built in reverse complement function work in Biopython? What should we add to the function we wrote in the class, so it can handle degenerate bases? You can get inspiration from the  GC method in Biopython. Simply search for 'This is a rather simple function, not taking into account the degenerate bases' in the notebook to find the function I am talking about.\n"
   ]
  },
  {
   "cell_type": "markdown",
   "id": "d3c403ac",
   "metadata": {},
   "source": [
    "The reverse complement function in Biopython works by making use of the self.complement() function built in and just makes use of string functions to return the reverse by adding **[::-1]** to the end to print out the reverse. Within the code for the function, it contains one line: **return self.complement()[::-1]**. "
   ]
  },
  {
   "cell_type": "markdown",
   "id": "66e755e9",
   "metadata": {},
   "source": [
    "We can add conditionals to the function that will allow it to handle degenerate bases as shown below. In the example below, I simply added elif conditionals for each degenerate base case that we know of and told the function to add the complementary base that was taken from this website: https://arep.med.harvard.edu/labgc/adnan/projects/Utilities/revcomp.html. This would be the simplest method to do so without bringing in other packages. "
   ]
  },
  {
   "cell_type": "code",
   "execution_count": 45,
   "id": "7da938eb",
   "metadata": {},
   "outputs": [
    {
     "name": "stdout",
     "output_type": "stream",
     "text": [
      "GGCTATCATTGGAGTTAACCCGCTCTACATGTAACCCCTAGAA\n"
     ]
    }
   ],
   "source": [
    "#What if we write our own function and not use the built-in functions?\n",
    "\n",
    "#reverse complement problem\n",
    "\n",
    "def rev_complement(sequence):\n",
    "    '''takes a DNA sequence and produces its reverse complement'''\n",
    "    compl = ''\n",
    "    sequence = sequence.lower() #attention!\n",
    "    for letter in sequence:\n",
    "        if letter == 'a':\n",
    "            compl += 't'\n",
    "        elif letter == 'c':\n",
    "            compl += 'g'\n",
    "        elif letter == 't':\n",
    "            compl += 'a'\n",
    "        elif letter == 'y':\n",
    "            compl += 'r'\n",
    "        elif letter == 'r':\n",
    "            compl += 'y'\n",
    "        elif letter == 's':\n",
    "            compl += 's*'\n",
    "        elif letter == 'w':\n",
    "            compl += 'w*'\n",
    "        elif letter == 'k':\n",
    "            compl += 'm'\n",
    "        elif letter == 'm':\n",
    "            compl += 'k'\n",
    "        elif letter == 'b':\n",
    "            compl += 'v'\n",
    "        elif letter == 'd':\n",
    "            compl += 'h'\n",
    "        elif letter == 'h':\n",
    "            compl += 'd'\n",
    "        elif letter == 'v':\n",
    "            compl += 'b'\n",
    "        elif letter == 'n':\n",
    "            compl += 'n'\n",
    "        else:\n",
    "            compl += 'c'\n",
    "    return compl[::-1].upper()\n",
    "\n",
    "sequence = 'TTCTAGGGGTTACATGTAGAGCGGGTTAACTCCAATGATAGCC'\n",
    "print(rev_complement(sequence))      \n",
    "\n",
    "#This is a rather simple function, not taking into account the degenerate bases"
   ]
  },
  {
   "cell_type": "markdown",
   "id": "5c5351f0-f6f6-4f99-a85a-705105a72ef1",
   "metadata": {},
   "source": [
    "#### W4-HW19: What does the \"format_type\" keyword in qblast function do? Explain and show with examples. "
   ]
  },
  {
   "cell_type": "markdown",
   "id": "fa64982f",
   "metadata": {},
   "source": [
    "The \"format_type\" keyword in the qblast function determines what format the BLAST will return results in. It allows the BLAST to return results in formats like \"HTML\", \"Text\", \"ASN.1\", or \"XML\". By default, the parameter is set to \"XML\", meaning qblast will return results in XML format. "
   ]
  },
  {
   "cell_type": "code",
   "execution_count": 38,
   "id": "3efbaacb",
   "metadata": {},
   "outputs": [],
   "source": [
    "from Bio.Blast import NCBIWWW\n",
    "from Bio import SeqIO"
   ]
  },
  {
   "cell_type": "code",
   "execution_count": null,
   "id": "ee71998f",
   "metadata": {},
   "outputs": [],
   "source": [
    "record = SeqIO.read(\"../datasets/rand_orchid.fasta\", format=\"fasta\")\n",
    "## Return results in HTML format\n",
    "result_handle_HTML = NCBIWWW.qblast(\"blastn\", \"nt\", record.seq,format_type=\"HTML\")\n",
    "## Return results in XML format\n",
    "result_handle_XML = NCBIWWW.qblast(\"blastn\", \"nt\", record.seq,format_type=\"XML\")\n",
    "## Return results in Text format\n",
    "result_handle_Text = NCBIWWW.qblast(\"blastn\", \"nt\", record.seq,format_type=\"Text\")"
   ]
  },
  {
   "cell_type": "markdown",
   "id": "dbb47312-902b-4295-af2f-110086714782",
   "metadata": {},
   "source": [
    "#### W4-HW20: Can you fix the following code, so that it can extract and return two random sequences from the given fasta file?\n",
    "\n",
    "    # let's get some random sequences from our large fasta file: without using Biopython\n",
    "\n",
    "    import random\n",
    "\n",
    "    with open('../datasets/ls_orchid.fasta') as f:\n",
    "        data = f.read().splitlines()\n",
    "        print(data)\n",
    "        for i in random.sample(range(0, len(data), 2), 2):\n",
    "            print(data[i])\n",
    "            print(data[i+1])"
   ]
  },
  {
   "cell_type": "markdown",
   "id": "76480211",
   "metadata": {},
   "source": [
    "The problem with the code above is that it doesn't parse the fasta file correctly. So i opted to make the fasta file into a dictionary with the header of each sequence as the key and the sequence as the value. Once the dictionary is created, we just make a list of the sequences and randomly select 2 from the list using the latter part of the above code. "
   ]
  },
  {
   "cell_type": "code",
   "execution_count": 389,
   "id": "56d219b5-2d42-43a5-81e6-234f261d8956",
   "metadata": {},
   "outputs": [
    {
     "name": "stdout",
     "output_type": "stream",
     "text": [
      "52\n",
      "Sequence 1: ['CGTAACAAGGTTTCCGTAGGTGAACCTGCGGAAGGATCATTGTTGAGATCACATAATAATTGATCGAGTT', 'AATCTGGAGGATCAGTTTACTTTGGTCACCCATGGGCATTTGCTATTGCAGTGACCGAGATTTGCCATCG', 'AGCCTCCTTGGGAGCTTTCTTGCTGGCGATCTAAACCCTAGCCCGGCGCAGTTTTGCGCCAAGTCATATG', 'ACACATAATTGGCGAAGGGGGCGGCATGCTGCCTTGACCCTCCCCAAATTATTTTTTAACAACTCTCAGC', 'AACGGATAGGCCATCAGGCTAAGGGCACGCCTGCCTGGGCATTGCGAGTCATATCTCTCCCTTCAATGAG', 'GCTGTCCACACATACTGTTCAGCCGGTGCGGATGTGAGTTTGGCCCCTTGTTCATTGGTACGGGGGGTCT', 'AAGAGCTGCGTGGGCTTTTGTTGGTACCTAAATACGGCAAGAGGTGGACGAACTATGCTACAACAAAAAT', 'GTTGTGCGAATGCCCCGGGTTGTCGTATAGATGGGCCAGCATAATCTAAAGACCCTTTTGAACCCCATTG', 'GAGGCCCATCAACCCATGATCAGTTGA']\n",
      "Sequence 2: ['CGTAACAAGGTTTCCGTAGGTGAACCTGCGGAAGGATCATTGTTGAGATCACATAATAATTGATCGAGTT', 'AATCAGGAGGATCAGGTTACTTTGGTCACCCATGGGCATTTGCTGTTTCAGTGACCTAGATTTGCCATCG', 'AGCCGAACTAAACCCTTGCCCGGCGCAGATTTGCGCCAATTTATATGAGACATTACTGGAAGGGGAGGGA', 'TGCTGCCTTGCCTTGCCCCCCAAATTATTTTTTAACAACTCTCAGCAACGGATATCTCGCCTCTTGCATC', 'GATGAAGAACGCAGCGAAATGCGATAAATGGTGTGAATACAGAGATCCCGTGAACCATCGAGTCTTGAAC', 'GCAAGTTGCGCCCGAGGCCATCAGGCCAAGGGCACGCCTGCCTGGGCATTGCGAGACATATCTCTCCCTT', 'AATGAGGCTGTCGTTCAGCCGGTGCGGATGTGAGTTTGGCCCCTTGTTCTTTGGTACGGGGGGTCTAAGA', 'GCTGCATGGGCTTTTGATGGTCCTAAATACGGCAAGAGGTGGACGAACTATGCGACAACAGAACTGTTGT', 'GCGAATGCCCCGGGTTGTCGTATTAGATGGGCCAGCATAATCTAAAGACCCTTTTGAACCCCATTGGAGG', 'CCCATCAACCCAAGATCAGTTGACGGCCATTTGGATGCGACCCCAGGTCAGGTGAGGCAACCCTCTGAGT']\n"
     ]
    }
   ],
   "source": [
    "import random\n",
    "import sys\n",
    "data = {}\n",
    "with open('../datasets/ls_orchid.fasta') as f:\n",
    "    for line in f:\n",
    "        line = line.strip()\n",
    "        if not line:\n",
    "            continue\n",
    "        if line.startswith(\">\"):\n",
    "            header = line[1:]\n",
    "            if header not in data:\n",
    "                data[header] = []\n",
    "            continue\n",
    "        sequence = line\n",
    "        data[header].append(sequence)\n",
    "    values=list(data.values()) # List of values\n",
    "    for i in random.sample(range(0, len(values), 2), 1):\n",
    "        print(\"Sequence 1:\",values[i])\n",
    "        print(\"Sequence 2:\",values[i+1])\n",
    "   "
   ]
  }
 ],
 "metadata": {
  "kernelspec": {
   "display_name": "Python 3",
   "language": "python",
   "name": "python3"
  },
  "language_info": {
   "codemirror_mode": {
    "name": "ipython",
    "version": 3
   },
   "file_extension": ".py",
   "mimetype": "text/x-python",
   "name": "python",
   "nbconvert_exporter": "python",
   "pygments_lexer": "ipython3",
   "version": "3.8.8"
  }
 },
 "nbformat": 4,
 "nbformat_minor": 5
}
