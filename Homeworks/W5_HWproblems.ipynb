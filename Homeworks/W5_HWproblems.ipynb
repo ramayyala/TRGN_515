{
 "cells": [
  {
   "cell_type": "markdown",
   "id": "22e0505a-9bc1-469a-ba15-caeca81d1aca",
   "metadata": {},
   "source": [
    "# W5-H21: Using the GFF3 file that is well annotated, do:\n",
    "\n",
    "1. Visualize the data as much as you can. How many genes/CDS/exon are listed for ENSEMBL and other datasets?\n",
    "2. Plot a histogram of length information for a) entire genome, 2) for each source, i.e., ENSEMBL, Havana, etc. separately (can use subplot)\n",
    "3. Parse the description column: Anything you can visualize? Visualize at least one thing.\n",
    "4. Bonus question worth one homework score: Based on our dataset, how many transcripts does a gene typically have? What percentage of genes have more than 1 transcript? Hint: You will need to sum up the exon lengths to get the transcripts. You can use external libraries. \n",
    "\n",
    "Resources to check out\n",
    "1. https://daler.github.io/gffutils/\n",
    "2. http://seqanswers.com/forums/showthread.php?t=4914"
   ]
  },
  {
   "cell_type": "markdown",
   "id": "953242ab-aaea-4129-89c8-a78c6b3e249e",
   "metadata": {},
   "source": [
    "See also\n",
    "\n",
    "   ### [The GFF spec can be found here](https://www.sanger.ac.uk/resources/software/gff/spec.html)\n",
    "   ### [A great explanation on the GFF format can be found here](http://gmod.org/wiki/GFF3)"
   ]
  },
  {
   "cell_type": "code",
   "execution_count": null,
   "id": "fe9aa186-cb6c-43e6-a78e-0e5a6766dcf4",
   "metadata": {},
   "outputs": [],
   "source": []
  }
 ],
 "metadata": {
  "kernelspec": {
   "display_name": "Python 3",
   "language": "python",
   "name": "python3"
  },
  "language_info": {
   "codemirror_mode": {
    "name": "ipython",
    "version": 3
   },
   "file_extension": ".py",
   "mimetype": "text/x-python",
   "name": "python",
   "nbconvert_exporter": "python",
   "pygments_lexer": "ipython3",
   "version": "3.6.8"
  }
 },
 "nbformat": 4,
 "nbformat_minor": 5
}
