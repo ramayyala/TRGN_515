{
 "cells": [
  {
   "cell_type": "markdown",
   "id": "cde778c6-d3de-4153-83ce-292b42a97e00",
   "metadata": {
    "tags": []
   },
   "source": [
    "# W1 - GitHub assignment #yes\n",
    "\n",
    "- Find instructions to transfer files (final, completed homework in this case) to your Github repository\n",
    "- Share with me and your cohort a written report of instructions for file sharing from a server to GitHub repository (you can use Slack for exchanging ideas)\n"
   ]
  },
  {
   "cell_type": "markdown",
   "id": "1ad05518-d5ed-47cb-8bc2-d08371316493",
   "metadata": {},
   "source": [
    "# W1-HW1 #yes\n",
    "\n",
    "Let's remove some elements from the list, without changing the original list.\n",
    "Some hints for you to use:\n",
    "\n",
    "#pop()\n",
    "\n",
    "#remove()\n"
   ]
  },
  {
   "cell_type": "markdown",
   "id": "dce83d59-a2d0-4915-b6a1-3eaa9ec27df1",
   "metadata": {},
   "source": [
    "# W1-HW2 #yes\n",
    "\n",
    "One other solution is to use copy() method, in order to avoid making changes to the original list\n",
    "\n",
    "use copy() method on the 'main_list' given in W1 Jupyter notebook and print it.\n"
   ]
  },
  {
   "cell_type": "markdown",
   "id": "c8556415-62cd-4cbe-987a-3317925a70df",
   "metadata": {},
   "source": [
    "# W1-HW3 #yes\n",
    "\n",
    "Find 5 dictionary methods and use in different examples. Give three examples to errors, such as KeyError with detailed explanations. You can rely on Jupyter notebook features, such as markdown. For more features, you can refer to: https://www.datacamp.com/community/tutorials/markdown-in-jupyter-notebook\n"
   ]
  },
  {
   "cell_type": "markdown",
   "id": "7f9fe810-8252-43ee-9b45-130fb2e5f6ca",
   "metadata": {
    "tags": []
   },
   "source": [
    "# W1-HW4 #yes\n",
    "\n",
    "Print only the key and only the value of the dictionary in the below `for` loop.\n"
   ]
  },
  {
   "cell_type": "code",
   "execution_count": 1,
   "id": "3ef9a517-2096-4ee4-97c6-491fa3d81b29",
   "metadata": {},
   "outputs": [
    {
     "name": "stdout",
     "output_type": "stream",
     "text": [
      "ratatouille \n",
      "homemade pasta\n"
     ]
    }
   ],
   "source": [
    "recipe_dict = {} \n",
    "recipe_dict['ratatouille '] = ['eggplant', 'tomato', 'zucchini', 'onion', 'olive oil', 'garlic']\n",
    "recipe_dict['homemade pasta'] = ['semolina flour', 'olive oil', 'sea salt']\n",
    "for key in recipe_dict.keys(): \n",
    "    print(key)\n",
    "    "
   ]
  },
  {
   "cell_type": "markdown",
   "id": "6b801536-5d98-4aa2-b56d-cba2900a0b12",
   "metadata": {},
   "source": [
    "# W1-HW5\n",
    "\n",
    "get the squares of odd numbers in the given list.\n",
    "\n",
    "my_numbers = [1,3,5,7,9,12,19,21]\n",
    "\n",
    "steps in the algorithm:\n",
    "1. start for loop\n",
    "2. calculate the square of the numbers and print that as an output when the numbers are odd numbers \n",
    "\n"
   ]
  }
 ],
 "metadata": {
  "kernelspec": {
   "display_name": "Python 3",
   "language": "python",
   "name": "python3"
  },
  "language_info": {
   "codemirror_mode": {
    "name": "ipython",
    "version": 3
   },
   "file_extension": ".py",
   "mimetype": "text/x-python",
   "name": "python",
   "nbconvert_exporter": "python",
   "pygments_lexer": "ipython3",
   "version": "3.6.8"
  }
 },
 "nbformat": 4,
 "nbformat_minor": 5
}
