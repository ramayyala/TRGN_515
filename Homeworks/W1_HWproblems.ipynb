{
 "cells": [
  {
   "cell_type": "markdown",
   "id": "cde778c6-d3de-4153-83ce-292b42a97e00",
   "metadata": {
    "tags": []
   },
   "source": [
    "# W1 - GitHub assignment #yes\n",
    "\n",
    "- Find instructions to transfer files (final, completed homework in this case) to your Github repository\n",
    "- Share with me and your cohort a written report of instructions for file sharing from a server to GitHub repository (you can use Slack for exchanging ideas)\n",
    "\n",
    "### Instructions: \n",
    "1. Make a copy of the homework from the TRGN 515 scratch directory into your own TRNG 515 folder in your scratch. \n",
    "2. Once the assignment is completed, we need to create our github repository. \n",
    "3. At the root of your TRGN 515 folder, initialize the directory as a git repository by typing the following code:\n",
    "`git init -b main`\n",
    "This will create a .git file in your folder allowing it to be pushed to github\n",
    "4. Next, we need to commit all the files or in this case the homework to the github via the following command:\n",
    "`git add . && git commit -m \"initial commit\"` \n",
    "5. Finally, we need to create the repository on Github via the following command:\n",
    "`gh repo create`. After typing this command, select the prompt that says **Push an existing local repository to GitHub**. The terminal will then prompt you for a repository name. \n",
    "6. Keep following the prompts given in the terminal, and when asked to add the remote and push the repository, click yes which will then push your homework to the Github repository. \n",
    "\n"
   ]
  },
  {
   "cell_type": "markdown",
   "id": "1ad05518-d5ed-47cb-8bc2-d08371316493",
   "metadata": {},
   "source": [
    "# W1-HW1 #yes\n",
    "\n",
    "Let's remove some elements from the list, without changing the original list.\n",
    "Some hints for you to use:\n",
    "\n",
    "#pop()\n",
    "\n",
    "#remove()\n"
   ]
  },
  {
   "cell_type": "code",
   "execution_count": 53,
   "id": "1e6ad1d0",
   "metadata": {},
   "outputs": [
    {
     "name": "stdout",
     "output_type": "stream",
     "text": [
      "original list: ['apple', 'orange', 'kiwi', 'pineapple', 'banana', 'pear', 'cantalope'],\n",
      " modified list: ['apple', 'orange', 'pineapple', 'banana', 'pear', 'cantalope']\n"
     ]
    }
   ],
   "source": [
    "fruits=[\"apple\",\"orange\",\"kiwi\",\"pineapple\",\"banana\",\"pear\",\"cantalope\"]\n",
    "fruits_copy=fruits[:]\n",
    "fruits_copy.pop(2)\n",
    "print('original list: {},\\n modified list: {}'.format(fruits,fruits_copy))"
   ]
  },
  {
   "cell_type": "markdown",
   "id": "dce83d59-a2d0-4915-b6a1-3eaa9ec27df1",
   "metadata": {},
   "source": [
    "# W1-HW2 #yes\n",
    "\n",
    "One other solution is to use copy() method, in order to avoid making changes to the original list\n",
    "\n",
    "use copy() method on the 'main_list' given in W1 Jupyter notebook and print it.\n"
   ]
  },
  {
   "cell_type": "code",
   "execution_count": 23,
   "id": "fa360669",
   "metadata": {},
   "outputs": [
    {
     "name": "stdout",
     "output_type": "stream",
     "text": [
      "[1, 2, 3]\n"
     ]
    }
   ],
   "source": [
    "main_list = [1, 2, 3]\n",
    "copy_list=main_list.copy()\n",
    "print(copy_list)"
   ]
  },
  {
   "cell_type": "markdown",
   "id": "c8556415-62cd-4cbe-987a-3317925a70df",
   "metadata": {},
   "source": [
    "# W1-HW3 #yes\n",
    "\n",
    "Find 5 dictionary methods and use in different examples. Give three examples to errors, such as KeyError with detailed explanations. You can rely on Jupyter notebook features, such as markdown. For more features, you can refer to: https://www.datacamp.com/community/tutorials/markdown-in-jupyter-notebook\n"
   ]
  },
  {
   "cell_type": "code",
   "execution_count": 25,
   "id": "a8a8ffe6",
   "metadata": {},
   "outputs": [],
   "source": [
    "my_dict = {\n",
    "    'Subaru' : 'Japanese',\n",
    "    'Tesla' : 'American',\n",
    "    'Mercedes' : 'German',\n",
    "}"
   ]
  },
  {
   "cell_type": "markdown",
   "id": "21e93194",
   "metadata": {},
   "source": [
    "## 5 Dictionary Methods"
   ]
  },
  {
   "cell_type": "markdown",
   "id": "b9d99088",
   "metadata": {},
   "source": [
    "### **dict.keys()**"
   ]
  },
  {
   "cell_type": "code",
   "execution_count": 26,
   "id": "7bedb96a",
   "metadata": {},
   "outputs": [
    {
     "data": {
      "text/plain": [
       "dict_keys(['Subaru', 'Tesla', 'Mercedes'])"
      ]
     },
     "execution_count": 26,
     "metadata": {},
     "output_type": "execute_result"
    }
   ],
   "source": [
    "my_dict.keys()"
   ]
  },
  {
   "cell_type": "markdown",
   "id": "402d64cf",
   "metadata": {},
   "source": [
    "### **dict.values()**"
   ]
  },
  {
   "cell_type": "code",
   "execution_count": 27,
   "id": "57536106",
   "metadata": {},
   "outputs": [
    {
     "data": {
      "text/plain": [
       "dict_values(['Japanese', 'American', 'German'])"
      ]
     },
     "execution_count": 27,
     "metadata": {},
     "output_type": "execute_result"
    }
   ],
   "source": [
    "my_dict.values()"
   ]
  },
  {
   "cell_type": "markdown",
   "id": "c8bc76a6",
   "metadata": {},
   "source": [
    "### **dict.items()**"
   ]
  },
  {
   "cell_type": "code",
   "execution_count": 28,
   "id": "fa518449",
   "metadata": {},
   "outputs": [
    {
     "data": {
      "text/plain": [
       "dict_items([('Subaru', 'Japanese'), ('Tesla', 'American'), ('Mercedes', 'German')])"
      ]
     },
     "execution_count": 28,
     "metadata": {},
     "output_type": "execute_result"
    }
   ],
   "source": [
    "my_dict.items()"
   ]
  },
  {
   "cell_type": "markdown",
   "id": "c666c163",
   "metadata": {},
   "source": [
    "### **dict.get()**"
   ]
  },
  {
   "cell_type": "code",
   "execution_count": 31,
   "id": "d3d1c4bc",
   "metadata": {},
   "outputs": [
    {
     "name": "stdout",
     "output_type": "stream",
     "text": [
      "Japanese\n"
     ]
    }
   ],
   "source": [
    "d=my_dict.get('Subaru')\n",
    "print(d)"
   ]
  },
  {
   "cell_type": "markdown",
   "id": "1a8b6035",
   "metadata": {},
   "source": [
    "### **dict.pop()**"
   ]
  },
  {
   "cell_type": "code",
   "execution_count": 32,
   "id": "5e73efe6",
   "metadata": {},
   "outputs": [
    {
     "data": {
      "text/plain": [
       "{'Subaru': 'Japanese', 'Mercedes': 'German'}"
      ]
     },
     "execution_count": 32,
     "metadata": {},
     "output_type": "execute_result"
    }
   ],
   "source": [
    "my_dict.pop('Tesla')\n",
    "my_dict"
   ]
  },
  {
   "cell_type": "markdown",
   "id": "566d9b5c",
   "metadata": {},
   "source": [
    "## 3 Errors in Python"
   ]
  },
  {
   "cell_type": "markdown",
   "id": "8674981c",
   "metadata": {},
   "source": [
    "### Syntax Errors"
   ]
  },
  {
   "cell_type": "code",
   "execution_count": 33,
   "id": "04921069",
   "metadata": {},
   "outputs": [
    {
     "ename": "SyntaxError",
     "evalue": "Missing parentheses in call to 'print'. Did you mean print('text')? (<ipython-input-33-3ec0e151e689>, line 1)",
     "output_type": "error",
     "traceback": [
      "\u001b[0;36m  File \u001b[0;32m\"<ipython-input-33-3ec0e151e689>\"\u001b[0;36m, line \u001b[0;32m1\u001b[0m\n\u001b[0;31m    print 'text'\u001b[0m\n\u001b[0m          ^\u001b[0m\n\u001b[0;31mSyntaxError\u001b[0m\u001b[0;31m:\u001b[0m Missing parentheses in call to 'print'. Did you mean print('text')?\n"
     ]
    }
   ],
   "source": [
    "print 'text'"
   ]
  },
  {
   "cell_type": "markdown",
   "id": "560f498b",
   "metadata": {},
   "source": [
    "This is an example of a syntax error in which the code is missing the correct format to call the correct command. In this case, the code is missing parenthesis surrounding what is trying to be printed. Syntax basically is the format we need to correctly call a function, object, method, etc. If the syntax is typed in wrong, then a Syntax Error will be raised and needs to be corrected. "
   ]
  },
  {
   "cell_type": "markdown",
   "id": "a12a278f",
   "metadata": {},
   "source": [
    "### Exception Errors"
   ]
  },
  {
   "cell_type": "code",
   "execution_count": 34,
   "id": "f70b5953",
   "metadata": {},
   "outputs": [
    {
     "ename": "ZeroDivisionError",
     "evalue": "division by zero",
     "output_type": "error",
     "traceback": [
      "\u001b[0;31m---------------------------------------------------------------------------\u001b[0m",
      "\u001b[0;31mZeroDivisionError\u001b[0m                         Traceback (most recent call last)",
      "\u001b[0;32m<ipython-input-34-9e1622b385b6>\u001b[0m in \u001b[0;36m<module>\u001b[0;34m\u001b[0m\n\u001b[0;32m----> 1\u001b[0;31m \u001b[0;36m1\u001b[0m\u001b[0;34m/\u001b[0m\u001b[0;36m0\u001b[0m\u001b[0;34m\u001b[0m\u001b[0;34m\u001b[0m\u001b[0m\n\u001b[0m",
      "\u001b[0;31mZeroDivisionError\u001b[0m: division by zero"
     ]
    }
   ],
   "source": [
    "1/0"
   ]
  },
  {
   "cell_type": "markdown",
   "id": "5ddc5d77",
   "metadata": {},
   "source": [
    "Exception Errors come in various forms, but the gist of it is that it is raised when there is trouble executing the line of code. This can occur even if the syntax if formatted correctly. As shown in the example above, 1/0 is is a line of code that has correct syntx but just simply cannot be executed due to an Exception Error, which in this case is a Zero Division Error meaning we cannot divide by 0, which is true in math. This line just simply cannot be executed because python, and in just in general in math, we cannnot divide by 0 and expect a result. "
   ]
  },
  {
   "cell_type": "markdown",
   "id": "9bc45166",
   "metadata": {},
   "source": [
    "###  Logic Error"
   ]
  },
  {
   "cell_type": "code",
   "execution_count": null,
   "id": "62e2d641",
   "metadata": {},
   "outputs": [],
   "source": [
    "count=1\n",
    "while count<100:\n",
    "    print(count)"
   ]
  },
  {
   "cell_type": "markdown",
   "id": "49636ea8",
   "metadata": {},
   "source": [
    "Logic Errors are a hard type of error to come across or even find, because python itself will not raise any errors. Rather, whiel the code itself will run correctly, it can sometimes cause python itself to crash. In the above example we are doing a simple while loop, that will print the count variable as long as it is less than 100. Since we gave no line of code to increase the count to eventually end the loop, the loop will run infinitely or until python crashes. This is a logical error as this is not the intended goal, so really its a user error rather than a python error. "
   ]
  },
  {
   "cell_type": "markdown",
   "id": "7f9fe810-8252-43ee-9b45-130fb2e5f6ca",
   "metadata": {
    "tags": []
   },
   "source": [
    "# W1-HW4 #yes\n",
    "\n",
    "Print only the key and only the value of the dictionary in the below `for` loop.\n"
   ]
  },
  {
   "cell_type": "code",
   "execution_count": 52,
   "id": "3ef9a517-2096-4ee4-97c6-491fa3d81b29",
   "metadata": {},
   "outputs": [
    {
     "name": "stdout",
     "output_type": "stream",
     "text": [
      "ratatouille\n",
      "['eggplant', 'tomato', 'zucchini', 'onion', 'olive oil', 'garlic']\n",
      "homemade pasta\n",
      "['semolina flour', 'olive oil', 'sea salt']\n"
     ]
    }
   ],
   "source": [
    "recipe_dict = {} \n",
    "recipe_dict['ratatouille'] = ['eggplant', 'tomato', 'zucchini', 'onion', 'olive oil', 'garlic']\n",
    "recipe_dict['homemade pasta'] = ['semolina flour', 'olive oil', 'sea salt']\n",
    "for key in recipe_dict.keys(): \n",
    "    print(key)\n",
    "    print(recipe_dict.get(key))\n",
    "    \n",
    "    "
   ]
  },
  {
   "cell_type": "code",
   "execution_count": 50,
   "id": "0d6722a0",
   "metadata": {},
   "outputs": [
    {
     "name": "stdout",
     "output_type": "stream",
     "text": [
      "['eggplant', 'tomato', 'zucchini', 'onion', 'olive oil', 'garlic']\n"
     ]
    }
   ],
   "source": [
    "print(recipe_dict.get('ratatouille'))"
   ]
  },
  {
   "cell_type": "markdown",
   "id": "6b801536-5d98-4aa2-b56d-cba2900a0b12",
   "metadata": {},
   "source": [
    "# W1-HW5\n",
    "\n",
    "get the squares of odd numbers in the given list.\n",
    "\n",
    "my_numbers = [1,3,5,7,9,12,19,21]\n",
    "\n",
    "steps in the algorithm:\n",
    "1. start for loop\n",
    "2. calculate the square of the numbers and print that as an output when the numbers are odd numbers \n",
    "\n"
   ]
  },
  {
   "cell_type": "code",
   "execution_count": 40,
   "id": "d367f864",
   "metadata": {},
   "outputs": [
    {
     "name": "stdout",
     "output_type": "stream",
     "text": [
      "1\n",
      "9\n",
      "25\n",
      "49\n",
      "81\n",
      "361\n",
      "441\n"
     ]
    }
   ],
   "source": [
    "my_numbers = [1,3,5,7,9,12,19,21]\n",
    "for i in my_numbers:\n",
    "    if (i % 2) != 0:\n",
    "        print (i**2)"
   ]
  }
 ],
 "metadata": {
  "kernelspec": {
   "display_name": "Python 3",
   "language": "python",
   "name": "python3"
  },
  "language_info": {
   "codemirror_mode": {
    "name": "ipython",
    "version": 3
   },
   "file_extension": ".py",
   "mimetype": "text/x-python",
   "name": "python",
   "nbconvert_exporter": "python",
   "pygments_lexer": "ipython3",
   "version": "3.8.8"
  }
 },
 "nbformat": 4,
 "nbformat_minor": 5
}
