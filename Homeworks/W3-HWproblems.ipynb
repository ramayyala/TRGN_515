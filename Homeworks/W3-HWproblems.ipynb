{
 "cells": [
  {
   "cell_type": "markdown",
   "id": "24b9c38d-485b-4361-924f-345053b1ce0c",
   "metadata": {},
   "source": [
    "## W3_Hw11\n",
    "\n",
    "Go ahead and modify three plots of your choice from today's lecture by using what we have learned and also at least three additional features from the matplotlib gallery that we have not covered in the lecture!\n",
    "\n",
    "Here are some tips for colors:\n",
    "\n",
    "Colors can be specified by single letters:\n",
    "\n",
    "    k - black\n",
    "    w - white\n",
    "    c - cyan\n",
    "    m - magenta\n",
    "    b - blue\n",
    "    r - red\n",
    "    y - yellow\n",
    "\n",
    "or by html color codes ('red', 'orange', 'steelblue', etc)\n",
    "\n",
    "or by hex color codes (#BDA493, #63C638, etc - A very handy color picker can be found here)"
   ]
  },
  {
   "cell_type": "markdown",
   "id": "b562e8a8-1ccc-4921-b734-d06fbce73686",
   "metadata": {},
   "source": [
    "## W3_HW12\n",
    "\n",
    "Try creating a 3x3 grid for one of the plots you pick in W3_HW11, and placing the graphs in the top left and bottom right positions"
   ]
  },
  {
   "cell_type": "markdown",
   "id": "a1f39fc1-6493-4259-b416-b43d95ad4f87",
   "metadata": {},
   "source": [
    "## W3_HW13\n",
    "\n",
    "Can you create a graph that shows the ED admission rate for each county, plotting under 18 against 18 and over, displaying separately each sex?"
   ]
  },
  {
   "cell_type": "markdown",
   "id": "439c37a7-3218-4a11-a961-a157c418729b",
   "metadata": {},
   "source": [
    "# W3_HW14\n",
    "\n",
    "Can you make the following boxplot look similar to the one we created using the df_pivot dataframe but instead, by using the original dataframe (df_asthma)? Hint: You will need to investigate your data, and may need to weed out the outliers.\n",
    "\n",
    "    df_asthma.plot(x='Year', y='Rate', kind='box')\n",
    "    plt.show()"
   ]
  },
  {
   "cell_type": "markdown",
   "id": "bc61bde7-b1b8-4b92-b0d8-e38d9774edf6",
   "metadata": {},
   "source": [
    "# W3-HW15\n",
    "\n",
    "In what order should you run the following to generate and display a plot?\n",
    "\n",
    "    plt.legend()\n",
    "    x = np.linspace(1, 10, 30)\n",
    "    plt.show()\n",
    "    plt.ylabel('Y-Label')\n",
    "    plt.plot(x, label='Data viz example plot')"
   ]
  },
  {
   "cell_type": "code",
   "execution_count": null,
   "id": "a493e9a2-d88c-47c0-8f4b-703a1bb10ed3",
   "metadata": {},
   "outputs": [],
   "source": []
  }
 ],
 "metadata": {
  "kernelspec": {
   "display_name": "Python 3",
   "language": "python",
   "name": "python3"
  },
  "language_info": {
   "codemirror_mode": {
    "name": "ipython",
    "version": 3
   },
   "file_extension": ".py",
   "mimetype": "text/x-python",
   "name": "python",
   "nbconvert_exporter": "python",
   "pygments_lexer": "ipython3",
   "version": "3.6.8"
  }
 },
 "nbformat": 4,
 "nbformat_minor": 5
}
