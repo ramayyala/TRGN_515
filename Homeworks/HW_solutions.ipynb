{
 "cells": [
  {
   "cell_type": "markdown",
   "id": "2b517501-56c3-49dc-b3b6-0e17406270c1",
   "metadata": {},
   "source": [
    "# HW_solutions"
   ]
  },
  {
   "cell_type": "markdown",
   "id": "77e44d1e-70c1-462d-875b-db5dccc17b8f",
   "metadata": {},
   "source": [
    "# W1-HW5\n",
    "\n",
    "get the squares of odd numbers in the given list.\n",
    "\n",
    "my_numbers = [1,3,5,7,9,12,19,21]\n",
    "\n",
    "steps in the algorithm:\n",
    "\n",
    "    start for loop\n",
    "    calculate the square of the numbers and print that as an output when the numbers are odd numbers\n",
    "\n"
   ]
  },
  {
   "cell_type": "code",
   "execution_count": 23,
   "id": "812d13b5-8068-4244-a0a0-0de843f8b5fb",
   "metadata": {},
   "outputs": [
    {
     "name": "stdout",
     "output_type": "stream",
     "text": [
      "[1, 9, 25, 49, 81, 361, 441]\n"
     ]
    }
   ],
   "source": [
    "my_numbers = [1,3,5,7,9,12,19,21]\n",
    "copied_numbers=my_numbers.copy()\n",
    "new_list=[]\n",
    "for number in copied_numbers:\n",
    "    if number % 2 == 1:\n",
    "        #print(number)\n",
    "        number=number**2\n",
    "        new_list.append(number)\n",
    "        #number+=1\n",
    "    else:\n",
    "        continue\n",
    "        \n",
    "print(new_list)"
   ]
  },
  {
   "cell_type": "markdown",
   "id": "7e7abd2a-82a2-4d0f-b5c3-0362dfb5ad2f",
   "metadata": {},
   "source": [
    "# W2-HW6: find the dinucleotides\n",
    "\n",
    "Write a function named \"count_dinucleotides\", which will take dna and pair as its two arguments, i.e., count_dinucleotides(dna,pair)\n",
    "\n",
    "The output should be the count of how many of the given dinucleotides are found in the dna string.\n",
    "\n",
    "Example: If the DNA sequence is 'ACTGCTATCCATT' and the pair is 'AT' the output should be 2. "
   ]
  },
  {
   "cell_type": "code",
   "execution_count": 39,
   "id": "b2b4bf83-a78f-47b8-87b8-6d4f48d05a6f",
   "metadata": {},
   "outputs": [
    {
     "data": {
      "text/plain": [
       "1"
      ]
     },
     "execution_count": 39,
     "metadata": {},
     "output_type": "execute_result"
    }
   ],
   "source": [
    "def count_dinucleotides(dna,pair):\n",
    "    output=dna.count(pair)\n",
    "    return output\n",
    "\n",
    "count_dinucleotides('ACTGCTATCCATT', 'TT')"
   ]
  },
  {
   "cell_type": "code",
   "execution_count": 41,
   "id": "72c85ff7-6f1d-4231-97d3-51d2291a96e1",
   "metadata": {},
   "outputs": [
    {
     "data": {
      "text/plain": [
       "1"
      ]
     },
     "execution_count": 41,
     "metadata": {},
     "output_type": "execute_result"
    }
   ],
   "source": [
    "#student solution: correct\n",
    "\n",
    "def count_dinucleotides(dna,pair):\n",
    "    dna = dna.upper()\n",
    "    pair = pair.upper()\n",
    "    counting = 0\n",
    "    for i in range(len(dna)-2):\n",
    "        if dna[i:i+2] in pair:\n",
    "            counting += 1\n",
    "        else:\n",
    "            continue\n",
    "    return counting\n",
    "\n",
    "count_dinucleotides('ACTGCTATCCATT', 'AC}')"
   ]
  },
  {
   "cell_type": "code",
   "execution_count": 42,
   "id": "9eb52c71-ff12-45c1-9d99-688b41f2b767",
   "metadata": {},
   "outputs": [
    {
     "data": {
      "text/plain": [
       "2"
      ]
     },
     "execution_count": 42,
     "metadata": {},
     "output_type": "execute_result"
    }
   ],
   "source": [
    "def count_dinucleotides(dna,pair):\n",
    "    dna = dna.upper()\n",
    "    pair = pair.upper()\n",
    "    counting = 0\n",
    "    for i in range(len(dna)-2):\n",
    "        if dna[i:i+2] in pair:\n",
    "            counting += 1\n",
    "        else:\n",
    "            continue\n",
    "    return counting\n",
    "\n",
    "count_dinucleotides('ACTGCTATCCATT', 'AT')"
   ]
  },
  {
   "cell_type": "code",
   "execution_count": 57,
   "id": "c261d77e-50f4-43cd-a95d-2cca13f94760",
   "metadata": {},
   "outputs": [
    {
     "data": {
      "text/plain": [
       "{'TT': 0}"
      ]
     },
     "execution_count": 57,
     "metadata": {},
     "output_type": "execute_result"
    }
   ],
   "source": [
    "# student solution\n",
    "def count_dinucleotides(DNA, pair):\n",
    "    dinucleotides = [pair]\n",
    "    counting = {k: 0 for k in dinucleotides}\n",
    "    for i in range(len(DNA)-2):\n",
    "        if DNA[i:i+2] in counting:\n",
    "            counting[DNA[i:i+2]] += 1\n",
    "    return counting\n",
    " \n",
    "count_dinucleotides('ACTGCTATCCATT', 'TT')"
   ]
  },
  {
   "cell_type": "code",
   "execution_count": 46,
   "id": "4351b45a-13d5-4afd-927b-79a0728ca145",
   "metadata": {},
   "outputs": [
    {
     "name": "stdout",
     "output_type": "stream",
     "text": [
      "4\n",
      "5\n",
      "0\n"
     ]
    },
    {
     "data": {
      "text/plain": [
       "1"
      ]
     },
     "execution_count": 46,
     "metadata": {},
     "output_type": "execute_result"
    }
   ],
   "source": [
    "dna = \"AATgAtGaaCGACATCGCGCGATATcgaAA\" \n",
    "dinucleotides = ['AA','AT','AG','AC',\n",
    "                 'TA','TT','TG','TC', \n",
    "                 'GA','GT','GG','GC', \n",
    "                 'CA','CT','CG','CT'] \n",
    "def count_dinucleotides(dna, pair):\n",
    "    \"\"\"This function would return how many times has the asked pair appear in the given DNA sequence\"\"\"\n",
    "    pair = pair.upper()\n",
    "    dna = dna.upper()\n",
    "    count = 0\n",
    "    for i in range(len(dna) - 1):\n",
    "        if pair == dna[i:i+2]:\n",
    "            count += 1\n",
    "    return count\n",
    "        \n",
    "print(count_dinucleotides(dna,'AA'))\n",
    "print(count_dinucleotides(dna,'AT'))\n",
    "print(count_dinucleotides(dna,'cb'))\n",
    "\n",
    "count_dinucleotides('ACTGCTATCCATT', 'GC')"
   ]
  },
  {
   "cell_type": "markdown",
   "id": "7afa4903-c6c1-4633-8303-b4daec8d7b35",
   "metadata": {},
   "source": [
    "## W2-HW7: convert codons to aminoacids"
   ]
  },
  {
   "cell_type": "code",
   "execution_count": 2,
   "id": "c724ba5d-21e9-42b9-a1c2-c0e8da2eaa50",
   "metadata": {},
   "outputs": [
    {
     "name": "stdout",
     "output_type": "stream",
     "text": [
      "BOB is not a valid codon. X = unknown.\n"
     ]
    }
   ],
   "source": [
    "# W2-HW7: convert codons to aminoacids\n",
    "\n",
    "# Write a function called codon_to_aa() that takes in a single three-base-pair string and returns \n",
    "# a one-character string with the corresponding amino acid code. \n",
    "# You may need to define all 64 possibilities, so be careful not to make any typos! \n",
    "# If the input is not a valid three-base-pair DNA string, the function should return \"X\" to signify “unknown.” \n",
    "# Test your function with a few calls like print(codon_to_aa(\"TGG\")), print(codon_to_aa(\"TAA\")), and print(codon_to_aa(\"BOB\")).\n",
    "\n",
    "def codon_to_aa(string):\n",
    "    string = string.upper()\n",
    "    dict_aa = {'ATA':'I', 'ATC':'I', 'ATT':'I', 'ATG':'M',\n",
    "        'ACA':'T', 'ACC':'T', 'ACG':'T', 'ACT':'T',\n",
    "        'AAC':'N', 'AAT':'N', 'AAA':'K', 'AAG':'K',\n",
    "        'AGC':'S', 'AGT':'S', 'AGA':'R', 'AGG':'R',                \n",
    "        'CTA':'L', 'CTC':'L', 'CTG':'L', 'CTT':'L',\n",
    "        'CCA':'P', 'CCC':'P', 'CCG':'P', 'CCT':'P',\n",
    "        'CAC':'H', 'CAT':'H', 'CAA':'Q', 'CAG':'Q',\n",
    "        'CGA':'R', 'CGC':'R', 'CGG':'R', 'CGT':'R',\n",
    "        'GTA':'V', 'GTC':'V', 'GTG':'V', 'GTT':'V',\n",
    "        'GCA':'A', 'GCC':'A', 'GCG':'A', 'GCT':'A',\n",
    "        'GAC':'D', 'GAT':'D', 'GAA':'E', 'GAG':'E',\n",
    "        'GGA':'G', 'GGC':'G', 'GGG':'G', 'GGT':'G',\n",
    "        'TCA':'S', 'TCC':'S', 'TCG':'S', 'TCT':'S',\n",
    "        'TTC':'F', 'TTT':'F', 'TTA':'L', 'TTG':'L',\n",
    "        'TAC':'Y', 'TAT':'Y', 'TAA':'_', 'TAG':'_',\n",
    "        'TGC':'C', 'TGT':'C', 'TGA':'_', 'TGG':'W'}\n",
    "    if string in dict_aa.keys():\n",
    "        print('the aminoacid for string', string, 'is: ', dict_aa[string])\n",
    "    elif len(string) != 3:\n",
    "        print('invalid codon entry, please enter a single three-base-pair string')\n",
    "    else:\n",
    "        print(string, 'is not a valid codon. X = unknown.', )\n",
    "        \n",
    "codon_to_aa(\"BOB\")"
   ]
  },
  {
   "cell_type": "code",
   "execution_count": 58,
   "id": "49b97a61-1fd6-4e07-abd9-571a5ca59ff5",
   "metadata": {},
   "outputs": [
    {
     "name": "stdout",
     "output_type": "stream",
     "text": [
      "The amino acid of TCCCCCCCC is SPP.\n",
      "The amino acid of GAAA is E.\n",
      "The result of the BBB is unknown because wrong codon.\n",
      "The result of the A is unknown because wrong codon.\n",
      "The result of the ABCD is unknown because wrong codon.\n"
     ]
    }
   ],
   "source": [
    "dict_aa = {'ATA':'I', 'ATC':'I', 'ATT':'I', 'ATG':'M',\n",
    "        'ACA':'T', 'ACC':'T', 'ACG':'T', 'ACT':'T',\n",
    "        'AAC':'N', 'AAT':'N', 'AAA':'K', 'AAG':'K',\n",
    "        'AGC':'S', 'AGT':'S', 'AGA':'R', 'AGG':'R',                \n",
    "        'CTA':'L', 'CTC':'L', 'CTG':'L', 'CTT':'L',\n",
    "        'CCA':'P', 'CCC':'P', 'CCG':'P', 'CCT':'P',\n",
    "        'CAC':'H', 'CAT':'H', 'CAA':'Q', 'CAG':'Q',\n",
    "        'CGA':'R', 'CGC':'R', 'CGG':'R', 'CGT':'R',\n",
    "        'GTA':'V', 'GTC':'V', 'GTG':'V', 'GTT':'V',\n",
    "        'GCA':'A', 'GCC':'A', 'GCG':'A', 'GCT':'A',\n",
    "        'GAC':'D', 'GAT':'D', 'GAA':'E', 'GAG':'E',\n",
    "        'GGA':'G', 'GGC':'G', 'GGG':'G', 'GGT':'G',\n",
    "        'TCA':'S', 'TCC':'S', 'TCG':'S', 'TCT':'S',\n",
    "        'TTC':'F', 'TTT':'F', 'TTA':'L', 'TTG':'L',\n",
    "        'TAC':'Y', 'TAT':'Y', 'TAA':'_', 'TAG':'_',\n",
    "        'TGC':'C', 'TGT':'C', 'TGA':'_', 'TGG':'W'}\n",
    "\n",
    "\n",
    "def codon_to_aa(codon):\n",
    "    codonlist = []\n",
    "    aa = ''\n",
    "    #screen correct string\n",
    "    if codon.count('A') + codon.count('T') + codon.count('G') + codon.count('C') == len(codon) and len(codon) >= 3:\n",
    "        for i in range(0,len(codon),3):\n",
    "            condonelements = codon[i: 3+i]\n",
    "            if len(condonelements) == 3: #only use 3 letters \n",
    "                codonlist.append(condonelements)\n",
    "        for j in range(0,len(codonlist)): #create aa string\n",
    "            aa += dict_aa[codonlist[j]]\n",
    "        print('The amino acid of {} is {}.'.format(codon,aa))\n",
    "    elif len(codon) < 3:\n",
    "        print('The result of the {} is unknown because wrong codon.'.format(codon))\n",
    "    else:\n",
    "        print('The result of the {} is unknown because wrong codon.'.format(codon))\n",
    "               \n",
    "codon_to_aa(\"TCCCCCCCC\")\n",
    "codon_to_aa(\"GAAA\")\n",
    "codon_to_aa('BBB')\n",
    "codon_to_aa('A')\n",
    "codon_to_aa('ABCD')"
   ]
  },
  {
   "cell_type": "code",
   "execution_count": 7,
   "id": "c5e3f056-8c79-45df-a1ed-55283f54c90e",
   "metadata": {},
   "outputs": [
    {
     "name": "stdout",
     "output_type": "stream",
     "text": [
      "C\n"
     ]
    }
   ],
   "source": [
    "#student solution\n",
    "\n",
    "def codon_to_aa(bp):\n",
    "    dict_aa = {'ATA':'I', 'ATC':'I', 'ATT':'I', 'ATG':'M',\n",
    "    'ACA':'T', 'ACC':'T', 'ACG':'T', 'ACT':'T',\n",
    "    'AAC':'N', 'AAT':'N', 'AAA':'K', 'AAG':'K',\n",
    "    'AGC':'S', 'AGT':'S', 'AGA':'R', 'AGG':'R',                \n",
    "    'CTA':'L', 'CTC':'L', 'CTG':'L', 'CTT':'L',\n",
    "    'CCA':'P', 'CCC':'P', 'CCG':'P', 'CCT':'P',\n",
    "    'CAC':'H', 'CAT':'H', 'CAA':'Q', 'CAG':'Q',\n",
    "    'CGA':'R', 'CGC':'R', 'CGG':'R', 'CGT':'R',\n",
    "    'GTA':'V', 'GTC':'V', 'GTG':'V', 'GTT':'V',\n",
    "    'GCA':'A', 'GCC':'A', 'GCG':'A', 'GCT':'A',\n",
    "    'GAC':'D', 'GAT':'D', 'GAA':'E', 'GAG':'E',\n",
    "    'GGA':'G', 'GGC':'G', 'GGG':'G', 'GGT':'G',\n",
    "    'TCA':'S', 'TCC':'S', 'TCG':'S', 'TCT':'S',\n",
    "    'TTC':'F', 'TTT':'F', 'TTA':'L', 'TTG':'L',\n",
    "    'TAC':'Y', 'TAT':'Y', 'TAA':'_', 'TAG':'_',\n",
    "    'TGC':'C', 'TGT':'C', 'TGA':'_', 'TGG':'W'}\n",
    "    if bp in dict_aa.keys():\n",
    "        print(dict_aa.get(bp))\n",
    "    else:\n",
    "        print (\"X\")\n",
    "        \n"
   ]
  },
  {
   "cell_type": "code",
   "execution_count": 33,
   "id": "106c22bc-79f2-47ca-82c6-ef48e559cac9",
   "metadata": {},
   "outputs": [
    {
     "data": {
      "text/plain": [
       "'C'"
      ]
     },
     "execution_count": 33,
     "metadata": {},
     "output_type": "execute_result"
    }
   ],
   "source": [
    "#student solution\n",
    "\n",
    "def codon_to_aa(three_base_pair):\n",
    "    dict_aa = {'ATA':'I', 'ATC':'I', 'ATT':'I', 'ATG':'M',\n",
    "    'ACA':'T', 'ACC':'T', 'ACG':'T', 'ACT':'T',\n",
    "    'AAC':'N', 'AAT':'N', 'AAA':'K', 'AAG':'K',\n",
    "    'AGC':'S', 'AGT':'S', 'AGA':'R', 'AGG':'R',                \n",
    "    'CTA':'L', 'CTC':'L', 'CTG':'L', 'CTT':'L',\n",
    "    'CCA':'P', 'CCC':'P', 'CCG':'P', 'CCT':'P',\n",
    "    'CAC':'H', 'CAT':'H', 'CAA':'Q', 'CAG':'Q',\n",
    "    'CGA':'R', 'CGC':'R', 'CGG':'R', 'CGT':'R',\n",
    "    'GTA':'V', 'GTC':'V', 'GTG':'V', 'GTT':'V',\n",
    "    'GCA':'A', 'GCC':'A', 'GCG':'A', 'GCT':'A',\n",
    "    'GAC':'D', 'GAT':'D', 'GAA':'E', 'GAG':'E',\n",
    "    'GGA':'G', 'GGC':'G', 'GGG':'G', 'GGT':'G',\n",
    "    'TCA':'S', 'TCC':'S', 'TCG':'S', 'TCT':'S',\n",
    "    'TTC':'F', 'TTT':'F', 'TTA':'L', 'TTG':'L',\n",
    "    'TAC':'Y', 'TAT':'Y', 'TAA':'_', 'TAG':'_',\n",
    "    'TGC':'C', 'TGT':'C', 'TGA':'_', 'TGG':'W'}\n",
    "    three_base_pair = three_base_pair.upper()\n",
    "    if three_base_pair not in dict_aa:\n",
    "        return \"X\"\n",
    "    else:\n",
    "        return dict_aa[three_base_pair]\n",
    "    \n",
    "codon_to_aa(\"tgt\")"
   ]
  },
  {
   "cell_type": "code",
   "execution_count": 50,
   "id": "e1d85e0d-520f-41c5-b2a5-077ff510637e",
   "metadata": {},
   "outputs": [
    {
     "data": {
      "text/plain": [
       "'unkown'"
      ]
     },
     "execution_count": 50,
     "metadata": {},
     "output_type": "execute_result"
    }
   ],
   "source": [
    "# student solution\n",
    "\n",
    "dict_aa = {'ATA':'I', 'ATC':'I', 'ATT':'I', 'ATG':'M',\n",
    "    'ACA':'T', 'ACC':'T', 'ACG':'T', 'ACT':'T',\n",
    "    'AAC':'N', 'AAT':'N', 'AAA':'K', 'AAG':'K',\n",
    "    'AGC':'S', 'AGT':'S', 'AGA':'R', 'AGG':'R',                \n",
    "    'CTA':'L', 'CTC':'L', 'CTG':'L', 'CTT':'L',\n",
    "    'CCA':'P', 'CCC':'P', 'CCG':'P', 'CCT':'P',\n",
    "    'CAC':'H', 'CAT':'H', 'CAA':'Q', 'CAG':'Q',\n",
    "    'CGA':'R', 'CGC':'R', 'CGG':'R', 'CGT':'R',\n",
    "    'GTA':'V', 'GTC':'V', 'GTG':'V', 'GTT':'V',\n",
    "    'GCA':'A', 'GCC':'A', 'GCG':'A', 'GCT':'A',\n",
    "    'GAC':'D', 'GAT':'D', 'GAA':'E', 'GAG':'E',\n",
    "    'GGA':'G', 'GGC':'G', 'GGG':'G', 'GGT':'G',\n",
    "    'TCA':'S', 'TCC':'S', 'TCG':'S', 'TCT':'S',\n",
    "    'TTC':'F', 'TTT':'F', 'TTA':'L', 'TTG':'L',\n",
    "    'TAC':'Y', 'TAT':'Y', 'TAA':'_', 'TAG':'_',\n",
    "    'TGC':'C', 'TGT':'C', 'TGA':'_', 'TGG':'W'}\n",
    "def codon_to_aa(codon):\n",
    "    X = \"unkown\"\n",
    "    if str(codon) in dict_aa.keys():\n",
    "        aa = dict_aa[str(codon)]\n",
    "        return aa\n",
    "    else:\n",
    "        return X\n",
    "    \n",
    "codon_to_aa(\"tgt\")"
   ]
  },
  {
   "cell_type": "code",
   "execution_count": 3,
   "id": "1d723d33-136e-46fe-8cb3-2457db08892f",
   "metadata": {},
   "outputs": [
    {
     "data": {
      "text/plain": [
       "'VCW_R'"
      ]
     },
     "execution_count": 3,
     "metadata": {},
     "output_type": "execute_result"
    }
   ],
   "source": [
    "# let's modify the codon_to_aa function to get protein sequence directly from the codon\n",
    "\n",
    "def codon_to_protein(seq):\n",
    "    \n",
    "    dict_codon = {'ATA':'I', 'ATC':'I', 'ATT':'I', 'ATG':'M',\n",
    "        'ACA':'T', 'ACC':'T', 'ACG':'T', 'ACT':'T',\n",
    "        'AAC':'N', 'AAT':'N', 'AAA':'K', 'AAG':'K',\n",
    "        'AGC':'S', 'AGT':'S', 'AGA':'R', 'AGG':'R',                \n",
    "        'CTA':'L', 'CTC':'L', 'CTG':'L', 'CTT':'L',\n",
    "        'CCA':'P', 'CCC':'P', 'CCG':'P', 'CCT':'P',\n",
    "        'CAC':'H', 'CAT':'H', 'CAA':'Q', 'CAG':'Q',\n",
    "        'CGA':'R', 'CGC':'R', 'CGG':'R', 'CGT':'R',\n",
    "        'GTA':'V', 'GTC':'V', 'GTG':'V', 'GTT':'V',\n",
    "        'GCA':'A', 'GCC':'A', 'GCG':'A', 'GCT':'A',\n",
    "        'GAC':'D', 'GAT':'D', 'GAA':'E', 'GAG':'E',\n",
    "        'GGA':'G', 'GGC':'G', 'GGG':'G', 'GGT':'G',\n",
    "        'TCA':'S', 'TCC':'S', 'TCG':'S', 'TCT':'S',\n",
    "        'TTC':'F', 'TTT':'F', 'TTA':'L', 'TTG':'L',\n",
    "        'TAC':'Y', 'TAT':'Y', 'TAA':'_', 'TAG':'_',\n",
    "        'TGC':'C', 'TGT':'C', 'TGA':'_', 'TGG':'W'}\n",
    "    \n",
    "    protein = \"\"\n",
    "    seq = seq.upper()\n",
    "    if len(seq)%3 == 0:\n",
    "        for i in range(0, len(seq), 3):\n",
    "            codon = seq[i:i + 3]\n",
    "            protein+= dict_codon[codon]\n",
    "    return protein\n",
    "\n",
    "codon_to_protein('gtgtgctggtagCGC')"
   ]
  },
  {
   "cell_type": "markdown",
   "id": "47a63c94-ceaf-41ac-9aa9-65d16c1e97b3",
   "metadata": {},
   "source": [
    "## W2-HW8: get substrings from a given string"
   ]
  },
  {
   "cell_type": "code",
   "execution_count": 16,
   "id": "190d76a8-f8c0-419d-8283-e727dd600784",
   "metadata": {},
   "outputs": [
    {
     "data": {
      "text/plain": [
       "['CTA']"
      ]
     },
     "execution_count": 16,
     "metadata": {},
     "output_type": "execute_result"
    }
   ],
   "source": [
    "# W2-HW8: get substrings from a given string\n",
    "# my solution: wrong\n",
    "\n",
    "# Write a program with a function called get_windows() that takes three parameters: \n",
    "# the sequence to extract windows from (string), the window size (int), and the step size (int). \n",
    "# The function should return a list of strings, one per window, with no “partial windows” \n",
    "# if the last window would run off the end of the sequence.\n",
    "\n",
    "def get_windows(string, integer1, integer2):\n",
    "    list_x = []\n",
    "    count = 0\n",
    "    for i in range(0, len(string), integer2):\n",
    "        if len((string[i:integer1+i])) %3 == 0:\n",
    "            list_x.append(string[i:integer1+i])\n",
    "        count += 1\n",
    "    return list_x\n",
    "         \n",
    "get_windows('AAACTGTCTCTA', 4, 3)\n"
   ]
  },
  {
   "cell_type": "code",
   "execution_count": 17,
   "id": "7253b347-3d0d-4a2f-81af-d7649a6fd2a1",
   "metadata": {},
   "outputs": [
    {
     "data": {
      "text/plain": [
       "['TC', 'CT', 'TC', 'GA']"
      ]
     },
     "execution_count": 17,
     "metadata": {},
     "output_type": "execute_result"
    }
   ],
   "source": [
    "# student solution\n",
    "\n",
    "def get_windows(seq,win,step):\n",
    "    string_list=[]\n",
    "    count=0\n",
    "    for i in range(len(seq)):\n",
    "        if len(seq[count:count+win])==win:\n",
    "            string_list.append(seq[count:count+win])\n",
    "        count+=step\n",
    "    return string_list\n",
    "\n",
    "get_windows('AAACTGTCTCTA', 4, 3)\n",
    "get_windows('TCTCTATCGGACG', 2, 3)"
   ]
  },
  {
   "cell_type": "code",
   "execution_count": 59,
   "id": "08f7dbf1-383d-4bd0-be3a-5efd9ef67514",
   "metadata": {},
   "outputs": [
    {
     "name": "stdout",
     "output_type": "stream",
     "text": [
      "['AAA', 'ACT', 'TGT', 'TCT', 'TCT']\n",
      "[]\n",
      "['TC', 'CT', 'TC', 'GA']\n"
     ]
    }
   ],
   "source": [
    "# student solution\n",
    "\n",
    "def get_windows(seq, window, step):\n",
    "    substrings = []\n",
    "    count = 0\n",
    "    for i in range(0,len(seq),step):\n",
    "        sub = seq[i: window+i]\n",
    "        if len(sub) == window: #Delete the string that is not long enough\n",
    "            substrings.append(sub)\n",
    "    count += 1\n",
    "    return substrings\n",
    "\n",
    "print(get_windows('AAACTGTCTCTA',3, 2))\n",
    "print(get_windows('AC', 4, 2))\n",
    "print(get_windows('TCTCTATCGGACG', 2, 3))"
   ]
  },
  {
   "cell_type": "code",
   "execution_count": null,
   "id": "8722ccf0-e8f2-4370-aeac-64126aaef28c",
   "metadata": {},
   "outputs": [],
   "source": [
    "#student solution\n",
    "\n",
    "def get_windows(dna, size, step):\n",
    "    get_list = []\n",
    "    if size > len(dna):\n",
    "        return 'X Your window size is larger than you dna sequence. Please try again.'\n",
    "    else:\n",
    "        for i in range(0,len(dna),step):\n",
    "            element = dna[i:i+size]\n",
    "            if len(element) == size:\n",
    "                get_list.append(element)\n",
    "        return get_list\n",
    "\n",
    "get_windows('TCTCTATCGGACG', 2, 3)"
   ]
  },
  {
   "cell_type": "code",
   "execution_count": 35,
   "id": "0695109b-9aa6-4f3f-9f03-6aaa1c8b2cab",
   "metadata": {},
   "outputs": [
    {
     "name": "stdout",
     "output_type": "stream",
     "text": [
      "['TC', 'CT', 'TC', 'GA']\n"
     ]
    }
   ],
   "source": [
    "# student solution\n",
    "def get_windows(dna,bases,step):\n",
    "    \n",
    "    dna = dna.upper()\n",
    "    bases = int(bases)\n",
    "    step = int(step)\n",
    "    new_list = []\n",
    "\n",
    "    for i in range(0,len(dna),step):\n",
    "        if len(dna[i:i+bases]) % bases == 0:\n",
    "            new_list.append(dna[i:i+bases])\n",
    "            #print(new_list)\n",
    "        else:\n",
    "            break\n",
    "    return print(new_list)\n",
    "\n",
    "get_windows('TCTCTATCGGACG', 2, 3)"
   ]
  },
  {
   "cell_type": "code",
   "execution_count": 52,
   "id": "0478b4e1-a4a5-43ba-96ce-581fbb8d4be7",
   "metadata": {},
   "outputs": [
    {
     "data": {
      "text/plain": [
       "['TC', 'CT', 'TC', 'GA']"
      ]
     },
     "execution_count": 52,
     "metadata": {},
     "output_type": "execute_result"
    }
   ],
   "source": [
    "#student solution\n",
    "def get_windows(seq,window,step):\n",
    "    seq_list = list()\n",
    "    for i in range(0,len(seq)-int(window)+1,int(step)):\n",
    "        read = seq[i:i+int(window)]\n",
    "        seq_list.append(read)\n",
    "    return seq_list\n",
    "\n",
    "get_windows('TCTCTATCGGACG', 2, 3)"
   ]
  },
  {
   "cell_type": "code",
   "execution_count": null,
   "id": "3d9e9d26-4734-43f6-9f3a-aaaf448a8cb5",
   "metadata": {},
   "outputs": [],
   "source": [
    "# student solution: a faster way\n",
    "\n",
    "def get_windows2(seq, window, step):\n",
    "    return [seq[i: i + window] for i in range(0, len(seq) - window + 1, step)]\n",
    "print(get_windows('AAACTGTCTCTA', 3, 2))\n",
    "print(get_windows('TCTCTATCGGACG', 2, 3))\n",
    "\n"
   ]
  },
  {
   "cell_type": "markdown",
   "id": "d8f8e86b-d665-4324-bd73-822178d7b952",
   "metadata": {},
   "source": [
    "## W2-HW9: count kmers\n",
    "\n",
    "Use the get_windows() function to write a count_kmers() function; it should take two parameters (a DNA sequence and an integer) and return a dictionary of k-mers to count for those k-mers.\n",
    "\n",
    "For example, count_kmers(\"GGGCTGTCTCTA\", 3) should return a dictionary with keys \"GGG\", \"GGC\", \"GCT\", \"CTG\", \"TGT\", \"GTC\", \"TCT\", \"CTC\", \"CTA\" and corresponding values 1, 1, 1, 1, 1, 1, 2, 1, 1.\n"
   ]
  },
  {
   "cell_type": "code",
   "execution_count": 21,
   "id": "f3b7ce40-0a49-4f62-a8b5-2fa63aa0f7e3",
   "metadata": {},
   "outputs": [
    {
     "data": {
      "text/plain": [
       "{'TCT': 2,\n",
       " 'CTC': 1,\n",
       " 'CTA': 1,\n",
       " 'TAT': 1,\n",
       " 'ATC': 1,\n",
       " 'TCG': 1,\n",
       " 'CGG': 1,\n",
       " 'GGA': 1,\n",
       " 'GAC': 1,\n",
       " 'ACG': 1}"
      ]
     },
     "execution_count": 21,
     "metadata": {},
     "output_type": "execute_result"
    }
   ],
   "source": [
    "#student solution\n",
    "\n",
    "def count_kmers(dna,number):\n",
    "    kmer_dict = {}\n",
    "    dna_keys=get_windows(dna,number,1)\n",
    "    counting = {k: 0 for k in dna_keys}  # we initalize a dictionary, This is faster than a list\n",
    "    #Scans the sequence, looking for all dinucleotides at once\n",
    "    for i in range(len(dna)-2):\n",
    "        if dna[i:i+number] in counting:\n",
    "            counting[dna[i:i+number]] += 1\n",
    "    return counting\n",
    "\n",
    "count_kmers(\"TCTCTATCGGACG\", 3)"
   ]
  },
  {
   "cell_type": "code",
   "execution_count": 60,
   "id": "327009b5-cab8-49d3-8823-9e064c3c13b2",
   "metadata": {},
   "outputs": [
    {
     "name": "stdout",
     "output_type": "stream",
     "text": [
      "{'GGG': 1, 'GGC': 1, 'GCT': 1, 'CTG': 1, 'TGT': 1, 'GTC': 1, 'TCT': 2, 'CTC': 1, 'CTA': 1}\n"
     ]
    }
   ],
   "source": [
    "# student solution\n",
    "\n",
    "\n",
    "def count_kmers(seq, number):\n",
    "    k_mers = {}\n",
    "    list_k = get_windows(seq, number, 1) #use fonction in HW8\n",
    "    for i in range(0,len(list_k)):\n",
    "        k_mers[list_k[i]] = list_k.count(list_k[i])\n",
    "    return k_mers \n",
    "\n",
    "print(count_kmers('GGGCTGTCTCTA', 3))\n",
    "\n"
   ]
  },
  {
   "cell_type": "code",
   "execution_count": 22,
   "id": "b3312f2e-871d-4b86-a6a9-d17591d86769",
   "metadata": {},
   "outputs": [
    {
     "data": {
      "text/plain": [
       "{'GGG': 1,\n",
       " 'GGC': 1,\n",
       " 'GCT': 1,\n",
       " 'CTG': 1,\n",
       " 'TGT': 1,\n",
       " 'GTC': 1,\n",
       " 'TCT': 2,\n",
       " 'CTC': 1,\n",
       " 'CTA': 1}"
      ]
     },
     "execution_count": 22,
     "metadata": {},
     "output_type": "execute_result"
    }
   ],
   "source": [
    "# student solution\n",
    "\n",
    "def count_kmers(dna,size):\n",
    "    kmers = get_windows(dna,size,1)\n",
    "    ct_kmers = {}\n",
    "    if type(kmers) == str:\n",
    "        return kmers\n",
    "    else:\n",
    "        for string in kmers:\n",
    "            ct_kmers[string] = kmers.count(string)\n",
    "        return ct_kmers\n",
    "            \n",
    "count_kmers(\"GGGCTGTCTCTA\", 3)"
   ]
  },
  {
   "cell_type": "code",
   "execution_count": 36,
   "id": "3c4bb7f3-6a30-4eb6-bf4d-27cf3b257d73",
   "metadata": {},
   "outputs": [],
   "source": [
    "#student solution\n",
    "def  count_kmers(dna, number):\n",
    "    dna = dna.upper()\n",
    "    number = int(number)\n",
    "    dna_list=[]\n",
    "    all_counts = {}\n",
    "    \n",
    "    for i in range(len(dna)-(number-1)):\n",
    "        if len(dna[i:i+number]) % number == 0:\n",
    "            dna_list.append(dna[i:i+number])\n",
    "            \n",
    "    for i in dna_list:\n",
    "        count = dna_list.count(i)\n",
    "        all_counts[i] = count\n",
    "\n",
    "    return all_counts"
   ]
  },
  {
   "cell_type": "code",
   "execution_count": 54,
   "id": "27579d57-7c22-408a-a1cc-d11bf8d7f038",
   "metadata": {},
   "outputs": [
    {
     "data": {
      "text/plain": [
       "{'GGG': 1,\n",
       " 'GGC': 1,\n",
       " 'GCT': 1,\n",
       " 'CTG': 1,\n",
       " 'TGT': 1,\n",
       " 'GTC': 1,\n",
       " 'TCT': 2,\n",
       " 'CTC': 1,\n",
       " 'CTA': 1}"
      ]
     },
     "execution_count": 54,
     "metadata": {},
     "output_type": "execute_result"
    }
   ],
   "source": [
    "#student solution\n",
    "def count_kmers(DNAseq,integer):\n",
    "    dict_countkmers = {}\n",
    "    list_count = []\n",
    "    keys = get_windows(DNAseq,integer,1)\n",
    "    for key in keys:\n",
    "        count = keys.count(key)\n",
    "        list_count.append(count)\n",
    "        dict_countkmers = dict(zip(keys,list_count))  \n",
    "    return dict_countkmers\n",
    "\n",
    "count_kmers(\"GGGCTGTCTCTA\", 3)"
   ]
  },
  {
   "cell_type": "markdown",
   "id": "f1da65e3-0663-4bff-be84-0e68bbe7d112",
   "metadata": {},
   "source": [
    "# W2-HW10: Make the function stronger\n",
    "\n",
    "The below function works as is but if we provide anything other than A, T, G, C (nucleotide or not) the code will fail to run. Write another function namedcount_nucleotides2 to fix this issue.\n",
    "\n",
    "Hint: Remember if/else conditionals."
   ]
  },
  {
   "cell_type": "code",
   "execution_count": null,
   "id": "48da1c96-cedc-4d4c-be75-0691e2182eda",
   "metadata": {},
   "outputs": [],
   "source": [
    "# student solution\n",
    "#W2-HW10: \n",
    "\n",
    "#Hint: google IUPAC codes\n",
    "def count_nucleotides(dna):\n",
    "    counts = {'A': 0, 'T': 0, 'G': 0, 'C': 0, 'N': 0}\n",
    "    for base in dna:\n",
    "        counts[base] += 1\n",
    "    return counts"
   ]
  },
  {
   "cell_type": "code",
   "execution_count": null,
   "id": "c1d5eb38-22f5-41b6-9722-16eec39f3704",
   "metadata": {},
   "outputs": [],
   "source": [
    "#student solution\n",
    "\n",
    "def count_nucleotides(dna):\n",
    "    nucleotides = ['A','T','C','G']\n",
    "    wrong_nucleotides = 0\n",
    "    counts = {'A': 0, 'T': 0, 'G': 0, 'C': 0, 'N': 0}\n",
    "    for base in dna:\n",
    "        if base in nucleotides:\n",
    "            counts[base] += 1\n",
    "        else:\n",
    "            wrong_nucleotides += 1\n",
    "            counts['N'] += 1\n",
    "    if wrong_nucleotides != 0:\n",
    "        print('There are something other than Deoxyribonucleotides in this sequence. The number is', wrong_nucleotides)\n",
    "    return counts\n",
    "count_nucleotides('ACTTTCCGGGnnnnTCGC')"
   ]
  },
  {
   "cell_type": "code",
   "execution_count": 37,
   "id": "8db9a10c-a39e-4467-af07-bb7713a0e967",
   "metadata": {},
   "outputs": [],
   "source": [
    "#student solution\n",
    "\n",
    "#Hint: google IUPAC codes\n",
    "def count_nucleotides2(dna):\n",
    "    dna = dna.upper()\n",
    "    counts = {'A': 0, 'T': 0, 'G': 0, 'C': 0, 'N': 0}\n",
    "    \n",
    "    for i in dna:\n",
    "        if i == 'A':\n",
    "            continue\n",
    "        elif i == 'T':\n",
    "            #print(i)\n",
    "            continue\n",
    "        elif i == 'G':\n",
    "            #print(i)\n",
    "            continue\n",
    "        elif i == 'C':\n",
    "            #print(i)\n",
    "            continue\n",
    "        else:\n",
    "            dna=dna.replace(i, 'N')\n",
    "            \n",
    "    #print(dna)\n",
    "    for base in dna:\n",
    "        counts[base] += 1\n",
    "    return counts"
   ]
  },
  {
   "cell_type": "code",
   "execution_count": 55,
   "id": "e57b18fd-fd89-4051-baca-a47e7cf8e8bf",
   "metadata": {},
   "outputs": [],
   "source": [
    "# student solution\n",
    "def count_nucleotides2(dna):\n",
    "    counts = {'A': 0, 'T': 0, 'G': 0, 'C': 0}\n",
    "    for base in dna:\n",
    "        if base in counts.keys():\n",
    "            counts[base] += 1\n",
    "        else:\n",
    "            continue\n",
    "    return counts"
   ]
  },
  {
   "cell_type": "code",
   "execution_count": null,
   "id": "e80db0c0-61d2-4552-8920-ad488a6ac92f",
   "metadata": {},
   "outputs": [],
   "source": [
    "# a faster way\n",
    "def count_nucleotides3(dna):\n",
    "    counts = {'A': 0, 'T': 0, 'G': 0, 'C': 0}\n",
    "    for c in counts:\n",
    "        counts[c] = dna.count(c)\n",
    "    return counts\n",
    "print(count_nucleotides2(\"GGGCTHGTCTCTAB\"))"
   ]
  }
 ],
 "metadata": {
  "kernelspec": {
   "display_name": "Python 3",
   "language": "python",
   "name": "python3"
  },
  "language_info": {
   "codemirror_mode": {
    "name": "ipython",
    "version": 3
   },
   "file_extension": ".py",
   "mimetype": "text/x-python",
   "name": "python",
   "nbconvert_exporter": "python",
   "pygments_lexer": "ipython3",
   "version": "3.6.8"
  }
 },
 "nbformat": 4,
 "nbformat_minor": 5
}
