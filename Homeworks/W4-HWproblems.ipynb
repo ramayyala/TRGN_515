{
 "cells": [
  {
   "cell_type": "markdown",
   "id": "32e164b5-8df9-4789-b35b-007809a7c5bd",
   "metadata": {},
   "source": [
    "#### W3-HW16: What does complement or reverse complement mean in molecular biology, explain in 3-4 sentences, give examples (you can use markdown).\n"
   ]
  },
  {
   "cell_type": "markdown",
   "id": "bc722033-ceb8-4b8c-a60c-f644e18be948",
   "metadata": {},
   "source": [
    "#### W3-HW17: Can you write a little program, where it will prompt the user to enter a DNA/RNA sequence and generate its reverse/complement/reverse complement sequences? Do not use Biopython. Think of all the [corner cases](http://carpentries-incubator.github.io/python-testing/06-edges/index.html) for what kind of sequences can be provided as an input. You can then test your program to check the complement or reverse complement of a DNA sequence you found and downloaded from Genbank (please do not use examples shown in the class). \n",
    "\n",
    "#### Use this website as an inspiration and checkpoint: https://arep.med.harvard.edu/labgc/adnan/projects/Utilities/revcomp.html\n"
   ]
  },
  {
   "cell_type": "markdown",
   "id": "a0281321-59aa-4616-a140-a256e451e062",
   "metadata": {},
   "source": [
    "#### W3-HW18: How does the built in reverse complement function work in Biopython? What should we add to the function we wrote in the class, so it can handle degenerate bases? You can get inspiration from the  GC method in Biopython. Simply search for 'This is a rather simple function, not taking into account the degenerate bases' in the notebook to find the function I am talking about.\n"
   ]
  },
  {
   "cell_type": "markdown",
   "id": "5c5351f0-f6f6-4f99-a85a-705105a72ef1",
   "metadata": {},
   "source": [
    "#### W4-HW19: What does the \"format_type\" keyword in qblast function do? Explain and show with examples. "
   ]
  },
  {
   "cell_type": "markdown",
   "id": "dbb47312-902b-4295-af2f-110086714782",
   "metadata": {},
   "source": [
    "#### W4-HW20: Can you fix the following code, so that it can extract and return two random sequences from the given fasta file?\n",
    "\n",
    "    # let's get some random sequences from our large fasta file: without using Biopython\n",
    "\n",
    "    import random\n",
    "\n",
    "    with open('../datasets/ls_orchid.fasta') as f:\n",
    "        data = f.read().splitlines()\n",
    "        print(data)\n",
    "        for i in random.sample(range(0, len(data), 2), 2):\n",
    "            print(data[i])\n",
    "            print(data[i+1])"
   ]
  },
  {
   "cell_type": "code",
   "execution_count": null,
   "id": "56d219b5-2d42-43a5-81e6-234f261d8956",
   "metadata": {},
   "outputs": [],
   "source": []
  }
 ],
 "metadata": {
  "kernelspec": {
   "display_name": "Python 3",
   "language": "python",
   "name": "python3"
  },
  "language_info": {
   "codemirror_mode": {
    "name": "ipython",
    "version": 3
   },
   "file_extension": ".py",
   "mimetype": "text/x-python",
   "name": "python",
   "nbconvert_exporter": "python",
   "pygments_lexer": "ipython3",
   "version": "3.6.8"
  }
 },
 "nbformat": 4,
 "nbformat_minor": 5
}
